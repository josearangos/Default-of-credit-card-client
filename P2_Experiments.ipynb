{
  "nbformat": 4,
  "nbformat_minor": 0,
  "metadata": {
    "colab": {
      "name": "P2- Experiments.ipynb",
      "provenance": [],
      "collapsed_sections": [
        "w5gPXvCHcykh",
        "39k-3m3_f3BK",
        "ucRWuvml3nDE",
        "csCiM5TY2s8-"
      ],
      "toc_visible": true,
      "include_colab_link": true
    },
    "kernelspec": {
      "name": "python3",
      "display_name": "Python 3"
    }
  },
  "cells": [
    {
      "cell_type": "markdown",
      "metadata": {
        "id": "view-in-github",
        "colab_type": "text"
      },
      "source": [
        "<a href=\"https://colab.research.google.com/github/josearangos/Default-of-credit-card-client/blob/master/P2_Experiments.ipynb\" target=\"_parent\"><img src=\"https://colab.research.google.com/assets/colab-badge.svg\" alt=\"Open In Colab\"/></a>"
      ]
    },
    {
      "cell_type": "markdown",
      "metadata": {
        "id": "fDegjWVq4oBv",
        "colab_type": "text"
      },
      "source": [
        "**Kaggle** kernels: https://www.kaggle.com/lucabasa/credit-card-default-a-very-pedagogical-notebook\n",
        "\n",
        "\n",
        "\n",
        "Sobre Matrix de confusion y selección de variables \n",
        "https://www.kaggle.com/gpreda/default-of-credit-card-clients-predictive-models\n"
      ]
    },
    {
      "cell_type": "markdown",
      "metadata": {
        "id": "ZW-ElaqSyWwR",
        "colab_type": "text"
      },
      "source": [
        "# **Experimentos**\n",
        "\n",
        "Incluya una sesion dentro de su informe con el nombre Experimentos, en la cual describa la metodología de validacion usada y la base de datos que est  ́ a usandó para llevar a cabo el proyecto, incluyendo la fuente de la base de datos como referencia, el numero de muestras,variables, etc. Si su problema es de clasificacion, indique cuantas clases contiene la basa de datos y cu  ́ antas muestras por clase. Si la base de datos esta desbalanceada,deben considerar el uso de tecnicas de submuestreo y sobremuestreo inteligente, ademas de usar validacíón ́estratificaida."
      ]
    },
    {
      "cell_type": "code",
      "metadata": {
        "id": "IscFLpvPx2DW",
        "colab_type": "code",
        "colab": {}
      },
      "source": [
        "from pandas import DataFrame, read_csv\n",
        "import pickle\n",
        "from sklearn.externals import joblib #Guardar modelos una vez entrenados\n",
        "import numpy as np\n",
        "import matplotlib.pyplot as plt\n",
        "import pandas as pd \n",
        "import seaborn as sns\n",
        "\n",
        "PATH = '/content/drive/My Drive/2019-1/Simulation of System and Laboratory/Final Project/Code/'"
      ],
      "execution_count": 0,
      "outputs": []
    },
    {
      "cell_type": "code",
      "metadata": {
        "id": "7TgS3vrgyKSM",
        "colab_type": "code",
        "colab": {}
      },
      "source": [
        "file = PATH+'UCI_Credit_Card.csv'\n",
        "df = pd.read_csv(file)"
      ],
      "execution_count": 0,
      "outputs": []
    },
    {
      "cell_type": "markdown",
      "metadata": {
        "id": "KsgD5gSAzLF8",
        "colab_type": "text"
      },
      "source": [
        "# Sobre la base de datos"
      ]
    },
    {
      "cell_type": "code",
      "metadata": {
        "id": "LBCWrKxY5mny",
        "colab_type": "code",
        "outputId": "9210695d-0b66-4eca-b7df-e4ba92d87fe7",
        "colab": {
          "base_uri": "https://localhost:8080/",
          "height": 218
        }
      },
      "source": [
        "df.head()"
      ],
      "execution_count": 0,
      "outputs": [
        {
          "output_type": "execute_result",
          "data": {
            "text/html": [
              "<div>\n",
              "<style scoped>\n",
              "    .dataframe tbody tr th:only-of-type {\n",
              "        vertical-align: middle;\n",
              "    }\n",
              "\n",
              "    .dataframe tbody tr th {\n",
              "        vertical-align: top;\n",
              "    }\n",
              "\n",
              "    .dataframe thead th {\n",
              "        text-align: right;\n",
              "    }\n",
              "</style>\n",
              "<table border=\"1\" class=\"dataframe\">\n",
              "  <thead>\n",
              "    <tr style=\"text-align: right;\">\n",
              "      <th></th>\n",
              "      <th>ID</th>\n",
              "      <th>LIMIT_BAL</th>\n",
              "      <th>SEX</th>\n",
              "      <th>EDUCATION</th>\n",
              "      <th>MARRIAGE</th>\n",
              "      <th>AGE</th>\n",
              "      <th>PAY_0</th>\n",
              "      <th>PAY_2</th>\n",
              "      <th>PAY_3</th>\n",
              "      <th>PAY_4</th>\n",
              "      <th>PAY_5</th>\n",
              "      <th>PAY_6</th>\n",
              "      <th>BILL_AMT1</th>\n",
              "      <th>BILL_AMT2</th>\n",
              "      <th>BILL_AMT3</th>\n",
              "      <th>BILL_AMT4</th>\n",
              "      <th>BILL_AMT5</th>\n",
              "      <th>BILL_AMT6</th>\n",
              "      <th>PAY_AMT1</th>\n",
              "      <th>PAY_AMT2</th>\n",
              "      <th>PAY_AMT3</th>\n",
              "      <th>PAY_AMT4</th>\n",
              "      <th>PAY_AMT5</th>\n",
              "      <th>PAY_AMT6</th>\n",
              "      <th>default.payment.next.month</th>\n",
              "    </tr>\n",
              "  </thead>\n",
              "  <tbody>\n",
              "    <tr>\n",
              "      <th>0</th>\n",
              "      <td>1</td>\n",
              "      <td>20000.0</td>\n",
              "      <td>2</td>\n",
              "      <td>2</td>\n",
              "      <td>1</td>\n",
              "      <td>24</td>\n",
              "      <td>2</td>\n",
              "      <td>2</td>\n",
              "      <td>-1</td>\n",
              "      <td>-1</td>\n",
              "      <td>-2</td>\n",
              "      <td>-2</td>\n",
              "      <td>3913.0</td>\n",
              "      <td>3102.0</td>\n",
              "      <td>689.0</td>\n",
              "      <td>0.0</td>\n",
              "      <td>0.0</td>\n",
              "      <td>0.0</td>\n",
              "      <td>0.0</td>\n",
              "      <td>689.0</td>\n",
              "      <td>0.0</td>\n",
              "      <td>0.0</td>\n",
              "      <td>0.0</td>\n",
              "      <td>0.0</td>\n",
              "      <td>1</td>\n",
              "    </tr>\n",
              "    <tr>\n",
              "      <th>1</th>\n",
              "      <td>2</td>\n",
              "      <td>120000.0</td>\n",
              "      <td>2</td>\n",
              "      <td>2</td>\n",
              "      <td>2</td>\n",
              "      <td>26</td>\n",
              "      <td>-1</td>\n",
              "      <td>2</td>\n",
              "      <td>0</td>\n",
              "      <td>0</td>\n",
              "      <td>0</td>\n",
              "      <td>2</td>\n",
              "      <td>2682.0</td>\n",
              "      <td>1725.0</td>\n",
              "      <td>2682.0</td>\n",
              "      <td>3272.0</td>\n",
              "      <td>3455.0</td>\n",
              "      <td>3261.0</td>\n",
              "      <td>0.0</td>\n",
              "      <td>1000.0</td>\n",
              "      <td>1000.0</td>\n",
              "      <td>1000.0</td>\n",
              "      <td>0.0</td>\n",
              "      <td>2000.0</td>\n",
              "      <td>1</td>\n",
              "    </tr>\n",
              "    <tr>\n",
              "      <th>2</th>\n",
              "      <td>3</td>\n",
              "      <td>90000.0</td>\n",
              "      <td>2</td>\n",
              "      <td>2</td>\n",
              "      <td>2</td>\n",
              "      <td>34</td>\n",
              "      <td>0</td>\n",
              "      <td>0</td>\n",
              "      <td>0</td>\n",
              "      <td>0</td>\n",
              "      <td>0</td>\n",
              "      <td>0</td>\n",
              "      <td>29239.0</td>\n",
              "      <td>14027.0</td>\n",
              "      <td>13559.0</td>\n",
              "      <td>14331.0</td>\n",
              "      <td>14948.0</td>\n",
              "      <td>15549.0</td>\n",
              "      <td>1518.0</td>\n",
              "      <td>1500.0</td>\n",
              "      <td>1000.0</td>\n",
              "      <td>1000.0</td>\n",
              "      <td>1000.0</td>\n",
              "      <td>5000.0</td>\n",
              "      <td>0</td>\n",
              "    </tr>\n",
              "    <tr>\n",
              "      <th>3</th>\n",
              "      <td>4</td>\n",
              "      <td>50000.0</td>\n",
              "      <td>2</td>\n",
              "      <td>2</td>\n",
              "      <td>1</td>\n",
              "      <td>37</td>\n",
              "      <td>0</td>\n",
              "      <td>0</td>\n",
              "      <td>0</td>\n",
              "      <td>0</td>\n",
              "      <td>0</td>\n",
              "      <td>0</td>\n",
              "      <td>46990.0</td>\n",
              "      <td>48233.0</td>\n",
              "      <td>49291.0</td>\n",
              "      <td>28314.0</td>\n",
              "      <td>28959.0</td>\n",
              "      <td>29547.0</td>\n",
              "      <td>2000.0</td>\n",
              "      <td>2019.0</td>\n",
              "      <td>1200.0</td>\n",
              "      <td>1100.0</td>\n",
              "      <td>1069.0</td>\n",
              "      <td>1000.0</td>\n",
              "      <td>0</td>\n",
              "    </tr>\n",
              "    <tr>\n",
              "      <th>4</th>\n",
              "      <td>5</td>\n",
              "      <td>50000.0</td>\n",
              "      <td>1</td>\n",
              "      <td>2</td>\n",
              "      <td>1</td>\n",
              "      <td>57</td>\n",
              "      <td>-1</td>\n",
              "      <td>0</td>\n",
              "      <td>-1</td>\n",
              "      <td>0</td>\n",
              "      <td>0</td>\n",
              "      <td>0</td>\n",
              "      <td>8617.0</td>\n",
              "      <td>5670.0</td>\n",
              "      <td>35835.0</td>\n",
              "      <td>20940.0</td>\n",
              "      <td>19146.0</td>\n",
              "      <td>19131.0</td>\n",
              "      <td>2000.0</td>\n",
              "      <td>36681.0</td>\n",
              "      <td>10000.0</td>\n",
              "      <td>9000.0</td>\n",
              "      <td>689.0</td>\n",
              "      <td>679.0</td>\n",
              "      <td>0</td>\n",
              "    </tr>\n",
              "  </tbody>\n",
              "</table>\n",
              "</div>"
            ],
            "text/plain": [
              "   ID  LIMIT_BAL  SEX  ...  PAY_AMT5  PAY_AMT6  default.payment.next.month\n",
              "0   1    20000.0    2  ...       0.0       0.0                           1\n",
              "1   2   120000.0    2  ...       0.0    2000.0                           1\n",
              "2   3    90000.0    2  ...    1000.0    5000.0                           0\n",
              "3   4    50000.0    2  ...    1069.0    1000.0                           0\n",
              "4   5    50000.0    1  ...     689.0     679.0                           0\n",
              "\n",
              "[5 rows x 25 columns]"
            ]
          },
          "metadata": {
            "tags": []
          },
          "execution_count": 104
        }
      ]
    },
    {
      "cell_type": "markdown",
      "metadata": {
        "id": "K5ljewd6zTmK",
        "colab_type": "text"
      },
      "source": [
        "**Cantidad de muestras**"
      ]
    },
    {
      "cell_type": "code",
      "metadata": {
        "id": "VcGQnEfDzg4f",
        "colab_type": "code",
        "outputId": "0eea0fb8-ec24-4fe7-e63c-c1921131f026",
        "colab": {
          "base_uri": "https://localhost:8080/",
          "height": 34
        }
      },
      "source": [
        "df = df.rename(columns={'default.payment.next.month': 'def_pay', \n",
        "                        'PAY_0': 'PAY_1'})\n",
        "data = df.values\n",
        "data.shape"
      ],
      "execution_count": 13,
      "outputs": [
        {
          "output_type": "execute_result",
          "data": {
            "text/plain": [
              "(30000, 25)"
            ]
          },
          "metadata": {
            "tags": []
          },
          "execution_count": 13
        }
      ]
    },
    {
      "cell_type": "markdown",
      "metadata": {
        "id": "vWb3jtW8z5xJ",
        "colab_type": "text"
      },
      "source": [
        "Cantidad de clases"
      ]
    },
    {
      "cell_type": "code",
      "metadata": {
        "id": "E24BDuNsz721",
        "colab_type": "code",
        "outputId": "e5622e06-de85-450f-b616-7c59b8189253",
        "colab": {
          "base_uri": "https://localhost:8080/",
          "height": 35
        }
      },
      "source": [
        "len(np.unique(df.def_pay))"
      ],
      "execution_count": 0,
      "outputs": [
        {
          "output_type": "execute_result",
          "data": {
            "text/plain": [
              "2"
            ]
          },
          "metadata": {
            "tags": []
          },
          "execution_count": 39
        }
      ]
    },
    {
      "cell_type": "markdown",
      "metadata": {
        "id": "PDOtN078zfnO",
        "colab_type": "text"
      },
      "source": [
        "Muestras por clases"
      ]
    },
    {
      "cell_type": "code",
      "metadata": {
        "id": "xehP5Cb5zhab",
        "colab_type": "code",
        "outputId": "329ca6a2-829b-4919-f3d7-cfc6d498ee4a",
        "colab": {
          "base_uri": "https://localhost:8080/",
          "height": 54
        }
      },
      "source": [
        "classes = np.unique(df.def_pay)\n",
        "unicos = data[:,-1]\n",
        "unos = np.where(unicos == 1)\n",
        "lenU =len(unos[0])\n",
        "cero = np.where(unicos == 0)\n",
        "lenC=len(cero[0])\n",
        "print(\"Clase (1):\",lenU)\n",
        "print(\"Clase (0):\",lenC)"
      ],
      "execution_count": 0,
      "outputs": [
        {
          "output_type": "stream",
          "text": [
            "Clase (1): 6636\n",
            "Clase (0): 23364\n"
          ],
          "name": "stdout"
        }
      ]
    },
    {
      "cell_type": "code",
      "metadata": {
        "id": "rYSRxKjuXlxK",
        "colab_type": "code",
        "outputId": "e76f22ee-8878-4341-f0a9-441444838f95",
        "colab": {
          "base_uri": "https://localhost:8080/",
          "height": 420
        }
      },
      "source": [
        "temp = df['def_pay'].value_counts()\n",
        "df2 = pd.DataFrame({'def_pay': temp.index,'values': temp.values})\n",
        "plt.figure(figsize = (6,6))\n",
        "plt.title('Default Credit Card Clients - target value - data Datos desbalanceados\\n (Default = 0, Not Default = 1)')\n",
        "sns.set_color_codes(\"pastel\")\n",
        "sns.barplot(x = 'def_pay', y=\"values\", data=df2)\n",
        "locs, labels = plt.xticks()\n",
        "plt.show()"
      ],
      "execution_count": 14,
      "outputs": [
        {
          "output_type": "display_data",
          "data": {
            "image/png": "[encoded data removed]",
            "text/plain": [
              "<Figure size 432x432 with 1 Axes>"
            ]
          },
          "metadata": {
            "tags": []
          }
        }
      ]
    },
    {
      "cell_type": "markdown",
      "metadata": {
        "id": "1RLV7mtMzvai",
        "colab_type": "text"
      },
      "source": [
        "Cantidad de variables y su significado"
      ]
    },
    {
      "cell_type": "code",
      "metadata": {
        "id": "ePHjQOY5zyFJ",
        "colab_type": "code",
        "outputId": "8c142f2b-047a-4b7d-e0b1-22350d4cbce1",
        "colab": {
          "base_uri": "https://localhost:8080/",
          "height": 563
        }
      },
      "source": [
        "df.info()"
      ],
      "execution_count": 0,
      "outputs": [
        {
          "output_type": "stream",
          "text": [
            "<class 'pandas.core.frame.DataFrame'>\n",
            "RangeIndex: 30000 entries, 0 to 29999\n",
            "Data columns (total 25 columns):\n",
            "ID           30000 non-null int64\n",
            "LIMIT_BAL    30000 non-null float64\n",
            "SEX          30000 non-null int64\n",
            "EDUCATION    30000 non-null int64\n",
            "MARRIAGE     30000 non-null int64\n",
            "AGE          30000 non-null int64\n",
            "PAY_1        30000 non-null int64\n",
            "PAY_2        30000 non-null int64\n",
            "PAY_3        30000 non-null int64\n",
            "PAY_4        30000 non-null int64\n",
            "PAY_5        30000 non-null int64\n",
            "PAY_6        30000 non-null int64\n",
            "BILL_AMT1    30000 non-null float64\n",
            "BILL_AMT2    30000 non-null float64\n",
            "BILL_AMT3    30000 non-null float64\n",
            "BILL_AMT4    30000 non-null float64\n",
            "BILL_AMT5    30000 non-null float64\n",
            "BILL_AMT6    30000 non-null float64\n",
            "PAY_AMT1     30000 non-null float64\n",
            "PAY_AMT2     30000 non-null float64\n",
            "PAY_AMT3     30000 non-null float64\n",
            "PAY_AMT4     30000 non-null float64\n",
            "PAY_AMT5     30000 non-null float64\n",
            "PAY_AMT6     30000 non-null float64\n",
            "def_pay      30000 non-null int64\n",
            "dtypes: float64(13), int64(12)\n",
            "memory usage: 5.7 MB\n"
          ],
          "name": "stdout"
        }
      ]
    },
    {
      "cell_type": "markdown",
      "metadata": {
        "id": "4bOi50qGVm1u",
        "colab_type": "text"
      },
      "source": [
        "**Creamos la variable a predecir**"
      ]
    },
    {
      "cell_type": "code",
      "metadata": {
        "id": "lb8Uk2wRV78w",
        "colab_type": "code",
        "colab": {}
      },
      "source": [
        "Y = df['def_pay'].copy()\n",
        "Y = Y.values"
      ],
      "execution_count": 0,
      "outputs": []
    },
    {
      "cell_type": "markdown",
      "metadata": {
        "id": "FmfvTP0-WbGO",
        "colab_type": "text"
      },
      "source": [
        "**Creamos La matriz de características**"
      ]
    },
    {
      "cell_type": "code",
      "metadata": {
        "id": "1aSY_my2Whm8",
        "colab_type": "code",
        "colab": {}
      },
      "source": [
        "features = ['LIMIT_BAL', 'SEX', 'EDUCATION', 'MARRIAGE', 'AGE', 'PAY_1', 'PAY_2','PAY_3', 'PAY_4', 'PAY_5', 'PAY_6', 'BILL_AMT1', 'BILL_AMT2','BILL_AMT3', 'BILL_AMT4', 'BILL_AMT5', 'BILL_AMT6', 'PAY_AMT1',\n",
        "       'PAY_AMT2', 'PAY_AMT3', 'PAY_AMT4', 'PAY_AMT5', 'PAY_AMT6']\n",
        "X = df[features].copy()\n",
        "X = X.values\n"
      ],
      "execution_count": 0,
      "outputs": []
    },
    {
      "cell_type": "markdown",
      "metadata": {
        "id": "ZweIc5OYz0Fw",
        "colab_type": "text"
      },
      "source": [
        "# **Tecnicas de Balanceo Usada**"
      ]
    },
    {
      "cell_type": "markdown",
      "metadata": {
        "id": "1NBaSI1F2nRN",
        "colab_type": "text"
      },
      "source": [
        "Si la base de datos esta desbalanceada,deben considerar el uso de tecnicas de submuestreo y sobremuestreo inteligente, ademas de usar validacíón ́estratificaida."
      ]
    },
    {
      "cell_type": "markdown",
      "metadata": {
        "id": "w5gPXvCHcykh",
        "colab_type": "text"
      },
      "source": [
        "## **Stratified KFold**"
      ]
    },
    {
      "cell_type": "code",
      "metadata": {
        "id": "5VhNAzf0bwPx",
        "colab_type": "code",
        "outputId": "df36f9e6-c700-4e00-92f5-2f06519bdca4",
        "colab": {
          "base_uri": "https://localhost:8080/",
          "height": 199
        }
      },
      "source": [
        "from sklearn.model_selection import StratifiedKFold\n",
        "\n",
        "#Train, Validation, Test\n",
        "FOLDS = 10\n",
        "\n",
        "skf = StratifiedKFold(n_splits=FOLDS)\n",
        "for train_index, test_index in skf.split(X, Y):\n",
        "    print(\"TRAIN:\", train_index, \"TEST:\", test_index)\n",
        "  \n",
        "\n"
      ],
      "execution_count": 0,
      "outputs": [
        {
          "output_type": "stream",
          "text": [
            "TRAIN: [ 2993  2995  2996 ... 29997 29998 29999] TEST: [   0    1    2 ... 3004 3005 3006]\n",
            "TRAIN: [    0     1     2 ... 29997 29998 29999] TEST: [2993 2995 2996 ... 6044 6045 6047]\n",
            "TRAIN: [    0     1     2 ... 29997 29998 29999] TEST: [5985 5988 5989 ... 9034 9035 9036]\n",
            "TRAIN: [    0     1     2 ... 29997 29998 29999] TEST: [ 8883  8886  8888 ... 12051 12052 12055]\n",
            "TRAIN: [    0     1     2 ... 29997 29998 29999] TEST: [11794 11796 11802 ... 15072 15073 15074]\n",
            "TRAIN: [    0     1     2 ... 29997 29998 29999] TEST: [14766 14770 14778 ... 18223 18224 18226]\n",
            "TRAIN: [    0     1     2 ... 29997 29998 29999] TEST: [17316 17319 17323 ... 21199 21200 21201]\n",
            "TRAIN: [    0     1     2 ... 29997 29998 29999] TEST: [20429 20437 20439 ... 24073 24074 24075]\n",
            "TRAIN: [    0     1     2 ... 29997 29998 29999] TEST: [23691 23696 23704 ... 26998 26999 27000]\n",
            "TRAIN: [    0     1     2 ... 26998 26999 27000] TEST: [27001 27002 27003 ... 29997 29998 29999]\n"
          ],
          "name": "stdout"
        }
      ]
    },
    {
      "cell_type": "markdown",
      "metadata": {
        "id": "39k-3m3_f3BK",
        "colab_type": "text"
      },
      "source": [
        "## **Validación Booststrapping**"
      ]
    },
    {
      "cell_type": "code",
      "metadata": {
        "id": "khqUNpMrgGgX",
        "colab_type": "code",
        "outputId": "23d144d8-2193-40c5-8cb9-9a086cc717b7",
        "colab": {
          "base_uri": "https://localhost:8080/",
          "height": 54
        }
      },
      "source": [
        "from sklearn.model_selection import train_test_split\n",
        "VALID_SIZE = 0.20\n",
        "X_train, X_test, y_train, y_test = train_test_split(X,Y, test_size=VALID_SIZE, shuffle=True )\n",
        "print('X_Train', X_train.shape)\n",
        "print('y_train', y_train.shape)\n"
      ],
      "execution_count": 0,
      "outputs": [
        {
          "output_type": "stream",
          "text": [
            "X_Train (24000, 23)\n",
            "y_train (24000,)\n"
          ],
          "name": "stdout"
        }
      ]
    },
    {
      "cell_type": "markdown",
      "metadata": {
        "id": "ucRWuvml3nDE",
        "colab_type": "text"
      },
      "source": [
        "## **Aprendizaje con balance de costo**"
      ]
    },
    {
      "cell_type": "code",
      "metadata": {
        "id": "Z98KFR863qY5",
        "colab_type": "code",
        "outputId": "7e5e7493-1cb2-41cc-a319-95b9c42a885c",
        "colab": {
          "base_uri": "https://localhost:8080/",
          "height": 35
        }
      },
      "source": [
        "from sklearn.utils import class_weight\n",
        "class_weights = class_weight.compute_class_weight('balanced',np.unique(Y),Y)\n",
        "class_weights\n",
        "#model.fit(X_train, y_train, class_weight=class_weights)\n"
      ],
      "execution_count": 0,
      "outputs": [
        {
          "output_type": "execute_result",
          "data": {
            "text/plain": [
              "array([0.64201335, 2.26039783])"
            ]
          },
          "metadata": {
            "tags": []
          },
          "execution_count": 46
        }
      ]
    },
    {
      "cell_type": "markdown",
      "metadata": {
        "id": "csCiM5TY2s8-",
        "colab_type": "text"
      },
      "source": [
        "## **Stratified KFold con Class_weight** "
      ]
    },
    {
      "cell_type": "code",
      "metadata": {
        "id": "Rgg-9ODAuUbT",
        "colab_type": "code",
        "outputId": "e1aa5554-a9e9-4a43-b5e2-fcd5681e5a38",
        "colab": {
          "base_uri": "https://localhost:8080/",
          "height": 745
        }
      },
      "source": [
        "from sklearn.model_selection import StratifiedKFold\n",
        "from sklearn.utils import class_weight\n",
        "\n",
        "\n",
        "#Train, Validation, Test\n",
        "FOLDS = 10\n",
        "\n",
        "skf = StratifiedKFold(n_splits=FOLDS)\n",
        "for train_index, test_index in skf.split(X, Y):\n",
        "    X_train, X_test = X[train_index], X[test_index]\n",
        "    Y_train, Y_test = Y[train_index], Y[test_index]    \n",
        "    print(\"xTRAIN:\", X_train.shape, \"yTRAIN:\", Y_train.shape)\n",
        "    print(\"xTEST:\", X_test.shape, \"yTEST:\", Y_test.shape)\n",
        "    class_weightsTrain = class_weight.compute_class_weight('balanced',np.unique(Y_train),Y_train)\n",
        "    class_weightsTest = class_weight.compute_class_weight('balanced',np.unique(Y_test),Y_test)\n",
        "    print(\"class_weightsTrain\",(class_weightsTrain[1]))\n",
        "    print(\"class_weightsTest\",class_weightsTest)   \n"
      ],
      "execution_count": 0,
      "outputs": [
        {
          "output_type": "stream",
          "text": [
            "xTRAIN: (26999, 23) yTRAIN: (26999,)\n",
            "xTEST: (3001, 23) yTEST: (3001,)\n",
            "class_weightsTrain 2.2604655056932352\n",
            "class_weightsTest [0.64206247 2.25978916]\n",
            "xTRAIN: (26999, 23) yTRAIN: (26999,)\n",
            "xTEST: (3001, 23) yTEST: (3001,)\n",
            "class_weightsTrain 2.2604655056932352\n",
            "class_weightsTest [0.64206247 2.25978916]\n",
            "xTRAIN: (26999, 23) yTRAIN: (26999,)\n",
            "xTEST: (3001, 23) yTEST: (3001,)\n",
            "class_weightsTrain 2.2604655056932352\n",
            "class_weightsTest [0.64206247 2.25978916]\n",
            "xTRAIN: (26999, 23) yTRAIN: (26999,)\n",
            "xTEST: (3001, 23) yTEST: (3001,)\n",
            "class_weightsTrain 2.2604655056932352\n",
            "class_weightsTest [0.64206247 2.25978916]\n",
            "xTRAIN: (27000, 23) yTRAIN: (27000,)\n",
            "xTEST: (3000, 23) yTEST: (3000,)\n",
            "class_weightsTrain 2.260549229738781\n",
            "class_weightsTest [0.64212329 2.25903614]\n",
            "xTRAIN: (27000, 23) yTRAIN: (27000,)\n",
            "xTEST: (3000, 23) yTEST: (3000,)\n",
            "class_weightsTrain 2.260549229738781\n",
            "class_weightsTest [0.64212329 2.25903614]\n",
            "xTRAIN: (27001, 23) yTRAIN: (27001,)\n",
            "xTEST: (2999, 23) yTEST: (2999,)\n",
            "class_weightsTrain 2.2602544784865226\n",
            "class_weightsTest [0.64190925 2.26168929]\n",
            "xTRAIN: (27001, 23) yTRAIN: (27001,)\n",
            "xTEST: (2999, 23) yTEST: (2999,)\n",
            "class_weightsTrain 2.2602544784865226\n",
            "class_weightsTest [0.64190925 2.26168929]\n",
            "xTRAIN: (27001, 23) yTRAIN: (27001,)\n",
            "xTEST: (2999, 23) yTEST: (2999,)\n",
            "class_weightsTrain 2.2602544784865226\n",
            "class_weightsTest [0.64190925 2.26168929]\n",
            "xTRAIN: (27001, 23) yTRAIN: (27001,)\n",
            "xTEST: (2999, 23) yTEST: (2999,)\n",
            "class_weightsTrain 2.2602544784865226\n",
            "class_weightsTest [0.64190925 2.26168929]\n"
          ],
          "name": "stdout"
        }
      ]
    },
    {
      "cell_type": "markdown",
      "metadata": {
        "id": "IvSt6kvFUdNI",
        "colab_type": "text"
      },
      "source": [
        "# **Normalización**"
      ]
    },
    {
      "cell_type": "markdown",
      "metadata": {
        "id": "GTdh1qIpUhfs",
        "colab_type": "text"
      },
      "source": [
        "## **StandardScaler**"
      ]
    },
    {
      "cell_type": "markdown",
      "metadata": {
        "id": "zbRFSk5rhbNp",
        "colab_type": "text"
      },
      "source": [
        "The standard score of a sample x is calculated as:\n",
        "\n",
        "z = (x - u) / s\n",
        "\n",
        "La idea detrás de StandardScaler es que transformará sus datos de modo que su distribución tenga un valor medio 0 y una desviación estándar de 1.\n",
        "\n",
        "\n"
      ]
    },
    {
      "cell_type": "code",
      "metadata": {
        "id": "L3phjBmDdp-B",
        "colab_type": "code",
        "colab": {
          "base_uri": "https://localhost:8080/",
          "height": 34
        },
        "outputId": "0d987ef1-274c-4925-ace4-d9e2f1c98348"
      },
      "source": [
        "from sklearn.preprocessing import StandardScaler\n",
        "\n",
        "scaler = StandardScaler()\n",
        "\n",
        "XnormalizeAux = X[:,[0,11,12,13,14,15,16,17,18,19,20,21,22]]\n",
        "XnormalizeAux = scaler.fit_transform(XnormalizeAux)\n",
        "\n",
        "Xnormalize = X.copy()\n",
        "Xnormalize[:,0]=XnormalizeAux[:,0]\n",
        "Xnormalize[:,11:22]=XnormalizeAux[:,1:12]\n",
        "\n",
        "print(Xnormalize.shape)\n",
        "\n",
        "\n",
        "\n",
        "# En Xnormalize esta las característica normalizadas"
      ],
      "execution_count": 61,
      "outputs": [
        {
          "output_type": "stream",
          "text": [
            "(30000, 23)\n"
          ],
          "name": "stdout"
        }
      ]
    },
    {
      "cell_type": "markdown",
      "metadata": {
        "id": "Y_XGyVVg0PWt",
        "colab_type": "text"
      },
      "source": [
        "# Modelos"
      ]
    },
    {
      "cell_type": "markdown",
      "metadata": {
        "id": "zowcnxvPx3q7",
        "colab_type": "text"
      },
      "source": [
        "# **Usando GridSearchCV**"
      ]
    },
    {
      "cell_type": "code",
      "metadata": {
        "id": "v2i6IKJ7wxvS",
        "colab_type": "code",
        "colab": {}
      },
      "source": [
        "from sklearn.metrics import make_scorer, accuracy_score\n",
        "from sklearn.model_selection import GridSearchCV\n",
        "from sklearn.model_selection import StratifiedKFold\n",
        "from sklearn.utils import class_weight\n",
        "\n",
        "def modelTrain(model,params,X,Y,VALID_SIZE,FOLDS):\n",
        "    skf = StratifiedKFold(n_splits=FOLDS)\n",
        "    gs = GridSearchCV(model, cv=skf, param_grid=params, return_train_score=True)\n",
        "    X_train, X_test, Y_train, Y_test = train_test_split(X,Y, test_size=VALID_SIZE, shuffle=True )\n",
        "    class_weightsTrain = class_weight.compute_class_weight('balanced',np.unique(Y_train),Y_train)\n",
        "    gs.fit(X_train, y_train)  \n",
        "    gs.score(X_test, y_test)\n",
        "    return gs"
      ],
      "execution_count": 0,
      "outputs": []
    },
    {
      "cell_type": "markdown",
      "metadata": {
        "id": "YuMdBXhc0WCV",
        "colab_type": "text"
      },
      "source": [
        "## **Na ̈ıve Bayes**\n",
        "\n",
        "[Documentación](https://scikit-learn.org/stable/modules/generated/sklearn.naive_bayes.GaussianNB.html#sklearn.naive_bayes.GaussianNB)"
      ]
    },
    {
      "cell_type": "code",
      "metadata": {
        "id": "NNHxhdnU0Ysf",
        "colab_type": "code",
        "colab": {}
      },
      "source": [
        "from sklearn.naive_bayes import GaussianNB\n",
        "gnb = GaussianNB()\n",
        "VALID_SIZE = 0.20\n",
        "FOLDS = 10\n",
        "params = {}\n",
        "gsGaussianNB = modelTrain(gnb,params,X,Y,VALID_SIZE,FOLDS)\n",
        "\n",
        "\n",
        "#GUARDAR MODELO\n",
        "#joblib.dump(gsGaussianNB, PATH+'Models/gsGaussianNB.pkl')\n"
      ],
      "execution_count": 0,
      "outputs": []
    },
    {
      "cell_type": "code",
      "metadata": {
        "id": "_H9FmO9SiUbh",
        "colab_type": "code",
        "colab": {}
      },
      "source": [
        "PATHGNBMODEL = PATH+'Models/gsGaussianNB.pkl'\n",
        "gsGaussianNB = joblib.load(PATHGNBMODEL)\n",
        "print(gsGaussianNB.best_score_)"
      ],
      "execution_count": 0,
      "outputs": []
    },
    {
      "cell_type": "markdown",
      "metadata": {
        "id": "xTqLWYah0yg2",
        "colab_type": "text"
      },
      "source": [
        "### **Resultado Obtenidos**\n",
        "\n",
        "Recuerde que como parte de una correcta metodolog ́ıa de validacion se deben incluir, seg  ́ un sea el caso, medidas de sensibilidad, especificidad, eficiencia, matriz de confusion, error cuadratico medio, MAPE, coeficiente de determinacion, etc., Deben incluir intervalos de confianza para todas las medidas usadas."
      ]
    },
    {
      "cell_type": "code",
      "metadata": {
        "id": "usnrgVsk1Tn3",
        "colab_type": "code",
        "outputId": "9ea93a33-9b09-4387-de8b-07fa07378608",
        "colab": {
          "base_uri": "https://localhost:8080/",
          "height": 35
        }
      },
      "source": [
        "print(\"Best SCORE\",gsGaussianNB.best_score_)\n"
      ],
      "execution_count": 0,
      "outputs": [
        {
          "output_type": "stream",
          "text": [
            "Best SCORE 0.77425\n"
          ],
          "name": "stdout"
        }
      ]
    },
    {
      "cell_type": "markdown",
      "metadata": {
        "id": "vu330kBlfZQu",
        "colab_type": "text"
      },
      "source": [
        "Matriz de confusión"
      ]
    },
    {
      "cell_type": "markdown",
      "metadata": {
        "id": "nswEClES1Fsc",
        "colab_type": "text"
      },
      "source": [
        "\n",
        "\n",
        " ---\n",
        "\n",
        "\n"
      ]
    },
    {
      "cell_type": "markdown",
      "metadata": {
        "id": "B3bM0UAU0aYO",
        "colab_type": "text"
      },
      "source": [
        "## K vecinos mas cercanos"
      ]
    },
    {
      "cell_type": "markdown",
      "metadata": {
        "id": "z3fYzmk0Ttaq",
        "colab_type": "text"
      },
      "source": [
        "[Documentación](https://scikit-learn.org/stable/modules/generated/sklearn.neighbors.KNeighborsClassifier.html)"
      ]
    },
    {
      "cell_type": "code",
      "metadata": {
        "id": "xpKLYeBx0dy2",
        "colab_type": "code",
        "colab": {}
      },
      "source": [
        "from sklearn.neighbors import KNeighborsClassifier\n",
        "\n",
        "VALID_SIZE = 0.20\n",
        "FOLDS = 10\n",
        "params = {\n",
        "    'n_neighbors':[3,5,7,9,11],\n",
        "    'weights':['uniform','distance'],\n",
        "    'metric':['minkowski','euclidean','manhattan']\n",
        "    \n",
        "    \n",
        "}\n",
        "KNN = KNeighborsClassifier()\n",
        "\n",
        "\n",
        "gsKNN = modelTrain(KNN,params,X,Y,VALID_SIZE,FOLDS)\n",
        "print(\"Best SCORE\",gsKNN.best_score_)\n",
        "print(\"Best ESTIMATOR\", gsKNN.gsGaussianNB.best_params_)\n",
        "\n",
        "#GUARDAR MODELO\n",
        "PATH_knn_MODEL = PATH+'Models/gsKNN.pkl'\n",
        "joblib.dump(gsKNN,PATH_knn_MODEL)"
      ],
      "execution_count": 0,
      "outputs": []
    },
    {
      "cell_type": "markdown",
      "metadata": {
        "colab_type": "text",
        "id": "_kTfWZai2hjs"
      },
      "source": [
        "### **Resultado Obtenidos**\n",
        "\n",
        "Recuerde que como parte de una correcta metodolog ́ıa de validacion se deben incluir, seg  ́ un sea el caso, medidas de sensibilidad, especificidad, eficiencia, matriz de confusion, error cuadratico medio, MAPE, coeficiente de determinacion, etc., Deben incluir intervalos de confianza para todas las medidas usadas."
      ]
    },
    {
      "cell_type": "markdown",
      "metadata": {
        "colab_type": "text",
        "id": "Y9qFGtIk1Y4W"
      },
      "source": [
        "\n",
        "\n",
        "---\n",
        "\n",
        "\n"
      ]
    },
    {
      "cell_type": "markdown",
      "metadata": {
        "id": "qTno4pUS0hLd",
        "colab_type": "text"
      },
      "source": [
        "## **Redes Neuronales Artificiales**"
      ]
    },
    {
      "cell_type": "code",
      "metadata": {
        "id": "qF4d1ZA-0iUu",
        "colab_type": "code",
        "colab": {}
      },
      "source": [
        ""
      ],
      "execution_count": 0,
      "outputs": []
    },
    {
      "cell_type": "markdown",
      "metadata": {
        "colab_type": "text",
        "id": "Nii3Xmzs2jD-"
      },
      "source": [
        "### **Resultado Obtenidos**\n",
        "\n",
        "Recuerde que como parte de una correcta metodolog ́ıa de validacion se deben incluir, seg  ́ un sea el caso, medidas de sensibilidad, especificidad, eficiencia, matriz de confusion, error cuadratico medio, MAPE, coeficiente de determinacion, etc., Deben incluir intervalos de confianza para todas las medidas usadas."
      ]
    },
    {
      "cell_type": "markdown",
      "metadata": {
        "colab_type": "text",
        "id": "Qb3czAHO1ySX"
      },
      "source": [
        "\n",
        "\n",
        " ---\n",
        "\n",
        "\n"
      ]
    },
    {
      "cell_type": "markdown",
      "metadata": {
        "id": "xyjjRFdf0kl3",
        "colab_type": "text"
      },
      "source": [
        "## **Random Forest**"
      ]
    },
    {
      "cell_type": "markdown",
      "metadata": {
        "id": "v-899rO2lPBH",
        "colab_type": "text"
      },
      "source": [
        "[Documentación](https://scikit-learn.org/stable/modules/generated/sklearn.ensemble.RandomForestClassifier.html)"
      ]
    },
    {
      "cell_type": "code",
      "metadata": {
        "id": "c5FATjSJ0mSU",
        "colab_type": "code",
        "colab": {}
      },
      "source": [
        "from sklearn.ensemble import RandomForestClassifier\n",
        "\n",
        "VALID_SIZE = 0.20\n",
        "FOLDS = 10\n",
        "\n",
        "params = { \n",
        "    'n_estimators': [100,200,300,400,500],\n",
        "    'max_features': ['auto', 'sqrt', 'log2'],\n",
        "    'max_depth' : [4,5,6,7,8],\n",
        "    'criterion' :['gini', 'entropy']\n",
        "}\n",
        "rfc=RandomForestClassifier()\n",
        "gsRDF= modelTrain(rfc,params,X,Y,VALID_SIZE,FOLDS)\n",
        "\n",
        "print(\"Best SCORE\",gsRDF.best_score_)\n",
        "print(\"Best ESTIMATOR\", gsRDF.best_params_)\n",
        "\n",
        "\n",
        "#GUARDAR MODELO\n",
        "PATH_gsRDF_MODEL = PATH+'Models/gsRDF.pkl'\n",
        "joblib.dump(gsRDF,PATH_gsRDF_MODEL)\n"
      ],
      "execution_count": 0,
      "outputs": []
    },
    {
      "cell_type": "markdown",
      "metadata": {
        "colab_type": "text",
        "id": "VnAlAlNm2j0X"
      },
      "source": [
        "### **Resultado Obtenidos**\n",
        "\n",
        "Recuerde que como parte de una correcta metodolog ́ıa de validacion se deben incluir, seg  ́ un sea el caso, medidas de sensibilidad, especificidad, eficiencia, matriz de confusion, error cuadratico medio, MAPE, coeficiente de determinacion, etc., Deben incluir intervalos de confianza para todas las medidas usadas."
      ]
    },
    {
      "cell_type": "markdown",
      "metadata": {
        "colab_type": "text",
        "id": "wTDOYFfg1ywx"
      },
      "source": [
        "\n",
        "\n",
        " ---\n",
        "\n",
        "\n"
      ]
    },
    {
      "cell_type": "markdown",
      "metadata": {
        "id": "C_OYTytC0p_V",
        "colab_type": "text"
      },
      "source": [
        "## **Maquinas de Soporte Vectorial con kernel lineal y con kernel RBF.**"
      ]
    },
    {
      "cell_type": "code",
      "metadata": {
        "id": "iCkptLBK0rCn",
        "colab_type": "code",
        "colab": {}
      },
      "source": [
        "from sklearn.svm import SVC\n",
        "\n",
        "VALID_SIZE = 0.20\n",
        "FOLDS = 10\n",
        "\n",
        "Cs = [0.001, 0.01, 0.1, 1, 10]\n",
        "gammas = [0.001, 0.01, 0.1, 1]\n",
        "kernels = ['rbf','linear']\n",
        "\n",
        "params = {'C': Cs, 'gamma' : gammas,'kernel':kernels}\n",
        "svm = SVC()\n",
        "gsSVM = modelTrain(svm,params,X,Y,VALID_SIZE,FOLDS)\n",
        "\n",
        "print(\"Best SCORE\",gsSVM.best_score_)\n",
        "print(\"Best ESTIMATOR\", gsSVM.best_params_)\n",
        "\n",
        "\n",
        "\n",
        "#GUARDAR MODELO\n",
        "PATH_svm_MODEL = PATH+'Models/gsSVM.pkl'\n",
        "joblib.dump(gsSVM,PATH_svm_MODEL)\n"
      ],
      "execution_count": 0,
      "outputs": []
    },
    {
      "cell_type": "markdown",
      "metadata": {
        "colab_type": "text",
        "id": "jBo7N_mE2lbh"
      },
      "source": [
        "### **Resultado Obtenidos**\n",
        "\n",
        "Recuerde que como parte de una correcta metodolog ́ıa de validacion se deben incluir, seg  ́ un sea el caso, medidas de sensibilidad, especificidad, eficiencia, matriz de confusion, error cuadratico medio, MAPE, coeficiente de determinacion, etc., Deben incluir intervalos de confianza para todas las medidas usadas."
      ]
    },
    {
      "cell_type": "markdown",
      "metadata": {
        "colab_type": "text",
        "id": "u4hBzRHP1zJ2"
      },
      "source": [
        "\n",
        "\n",
        " ---\n",
        "\n",
        "\n"
      ]
    }
  ]
}
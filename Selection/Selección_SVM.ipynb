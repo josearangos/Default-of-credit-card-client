{
 "cells": [
  {
   "cell_type": "markdown",
   "metadata": {
    "colab_type": "text",
    "id": "fDegjWVq4oBv"
   },
   "source": [
    "**Kaggle** \n",
    "\n",
    "kernel con normalización https://www.kaggle.com/selener/prediction-of-credit-card-default\n",
    "\n",
    "\n",
    "\n",
    "kernels: https://www.kaggle.com/lucabasa/credit-card-default-a-very-pedagogical-notebook\n",
    "\n",
    "\n",
    "\n",
    "Sobre Matrix de confusion y selección de variables \n",
    "https://www.kaggle.com/gpreda/default-of-credit-card-clients-predictive-models\n"
   ]
  },
  {
   "cell_type": "markdown",
   "metadata": {
    "colab_type": "text",
    "id": "ZW-ElaqSyWwR"
   },
   "source": [
    "# **Experimentos**\n",
    "\n",
    "Incluya una sesion dentro de su informe con el nombre Experimentos, en la cual describa la metodología de validacion usada y la base de datos que est  ́ a usandó para llevar a cabo el proyecto, incluyendo la fuente de la base de datos como referencia, el numero de muestras,variables, etc. Si su problema es de clasificacion, indique cuantas clases contiene la basa de datos y cu  ́ antas muestras por clase. Si la base de datos esta desbalanceada,deben considerar el uso de tecnicas de submuestreo y sobremuestreo inteligente, ademas de usar validacíón ́estratificaida."
   ]
  },
  {
   "cell_type": "code",
   "execution_count": 11,
   "metadata": {
    "colab": {},
    "colab_type": "code",
    "collapsed": false,
    "id": "IscFLpvPx2DW"
   },
   "outputs": [],
   "source": [
    "from pandas import DataFrame, read_csv\n",
    "#import pickle\n",
    "from sklearn.externals import joblib #Guardar modelos una vez entrenados\n",
    "import numpy as np\n",
    "import matplotlib.pyplot as plt\n",
    "import pandas as pd \n",
    "import seaborn as sns\n",
    "from sklearn.metrics import classification_report,confusion_matrix,accuracy_score,roc_curve,auc\n",
    "\n",
    "PATH = '../'"
   ]
  },
  {
   "cell_type": "code",
   "execution_count": 12,
   "metadata": {
    "colab": {},
    "colab_type": "code",
    "collapsed": false,
    "id": "7TgS3vrgyKSM"
   },
   "outputs": [],
   "source": [
    "file = PATH+'UCI_Credit_Card.csv'\n",
    "df = pd.read_csv(file)"
   ]
  },
  {
   "cell_type": "markdown",
   "metadata": {
    "colab_type": "text",
    "id": "KsgD5gSAzLF8"
   },
   "source": [
    "# Sobre la base de datos"
   ]
  },
  {
   "cell_type": "code",
   "execution_count": 14,
   "metadata": {
    "colab": {
     "base_uri": "https://localhost:8080/",
     "height": 215
    },
    "colab_type": "code",
    "collapsed": false,
    "executionInfo": {
     "elapsed": 958,
     "status": "ok",
     "timestamp": 1570413300416,
     "user": {
      "displayName": "LEON DARÍO ARANGO AMAYA",
      "photoUrl": "https://lh3.googleusercontent.com/a-/AAuE7mAVlNnXKgaMV4o_n4uMw2Dsx2VLyb8Ng74F-gJ52A=s64",
      "userId": "02024137269287823222"
     },
     "user_tz": 300
    },
    "id": "LBCWrKxY5mny",
    "outputId": "b747053a-531a-4d83-d854-1144b1547b42"
   },
   "outputs": [
    {
     "data": {
      "text/html": [
       "<div>\n",
       "<style scoped>\n",
       "    .dataframe tbody tr th:only-of-type {\n",
       "        vertical-align: middle;\n",
       "    }\n",
       "\n",
       "    .dataframe tbody tr th {\n",
       "        vertical-align: top;\n",
       "    }\n",
       "\n",
       "    .dataframe thead th {\n",
       "        text-align: right;\n",
       "    }\n",
       "</style>\n",
       "<table border=\"1\" class=\"dataframe\">\n",
       "  <thead>\n",
       "    <tr style=\"text-align: right;\">\n",
       "      <th></th>\n",
       "      <th>ID</th>\n",
       "      <th>LIMIT_BAL</th>\n",
       "      <th>SEX</th>\n",
       "      <th>EDUCATION</th>\n",
       "      <th>MARRIAGE</th>\n",
       "      <th>AGE</th>\n",
       "      <th>PAY_0</th>\n",
       "      <th>PAY_2</th>\n",
       "      <th>PAY_3</th>\n",
       "      <th>PAY_4</th>\n",
       "      <th>...</th>\n",
       "      <th>BILL_AMT4</th>\n",
       "      <th>BILL_AMT5</th>\n",
       "      <th>BILL_AMT6</th>\n",
       "      <th>PAY_AMT1</th>\n",
       "      <th>PAY_AMT2</th>\n",
       "      <th>PAY_AMT3</th>\n",
       "      <th>PAY_AMT4</th>\n",
       "      <th>PAY_AMT5</th>\n",
       "      <th>PAY_AMT6</th>\n",
       "      <th>default.payment.next.month</th>\n",
       "    </tr>\n",
       "  </thead>\n",
       "  <tbody>\n",
       "    <tr>\n",
       "      <th>13641</th>\n",
       "      <td>13642</td>\n",
       "      <td>50000.0</td>\n",
       "      <td>2</td>\n",
       "      <td>1</td>\n",
       "      <td>2</td>\n",
       "      <td>24</td>\n",
       "      <td>0</td>\n",
       "      <td>0</td>\n",
       "      <td>0</td>\n",
       "      <td>0</td>\n",
       "      <td>...</td>\n",
       "      <td>5031.0</td>\n",
       "      <td>5134.0</td>\n",
       "      <td>5138.0</td>\n",
       "      <td>1070.0</td>\n",
       "      <td>1079.0</td>\n",
       "      <td>325.0</td>\n",
       "      <td>332.0</td>\n",
       "      <td>238.0</td>\n",
       "      <td>1180.0</td>\n",
       "      <td>0</td>\n",
       "    </tr>\n",
       "    <tr>\n",
       "      <th>26560</th>\n",
       "      <td>26561</td>\n",
       "      <td>50000.0</td>\n",
       "      <td>2</td>\n",
       "      <td>3</td>\n",
       "      <td>2</td>\n",
       "      <td>51</td>\n",
       "      <td>2</td>\n",
       "      <td>2</td>\n",
       "      <td>2</td>\n",
       "      <td>2</td>\n",
       "      <td>...</td>\n",
       "      <td>35690.0</td>\n",
       "      <td>34817.0</td>\n",
       "      <td>36252.0</td>\n",
       "      <td>2000.0</td>\n",
       "      <td>2000.0</td>\n",
       "      <td>2000.0</td>\n",
       "      <td>0.0</td>\n",
       "      <td>2000.0</td>\n",
       "      <td>2000.0</td>\n",
       "      <td>0</td>\n",
       "    </tr>\n",
       "    <tr>\n",
       "      <th>18761</th>\n",
       "      <td>18762</td>\n",
       "      <td>240000.0</td>\n",
       "      <td>2</td>\n",
       "      <td>2</td>\n",
       "      <td>2</td>\n",
       "      <td>29</td>\n",
       "      <td>0</td>\n",
       "      <td>0</td>\n",
       "      <td>0</td>\n",
       "      <td>0</td>\n",
       "      <td>...</td>\n",
       "      <td>35625.0</td>\n",
       "      <td>33114.0</td>\n",
       "      <td>35473.0</td>\n",
       "      <td>8000.0</td>\n",
       "      <td>2002.0</td>\n",
       "      <td>1600.0</td>\n",
       "      <td>2000.0</td>\n",
       "      <td>3000.0</td>\n",
       "      <td>10000.0</td>\n",
       "      <td>0</td>\n",
       "    </tr>\n",
       "    <tr>\n",
       "      <th>6897</th>\n",
       "      <td>6898</td>\n",
       "      <td>120000.0</td>\n",
       "      <td>1</td>\n",
       "      <td>2</td>\n",
       "      <td>2</td>\n",
       "      <td>32</td>\n",
       "      <td>1</td>\n",
       "      <td>2</td>\n",
       "      <td>2</td>\n",
       "      <td>2</td>\n",
       "      <td>...</td>\n",
       "      <td>64524.0</td>\n",
       "      <td>66345.0</td>\n",
       "      <td>68104.0</td>\n",
       "      <td>3000.0</td>\n",
       "      <td>3000.0</td>\n",
       "      <td>3000.0</td>\n",
       "      <td>3000.0</td>\n",
       "      <td>3000.0</td>\n",
       "      <td>0.0</td>\n",
       "      <td>1</td>\n",
       "    </tr>\n",
       "    <tr>\n",
       "      <th>26505</th>\n",
       "      <td>26506</td>\n",
       "      <td>120000.0</td>\n",
       "      <td>2</td>\n",
       "      <td>3</td>\n",
       "      <td>2</td>\n",
       "      <td>53</td>\n",
       "      <td>0</td>\n",
       "      <td>0</td>\n",
       "      <td>0</td>\n",
       "      <td>0</td>\n",
       "      <td>...</td>\n",
       "      <td>120457.0</td>\n",
       "      <td>90843.0</td>\n",
       "      <td>91267.0</td>\n",
       "      <td>4210.0</td>\n",
       "      <td>4435.0</td>\n",
       "      <td>4592.0</td>\n",
       "      <td>3171.0</td>\n",
       "      <td>3256.0</td>\n",
       "      <td>3260.0</td>\n",
       "      <td>0</td>\n",
       "    </tr>\n",
       "  </tbody>\n",
       "</table>\n",
       "<p>5 rows × 25 columns</p>\n",
       "</div>"
      ],
      "text/plain": [
       "          ID  LIMIT_BAL  SEX  EDUCATION  MARRIAGE  AGE  PAY_0  PAY_2  PAY_3  \\\n",
       "13641  13642    50000.0    2          1         2   24      0      0      0   \n",
       "26560  26561    50000.0    2          3         2   51      2      2      2   \n",
       "18761  18762   240000.0    2          2         2   29      0      0      0   \n",
       "6897    6898   120000.0    1          2         2   32      1      2      2   \n",
       "26505  26506   120000.0    2          3         2   53      0      0      0   \n",
       "\n",
       "       PAY_4             ...              BILL_AMT4  BILL_AMT5  BILL_AMT6  \\\n",
       "13641      0             ...                 5031.0     5134.0     5138.0   \n",
       "26560      2             ...                35690.0    34817.0    36252.0   \n",
       "18761      0             ...                35625.0    33114.0    35473.0   \n",
       "6897       2             ...                64524.0    66345.0    68104.0   \n",
       "26505      0             ...               120457.0    90843.0    91267.0   \n",
       "\n",
       "       PAY_AMT1  PAY_AMT2  PAY_AMT3  PAY_AMT4  PAY_AMT5  PAY_AMT6  \\\n",
       "13641    1070.0    1079.0     325.0     332.0     238.0    1180.0   \n",
       "26560    2000.0    2000.0    2000.0       0.0    2000.0    2000.0   \n",
       "18761    8000.0    2002.0    1600.0    2000.0    3000.0   10000.0   \n",
       "6897     3000.0    3000.0    3000.0    3000.0    3000.0       0.0   \n",
       "26505    4210.0    4435.0    4592.0    3171.0    3256.0    3260.0   \n",
       "\n",
       "       default.payment.next.month  \n",
       "13641                           0  \n",
       "26560                           0  \n",
       "18761                           0  \n",
       "6897                            1  \n",
       "26505                           0  \n",
       "\n",
       "[5 rows x 25 columns]"
      ]
     },
     "execution_count": 14,
     "metadata": {},
     "output_type": "execute_result"
    }
   ],
   "source": [
    "df.sample(5)"
   ]
  },
  {
   "cell_type": "markdown",
   "metadata": {
    "colab_type": "text",
    "id": "XMBYYL4f8Yu7"
   },
   "source": [
    "## **Variables**\n",
    "**SEX: Gender**\n",
    "1 = male \n",
    "2 = female\n",
    "\n",
    "**EDUCATION:**\n",
    "\n",
    "1 = graduate school \n",
    "2 = university \n",
    "3 = high school \n",
    "4 = others \n",
    "5 = unknown \n",
    "6 = unknown\n",
    "\n",
    "\n",
    "\n",
    "\n",
    "\n",
    "\n",
    "**MARRIAGE**: Marital status\n",
    "1 = married\n",
    "2 = single\n",
    "3 = others\n",
    "\n",
    "\n",
    "\n",
    "**PAY_0,2,3,4,5,6: **Repayment status in September 2005, August 2005, July 2005, June 2005, May 2005, April 2005 (respectivey)\n",
    "\n",
    "-2= no consumption\n",
    "-1= pay duly\n",
    "1 = payment delay for one month\n",
    "2 = payment delay for two months\n",
    "... \n",
    "8 = payment delay for eight months\n",
    "9 = payment delay for nine months and above\n"
   ]
  },
  {
   "cell_type": "markdown",
   "metadata": {
    "colab_type": "text",
    "id": "K5ljewd6zTmK"
   },
   "source": [
    "**Cantidad de muestras**"
   ]
  },
  {
   "cell_type": "code",
   "execution_count": 15,
   "metadata": {
    "colab": {
     "base_uri": "https://localhost:8080/",
     "height": 34
    },
    "colab_type": "code",
    "collapsed": false,
    "executionInfo": {
     "elapsed": 1141,
     "status": "ok",
     "timestamp": 1570413301680,
     "user": {
      "displayName": "LEON DARÍO ARANGO AMAYA",
      "photoUrl": "https://lh3.googleusercontent.com/a-/AAuE7mAVlNnXKgaMV4o_n4uMw2Dsx2VLyb8Ng74F-gJ52A=s64",
      "userId": "02024137269287823222"
     },
     "user_tz": 300
    },
    "id": "VcGQnEfDzg4f",
    "outputId": "53f6bbea-1d75-45cb-90e3-871ab08d9df7"
   },
   "outputs": [
    {
     "data": {
      "text/plain": [
       "(30000, 25)"
      ]
     },
     "execution_count": 15,
     "metadata": {},
     "output_type": "execute_result"
    }
   ],
   "source": [
    "df = df.rename(columns={'default.payment.next.month': 'def_pay', \n",
    "                        'PAY_0': 'PAY_1'})\n",
    "data = df.values\n",
    "data.shape"
   ]
  },
  {
   "cell_type": "markdown",
   "metadata": {
    "colab_type": "text",
    "id": "vWb3jtW8z5xJ"
   },
   "source": [
    "Cantidad de clases"
   ]
  },
  {
   "cell_type": "code",
   "execution_count": 16,
   "metadata": {
    "colab": {
     "base_uri": "https://localhost:8080/",
     "height": 34
    },
    "colab_type": "code",
    "collapsed": false,
    "executionInfo": {
     "elapsed": 777,
     "status": "ok",
     "timestamp": 1570413301682,
     "user": {
      "displayName": "LEON DARÍO ARANGO AMAYA",
      "photoUrl": "https://lh3.googleusercontent.com/a-/AAuE7mAVlNnXKgaMV4o_n4uMw2Dsx2VLyb8Ng74F-gJ52A=s64",
      "userId": "02024137269287823222"
     },
     "user_tz": 300
    },
    "id": "E24BDuNsz721",
    "outputId": "57695c87-6db1-4b73-b29b-7d46353fd2de"
   },
   "outputs": [
    {
     "data": {
      "text/plain": [
       "2"
      ]
     },
     "execution_count": 16,
     "metadata": {},
     "output_type": "execute_result"
    }
   ],
   "source": [
    "len(np.unique(df.def_pay))"
   ]
  },
  {
   "cell_type": "markdown",
   "metadata": {
    "colab_type": "text",
    "id": "PDOtN078zfnO"
   },
   "source": [
    "Muestras por clases"
   ]
  },
  {
   "cell_type": "code",
   "execution_count": 17,
   "metadata": {
    "colab": {
     "base_uri": "https://localhost:8080/",
     "height": 50
    },
    "colab_type": "code",
    "collapsed": false,
    "executionInfo": {
     "elapsed": 1042,
     "status": "ok",
     "timestamp": 1570413302423,
     "user": {
      "displayName": "LEON DARÍO ARANGO AMAYA",
      "photoUrl": "https://lh3.googleusercontent.com/a-/AAuE7mAVlNnXKgaMV4o_n4uMw2Dsx2VLyb8Ng74F-gJ52A=s64",
      "userId": "02024137269287823222"
     },
     "user_tz": 300
    },
    "id": "xehP5Cb5zhab",
    "outputId": "0f73560a-636e-4f4d-c689-84d3949a65ea"
   },
   "outputs": [
    {
     "name": "stdout",
     "output_type": "stream",
     "text": [
      "Clase (1): 6636\n",
      "Clase (0): 23364\n"
     ]
    }
   ],
   "source": [
    "classes = np.unique(df.def_pay)\n",
    "unicos = data[:,-1]\n",
    "unos = np.where(unicos == 1)\n",
    "lenU =len(unos[0])\n",
    "cero = np.where(unicos == 0)\n",
    "lenC=len(cero[0])\n",
    "print(\"Clase (1):\",lenU)\n",
    "print(\"Clase (0):\",lenC)"
   ]
  },
  {
   "cell_type": "code",
   "execution_count": 18,
   "metadata": {
    "collapsed": false
   },
   "outputs": [],
   "source": [
    "#!pip install --upgrade matplotlib\n",
    "#!conda install ipykernel=4.9.0 -y"
   ]
  },
  {
   "cell_type": "code",
   "execution_count": 20,
   "metadata": {
    "colab": {
     "base_uri": "https://localhost:8080/",
     "height": 306
    },
    "colab_type": "code",
    "collapsed": false,
    "executionInfo": {
     "elapsed": 1403,
     "status": "ok",
     "timestamp": 1570413302900,
     "user": {
      "displayName": "LEON DARÍO ARANGO AMAYA",
      "photoUrl": "https://lh3.googleusercontent.com/a-/AAuE7mAVlNnXKgaMV4o_n4uMw2Dsx2VLyb8Ng74F-gJ52A=s64",
      "userId": "02024137269287823222"
     },
     "user_tz": 300
    },
    "id": "osVavssr_MLu",
    "outputId": "7c5d3a4a-73ea-402b-9bf8-214775052318"
   },
   "outputs": [
    {
     "data": {
      "image/png": "[encoded data removed]",
      "text/plain": [
       "<matplotlib.figure.Figure at 0x7f971046f0b8>"
      ]
     },
     "metadata": {},
     "output_type": "display_data"
    }
   ],
   "source": [
    "# The frequency of defaults\n",
    "%matplotlib inline\n",
    "\n",
    "yes = df.def_pay.sum()\n",
    "no = len(data)-yes\n",
    "\n",
    "# Percentage\n",
    "yes_perc = round(yes/len(df)*100, 1)\n",
    "no_perc = round(no/len(df)*100, 1)\n",
    "\n",
    "import sys \n",
    "plt.figure(figsize=(7,4))\n",
    "sns.set_context('notebook', font_scale=1.2)\n",
    "sns.countplot('def_pay',data=df, palette=\"Blues\")\n",
    "plt.annotate('Non-default: {}'.format(no), xy=(-0.3, 15000), xytext=(-0.3, 3000), size=12)\n",
    "plt.annotate('Default: {}'.format(yes), xy=(0.7, 15000), xytext=(0.7, 3000), size=12)\n",
    "plt.annotate(str(no_perc)+\" %\", xy=(-0.3, 15000), xytext=(-0.1, 8000), size=12)\n",
    "plt.annotate(str(yes_perc)+\" %\", xy=(0.7, 15000), xytext=(0.9, 8000), size=12)\n",
    "plt.title('COUNT OF CREDIT CARDS', size=14)\n",
    "#Removing the frame\n",
    "plt.box(False);\n"
   ]
  },
  {
   "cell_type": "markdown",
   "metadata": {
    "colab_type": "text",
    "id": "1RLV7mtMzvai"
   },
   "source": [
    "Cantidad de variables y su significado"
   ]
  },
  {
   "cell_type": "code",
   "execution_count": 21,
   "metadata": {
    "colab": {
     "base_uri": "https://localhost:8080/",
     "height": 521
    },
    "colab_type": "code",
    "collapsed": false,
    "executionInfo": {
     "elapsed": 1053,
     "status": "ok",
     "timestamp": 1570413302902,
     "user": {
      "displayName": "LEON DARÍO ARANGO AMAYA",
      "photoUrl": "https://lh3.googleusercontent.com/a-/AAuE7mAVlNnXKgaMV4o_n4uMw2Dsx2VLyb8Ng74F-gJ52A=s64",
      "userId": "02024137269287823222"
     },
     "user_tz": 300
    },
    "id": "ePHjQOY5zyFJ",
    "outputId": "ebac80a0-5015-4acb-c550-a594034bd1b1"
   },
   "outputs": [
    {
     "name": "stdout",
     "output_type": "stream",
     "text": [
      "<class 'pandas.core.frame.DataFrame'>\n",
      "RangeIndex: 30000 entries, 0 to 29999\n",
      "Data columns (total 25 columns):\n",
      "ID           30000 non-null int64\n",
      "LIMIT_BAL    30000 non-null float64\n",
      "SEX          30000 non-null int64\n",
      "EDUCATION    30000 non-null int64\n",
      "MARRIAGE     30000 non-null int64\n",
      "AGE          30000 non-null int64\n",
      "PAY_1        30000 non-null int64\n",
      "PAY_2        30000 non-null int64\n",
      "PAY_3        30000 non-null int64\n",
      "PAY_4        30000 non-null int64\n",
      "PAY_5        30000 non-null int64\n",
      "PAY_6        30000 non-null int64\n",
      "BILL_AMT1    30000 non-null float64\n",
      "BILL_AMT2    30000 non-null float64\n",
      "BILL_AMT3    30000 non-null float64\n",
      "BILL_AMT4    30000 non-null float64\n",
      "BILL_AMT5    30000 non-null float64\n",
      "BILL_AMT6    30000 non-null float64\n",
      "PAY_AMT1     30000 non-null float64\n",
      "PAY_AMT2     30000 non-null float64\n",
      "PAY_AMT3     30000 non-null float64\n",
      "PAY_AMT4     30000 non-null float64\n",
      "PAY_AMT5     30000 non-null float64\n",
      "PAY_AMT6     30000 non-null float64\n",
      "def_pay      30000 non-null int64\n",
      "dtypes: float64(13), int64(12)\n",
      "memory usage: 5.7 MB\n"
     ]
    }
   ],
   "source": [
    "df.info()"
   ]
  },
  {
   "cell_type": "markdown",
   "metadata": {
    "colab_type": "text",
    "id": "Mroh0yHP9m4F"
   },
   "source": [
    "## **Feature engineering**"
   ]
  },
  {
   "cell_type": "markdown",
   "metadata": {
    "colab_type": "text",
    "id": "7KAi7nNc9rJv"
   },
   "source": [
    "Los datos ya se han codificado y limpiado. Sin embargo, algunos datos categóricos tienen categorías repetidas. Por ejemplo, la variable \"educación\" tiene tres categorías con información similar: 4: others, 5: unknown, and 6: unknown\n",
    "\n",
    "Por lo tanto  Las categorías 4: otras, 5: desconocidas y 6: desconocidas se pueden agrupar en una sola clase '4'.\n",
    "  "
   ]
  },
  {
   "cell_type": "code",
   "execution_count": 22,
   "metadata": {
    "colab": {
     "base_uri": "https://localhost:8080/",
     "height": 34
    },
    "colab_type": "code",
    "collapsed": false,
    "executionInfo": {
     "elapsed": 809,
     "status": "ok",
     "timestamp": 1570413303189,
     "user": {
      "displayName": "LEON DARÍO ARANGO AMAYA",
      "photoUrl": "https://lh3.googleusercontent.com/a-/AAuE7mAVlNnXKgaMV4o_n4uMw2Dsx2VLyb8Ng74F-gJ52A=s64",
      "userId": "02024137269287823222"
     },
     "user_tz": 300
    },
    "id": "3Pcpcjnr9-eD",
    "outputId": "620e8058-5f00-4a52-fa21-f4fe1cdd9309"
   },
   "outputs": [
    {
     "data": {
      "text/plain": [
       "array([2, 1, 3, 5, 4, 6, 0])"
      ]
     },
     "execution_count": 22,
     "metadata": {},
     "output_type": "execute_result"
    }
   ],
   "source": [
    "df['EDUCATION'].unique()"
   ]
  },
  {
   "cell_type": "code",
   "execution_count": 23,
   "metadata": {
    "colab": {
     "base_uri": "https://localhost:8080/",
     "height": 34
    },
    "colab_type": "code",
    "collapsed": false,
    "executionInfo": {
     "elapsed": 634,
     "status": "ok",
     "timestamp": 1570413303198,
     "user": {
      "displayName": "LEON DARÍO ARANGO AMAYA",
      "photoUrl": "https://lh3.googleusercontent.com/a-/AAuE7mAVlNnXKgaMV4o_n4uMw2Dsx2VLyb8Ng74F-gJ52A=s64",
      "userId": "02024137269287823222"
     },
     "user_tz": 300
    },
    "id": "CJ-_-z_b-IA4",
    "outputId": "56b2ae5b-beb7-457e-dfde-bebb21bbce2b"
   },
   "outputs": [
    {
     "data": {
      "text/plain": [
       "array([2, 1, 3, 4])"
      ]
     },
     "execution_count": 23,
     "metadata": {},
     "output_type": "execute_result"
    }
   ],
   "source": [
    "#Reemplazamos los valores \n",
    "\n",
    "df['EDUCATION']=np.where(df['EDUCATION'] == 5, 4, df['EDUCATION'])\n",
    "df['EDUCATION']=np.where(df['EDUCATION'] == 6, 4, df['EDUCATION'])\n",
    "df['EDUCATION']=np.where(df['EDUCATION'] == 0, 4, df['EDUCATION'])\n",
    "\n",
    "df['EDUCATION'].unique()\n",
    "\n"
   ]
  },
  {
   "cell_type": "markdown",
   "metadata": {
    "colab_type": "text",
    "id": "mncpz9Wq-gtM"
   },
   "source": [
    "la columna 'matrimonio' ​​debe tener tres categorías: 1 = casado, 2 = soltero, 3 = otros, pero contiene una categoría '0' que se unirá a la categoría '3'."
   ]
  },
  {
   "cell_type": "code",
   "execution_count": 24,
   "metadata": {
    "colab": {
     "base_uri": "https://localhost:8080/",
     "height": 34
    },
    "colab_type": "code",
    "collapsed": false,
    "executionInfo": {
     "elapsed": 581,
     "status": "ok",
     "timestamp": 1570413303652,
     "user": {
      "displayName": "LEON DARÍO ARANGO AMAYA",
      "photoUrl": "https://lh3.googleusercontent.com/a-/AAuE7mAVlNnXKgaMV4o_n4uMw2Dsx2VLyb8Ng74F-gJ52A=s64",
      "userId": "02024137269287823222"
     },
     "user_tz": 300
    },
    "id": "41R2VETD-iW-",
    "outputId": "68968de1-8855-4d55-fad7-41020b45825d"
   },
   "outputs": [
    {
     "data": {
      "text/plain": [
       "array([1, 2, 3, 0])"
      ]
     },
     "execution_count": 24,
     "metadata": {},
     "output_type": "execute_result"
    }
   ],
   "source": [
    "df['MARRIAGE'].unique()\n"
   ]
  },
  {
   "cell_type": "code",
   "execution_count": 25,
   "metadata": {
    "colab": {
     "base_uri": "https://localhost:8080/",
     "height": 34
    },
    "colab_type": "code",
    "collapsed": false,
    "executionInfo": {
     "elapsed": 408,
     "status": "ok",
     "timestamp": 1570413304352,
     "user": {
      "displayName": "LEON DARÍO ARANGO AMAYA",
      "photoUrl": "https://lh3.googleusercontent.com/a-/AAuE7mAVlNnXKgaMV4o_n4uMw2Dsx2VLyb8Ng74F-gJ52A=s64",
      "userId": "02024137269287823222"
     },
     "user_tz": 300
    },
    "id": "DN-TomLJ-5YG",
    "outputId": "f4886beb-d7ce-499b-ee89-827c0d02cf66"
   },
   "outputs": [
    {
     "data": {
      "text/plain": [
       "array([1, 2, 3])"
      ]
     },
     "execution_count": 25,
     "metadata": {},
     "output_type": "execute_result"
    }
   ],
   "source": [
    "df['MARRIAGE']=np.where(df['MARRIAGE'] == 0, 3, df['MARRIAGE'])\n",
    "df['MARRIAGE'].unique()"
   ]
  },
  {
   "cell_type": "markdown",
   "metadata": {
    "colab_type": "text",
    "id": "rxBrwqvH_4tV"
   },
   "source": [
    "# **Escala de las variables, por lo tanto debemos normalizar**\n"
   ]
  },
  {
   "cell_type": "code",
   "execution_count": 26,
   "metadata": {
    "colab": {
     "base_uri": "https://localhost:8080/",
     "height": 281
    },
    "colab_type": "code",
    "collapsed": false,
    "executionInfo": {
     "elapsed": 2273,
     "status": "ok",
     "timestamp": 1570413306765,
     "user": {
      "displayName": "LEON DARÍO ARANGO AMAYA",
      "photoUrl": "https://lh3.googleusercontent.com/a-/AAuE7mAVlNnXKgaMV4o_n4uMw2Dsx2VLyb8Ng74F-gJ52A=s64",
      "userId": "02024137269287823222"
     },
     "user_tz": 300
    },
    "id": "nk58kn3yAGFu",
    "outputId": "48c156c6-4f84-4a10-ee3d-8f0f3eb42897"
   },
   "outputs": [
    {
     "data": {
      "image/png": "[encoded data removed]",
      "text/plain": [
       "<matplotlib.figure.Figure at 0x7f96b2b58550>"
      ]
     },
     "metadata": {},
     "output_type": "display_data"
    }
   ],
   "source": [
    "\n",
    "## data are distributed in a wide range (below), need to be normalizded.\n",
    "df.drop('ID', axis = 1, inplace =True) # drop column \"ID\"\n",
    "features = df.drop('def_pay', axis = 1, inplace = False)\n",
    "plt.figure(figsize=(15,3))\n",
    "ax= df.drop('def_pay', axis=1).boxplot(df.columns.name, rot=90)\n",
    "outliers = dict(markerfacecolor='b', marker='p')\n",
    "ax= features.boxplot(features.columns.name, rot=90, flierprops=outliers)\n",
    "plt.xticks(size=12)\n",
    "ax.set_ylim([-5000,100000])\n",
    "plt.box(False);"
   ]
  },
  {
   "cell_type": "markdown",
   "metadata": {
    "colab_type": "text",
    "id": "4bOi50qGVm1u"
   },
   "source": [
    "**Creamos la variable a predecir**"
   ]
  },
  {
   "cell_type": "code",
   "execution_count": 27,
   "metadata": {
    "colab": {},
    "colab_type": "code",
    "collapsed": true,
    "id": "lb8Uk2wRV78w"
   },
   "outputs": [],
   "source": [
    "Y = df['def_pay'].copy()\n"
   ]
  },
  {
   "cell_type": "markdown",
   "metadata": {
    "colab_type": "text",
    "id": "IvSt6kvFUdNI"
   },
   "source": [
    "# **Normalización**"
   ]
  },
  {
   "cell_type": "markdown",
   "metadata": {
    "colab_type": "text",
    "id": "GTdh1qIpUhfs"
   },
   "source": [
    "## **StandardScaler**"
   ]
  },
  {
   "cell_type": "markdown",
   "metadata": {
    "colab_type": "text",
    "id": "zbRFSk5rhbNp"
   },
   "source": [
    "The standard score of a sample x is calculated as:\n",
    "\n",
    "z = (x - u) / s\n",
    "\n",
    "La idea detrás de StandardScaler es que transformará sus datos de modo que su distribución tenga un valor medio 0 y una desviación estándar de 1.\n",
    "\n",
    "\n"
   ]
  },
  {
   "cell_type": "code",
   "execution_count": 29,
   "metadata": {
    "colab": {
     "base_uri": "https://localhost:8080/",
     "height": 649
    },
    "colab_type": "code",
    "collapsed": false,
    "executionInfo": {
     "elapsed": 6566,
     "status": "ok",
     "timestamp": 1570413314776,
     "user": {
      "displayName": "LEON DARÍO ARANGO AMAYA",
      "photoUrl": "https://lh3.googleusercontent.com/a-/AAuE7mAVlNnXKgaMV4o_n4uMw2Dsx2VLyb8Ng74F-gJ52A=s64",
      "userId": "02024137269287823222"
     },
     "user_tz": 300
    },
    "id": "DfPezGZqEf9B",
    "outputId": "c5f45b1c-0b69-44a1-f967-33936b82f4ef"
   },
   "outputs": [
    {
     "data": {
      "image/png": "[encoded data removed]",
      "text/plain": [
       "<matplotlib.figure.Figure at 0x7f96b252e0b8>"
      ]
     },
     "metadata": {},
     "output_type": "display_data"
    }
   ],
   "source": [
    "  # standardization\n",
    "\n",
    "stdX = (features - features.mean()) / (features.std())    \n",
    "X = stdX\n",
    "data_st = pd.concat([Y,stdX.iloc[:,:]],axis=1)\n",
    "data_st = pd.melt(data_st,id_vars=\"def_pay\",\n",
    "                    var_name=\"features\",\n",
    "                    value_name='value')\n",
    "plt.figure(figsize=(20,10))\n",
    "sns.set_context('notebook', font_scale=1)\n",
    "sns.violinplot(y=\"value\", x=\"features\", hue=\"def_pay\", data=data_st,split=True, \n",
    "               inner=\"quart\", palette='Blues')\n",
    "plt.legend(loc=4, title= 'def_pay')\n",
    "plt.ylim([-3,3])\n",
    "plt.title('STANDARDIZED FEATURES - VIOLIN PLOT', size=14)\n",
    "plt.box(False)\n",
    "plt.savefig('ImageName', format='png', dpi=200, transparent=False);"
   ]
  },
  {
   "cell_type": "markdown",
   "metadata": {
    "colab_type": "text",
    "id": "hH4NyHaTGYiS"
   },
   "source": [
    "# **Variables Normalizadas**"
   ]
  },
  {
   "cell_type": "code",
   "execution_count": 30,
   "metadata": {
    "colab": {
     "base_uri": "https://localhost:8080/",
     "height": 215
    },
    "colab_type": "code",
    "collapsed": false,
    "executionInfo": {
     "elapsed": 5407,
     "status": "ok",
     "timestamp": 1570413314785,
     "user": {
      "displayName": "LEON DARÍO ARANGO AMAYA",
      "photoUrl": "https://lh3.googleusercontent.com/a-/AAuE7mAVlNnXKgaMV4o_n4uMw2Dsx2VLyb8Ng74F-gJ52A=s64",
      "userId": "02024137269287823222"
     },
     "user_tz": 300
    },
    "id": "yKZPLchOF7wi",
    "outputId": "3c8b87cb-25e2-4444-9315-ffe04c25bb54"
   },
   "outputs": [
    {
     "data": {
      "text/html": [
       "<div>\n",
       "<style scoped>\n",
       "    .dataframe tbody tr th:only-of-type {\n",
       "        vertical-align: middle;\n",
       "    }\n",
       "\n",
       "    .dataframe tbody tr th {\n",
       "        vertical-align: top;\n",
       "    }\n",
       "\n",
       "    .dataframe thead th {\n",
       "        text-align: right;\n",
       "    }\n",
       "</style>\n",
       "<table border=\"1\" class=\"dataframe\">\n",
       "  <thead>\n",
       "    <tr style=\"text-align: right;\">\n",
       "      <th></th>\n",
       "      <th>LIMIT_BAL</th>\n",
       "      <th>SEX</th>\n",
       "      <th>EDUCATION</th>\n",
       "      <th>MARRIAGE</th>\n",
       "      <th>AGE</th>\n",
       "      <th>PAY_1</th>\n",
       "      <th>PAY_2</th>\n",
       "      <th>PAY_3</th>\n",
       "      <th>PAY_4</th>\n",
       "      <th>PAY_5</th>\n",
       "      <th>...</th>\n",
       "      <th>BILL_AMT3</th>\n",
       "      <th>BILL_AMT4</th>\n",
       "      <th>BILL_AMT5</th>\n",
       "      <th>BILL_AMT6</th>\n",
       "      <th>PAY_AMT1</th>\n",
       "      <th>PAY_AMT2</th>\n",
       "      <th>PAY_AMT3</th>\n",
       "      <th>PAY_AMT4</th>\n",
       "      <th>PAY_AMT5</th>\n",
       "      <th>PAY_AMT6</th>\n",
       "    </tr>\n",
       "  </thead>\n",
       "  <tbody>\n",
       "    <tr>\n",
       "      <th>7859</th>\n",
       "      <td>-1.136701</td>\n",
       "      <td>0.810147</td>\n",
       "      <td>0.211866</td>\n",
       "      <td>0.849116</td>\n",
       "      <td>-1.571453</td>\n",
       "      <td>0.014860</td>\n",
       "      <td>0.111734</td>\n",
       "      <td>1.809891</td>\n",
       "      <td>0.188743</td>\n",
       "      <td>0.234913</td>\n",
       "      <td>...</td>\n",
       "      <td>-0.455853</td>\n",
       "      <td>-0.471966</td>\n",
       "      <td>-0.342309</td>\n",
       "      <td>-0.652713</td>\n",
       "      <td>-0.221187</td>\n",
       "      <td>-0.213584</td>\n",
       "      <td>-0.296796</td>\n",
       "      <td>0.113233</td>\n",
       "      <td>-0.314131</td>\n",
       "      <td>-0.293377</td>\n",
       "    </tr>\n",
       "    <tr>\n",
       "      <th>3511</th>\n",
       "      <td>2.100351</td>\n",
       "      <td>-1.234302</td>\n",
       "      <td>-1.131327</td>\n",
       "      <td>0.849116</td>\n",
       "      <td>-0.703576</td>\n",
       "      <td>-1.764813</td>\n",
       "      <td>-1.558850</td>\n",
       "      <td>-0.696652</td>\n",
       "      <td>0.188743</td>\n",
       "      <td>0.234913</td>\n",
       "      <td>...</td>\n",
       "      <td>3.344555</td>\n",
       "      <td>3.599965</td>\n",
       "      <td>0.975483</td>\n",
       "      <td>1.091650</td>\n",
       "      <td>-0.266528</td>\n",
       "      <td>11.854016</td>\n",
       "      <td>0.314212</td>\n",
       "      <td>0.011102</td>\n",
       "      <td>0.018367</td>\n",
       "      <td>-0.151906</td>\n",
       "    </tr>\n",
       "    <tr>\n",
       "      <th>11343</th>\n",
       "      <td>-0.905483</td>\n",
       "      <td>-1.234302</td>\n",
       "      <td>0.211866</td>\n",
       "      <td>0.849116</td>\n",
       "      <td>-0.920545</td>\n",
       "      <td>1.794534</td>\n",
       "      <td>0.111734</td>\n",
       "      <td>0.138862</td>\n",
       "      <td>0.188743</td>\n",
       "      <td>0.234913</td>\n",
       "      <td>...</td>\n",
       "      <td>-0.235823</td>\n",
       "      <td>-0.191192</td>\n",
       "      <td>-0.161297</td>\n",
       "      <td>-0.170866</td>\n",
       "      <td>-0.245337</td>\n",
       "      <td>-0.182682</td>\n",
       "      <td>-0.239092</td>\n",
       "      <td>-0.148478</td>\n",
       "      <td>-0.314131</td>\n",
       "      <td>-0.133174</td>\n",
       "    </tr>\n",
       "    <tr>\n",
       "      <th>24304</th>\n",
       "      <td>-0.365974</td>\n",
       "      <td>-1.234302</td>\n",
       "      <td>1.555060</td>\n",
       "      <td>-1.068779</td>\n",
       "      <td>1.140661</td>\n",
       "      <td>0.014860</td>\n",
       "      <td>0.111734</td>\n",
       "      <td>0.138862</td>\n",
       "      <td>0.188743</td>\n",
       "      <td>0.234913</td>\n",
       "      <td>...</td>\n",
       "      <td>0.710675</td>\n",
       "      <td>0.735348</td>\n",
       "      <td>0.808107</td>\n",
       "      <td>0.904795</td>\n",
       "      <td>-0.070251</td>\n",
       "      <td>-0.066020</td>\n",
       "      <td>-0.067342</td>\n",
       "      <td>-0.110179</td>\n",
       "      <td>0.117854</td>\n",
       "      <td>-0.096499</td>\n",
       "    </tr>\n",
       "    <tr>\n",
       "      <th>16457</th>\n",
       "      <td>-0.288902</td>\n",
       "      <td>0.810147</td>\n",
       "      <td>-1.131327</td>\n",
       "      <td>0.849116</td>\n",
       "      <td>1.683083</td>\n",
       "      <td>0.014860</td>\n",
       "      <td>0.111734</td>\n",
       "      <td>0.138862</td>\n",
       "      <td>0.188743</td>\n",
       "      <td>0.234913</td>\n",
       "      <td>...</td>\n",
       "      <td>0.412114</td>\n",
       "      <td>0.541668</td>\n",
       "      <td>0.682295</td>\n",
       "      <td>0.798941</td>\n",
       "      <td>0.020311</td>\n",
       "      <td>-0.039893</td>\n",
       "      <td>0.043978</td>\n",
       "      <td>0.011102</td>\n",
       "      <td>0.078583</td>\n",
       "      <td>-0.068373</td>\n",
       "    </tr>\n",
       "  </tbody>\n",
       "</table>\n",
       "<p>5 rows × 23 columns</p>\n",
       "</div>"
      ],
      "text/plain": [
       "       LIMIT_BAL       SEX  EDUCATION  MARRIAGE       AGE     PAY_1     PAY_2  \\\n",
       "7859   -1.136701  0.810147   0.211866  0.849116 -1.571453  0.014860  0.111734   \n",
       "3511    2.100351 -1.234302  -1.131327  0.849116 -0.703576 -1.764813 -1.558850   \n",
       "11343  -0.905483 -1.234302   0.211866  0.849116 -0.920545  1.794534  0.111734   \n",
       "24304  -0.365974 -1.234302   1.555060 -1.068779  1.140661  0.014860  0.111734   \n",
       "16457  -0.288902  0.810147  -1.131327  0.849116  1.683083  0.014860  0.111734   \n",
       "\n",
       "          PAY_3     PAY_4     PAY_5    ...     BILL_AMT3  BILL_AMT4  \\\n",
       "7859   1.809891  0.188743  0.234913    ...     -0.455853  -0.471966   \n",
       "3511  -0.696652  0.188743  0.234913    ...      3.344555   3.599965   \n",
       "11343  0.138862  0.188743  0.234913    ...     -0.235823  -0.191192   \n",
       "24304  0.138862  0.188743  0.234913    ...      0.710675   0.735348   \n",
       "16457  0.138862  0.188743  0.234913    ...      0.412114   0.541668   \n",
       "\n",
       "       BILL_AMT5  BILL_AMT6  PAY_AMT1   PAY_AMT2  PAY_AMT3  PAY_AMT4  \\\n",
       "7859   -0.342309  -0.652713 -0.221187  -0.213584 -0.296796  0.113233   \n",
       "3511    0.975483   1.091650 -0.266528  11.854016  0.314212  0.011102   \n",
       "11343  -0.161297  -0.170866 -0.245337  -0.182682 -0.239092 -0.148478   \n",
       "24304   0.808107   0.904795 -0.070251  -0.066020 -0.067342 -0.110179   \n",
       "16457   0.682295   0.798941  0.020311  -0.039893  0.043978  0.011102   \n",
       "\n",
       "       PAY_AMT5  PAY_AMT6  \n",
       "7859  -0.314131 -0.293377  \n",
       "3511   0.018367 -0.151906  \n",
       "11343 -0.314131 -0.133174  \n",
       "24304  0.117854 -0.096499  \n",
       "16457  0.078583 -0.068373  \n",
       "\n",
       "[5 rows x 23 columns]"
      ]
     },
     "execution_count": 30,
     "metadata": {},
     "output_type": "execute_result"
    }
   ],
   "source": [
    "stdX.sample(5)"
   ]
  },
  {
   "cell_type": "code",
   "execution_count": 31,
   "metadata": {
    "colab": {
     "base_uri": "https://localhost:8080/",
     "height": 34
    },
    "colab_type": "code",
    "collapsed": false,
    "executionInfo": {
     "elapsed": 5212,
     "status": "ok",
     "timestamp": 1570413314788,
     "user": {
      "displayName": "LEON DARÍO ARANGO AMAYA",
      "photoUrl": "https://lh3.googleusercontent.com/a-/AAuE7mAVlNnXKgaMV4o_n4uMw2Dsx2VLyb8Ng74F-gJ52A=s64",
      "userId": "02024137269287823222"
     },
     "user_tz": 300
    },
    "id": "lxuVGSf3G9vz",
    "outputId": "3f9b34e4-6f83-465c-d7c7-d09f9e1e06bb"
   },
   "outputs": [
    {
     "data": {
      "text/plain": [
       "(30000, 23)"
      ]
     },
     "execution_count": 31,
     "metadata": {},
     "output_type": "execute_result"
    }
   ],
   "source": [
    "X.shape"
   ]
  },
  {
   "cell_type": "markdown",
   "metadata": {
    "colab_type": "text",
    "id": "LLfGIy_-SyD5"
   },
   "source": [
    "#Guardamos las variables normalizadas"
   ]
  },
  {
   "cell_type": "code",
   "execution_count": 32,
   "metadata": {
    "colab": {},
    "colab_type": "code",
    "collapsed": true,
    "id": "DMVFuGG_S3pF"
   },
   "outputs": [],
   "source": [
    "#X.to_csv(PATH+\"featuresSTD.csv\",index=False)"
   ]
  },
  {
   "cell_type": "code",
   "execution_count": 33,
   "metadata": {
    "colab": {},
    "colab_type": "code",
    "collapsed": true,
    "id": "DtBzQZv3pe9o"
   },
   "outputs": [],
   "source": [
    "PathFeaturesSTD = PATH+'featuresSTD.csv'\n",
    "X = pd.read_csv(PathFeaturesSTD)"
   ]
  },
  {
   "cell_type": "code",
   "execution_count": 34,
   "metadata": {
    "colab": {
     "base_uri": "https://localhost:8080/",
     "height": 34
    },
    "colab_type": "code",
    "collapsed": false,
    "executionInfo": {
     "elapsed": 4363,
     "status": "ok",
     "timestamp": 1570413314793,
     "user": {
      "displayName": "LEON DARÍO ARANGO AMAYA",
      "photoUrl": "https://lh3.googleusercontent.com/a-/AAuE7mAVlNnXKgaMV4o_n4uMw2Dsx2VLyb8Ng74F-gJ52A=s64",
      "userId": "02024137269287823222"
     },
     "user_tz": 300
    },
    "id": "aruyQXXNp8Ak",
    "outputId": "17b758a8-44ff-4a0e-933e-90a5c86d93ce"
   },
   "outputs": [
    {
     "data": {
      "text/plain": [
       "(30000, 23)"
      ]
     },
     "execution_count": 34,
     "metadata": {},
     "output_type": "execute_result"
    }
   ],
   "source": [
    "X.shape"
   ]
  },
  {
   "cell_type": "code",
   "execution_count": 35,
   "metadata": {
    "colab": {
     "base_uri": "https://localhost:8080/",
     "height": 215
    },
    "colab_type": "code",
    "collapsed": false,
    "executionInfo": {
     "elapsed": 4053,
     "status": "ok",
     "timestamp": 1570413314796,
     "user": {
      "displayName": "LEON DARÍO ARANGO AMAYA",
      "photoUrl": "https://lh3.googleusercontent.com/a-/AAuE7mAVlNnXKgaMV4o_n4uMw2Dsx2VLyb8Ng74F-gJ52A=s64",
      "userId": "02024137269287823222"
     },
     "user_tz": 300
    },
    "id": "9qcOMTEJud7_",
    "outputId": "229ecf5d-218e-4708-9a1f-8f085d0812ec"
   },
   "outputs": [
    {
     "data": {
      "text/html": [
       "<div>\n",
       "<style scoped>\n",
       "    .dataframe tbody tr th:only-of-type {\n",
       "        vertical-align: middle;\n",
       "    }\n",
       "\n",
       "    .dataframe tbody tr th {\n",
       "        vertical-align: top;\n",
       "    }\n",
       "\n",
       "    .dataframe thead th {\n",
       "        text-align: right;\n",
       "    }\n",
       "</style>\n",
       "<table border=\"1\" class=\"dataframe\">\n",
       "  <thead>\n",
       "    <tr style=\"text-align: right;\">\n",
       "      <th></th>\n",
       "      <th>LIMIT_BAL</th>\n",
       "      <th>SEX</th>\n",
       "      <th>EDUCATION</th>\n",
       "      <th>MARRIAGE</th>\n",
       "      <th>AGE</th>\n",
       "      <th>PAY_1</th>\n",
       "      <th>PAY_2</th>\n",
       "      <th>PAY_3</th>\n",
       "      <th>PAY_4</th>\n",
       "      <th>PAY_5</th>\n",
       "      <th>...</th>\n",
       "      <th>BILL_AMT3</th>\n",
       "      <th>BILL_AMT4</th>\n",
       "      <th>BILL_AMT5</th>\n",
       "      <th>BILL_AMT6</th>\n",
       "      <th>PAY_AMT1</th>\n",
       "      <th>PAY_AMT2</th>\n",
       "      <th>PAY_AMT3</th>\n",
       "      <th>PAY_AMT4</th>\n",
       "      <th>PAY_AMT5</th>\n",
       "      <th>PAY_AMT6</th>\n",
       "    </tr>\n",
       "  </thead>\n",
       "  <tbody>\n",
       "    <tr>\n",
       "      <th>0</th>\n",
       "      <td>-1.136701</td>\n",
       "      <td>0.810147</td>\n",
       "      <td>0.211866</td>\n",
       "      <td>-1.068779</td>\n",
       "      <td>-1.245999</td>\n",
       "      <td>1.794534</td>\n",
       "      <td>1.782318</td>\n",
       "      <td>-0.696652</td>\n",
       "      <td>-0.666588</td>\n",
       "      <td>-1.530021</td>\n",
       "      <td>...</td>\n",
       "      <td>-0.667982</td>\n",
       "      <td>-0.672486</td>\n",
       "      <td>-0.663047</td>\n",
       "      <td>-0.652713</td>\n",
       "      <td>-0.341936</td>\n",
       "      <td>-0.227082</td>\n",
       "      <td>-0.296796</td>\n",
       "      <td>-0.308057</td>\n",
       "      <td>-0.314131</td>\n",
       "      <td>-0.293377</td>\n",
       "    </tr>\n",
       "    <tr>\n",
       "      <th>1</th>\n",
       "      <td>-0.365974</td>\n",
       "      <td>0.810147</td>\n",
       "      <td>0.211866</td>\n",
       "      <td>0.849116</td>\n",
       "      <td>-1.029030</td>\n",
       "      <td>-0.874977</td>\n",
       "      <td>1.782318</td>\n",
       "      <td>0.138862</td>\n",
       "      <td>0.188743</td>\n",
       "      <td>0.234913</td>\n",
       "      <td>...</td>\n",
       "      <td>-0.639244</td>\n",
       "      <td>-0.621626</td>\n",
       "      <td>-0.606219</td>\n",
       "      <td>-0.597956</td>\n",
       "      <td>-0.341936</td>\n",
       "      <td>-0.213584</td>\n",
       "      <td>-0.240001</td>\n",
       "      <td>-0.244226</td>\n",
       "      <td>-0.314131</td>\n",
       "      <td>-0.180875</td>\n",
       "    </tr>\n",
       "    <tr>\n",
       "      <th>2</th>\n",
       "      <td>-0.597192</td>\n",
       "      <td>0.810147</td>\n",
       "      <td>0.211866</td>\n",
       "      <td>0.849116</td>\n",
       "      <td>-0.161154</td>\n",
       "      <td>0.014860</td>\n",
       "      <td>0.111734</td>\n",
       "      <td>0.138862</td>\n",
       "      <td>0.188743</td>\n",
       "      <td>0.234913</td>\n",
       "      <td>...</td>\n",
       "      <td>-0.482400</td>\n",
       "      <td>-0.449723</td>\n",
       "      <td>-0.417181</td>\n",
       "      <td>-0.391623</td>\n",
       "      <td>-0.250287</td>\n",
       "      <td>-0.191884</td>\n",
       "      <td>-0.240001</td>\n",
       "      <td>-0.244226</td>\n",
       "      <td>-0.248679</td>\n",
       "      <td>-0.012122</td>\n",
       "    </tr>\n",
       "    <tr>\n",
       "      <th>3</th>\n",
       "      <td>-0.905483</td>\n",
       "      <td>0.810147</td>\n",
       "      <td>0.211866</td>\n",
       "      <td>-1.068779</td>\n",
       "      <td>0.164300</td>\n",
       "      <td>0.014860</td>\n",
       "      <td>0.111734</td>\n",
       "      <td>0.138862</td>\n",
       "      <td>0.188743</td>\n",
       "      <td>0.234913</td>\n",
       "      <td>...</td>\n",
       "      <td>0.032846</td>\n",
       "      <td>-0.232369</td>\n",
       "      <td>-0.186726</td>\n",
       "      <td>-0.156576</td>\n",
       "      <td>-0.221187</td>\n",
       "      <td>-0.169358</td>\n",
       "      <td>-0.228641</td>\n",
       "      <td>-0.237842</td>\n",
       "      <td>-0.244162</td>\n",
       "      <td>-0.237126</td>\n",
       "    </tr>\n",
       "    <tr>\n",
       "      <th>4</th>\n",
       "      <td>-0.905483</td>\n",
       "      <td>-1.234302</td>\n",
       "      <td>0.211866</td>\n",
       "      <td>-1.068779</td>\n",
       "      <td>2.333990</td>\n",
       "      <td>-0.874977</td>\n",
       "      <td>0.111734</td>\n",
       "      <td>-0.696652</td>\n",
       "      <td>0.188743</td>\n",
       "      <td>0.234913</td>\n",
       "      <td>...</td>\n",
       "      <td>-0.161186</td>\n",
       "      <td>-0.346991</td>\n",
       "      <td>-0.348131</td>\n",
       "      <td>-0.331476</td>\n",
       "      <td>-0.221187</td>\n",
       "      <td>1.335012</td>\n",
       "      <td>0.271161</td>\n",
       "      <td>0.266429</td>\n",
       "      <td>-0.269034</td>\n",
       "      <td>-0.255183</td>\n",
       "    </tr>\n",
       "  </tbody>\n",
       "</table>\n",
       "<p>5 rows × 23 columns</p>\n",
       "</div>"
      ],
      "text/plain": [
       "   LIMIT_BAL       SEX  EDUCATION  MARRIAGE       AGE     PAY_1     PAY_2  \\\n",
       "0  -1.136701  0.810147   0.211866 -1.068779 -1.245999  1.794534  1.782318   \n",
       "1  -0.365974  0.810147   0.211866  0.849116 -1.029030 -0.874977  1.782318   \n",
       "2  -0.597192  0.810147   0.211866  0.849116 -0.161154  0.014860  0.111734   \n",
       "3  -0.905483  0.810147   0.211866 -1.068779  0.164300  0.014860  0.111734   \n",
       "4  -0.905483 -1.234302   0.211866 -1.068779  2.333990 -0.874977  0.111734   \n",
       "\n",
       "      PAY_3     PAY_4     PAY_5    ...     BILL_AMT3  BILL_AMT4  BILL_AMT5  \\\n",
       "0 -0.696652 -0.666588 -1.530021    ...     -0.667982  -0.672486  -0.663047   \n",
       "1  0.138862  0.188743  0.234913    ...     -0.639244  -0.621626  -0.606219   \n",
       "2  0.138862  0.188743  0.234913    ...     -0.482400  -0.449723  -0.417181   \n",
       "3  0.138862  0.188743  0.234913    ...      0.032846  -0.232369  -0.186726   \n",
       "4 -0.696652  0.188743  0.234913    ...     -0.161186  -0.346991  -0.348131   \n",
       "\n",
       "   BILL_AMT6  PAY_AMT1  PAY_AMT2  PAY_AMT3  PAY_AMT4  PAY_AMT5  PAY_AMT6  \n",
       "0  -0.652713 -0.341936 -0.227082 -0.296796 -0.308057 -0.314131 -0.293377  \n",
       "1  -0.597956 -0.341936 -0.213584 -0.240001 -0.244226 -0.314131 -0.180875  \n",
       "2  -0.391623 -0.250287 -0.191884 -0.240001 -0.244226 -0.248679 -0.012122  \n",
       "3  -0.156576 -0.221187 -0.169358 -0.228641 -0.237842 -0.244162 -0.237126  \n",
       "4  -0.331476 -0.221187  1.335012  0.271161  0.266429 -0.269034 -0.255183  \n",
       "\n",
       "[5 rows x 23 columns]"
      ]
     },
     "execution_count": 35,
     "metadata": {},
     "output_type": "execute_result"
    }
   ],
   "source": [
    "X.head()"
   ]
  },
  {
   "cell_type": "markdown",
   "metadata": {
    "colab_type": "text",
    "id": "WSpHdL0TLzPZ"
   },
   "source": [
    "# **Correlación entre variables**\n",
    "\n",
    "\n",
    "\n"
   ]
  },
  {
   "cell_type": "code",
   "execution_count": 36,
   "metadata": {
    "colab": {
     "base_uri": "https://localhost:8080/",
     "height": 483
    },
    "colab_type": "code",
    "collapsed": false,
    "executionInfo": {
     "elapsed": 4804,
     "status": "ok",
     "timestamp": 1570413315911,
     "user": {
      "displayName": "LEON DARÍO ARANGO AMAYA",
      "photoUrl": "https://lh3.googleusercontent.com/a-/AAuE7mAVlNnXKgaMV4o_n4uMw2Dsx2VLyb8Ng74F-gJ52A=s64",
      "userId": "02024137269287823222"
     },
     "user_tz": 300
    },
    "id": "Bgrt7I4ILyom",
    "outputId": "430f293b-4e6f-4cdd-8f0b-45f7cf485a58"
   },
   "outputs": [
    {
     "data": {
      "image/png": "[encoded data removed]",
      "text/plain": [
       "<matplotlib.figure.Figure at 0x7f969d1ad240>"
      ]
     },
     "metadata": {},
     "output_type": "display_data"
    }
   ],
   "source": [
    "#  looking at correlations matrix, defined via Pearson function  \n",
    "corr = df.corr() # .corr is used to find corelation\n",
    "f,ax = plt.subplots(figsize=(8, 7))\n",
    "sns.heatmap(corr, cbar = True,  square = True, annot = False, fmt= '.1f', \n",
    "            xticklabels= True, yticklabels= True\n",
    "            ,cmap=\"coolwarm\", linewidths=.5, ax=ax)\n",
    "plt.title('CORRELATION MATRIX - HEATMAP', size=18);"
   ]
  },
  {
   "cell_type": "markdown",
   "metadata": {
    "colab_type": "text",
    "id": "A3efCELvMiL8"
   },
   "source": [
    "La única característica con una notable correlación positiva con la variable  \"Default\" es el estado de pago durante el último mes (septiembre). \n",
    "\n",
    "La correlación negativa más alta con el incumplimiento se produce con Limit_Balance, lo que indica que los clientes con un saldo límite más bajo tienen más probabilidades de incumplimiento. También se puede observar que algunas variables están altamente correlacionadas entre sí, ese es el caso del monto del estado de cuenta y el estado de reembolso en diferentes meses.\n",
    "\n",
    "\n",
    "El heatmat muestra que las características están correlacionadas entre sí (colinealidad), como PAY_0,2,3,4,5,6 y BILL_AMT1,2,3,4,5,6. En esos casos, la correlación es positiva."
   ]
  },
  {
   "cell_type": "markdown",
   "metadata": {
    "colab_type": "text",
    "id": "ZweIc5OYz0Fw"
   },
   "source": [
    "# **Tecnicas de Balanceo Usada**"
   ]
  },
  {
   "cell_type": "markdown",
   "metadata": {
    "colab_type": "text",
    "id": "1NBaSI1F2nRN"
   },
   "source": [
    "Si la base de datos esta desbalanceada,deben considerar el uso de tecnicas de submuestreo y sobremuestreo inteligente, ademas de usar validacíón ́estratificaida."
   ]
  },
  {
   "cell_type": "markdown",
   "metadata": {
    "colab_type": "text",
    "id": "w5gPXvCHcykh"
   },
   "source": [
    "## **Stratified KFold**"
   ]
  },
  {
   "cell_type": "code",
   "execution_count": 37,
   "metadata": {
    "colab": {
     "base_uri": "https://localhost:8080/",
     "height": 185
    },
    "colab_type": "code",
    "collapsed": false,
    "executionInfo": {
     "elapsed": 347,
     "status": "ok",
     "timestamp": 1570264834310,
     "user": {
      "displayName": "JOSE ALBERTO ARANGO SÁNCHEZ",
      "photoUrl": "https://lh3.googleusercontent.com/a-/AAuE7mAlmJPVrjjJ4aUXppU8o-4tXg36OBTyqwn-TK-0HOk=s64",
      "userId": "16388542354054473882"
     },
     "user_tz": 300
    },
    "id": "5VhNAzf0bwPx",
    "outputId": "fe3941e8-0dac-4936-e729-08bf428c8f38"
   },
   "outputs": [
    {
     "name": "stdout",
     "output_type": "stream",
     "text": [
      "TRAIN: [ 2993  2995  2996 ... 29997 29998 29999] TEST: [   0    1    2 ... 3004 3005 3006]\n",
      "TRAIN: [    0     1     2 ... 29997 29998 29999] TEST: [2993 2995 2996 ... 6044 6045 6047]\n",
      "TRAIN: [    0     1     2 ... 29997 29998 29999] TEST: [5985 5988 5989 ... 9034 9035 9036]\n",
      "TRAIN: [    0     1     2 ... 29997 29998 29999] TEST: [ 8883  8886  8888 ... 12051 12052 12055]\n",
      "TRAIN: [    0     1     2 ... 29997 29998 29999] TEST: [11794 11796 11802 ... 15072 15073 15074]\n",
      "TRAIN: [    0     1     2 ... 29997 29998 29999] TEST: [14766 14770 14778 ... 18223 18224 18226]\n",
      "TRAIN: [    0     1     2 ... 29997 29998 29999] TEST: [17316 17319 17323 ... 21199 21200 21201]\n",
      "TRAIN: [    0     1     2 ... 29997 29998 29999] TEST: [20429 20437 20439 ... 24073 24074 24075]\n",
      "TRAIN: [    0     1     2 ... 29997 29998 29999] TEST: [23691 23696 23704 ... 26998 26999 27000]\n",
      "TRAIN: [    0     1     2 ... 26998 26999 27000] TEST: [27001 27002 27003 ... 29997 29998 29999]\n"
     ]
    }
   ],
   "source": [
    "from sklearn.model_selection import StratifiedKFold\n",
    "\n",
    "#Train, Validation, Test\n",
    "FOLDS = 10\n",
    "\n",
    "skf = StratifiedKFold(n_splits=FOLDS)\n",
    "for train_index, test_index in skf.split(X, Y):\n",
    "    print(\"TRAIN:\", train_index, \"TEST:\", test_index)\n",
    "  \n",
    "\n"
   ]
  },
  {
   "cell_type": "markdown",
   "metadata": {
    "colab_type": "text",
    "id": "39k-3m3_f3BK"
   },
   "source": [
    "## **Validación Booststrapping**"
   ]
  },
  {
   "cell_type": "code",
   "execution_count": 38,
   "metadata": {
    "colab": {
     "base_uri": "https://localhost:8080/",
     "height": 229
    },
    "colab_type": "code",
    "collapsed": false,
    "executionInfo": {
     "elapsed": 424,
     "status": "error",
     "timestamp": 1570257181785,
     "user": {
      "displayName": "JOSE ALBERTO ARANGO SÁNCHEZ",
      "photoUrl": "https://lh3.googleusercontent.com/a-/AAuE7mAlmJPVrjjJ4aUXppU8o-4tXg36OBTyqwn-TK-0HOk=s64",
      "userId": "16388542354054473882"
     },
     "user_tz": 300
    },
    "id": "khqUNpMrgGgX",
    "outputId": "9992c150-d678-4178-ee08-1d8384ac95e0"
   },
   "outputs": [
    {
     "name": "stdout",
     "output_type": "stream",
     "text": [
      "X_Train (24000, 23)\n",
      "y_train (24000,)\n"
     ]
    }
   ],
   "source": [
    "from sklearn.model_selection import train_test_split\n",
    "VALID_SIZE = 0.20\n",
    "X_train, X_test, y_train, y_test = train_test_split(X,Y, test_size=VALID_SIZE, shuffle=True )\n",
    "print('X_Train', X_train.shape)\n",
    "print('y_train', y_train.shape)\n"
   ]
  },
  {
   "cell_type": "markdown",
   "metadata": {
    "colab_type": "text",
    "id": "ucRWuvml3nDE"
   },
   "source": [
    "## **Aprendizaje con balance de costo**"
   ]
  },
  {
   "cell_type": "code",
   "execution_count": 39,
   "metadata": {
    "colab": {
     "base_uri": "https://localhost:8080/",
     "height": 35
    },
    "colab_type": "code",
    "collapsed": false,
    "executionInfo": {
     "elapsed": 1523,
     "status": "ok",
     "timestamp": 1569441891071,
     "user": {
      "displayName": "JOSE ALBERTO ARANGO SÁNCHEZ",
      "photoUrl": "https://lh3.googleusercontent.com/a-/AAuE7mAlmJPVrjjJ4aUXppU8o-4tXg36OBTyqwn-TK-0HOk=s64",
      "userId": "16388542354054473882"
     },
     "user_tz": 300
    },
    "id": "Z98KFR863qY5",
    "outputId": "095077e8-abc9-45d4-db52-f0ddc8d998d6"
   },
   "outputs": [
    {
     "data": {
      "text/plain": [
       "array([0.64201335, 2.26039783])"
      ]
     },
     "execution_count": 39,
     "metadata": {},
     "output_type": "execute_result"
    }
   ],
   "source": [
    "from sklearn.utils import class_weight\n",
    "class_weights = class_weight.compute_class_weight('balanced',np.unique(Y),Y)\n",
    "class_weights\n",
    "#model.fit(X_train, y_train, class_weight=class_weights)\n"
   ]
  },
  {
   "cell_type": "markdown",
   "metadata": {
    "colab_type": "text",
    "id": "csCiM5TY2s8-"
   },
   "source": [
    "## **Stratified KFold con Class_weight** "
   ]
  },
  {
   "cell_type": "markdown",
   "metadata": {
    "colab_type": "text",
    "id": "O2Rd2NOL4rKl"
   },
   "source": [
    "### **SMOTE**"
   ]
  },
  {
   "cell_type": "code",
   "execution_count": 0,
   "metadata": {
    "colab": {
     "base_uri": "https://localhost:8080/"
    },
    "colab_type": "code",
    "collapsed": false,
    "executionInfo": {
     "elapsed": 850,
     "status": "ok",
     "timestamp": 1569255045048,
     "user": {
      "displayName": "JOSE ALBERTO ARANGO SÁNCHEZ",
      "photoUrl": "https://lh3.googleusercontent.com/a-/AAuE7mAlmJPVrjjJ4aUXppU8o-4tXg36OBTyqwn-TK-0HOk=s64",
      "userId": "16388542354054473882"
     },
     "user_tz": 300
    },
    "id": "atp_ar8Z4ypM",
    "outputId": "9407d420-cd2d-4c4f-f8d6-4cd5c3b24b92"
   },
   "outputs": [
    {
     "name": "stdout",
     "output_type": "stream",
     "text": [
      "46728\n",
      "23364\n"
     ]
    }
   ],
   "source": [
    "from imblearn.over_sampling import SMOTE\n",
    "\n",
    "\n",
    "sm = SMOTE(random_state=589, ratio = 1.0)\n",
    "X_SMOTE, y_SMOTE = sm.fit_sample(X, Y)\n",
    "print(len(y_SMOTE))\n",
    "print(y_SMOTE.sum())"
   ]
  },
  {
   "cell_type": "code",
   "execution_count": 0,
   "metadata": {
    "colab": {
     "base_uri": "https://localhost:8080/",
     "height": 35
    },
    "colab_type": "code",
    "collapsed": false,
    "executionInfo": {
     "elapsed": 456,
     "status": "ok",
     "timestamp": 1569420727519,
     "user": {
      "displayName": "JOSE ALBERTO ARANGO SÁNCHEZ",
      "photoUrl": "https://lh3.googleusercontent.com/a-/AAuE7mAlmJPVrjjJ4aUXppU8o-4tXg36OBTyqwn-TK-0HOk=s64",
      "userId": "16388542354054473882"
     },
     "user_tz": 300
    },
    "id": "7OLbcMNBwz9f",
    "outputId": "c6283915-335f-4f08-d671-9c2c3d54070d"
   },
   "outputs": [
    {
     "data": {
      "text/plain": [
       "(30000, 23)"
      ]
     },
     "execution_count": 134,
     "metadata": {
      "tags": []
     },
     "output_type": "execute_result"
    }
   ],
   "source": [
    "X.values.shape"
   ]
  },
  {
   "cell_type": "code",
   "execution_count": 0,
   "metadata": {
    "colab": {
     "base_uri": "https://localhost:8080/",
     "height": 711
    },
    "colab_type": "code",
    "collapsed": false,
    "executionInfo": {
     "elapsed": 565,
     "status": "ok",
     "timestamp": 1569421035138,
     "user": {
      "displayName": "JOSE ALBERTO ARANGO SÁNCHEZ",
      "photoUrl": "https://lh3.googleusercontent.com/a-/AAuE7mAlmJPVrjjJ4aUXppU8o-4tXg36OBTyqwn-TK-0HOk=s64",
      "userId": "16388542354054473882"
     },
     "user_tz": 300
    },
    "id": "Rgg-9ODAuUbT",
    "outputId": "fc1f8d8b-77d3-453f-8b9e-f534ab8c7025"
   },
   "outputs": [
    {
     "name": "stdout",
     "output_type": "stream",
     "text": [
      "xTRAIN: (26999, 23) yTRAIN: (26999,)\n",
      "xTEST: (3001, 23) yTEST: (3001,)\n",
      "class_weightsTrain [0.64200789 2.26046551]\n",
      "class_weightsTest [0.64206247 2.25978916]\n",
      "xTRAIN: (26999, 23) yTRAIN: (26999,)\n",
      "xTEST: (3001, 23) yTEST: (3001,)\n",
      "class_weightsTrain [0.64200789 2.26046551]\n",
      "class_weightsTest [0.64206247 2.25978916]\n",
      "xTRAIN: (26999, 23) yTRAIN: (26999,)\n",
      "xTEST: (3001, 23) yTEST: (3001,)\n",
      "class_weightsTrain [0.64200789 2.26046551]\n",
      "class_weightsTest [0.64206247 2.25978916]\n",
      "xTRAIN: (26999, 23) yTRAIN: (26999,)\n",
      "xTEST: (3001, 23) yTEST: (3001,)\n",
      "class_weightsTrain [0.64200789 2.26046551]\n",
      "class_weightsTest [0.64206247 2.25978916]\n",
      "xTRAIN: (27000, 23) yTRAIN: (27000,)\n",
      "xTEST: (3000, 23) yTEST: (3000,)\n",
      "class_weightsTrain [0.64200114 2.26054923]\n",
      "class_weightsTest [0.64212329 2.25903614]\n",
      "xTRAIN: (27000, 23) yTRAIN: (27000,)\n",
      "xTEST: (3000, 23) yTEST: (3000,)\n",
      "class_weightsTrain [0.64200114 2.26054923]\n",
      "class_weightsTest [0.64212329 2.25903614]\n",
      "xTRAIN: (27001, 23) yTRAIN: (27001,)\n",
      "xTEST: (2999, 23) yTEST: (2999,)\n",
      "class_weightsTrain [0.64202492 2.26025448]\n",
      "class_weightsTest [0.64190925 2.26168929]\n",
      "xTRAIN: (27001, 23) yTRAIN: (27001,)\n",
      "xTEST: (2999, 23) yTEST: (2999,)\n",
      "class_weightsTrain [0.64202492 2.26025448]\n",
      "class_weightsTest [0.64190925 2.26168929]\n",
      "xTRAIN: (27001, 23) yTRAIN: (27001,)\n",
      "xTEST: (2999, 23) yTEST: (2999,)\n",
      "class_weightsTrain [0.64202492 2.26025448]\n",
      "class_weightsTest [0.64190925 2.26168929]\n",
      "xTRAIN: (27001, 23) yTRAIN: (27001,)\n",
      "xTEST: (2999, 23) yTEST: (2999,)\n",
      "class_weightsTrain [0.64202492 2.26025448]\n",
      "class_weightsTest [0.64190925 2.26168929]\n"
     ]
    }
   ],
   "source": [
    "from sklearn.model_selection import StratifiedKFold\n",
    "from sklearn.utils import class_weight\n",
    "\n",
    "\n",
    "#Train, Validation, Test\n",
    "FOLDS = 10\n",
    "\n",
    "skf = StratifiedKFold(n_splits=FOLDS)\n",
    "for train_index, test_index in skf.split(X, Y):\n",
    "    X_train, X_test = X[train_index], X[test_index]\n",
    "    Y_train, Y_test = Y[train_index], Y[test_index]    \n",
    "    print(\"xTRAIN:\", X_train.shape, \"yTRAIN:\", Y_train.shape)\n",
    "    print(\"xTEST:\", X_test.shape, \"yTEST:\", Y_test.shape)\n",
    "    class_weightsTrain = class_weight.compute_class_weight('balanced',np.unique(Y_train),Y_train)\n",
    "    class_weightsTest = class_weight.compute_class_weight('balanced',np.unique(Y_test),Y_test)\n",
    "    print(\"class_weightsTrain\",(class_weightsTrain))\n",
    "    print(\"class_weightsTest\",class_weightsTest)   \n"
   ]
  },
  {
   "cell_type": "markdown",
   "metadata": {
    "colab_type": "text",
    "id": "Y_XGyVVg0PWt"
   },
   "source": [
    "# Modelos"
   ]
  },
  {
   "cell_type": "markdown",
   "metadata": {
    "colab_type": "text",
    "id": "zowcnxvPx3q7"
   },
   "source": [
    "### **Usando [GridSearchCV](https://scikit-learn.org/stable/modules/generated/sklearn.model_selection.GridSearchCV.html)**"
   ]
  },
  {
   "cell_type": "code",
   "execution_count": 0,
   "metadata": {
    "colab": {},
    "colab_type": "code",
    "collapsed": true,
    "id": "v2i6IKJ7wxvS"
   },
   "outputs": [],
   "source": [
    "from sklearn.metrics import make_scorer, accuracy_score\n",
    "from sklearn.model_selection import GridSearchCV\n",
    "from sklearn.model_selection import StratifiedKFold\n",
    "from sklearn.utils import class_weight\n",
    "\n",
    "def modelTrain(model,params,X,Y,VALID_SIZE,FOLDS):\n",
    "    skf = StratifiedKFold(n_splits=FOLDS)\n",
    "    gs = GridSearchCV(model, cv=skf, param_grid=params, return_train_score=True, n_jobs=-1)\n",
    "    X_train, X_test, Y_train, Y_test = train_test_split(X,Y, test_size=VALID_SIZE, shuffle=True)\n",
    "    class_weightsTrain = class_weight.compute_class_weight('balanced',np.unique(Y_train),Y_train)\n",
    "    gs.fit(X_train, Y_train)     \n",
    "    return gs,X_test,Y_test"
   ]
  },
  {
   "cell_type": "code",
   "execution_count": 0,
   "metadata": {
    "colab": {},
    "colab_type": "code",
    "collapsed": true,
    "id": "TVMlIlPUB5zI"
   },
   "outputs": [],
   "source": [
    "def Metrics(model,X_test,Y_test):\n",
    "\n",
    "  y_predicted = model.predict(X_test)\n",
    "  print('Accuracy: ', accuracy_score(Y_test, y_predicted), '\\n')\n",
    "  report = classification_report(Y_test, y_predicted)\n",
    "  print(\"\\nclassification report :\\n\",report )\n",
    " \n",
    "  # Matriz de confusión\n",
    "  plt.figure(figsize=(13,10))\n",
    "  plt.subplot(221)\n",
    "  sns.heatmap(confusion_matrix(Y_test, y_predicted),annot=True,fmt = \"d\",linecolor=\"k\",linewidths=3)\n",
    "  plt.title(\"Matriz de confusión\",fontsize=20)\n",
    "   \n",
    "  # Curva ROC\n",
    "  predicting_probabilites = model.predict_proba(X_test)[:,1]\n",
    "  fpr,tpr,thresholds = roc_curve(Y_test, predicting_probabilites)\n",
    "  plt.subplot(222)\n",
    "  plt.plot(fpr,tpr,label = (\"Área bajo la curva:\",auc(fpr,tpr)),color = \"r\")\n",
    "  plt.plot([1,0],[1,0],linestyle = \"dashed\",color =\"k\")\n",
    "  plt.legend(loc = \"best\")\n",
    "  plt.title(\"Curva ROC\",fontsize=20)\n",
    "  return report"
   ]
  },
  {
   "cell_type": "code",
   "execution_count": 0,
   "metadata": {
    "colab": {},
    "colab_type": "code",
    "collapsed": true,
    "id": "kTq5JDzpTq_h"
   },
   "outputs": [],
   "source": [
    "def printMetrics(result):\n",
    "  results = pd.DataFrame(result.cv_results_)\n",
    "  print(results[['mean_test_score','std_test_score','mean_train_score','std_train_score']])  \n"
   ]
  },
  {
   "cell_type": "markdown",
   "metadata": {
    "colab_type": "text",
    "id": "YuMdBXhc0WCV"
   },
   "source": [
    "## **Na ̈ıve Bayes**\n",
    "\n",
    "[Documentación](https://scikit-learn.org/stable/modules/generated/sklearn.naive_bayes.GaussianNB.html#sklearn.naive_bayes.GaussianNB)"
   ]
  },
  {
   "cell_type": "code",
   "execution_count": 0,
   "metadata": {
    "colab": {},
    "colab_type": "code",
    "collapsed": true,
    "id": "NNHxhdnU0Ysf"
   },
   "outputs": [],
   "source": [
    "from sklearn.model_selection import train_test_split\n",
    "from sklearn.naive_bayes import GaussianNB\n",
    "gnb = GaussianNB()\n",
    "VALID_SIZE = 0.20\n",
    "FOLDS = 10\n",
    "params = {}\n",
    "\n",
    "gsGaussianNB,X_test,Y_test = modelTrain(gnb,params,X,Y,VALID_SIZE,FOLDS)\n",
    "\n",
    "#GUARDAR MODELO\n",
    "#joblib.dump(gsGaussianNB, PATH+'Models/gsGaussianNB.pkl')"
   ]
  },
  {
   "cell_type": "code",
   "execution_count": 0,
   "metadata": {
    "colab": {},
    "colab_type": "code",
    "collapsed": true,
    "id": "_H9FmO9SiUbh"
   },
   "outputs": [],
   "source": [
    "#READ MODEL \n",
    "\n",
    "PATHGNBMODEL = PATH+'Models/gsGaussianNB.pkl'\n",
    "gsGaussianNB = joblib.load(PATHGNBMODEL)\n"
   ]
  },
  {
   "cell_type": "markdown",
   "metadata": {
    "colab_type": "text",
    "id": "xTqLWYah0yg2"
   },
   "source": [
    "### **Resultado Obtenidos**\n",
    "\n",
    "Recuerde que como parte de una correcta metodolog ́ıa de validacion se deben incluir, seg  ́ un sea el caso, medidas de sensibilidad, especificidad, eficiencia, matriz de confusion, error cuadratico medio, MAPE, coeficiente de determinacion, etc., Deben incluir intervalos de confianza para todas las medidas usadas."
   ]
  },
  {
   "cell_type": "code",
   "execution_count": 0,
   "metadata": {
    "colab": {
     "base_uri": "https://localhost:8080/",
     "height": 578
    },
    "colab_type": "code",
    "collapsed": false,
    "executionInfo": {
     "elapsed": 1100,
     "status": "ok",
     "timestamp": 1569471643985,
     "user": {
      "displayName": "JOSE ALBERTO ARANGO SÁNCHEZ",
      "photoUrl": "https://lh3.googleusercontent.com/a-/AAuE7mAlmJPVrjjJ4aUXppU8o-4tXg36OBTyqwn-TK-0HOk=s64",
      "userId": "16388542354054473882"
     },
     "user_tz": 300
    },
    "id": "LfsXoGszDUYZ",
    "outputId": "727dd43a-15fc-4dd6-c0c7-8ba480f74d9c"
   },
   "outputs": [
    {
     "name": "stdout",
     "output_type": "stream",
     "text": [
      "Accuracy:  0.6875 \n",
      "\n",
      "\n",
      "classification report :\n",
      "               precision    recall  f1-score   support\n",
      "\n",
      "           0       0.89      0.69      0.78      4703\n",
      "           1       0.38      0.69      0.49      1297\n",
      "\n",
      "    accuracy                           0.69      6000\n",
      "   macro avg       0.63      0.69      0.63      6000\n",
      "weighted avg       0.78      0.69      0.71      6000\n",
      "\n",
      "   mean_test_score  std_test_score  mean_train_score  std_train_score\n",
      "0         0.679875        0.041991          0.678551          0.03826\n"
     ]
    },
    {
     "data": {
      "image/png": "[encoded data removed]",
      "text/plain": [
       "<Figure size 936x720 with 3 Axes>"
      ]
     },
     "metadata": {
      "tags": []
     },
     "output_type": "display_data"
    }
   ],
   "source": [
    "metrics = Metrics(gsGaussianNB.best_estimator_,X_test,Y_test)\n",
    "printMetrics(gsGaussianNB)"
   ]
  },
  {
   "cell_type": "markdown",
   "metadata": {
    "colab_type": "text",
    "id": "DT7WapDnHEHj"
   },
   "source": [
    "**Sensibilidad** = tp / (tp + fn)\n",
    "\n",
    "\n",
    "**Especificidad**  = tn /(tn+fp)\n",
    "\n",
    "\n",
    "**eficiencia** = tp+tn/(tp+tn+fp+fn)\n",
    "\n",
    "\n",
    "**Precisión** = tp /(tp+fp)\n",
    "\n",
    "\n"
   ]
  },
  {
   "cell_type": "markdown",
   "metadata": {
    "colab_type": "text",
    "id": "xyjjRFdf0kl3"
   },
   "source": [
    "## **Random Forest**"
   ]
  },
  {
   "cell_type": "markdown",
   "metadata": {
    "colab_type": "text",
    "id": "v-899rO2lPBH"
   },
   "source": [
    "[Documentación](https://scikit-learn.org/stable/modules/generated/sklearn.ensemble.RandomForestClassifier.html)"
   ]
  },
  {
   "cell_type": "code",
   "execution_count": 0,
   "metadata": {
    "colab": {
     "base_uri": "https://localhost:8080/",
     "height": 89
    },
    "colab_type": "code",
    "collapsed": false,
    "executionInfo": {
     "elapsed": 2756585,
     "status": "ok",
     "timestamp": 1569450996221,
     "user": {
      "displayName": "JOSE ALBERTO ARANGO SÁNCHEZ",
      "photoUrl": "https://lh3.googleusercontent.com/a-/AAuE7mAlmJPVrjjJ4aUXppU8o-4tXg36OBTyqwn-TK-0HOk=s64",
      "userId": "16388542354054473882"
     },
     "user_tz": 300
    },
    "id": "c5FATjSJ0mSU",
    "outputId": "6ad84e26-098a-45d8-8ab8-c545124a9ea4"
   },
   "outputs": [
    {
     "name": "stdout",
     "output_type": "stream",
     "text": [
      "Best SCORE 0.8196666666666667\n",
      "Best ESTIMATOR {'criterion': 'entropy', 'max_depth': 8, 'max_features': 5, 'n_estimators': 50}\n"
     ]
    },
    {
     "data": {
      "text/plain": [
       "['/content/drive/My Drive/2019-1/Simulation of System and Laboratory/Final Project/Code/Models/gsRDF.pkl']"
      ]
     },
     "execution_count": 152,
     "metadata": {
      "tags": []
     },
     "output_type": "execute_result"
    }
   ],
   "source": [
    "from sklearn.ensemble import RandomForestClassifier\n",
    "\n",
    "VALID_SIZE = 0.20\n",
    "FOLDS = 10\n",
    "\n",
    "\"\"\"\n",
    "params = { \n",
    "    'n_estimators': [50,100,150,200,250,300],\n",
    "     \"max_features\": [1,2,3,4,5,6,7,8,9,10],\n",
    "     'max_depth': [1,2,3,4,5,6,7,8,9],\n",
    "    'criterion' :['gini', 'entropy']\n",
    "}\n",
    "\"\"\"\n",
    "params = { \n",
    "    'n_estimators': [10,20,30,40,50],\n",
    "     \"max_features\": [1,2,3,4,5],\n",
    "     'max_depth': [1,2,3,4,5,8,10,15,20],\n",
    "    'criterion' :['gini', 'entropy']\n",
    "}\n",
    "\n",
    "\n",
    "rfc=RandomForestClassifier()\n",
    "\n",
    "gsRDF,X_test,Y_test= modelTrain(rfc,params,X,Y,VALID_SIZE,FOLDS)\n",
    "\n",
    "print(\"Best SCORE\",gsRDF.best_score_)\n",
    "print(\"Best ESTIMATOR\", gsRDF.best_params_)\n",
    "\n",
    "\n",
    "#GUARDAR MODELO\n",
    "PATH_gsRDF_MODEL = PATH+'Models/gsRDF.pkl'\n",
    "joblib.dump(gsRDF,PATH_gsRDF_MODEL)"
   ]
  },
  {
   "cell_type": "markdown",
   "metadata": {
    "colab_type": "text",
    "id": "VnAlAlNm2j0X"
   },
   "source": [
    "### **Resultado Obtenidos**\n",
    "\n",
    "Recuerde que como parte de una correcta metodolog ́ıa de validacion se deben incluir, seg  ́ un sea el caso, medidas de sensibilidad, especificidad, eficiencia, matriz de confusion, error cuadratico medio, MAPE, coeficiente de determinacion, etc., Deben incluir intervalos de confianza para todas las medidas usadas."
   ]
  },
  {
   "cell_type": "code",
   "execution_count": 0,
   "metadata": {
    "colab": {
     "base_uri": "https://localhost:8080/",
     "height": 1000
    },
    "colab_type": "code",
    "collapsed": false,
    "executionInfo": {
     "elapsed": 1543,
     "status": "ok",
     "timestamp": 1569451094435,
     "user": {
      "displayName": "JOSE ALBERTO ARANGO SÁNCHEZ",
      "photoUrl": "https://lh3.googleusercontent.com/a-/AAuE7mAlmJPVrjjJ4aUXppU8o-4tXg36OBTyqwn-TK-0HOk=s64",
      "userId": "16388542354054473882"
     },
     "user_tz": 300
    },
    "id": "TottuB9OaLrs",
    "outputId": "ec3286e4-6e66-460a-e950-0ad68632cb7b"
   },
   "outputs": [
    {
     "name": "stdout",
     "output_type": "stream",
     "text": [
      "Accuracy:  0.8263333333333334 \n",
      "\n",
      "\n",
      "classification report :\n",
      "               precision    recall  f1-score   support\n",
      "\n",
      "           0       0.84      0.95      0.90      4697\n",
      "           1       0.69      0.36      0.48      1303\n",
      "\n",
      "    accuracy                           0.83      6000\n",
      "   macro avg       0.77      0.66      0.69      6000\n",
      "weighted avg       0.81      0.83      0.80      6000\n",
      "\n",
      "     mean_test_score  std_test_score  mean_train_score  std_train_score\n",
      "0           0.777792        0.000136          0.777792         0.000015\n",
      "1           0.777792        0.000136          0.777792         0.000015\n",
      "2           0.777792        0.000136          0.777792         0.000015\n",
      "3           0.777792        0.000136          0.777792         0.000015\n",
      "4           0.777792        0.000136          0.777792         0.000015\n",
      "5           0.778750        0.002920          0.778380         0.001759\n",
      "6           0.778083        0.000817          0.778028         0.000716\n",
      "7           0.777792        0.000136          0.777792         0.000015\n",
      "8           0.777792        0.000136          0.777792         0.000015\n",
      "9           0.777792        0.000136          0.777792         0.000015\n",
      "10          0.777792        0.000136          0.777792         0.000015\n",
      "11          0.779667        0.005639          0.779486         0.005082\n",
      "12          0.779208        0.004294          0.779134         0.004023\n",
      "13          0.777917        0.000331          0.778287         0.001494\n",
      "14          0.778042        0.000773          0.778046         0.000763\n",
      "15          0.788250        0.009095          0.787842         0.008816\n",
      "16          0.785833        0.008222          0.786088         0.008340\n",
      "17          0.786167        0.008021          0.786324         0.008221\n",
      "18          0.784208        0.007161          0.783546         0.006814\n",
      "19          0.783208        0.006204          0.783213         0.006132\n",
      "20          0.787708        0.009391          0.787685         0.008375\n",
      "21          0.793750        0.005788          0.794037         0.004062\n",
      "22          0.791250        0.008222          0.791954         0.008228\n",
      "23          0.793208        0.003826          0.793968         0.003044\n",
      "24          0.791958        0.007026          0.792426         0.006585\n",
      "25          0.778333        0.001406          0.778218         0.000913\n",
      "26          0.777792        0.000136          0.777792         0.000015\n",
      "27          0.777792        0.000136          0.777792         0.000015\n",
      "28          0.777792        0.000136          0.777792         0.000015\n",
      "29          0.777792        0.000136          0.777792         0.000015\n",
      "..               ...             ...               ...              ...\n",
      "420         0.812542        0.006450          0.897787         0.001941\n",
      "421         0.814542        0.005372          0.899426         0.002589\n",
      "422         0.817042        0.003905          0.900370         0.001070\n",
      "423         0.816250        0.005035          0.900083         0.001018\n",
      "424         0.817500        0.005591          0.900986         0.000717\n",
      "425         0.800042        0.004851          0.929028         0.002738\n",
      "426         0.806042        0.003632          0.934204         0.001783\n",
      "427         0.808250        0.004952          0.935449         0.002148\n",
      "428         0.808958        0.002014          0.936921         0.001188\n",
      "429         0.811750        0.002721          0.937449         0.002036\n",
      "430         0.809458        0.005137          0.933093         0.002617\n",
      "431         0.812792        0.004456          0.938199         0.001958\n",
      "432         0.813125        0.004445          0.939032         0.002184\n",
      "433         0.814750        0.006420          0.940583         0.001530\n",
      "434         0.813208        0.004393          0.940764         0.001283\n",
      "435         0.804083        0.006497          0.937833         0.002177\n",
      "436         0.813125        0.004992          0.942699         0.001615\n",
      "437         0.814667        0.007117          0.944648         0.001562\n",
      "438         0.814667        0.006636          0.945532         0.001540\n",
      "439         0.816083        0.006254          0.945750         0.001831\n",
      "440         0.807542        0.003714          0.941255         0.001727\n",
      "441         0.812458        0.004583          0.946417         0.001860\n",
      "442         0.813875        0.005183          0.947694         0.002138\n",
      "443         0.815583        0.006071          0.948134         0.001238\n",
      "444         0.815458        0.004515          0.949704         0.001716\n",
      "445         0.808083        0.004866          0.942194         0.002380\n",
      "446         0.815083        0.004939          0.948907         0.001648\n",
      "447         0.815417        0.006535          0.949847         0.001527\n",
      "448         0.815250        0.005380          0.951120         0.000973\n",
      "449         0.816833        0.005175          0.951491         0.001293\n",
      "\n",
      "[450 rows x 4 columns]\n"
     ]
    },
    {
     "data": {
      "image/png": "[encoded data removed]",
      "text/plain": [
       "<Figure size 936x720 with 3 Axes>"
      ]
     },
     "metadata": {
      "tags": []
     },
     "output_type": "display_data"
    }
   ],
   "source": [
    "metrics = Metrics(gsRDF.best_estimator_,X_test,Y_test)\n",
    "printMetrics(gsRDF)"
   ]
  },
  {
   "cell_type": "code",
   "execution_count": 0,
   "metadata": {
    "colab": {},
    "colab_type": "code",
    "collapsed": true,
    "id": "PczpoyizRgqO"
   },
   "outputs": [],
   "source": [
    "#READ MODEL \n",
    "\n",
    "PATHRDFMODEL = PATH+'Models/gsRDF.pkl'\n",
    "gsRDF = joblib.load(PATHRDFMODEL)"
   ]
  },
  {
   "cell_type": "markdown",
   "metadata": {
    "colab_type": "text",
    "id": "wTDOYFfg1ywx"
   },
   "source": [
    "\n",
    "\n",
    " ---\n",
    "\n",
    "\n"
   ]
  },
  {
   "cell_type": "markdown",
   "metadata": {
    "colab_type": "text",
    "id": "B3bM0UAU0aYO"
   },
   "source": [
    "## K vecinos mas cercanos"
   ]
  },
  {
   "cell_type": "markdown",
   "metadata": {
    "colab_type": "text",
    "id": "z3fYzmk0Ttaq"
   },
   "source": [
    "[Documentación](https://scikit-learn.org/stable/modules/generated/sklearn.neighbors.KNeighborsClassifier.html)"
   ]
  },
  {
   "cell_type": "code",
   "execution_count": 0,
   "metadata": {
    "colab": {
     "base_uri": "https://localhost:8080/",
     "height": 253
    },
    "colab_type": "code",
    "collapsed": false,
    "executionInfo": {
     "elapsed": 2637146,
     "status": "error",
     "timestamp": 1569474354555,
     "user": {
      "displayName": "JOSE ALBERTO ARANGO SÁNCHEZ",
      "photoUrl": "https://lh3.googleusercontent.com/a-/AAuE7mAlmJPVrjjJ4aUXppU8o-4tXg36OBTyqwn-TK-0HOk=s64",
      "userId": "16388542354054473882"
     },
     "user_tz": 300
    },
    "id": "xpKLYeBx0dy2",
    "outputId": "2d56b706-89f7-4fcf-b875-01f877012056"
   },
   "outputs": [
    {
     "name": "stdout",
     "output_type": "stream",
     "text": [
      "Best SCORE 0.8088333333333333\n"
     ]
    },
    {
     "ename": "AttributeError",
     "evalue": "ignored",
     "output_type": "error",
     "traceback": [
      "\u001b[0;31m---------------------------------------------------------------------------\u001b[0m",
      "\u001b[0;31mAttributeError\u001b[0m                            Traceback (most recent call last)",
      "\u001b[0;32m<ipython-input-55-88af886edbfe>\u001b[0m in \u001b[0;36m<module>\u001b[0;34m()\u001b[0m\n\u001b[1;32m     14\u001b[0m \u001b[0mgsKNN\u001b[0m\u001b[0;34m,\u001b[0m\u001b[0mX_test\u001b[0m\u001b[0;34m,\u001b[0m\u001b[0mY_test\u001b[0m \u001b[0;34m=\u001b[0m \u001b[0mmodelTrain\u001b[0m\u001b[0;34m(\u001b[0m\u001b[0mKNN\u001b[0m\u001b[0;34m,\u001b[0m\u001b[0mparams\u001b[0m\u001b[0;34m,\u001b[0m\u001b[0mX\u001b[0m\u001b[0;34m,\u001b[0m\u001b[0mY\u001b[0m\u001b[0;34m,\u001b[0m\u001b[0mVALID_SIZE\u001b[0m\u001b[0;34m,\u001b[0m\u001b[0mFOLDS\u001b[0m\u001b[0;34m)\u001b[0m\u001b[0;34m\u001b[0m\u001b[0;34m\u001b[0m\u001b[0m\n\u001b[1;32m     15\u001b[0m \u001b[0mprint\u001b[0m\u001b[0;34m(\u001b[0m\u001b[0;34m\"Best SCORE\"\u001b[0m\u001b[0;34m,\u001b[0m\u001b[0mgsKNN\u001b[0m\u001b[0;34m.\u001b[0m\u001b[0mbest_score_\u001b[0m\u001b[0;34m)\u001b[0m\u001b[0;34m\u001b[0m\u001b[0;34m\u001b[0m\u001b[0m\n\u001b[0;32m---> 16\u001b[0;31m \u001b[0mprint\u001b[0m\u001b[0;34m(\u001b[0m\u001b[0;34m\"Best ESTIMATOR\"\u001b[0m\u001b[0;34m,\u001b[0m \u001b[0mgsKNN\u001b[0m\u001b[0;34m.\u001b[0m\u001b[0mgsGaussianNB\u001b[0m\u001b[0;34m.\u001b[0m\u001b[0mbest_params_\u001b[0m\u001b[0;34m)\u001b[0m\u001b[0;34m\u001b[0m\u001b[0;34m\u001b[0m\u001b[0m\n\u001b[0m\u001b[1;32m     17\u001b[0m \u001b[0;34m\u001b[0m\u001b[0m\n\u001b[1;32m     18\u001b[0m \u001b[0;31m#GUARDAR MODELO\u001b[0m\u001b[0;34m\u001b[0m\u001b[0;34m\u001b[0m\u001b[0;34m\u001b[0m\u001b[0m\n",
      "\u001b[0;31mAttributeError\u001b[0m: 'GridSearchCV' object has no attribute 'gsGaussianNB'"
     ]
    }
   ],
   "source": [
    "from sklearn.neighbors import KNeighborsClassifier\n",
    "\n",
    "VALID_SIZE = 0.20\n",
    "FOLDS = 10\n",
    "params = {\n",
    "    'n_neighbors':[3,5,7,9,11],\n",
    "    'metric':['minkowski','euclidean','manhattan']\n",
    "    \n",
    "    \n",
    "}\n",
    "KNN = KNeighborsClassifier()\n",
    "\n",
    "\n",
    "gsKNN,X_test,Y_test = modelTrain(KNN,params,X,Y,VALID_SIZE,FOLDS)\n"
   ]
  },
  {
   "cell_type": "code",
   "execution_count": 0,
   "metadata": {
    "colab": {
     "base_uri": "https://localhost:8080/",
     "height": 52
    },
    "colab_type": "code",
    "collapsed": false,
    "executionInfo": {
     "elapsed": 2629,
     "status": "ok",
     "timestamp": 1569642484068,
     "user": {
      "displayName": "JOSE ALBERTO ARANGO SÁNCHEZ",
      "photoUrl": "https://lh3.googleusercontent.com/a-/AAuE7mAlmJPVrjjJ4aUXppU8o-4tXg36OBTyqwn-TK-0HOk=s64",
      "userId": "16388542354054473882"
     },
     "user_tz": 300
    },
    "id": "BNS8dpO49o9D",
    "outputId": "bde64eef-5bed-4c5c-f48a-5fe4f1d6eb41"
   },
   "outputs": [
    {
     "name": "stdout",
     "output_type": "stream",
     "text": [
      "Best SCORE 0.8088333333333333\n",
      "Best ESTIMATOR {'metric': 'minkowski', 'n_neighbors': 11}\n"
     ]
    }
   ],
   "source": [
    "#Leer MODELO\n",
    "PATH_knn_MODEL = PATH+'Models/gsKNN.pkl'\n",
    "gsKNN = joblib.load(PATH_knn_MODEL)\n",
    "\n",
    "print(\"Best SCORE\",gsKNN.best_score_)\n",
    "print(\"Best ESTIMATOR\", gsKNN.best_params_)\n",
    "\n"
   ]
  },
  {
   "cell_type": "markdown",
   "metadata": {
    "colab_type": "text",
    "id": "_kTfWZai2hjs"
   },
   "source": [
    "### **Resultado Obtenidos**\n",
    "\n",
    "Recuerde que como parte de una correcta metodolog ́ıa de validacion se deben incluir, seg  ́ un sea el caso, medidas de sensibilidad, especificidad, eficiencia, matriz de confusion, error cuadratico medio, MAPE, coeficiente de determinacion, etc., Deben incluir intervalos de confianza para todas las medidas usadas."
   ]
  },
  {
   "cell_type": "code",
   "execution_count": 0,
   "metadata": {
    "colab": {
     "base_uri": "https://localhost:8080/",
     "height": 235
    },
    "colab_type": "code",
    "collapsed": false,
    "executionInfo": {
     "elapsed": 404,
     "status": "error",
     "timestamp": 1569642305226,
     "user": {
      "displayName": "JOSE ALBERTO ARANGO SÁNCHEZ",
      "photoUrl": "https://lh3.googleusercontent.com/a-/AAuE7mAlmJPVrjjJ4aUXppU8o-4tXg36OBTyqwn-TK-0HOk=s64",
      "userId": "16388542354054473882"
     },
     "user_tz": 300
    },
    "id": "e4QxYvgAzXUa",
    "outputId": "a08f3039-b14c-4261-ad6c-b478af73ce73"
   },
   "outputs": [
    {
     "ename": "NameError",
     "evalue": "ignored",
     "output_type": "error",
     "traceback": [
      "\u001b[0;31m---------------------------------------------------------------------------\u001b[0m",
      "\u001b[0;31mNameError\u001b[0m                                 Traceback (most recent call last)",
      "\u001b[0;32m<ipython-input-2-ee1f10b0a44a>\u001b[0m in \u001b[0;36m<module>\u001b[0;34m()\u001b[0m\n\u001b[0;32m----> 1\u001b[0;31m \u001b[0mPATHgsKNNMODEL\u001b[0m \u001b[0;34m=\u001b[0m \u001b[0mPATH\u001b[0m\u001b[0;34m+\u001b[0m\u001b[0;34m'Models/gsKNN.pkl'\u001b[0m\u001b[0;34m\u001b[0m\u001b[0;34m\u001b[0m\u001b[0m\n\u001b[0m\u001b[1;32m      2\u001b[0m \u001b[0mgsKNN\u001b[0m \u001b[0;34m=\u001b[0m \u001b[0mjoblib\u001b[0m\u001b[0;34m.\u001b[0m\u001b[0mload\u001b[0m\u001b[0;34m(\u001b[0m\u001b[0mPATHgsKNNMODEL\u001b[0m\u001b[0;34m)\u001b[0m\u001b[0;34m\u001b[0m\u001b[0;34m\u001b[0m\u001b[0m\n\u001b[1;32m      3\u001b[0m \u001b[0;34m\u001b[0m\u001b[0m\n\u001b[1;32m      4\u001b[0m \u001b[0;34m\u001b[0m\u001b[0m\n\u001b[1;32m      5\u001b[0m \u001b[0mmetrics\u001b[0m \u001b[0;34m=\u001b[0m \u001b[0mMetrics\u001b[0m\u001b[0;34m(\u001b[0m\u001b[0mgsKNN\u001b[0m\u001b[0;34m.\u001b[0m\u001b[0mbest_estimator_\u001b[0m\u001b[0;34m,\u001b[0m\u001b[0mX_test\u001b[0m\u001b[0;34m,\u001b[0m\u001b[0mY_test\u001b[0m\u001b[0;34m)\u001b[0m\u001b[0;34m\u001b[0m\u001b[0;34m\u001b[0m\u001b[0m\n",
      "\u001b[0;31mNameError\u001b[0m: name 'PATH' is not defined"
     ]
    }
   ],
   "source": [
    "PATHgsKNNMODEL = PATH+'Models/gsKNN.pkl'\n",
    "gsKNN = joblib.load(PATHgsKNNMODEL)\n",
    "\n",
    "\n",
    "metrics = Metrics(gsKNN.best_estimator_,X_test,Y_test)\n",
    "printMetrics(gsKNN)"
   ]
  },
  {
   "cell_type": "markdown",
   "metadata": {
    "colab_type": "text",
    "id": "Y9qFGtIk1Y4W"
   },
   "source": [
    "\n",
    "\n",
    "---\n",
    "\n",
    "\n"
   ]
  },
  {
   "cell_type": "markdown",
   "metadata": {
    "colab_type": "text",
    "id": "qTno4pUS0hLd"
   },
   "source": [
    "## **Redes Neuronales Artificiales**"
   ]
  },
  {
   "cell_type": "code",
   "execution_count": 0,
   "metadata": {
    "colab": {},
    "colab_type": "code",
    "collapsed": true,
    "id": "qF4d1ZA-0iUu"
   },
   "outputs": [],
   "source": []
  },
  {
   "cell_type": "markdown",
   "metadata": {
    "colab_type": "text",
    "id": "Nii3Xmzs2jD-"
   },
   "source": [
    "### **Resultado Obtenidos**\n",
    "\n",
    "Recuerde que como parte de una correcta metodolog ́ıa de validacion se deben incluir, seg  ́ un sea el caso, medidas de sensibilidad, especificidad, eficiencia, matriz de confusion, error cuadratico medio, MAPE, coeficiente de determinacion, etc., Deben incluir intervalos de confianza para todas las medidas usadas."
   ]
  },
  {
   "cell_type": "markdown",
   "metadata": {
    "colab_type": "text",
    "id": "Qb3czAHO1ySX"
   },
   "source": [
    "\n",
    "\n",
    " ---\n",
    "\n",
    "\n"
   ]
  },
  {
   "cell_type": "markdown",
   "metadata": {
    "colab_type": "text",
    "id": "C_OYTytC0p_V"
   },
   "source": [
    "## **Maquinas de Soporte Vectorial con kernel lineal y con kernel RBF.**"
   ]
  },
  {
   "cell_type": "code",
   "execution_count": 0,
   "metadata": {
    "colab": {},
    "colab_type": "code",
    "collapsed": true,
    "id": "iCkptLBK0rCn"
   },
   "outputs": [],
   "source": [
    "from sklearn.svm import SVC\n",
    "\n",
    "VALID_SIZE = 0.20\n",
    "FOLDS = 10\n",
    "\n",
    "Cs = [0.001, 0.01, 0.1, 1, 10]\n",
    "gammas = [0.001, 0.01, 0.1, 1]\n",
    "kernels = ['rbf','linear']\n",
    "\n",
    "params = {'C': Cs, 'gamma' : gammas,'kernel':kernels}\n",
    "svm = SVC()\n",
    "gsSVM = modelTrain(svm,params,X,Y,VALID_SIZE,FOLDS)\n",
    "\n",
    "print(\"Best SCORE\",gsSVM.best_score_)\n",
    "print(\"Best ESTIMATOR\", gsSVM.best_params_)\n",
    "\n",
    "\n",
    "\n",
    "#GUARDAR MODELO\n",
    "PATH_svm_MODEL = PATH+'Models/gsSVM.pkl'\n",
    "joblib.dump(gsSVM,PATH_svm_MODEL)\n"
   ]
  },
  {
   "cell_type": "markdown",
   "metadata": {
    "colab_type": "text",
    "id": "jBo7N_mE2lbh"
   },
   "source": [
    "### **Resultado Obtenidos**\n",
    "\n",
    "Recuerde que como parte de una correcta metodolog ́ıa de validacion se deben incluir, seg  ́ un sea el caso, medidas de sensibilidad, especificidad, eficiencia, matriz de confusion, error cuadratico medio, MAPE, coeficiente de determinacion, etc., Deben incluir intervalos de confianza para todas las medidas usadas."
   ]
  },
  {
   "cell_type": "markdown",
   "metadata": {
    "colab_type": "text",
    "id": "u4hBzRHP1zJ2"
   },
   "source": [
    "\n",
    "\n",
    " ---\n",
    "\n",
    "\n"
   ]
  },
  {
   "cell_type": "code",
   "execution_count": 0,
   "metadata": {
    "colab": {
     "base_uri": "https://localhost:8080/",
     "height": 50
    },
    "colab_type": "code",
    "collapsed": false,
    "executionInfo": {
     "elapsed": 762,
     "status": "ok",
     "timestamp": 1570244986388,
     "user": {
      "displayName": "JOSE ALBERTO ARANGO SÁNCHEZ",
      "photoUrl": "https://lh3.googleusercontent.com/a-/AAuE7mAlmJPVrjjJ4aUXppU8o-4tXg36OBTyqwn-TK-0HOk=s64",
      "userId": "16388542354054473882"
     },
     "user_tz": 300
    },
    "id": "LARd9gqZ2hgX",
    "outputId": "757cb30b-b89a-40a5-9475-8ad870e4f9bd"
   },
   "outputs": [
    {
     "name": "stdout",
     "output_type": "stream",
     "text": [
      "Best SCORE 0.8188333333333333\n",
      "Best ESTIMATOR {'C': 1, 'gamma': 0.1, 'kernel': 'rbf'}\n"
     ]
    }
   ],
   "source": [
    "PATHMODEL = PATH+'Models/gsSVM_CSFull_rbf2y3.pkl'\n",
    "gsMODEL= joblib.load(PATHMODEL)\n",
    "\n",
    "print(\"Best SCORE\",gsMODEL.best_score_)\n",
    "print(\"Best ESTIMATOR\", gsMODEL.best_params_)\n",
    "\n",
    "#metrics = Metrics(gsMODEL.best_estimator_,X_test,Y_test)\n",
    "#printMetrics(gsMODEL)"
   ]
  },
  {
   "cell_type": "markdown",
   "metadata": {
    "colab_type": "text",
    "id": "1F1ra0pzpnFj"
   },
   "source": [
    "# **Realice un analisis individual de cada una de las caracteristicas**"
   ]
  },
  {
   "cell_type": "markdown",
   "metadata": {
    "colab_type": "text",
    "id": "QUnU86Spp3P6"
   },
   "source": [
    "Realice un analisis individual de cada una de las caracteristicas a partir de medidas de correlacion y del indice de Fisher (segun sea el caso). Identifique de acuerdo con este analisis, ¿cu  ́ ales son las caracter  ́  ́ısticas candidatas a ser eliminadas?"
   ]
  },
  {
   "cell_type": "markdown",
   "metadata": {
    "colab_type": "text",
    "id": "2zej1X8_1GUl"
   },
   "source": [
    "\n",
    "\n",
    "1. RandomForestClassifier \n",
    "\n",
    "\n",
    "Best SCORE 0.8196666666666667\n",
    "Best ESTIMATOR {'criterion': 'entropy', 'max_depth': 8, 'max_features': 5, 'n_estimators': 50}\n",
    "\n",
    "\n",
    "2. Redes Neuronales Artificiales\n",
    "\n",
    "Best SCORE 0.8197083333333334\n",
    "Best ESTIMATOR {'activation': 'logistic', 'alpha': 0.01, 'hidden_layer_sizes': 72, 'max_iter': 300, 'solver': 'adam'}\n",
    "\n",
    "3. Maquinas de Soporte Vectorial \n",
    "\n",
    "Best SCORE 0.8188333333333333\n",
    "Best ESTIMATOR {'C': 1, 'gamma': 0.1, 'kernel': 'rbf'}\n",
    "\n",
    "\n",
    "\n"
   ]
  },
  {
   "cell_type": "markdown",
   "metadata": {
    "colab_type": "text",
    "id": "PeHy24ue8uaL"
   },
   "source": [
    "### RandomForestClassifier"
   ]
  },
  {
   "cell_type": "code",
   "execution_count": 0,
   "metadata": {
    "colab": {
     "base_uri": "https://localhost:8080/",
     "height": 50
    },
    "colab_type": "code",
    "collapsed": false,
    "executionInfo": {
     "elapsed": 1582,
     "status": "ok",
     "timestamp": 1570413325599,
     "user": {
      "displayName": "LEON DARÍO ARANGO AMAYA",
      "photoUrl": "https://lh3.googleusercontent.com/a-/AAuE7mAVlNnXKgaMV4o_n4uMw2Dsx2VLyb8Ng74F-gJ52A=s64",
      "userId": "02024137269287823222"
     },
     "user_tz": 300
    },
    "id": "9BNMgENz8TM6",
    "outputId": "970f3b10-decf-435f-b12b-fe096dfe1a5d"
   },
   "outputs": [
    {
     "name": "stdout",
     "output_type": "stream",
     "text": [
      "Best SCORE 0.8196666666666667\n",
      "Best ESTIMATOR {'criterion': 'entropy', 'max_depth': 8, 'max_features': 5, 'n_estimators': 50}\n"
     ]
    }
   ],
   "source": [
    "PATHMODEL = PATH+'Models/gsRDF.pkl'\n",
    "gsMODEL= joblib.load(PATHMODEL)\n",
    "\n",
    "print(\"Best SCORE\",gsMODEL.best_score_)\n",
    "print(\"Best ESTIMATOR\", gsMODEL.best_params_)\n",
    "\n",
    "#print('Results', gsMODEL.cv_results_)\n",
    "\n",
    "#metrics = Metrics(gsMODEL.best_estimator_,X_test,Y_test)\n",
    "#printMetrics(gsMODEL)"
   ]
  },
  {
   "cell_type": "markdown",
   "metadata": {
    "colab_type": "text",
    "id": "kq9OjmX-rZoX"
   },
   "source": [
    "## Selección de características"
   ]
  },
  {
   "cell_type": "markdown",
   "metadata": {
    "colab_type": "text",
    "id": "i-J3d030rJ63"
   },
   "source": [
    "**Realice seleccion de características por el metodo de busqueda secuencial ascendente o descendente y eval  ́ ue ́\n",
    "nuevamente en los 3 mejores modelos evaluados. Para\n",
    "realizar este punto cada grupo debe decidir la funcion ́\n",
    "criterio a usar, justificando su decision. Incluya una tabla  ́\n",
    "con los resultados, indicando el porcentaje de reduccion ́\n",
    "alcanzado y las demas medidas de desempe  ́ no. Recuerde  ̃\n",
    "incluir en el informe cual fue el criterio de selecci  ́ on ́\n",
    "usado y porque. ́**"
   ]
  },
  {
   "cell_type": "code",
   "execution_count": 40,
   "metadata": {
    "colab": {},
    "colab_type": "code",
    "collapsed": true,
    "id": "n-iv-xF4k_Vf"
   },
   "outputs": [],
   "source": [
    "from sklearn.model_selection import train_test_split\n",
    "VALID_SIZE = 0.20\n",
    "X, X_test, Y, y_test = train_test_split(X,Y, test_size=VALID_SIZE, shuffle=True )"
   ]
  },
  {
   "cell_type": "code",
   "execution_count": 41,
   "metadata": {
    "colab": {},
    "colab_type": "code",
    "collapsed": true,
    "id": "8wdye5WWrXj5"
   },
   "outputs": [],
   "source": [
    "#!pip install mlxtend\n",
    "def classification_error(y_est, y_real):\n",
    "    err = 0\n",
    "    for y_e, y_r in zip(y_est, y_real):\n",
    "\n",
    "        if y_e != y_r:\n",
    "            err += 1\n",
    "\n",
    "    return err/np.size(y_est)"
   ]
  },
  {
   "cell_type": "code",
   "execution_count": 42,
   "metadata": {
    "colab": {},
    "colab_type": "code",
    "collapsed": true,
    "id": "tiw7JPvlvHBg"
   },
   "outputs": [],
   "source": [
    "from mlxtend.feature_selection import SequentialFeatureSelector as SFS\n",
    "import time\n",
    "def select_features(modelo, n_features, fwd, fltg):\n",
    "   \n",
    "#sfs  -> forward=True,   floating=False \n",
    "#sbs  -> forward=False,   floating=False \n",
    "#sffs -> forward=True,   floating=True\n",
    "#sbfs -> forward=False,   floating=True\n",
    "\n",
    "    sfs = SFS(modelo, \n",
    "           k_features=n_features, \n",
    "           forward=fwd,\n",
    "           floating=fltg,\n",
    "           verbose=1,\n",
    "           scoring='accuracy',\n",
    "           cv=0,\n",
    "           n_jobs=-1)    \n",
    "    return sfs"
   ]
  },
  {
   "cell_type": "code",
   "execution_count": 43,
   "metadata": {
    "colab": {},
    "colab_type": "code",
    "collapsed": true,
    "id": "NRCEwlWLszuz"
   },
   "outputs": [],
   "source": [
    "from sklearn.model_selection import StratifiedKFold\n",
    "def implementationSelectionFeatures(model,n_features,forward,floating):\n",
    "    #Para calcular el costo computacional\n",
    "    tiempo_i = time.time()  \n",
    "    Errores = np.ones(10)\n",
    "    j = 0\n",
    "    FOLDS = 10\n",
    "    skf = StratifiedKFold(n_splits=FOLDS)\n",
    "    \n",
    "    for train_index, test_index in skf.split(X, Y):\n",
    "        X_train, X_test = X.values[train_index], X.values[test_index]\n",
    "        y_train, y_test = Y.values[train_index], Y.values[test_index]  \n",
    "        \n",
    "        sf = select_features(model, n_features, forward, floating) \n",
    "\n",
    "        sf.fit(X_train, y_train)#Complete el código aquí\n",
    "\n",
    "        Errores[j] = 1-sf.k_score_\n",
    "\n",
    "        j+=1\n",
    "\n",
    "    print(\"\\nError de validación aplicando SFS: \" + str(np.mean(Errores)) + \" +/- \" + str(np.std(Errores)))\n",
    "\n",
    "    print(\"\\nEficiencia en validación aplicando SFS: \" + str(sf.k_score_*100) + \"%\" )\n",
    "\n",
    "    print (\"\\n\\nTiempo total de ejecución: \" + str(time.time()-tiempo_i) + \" segundos.\")\n",
    "\n",
    "    tiempo = time.time()-tiempo_i\n",
    "        \n",
    "    return np.mean(Errores),np.std(Errores),tiempo,sf.k_feature_idx_\n",
    "        #print str(ypred)\n",
    "        #print str(y_test)  \n"
   ]
  },
  {
   "cell_type": "code",
   "execution_count": 44,
   "metadata": {
    "colab": {},
    "colab_type": "code",
    "collapsed": true,
    "id": "PixidUaZgi35"
   },
   "outputs": [],
   "source": [
    "from sklearn.ensemble import RandomForestClassifier\n",
    "from sklearn.svm import SVC\n",
    "from sklearn.neural_network import MLPClassifier\n",
    "\n",
    "def getModel(nameModel):\n",
    "  model = ''  \n",
    "  if nameModel == 'RDF':\n",
    "    model = RandomForestClassifier(criterion = 'entropy', max_depth= 8, max_features= 0.21, n_estimators= 50)\n",
    "    \n",
    "  if nameModel == 'RNA':    \n",
    "    model = MLPClassifier(activation = 'logistic', alpha = 0.01, hidden_layer_sizes = 72, max_iter = 300, solver = 'adam')\n",
    "    \n",
    "  if nameModel == 'SVM':\n",
    "    model = SVC(C =  1, gamma = 0.1, kernel ='rbf')    \n",
    "  return model"
   ]
  },
  {
   "cell_type": "markdown",
   "metadata": {
    "colab_type": "text",
    "id": "hahrL47VjQBe"
   },
   "source": [
    "# RDF"
   ]
  },
  {
   "cell_type": "code",
   "execution_count": 0,
   "metadata": {
    "colab": {
     "base_uri": "https://localhost:8080/",
     "height": 1000
    },
    "colab_type": "code",
    "collapsed": false,
    "id": "HmTnIIAbZTzN",
    "outputId": "66dcdaaa-070a-43ef-c4d5-6ab81f8e95ec"
   },
   "outputs": [
    {
     "name": "stderr",
     "output_type": "stream",
     "text": [
      "[Parallel(n_jobs=1)]: Using backend SequentialBackend with 1 concurrent workers.\n",
      "[Parallel(n_jobs=1)]: Done  23 out of  23 | elapsed:   17.6s finished\n",
      "Features: 1/10[Parallel(n_jobs=1)]: Using backend SequentialBackend with 1 concurrent workers.\n",
      "[Parallel(n_jobs=1)]: Done  22 out of  22 | elapsed:   13.8s finished\n",
      "Features: 2/10[Parallel(n_jobs=1)]: Using backend SequentialBackend with 1 concurrent workers.\n",
      "[Parallel(n_jobs=1)]: Done  21 out of  21 | elapsed:   20.0s finished\n",
      "Features: 3/10[Parallel(n_jobs=1)]: Using backend SequentialBackend with 1 concurrent workers.\n",
      "[Parallel(n_jobs=1)]: Done  20 out of  20 | elapsed:   15.8s finished\n",
      "Features: 4/10[Parallel(n_jobs=1)]: Using backend SequentialBackend with 1 concurrent workers.\n",
      "[Parallel(n_jobs=1)]: Done  19 out of  19 | elapsed:   13.7s finished\n",
      "Features: 5/10[Parallel(n_jobs=1)]: Using backend SequentialBackend with 1 concurrent workers.\n",
      "[Parallel(n_jobs=1)]: Done  18 out of  18 | elapsed:   12.0s finished\n",
      "Features: 6/10[Parallel(n_jobs=1)]: Using backend SequentialBackend with 1 concurrent workers.\n",
      "[Parallel(n_jobs=1)]: Done  17 out of  17 | elapsed:   12.3s finished\n",
      "Features: 7/10[Parallel(n_jobs=1)]: Using backend SequentialBackend with 1 concurrent workers.\n",
      "[Parallel(n_jobs=1)]: Done  16 out of  16 | elapsed:   10.8s finished\n",
      "Features: 8/10[Parallel(n_jobs=1)]: Using backend SequentialBackend with 1 concurrent workers.\n",
      "[Parallel(n_jobs=1)]: Done  15 out of  15 | elapsed:   10.8s finished\n",
      "Features: 9/10[Parallel(n_jobs=1)]: Using backend SequentialBackend with 1 concurrent workers.\n",
      "[Parallel(n_jobs=1)]: Done  14 out of  14 | elapsed:   16.1s finished\n",
      "Features: 10/10[Parallel(n_jobs=1)]: Using backend SequentialBackend with 1 concurrent workers.\n",
      "[Parallel(n_jobs=1)]: Done  23 out of  23 | elapsed:   17.1s finished\n",
      "Features: 1/10[Parallel(n_jobs=1)]: Using backend SequentialBackend with 1 concurrent workers.\n",
      "[Parallel(n_jobs=1)]: Done  22 out of  22 | elapsed:   13.6s finished\n",
      "Features: 2/10[Parallel(n_jobs=1)]: Using backend SequentialBackend with 1 concurrent workers.\n",
      "[Parallel(n_jobs=1)]: Done  21 out of  21 | elapsed:   19.7s finished\n",
      "Features: 3/10[Parallel(n_jobs=1)]: Using backend SequentialBackend with 1 concurrent workers.\n",
      "[Parallel(n_jobs=1)]: Done  20 out of  20 | elapsed:   15.6s finished\n",
      "Features: 4/10[Parallel(n_jobs=1)]: Using backend SequentialBackend with 1 concurrent workers.\n",
      "[Parallel(n_jobs=1)]: Done  19 out of  19 | elapsed:   13.7s finished\n",
      "Features: 5/10[Parallel(n_jobs=1)]: Using backend SequentialBackend with 1 concurrent workers.\n",
      "[Parallel(n_jobs=1)]: Done  18 out of  18 | elapsed:   13.8s finished\n",
      "Features: 6/10[Parallel(n_jobs=1)]: Using backend SequentialBackend with 1 concurrent workers.\n",
      "[Parallel(n_jobs=1)]: Done  17 out of  17 | elapsed:   14.5s finished\n",
      "Features: 7/10[Parallel(n_jobs=1)]: Using backend SequentialBackend with 1 concurrent workers.\n",
      "[Parallel(n_jobs=1)]: Done  16 out of  16 | elapsed:   12.8s finished\n",
      "Features: 8/10[Parallel(n_jobs=1)]: Using backend SequentialBackend with 1 concurrent workers.\n",
      "[Parallel(n_jobs=1)]: Done  15 out of  15 | elapsed:   11.4s finished\n",
      "Features: 9/10[Parallel(n_jobs=1)]: Using backend SequentialBackend with 1 concurrent workers.\n",
      "[Parallel(n_jobs=1)]: Done  14 out of  14 | elapsed:   17.2s finished\n",
      "Features: 10/10[Parallel(n_jobs=1)]: Using backend SequentialBackend with 1 concurrent workers.\n",
      "[Parallel(n_jobs=1)]: Done  23 out of  23 | elapsed:   17.0s finished\n",
      "Features: 1/10[Parallel(n_jobs=1)]: Using backend SequentialBackend with 1 concurrent workers.\n",
      "[Parallel(n_jobs=1)]: Done  22 out of  22 | elapsed:   13.4s finished\n",
      "Features: 2/10[Parallel(n_jobs=1)]: Using backend SequentialBackend with 1 concurrent workers.\n",
      "[Parallel(n_jobs=1)]: Done  21 out of  21 | elapsed:   19.8s finished\n",
      "Features: 3/10[Parallel(n_jobs=1)]: Using backend SequentialBackend with 1 concurrent workers.\n",
      "[Parallel(n_jobs=1)]: Done  20 out of  20 | elapsed:   15.5s finished\n",
      "Features: 4/10[Parallel(n_jobs=1)]: Using backend SequentialBackend with 1 concurrent workers.\n",
      "[Parallel(n_jobs=1)]: Done  19 out of  19 | elapsed:   13.0s finished\n",
      "Features: 5/10[Parallel(n_jobs=1)]: Using backend SequentialBackend with 1 concurrent workers.\n",
      "[Parallel(n_jobs=1)]: Done  18 out of  18 | elapsed:   11.7s finished\n",
      "Features: 6/10[Parallel(n_jobs=1)]: Using backend SequentialBackend with 1 concurrent workers.\n",
      "[Parallel(n_jobs=1)]: Done  17 out of  17 | elapsed:   11.7s finished\n",
      "Features: 7/10[Parallel(n_jobs=1)]: Using backend SequentialBackend with 1 concurrent workers.\n",
      "[Parallel(n_jobs=1)]: Done  16 out of  16 | elapsed:   11.7s finished\n",
      "Features: 8/10[Parallel(n_jobs=1)]: Using backend SequentialBackend with 1 concurrent workers.\n",
      "[Parallel(n_jobs=1)]: Done  15 out of  15 | elapsed:   10.8s finished\n",
      "Features: 9/10[Parallel(n_jobs=1)]: Using backend SequentialBackend with 1 concurrent workers.\n",
      "[Parallel(n_jobs=1)]: Done  14 out of  14 | elapsed:   14.9s finished\n",
      "Features: 10/10[Parallel(n_jobs=1)]: Using backend SequentialBackend with 1 concurrent workers.\n",
      "[Parallel(n_jobs=1)]: Done  23 out of  23 | elapsed:   16.9s finished\n",
      "Features: 1/10[Parallel(n_jobs=1)]: Using backend SequentialBackend with 1 concurrent workers.\n",
      "[Parallel(n_jobs=1)]: Done  22 out of  22 | elapsed:   13.3s finished\n",
      "Features: 2/10[Parallel(n_jobs=1)]: Using backend SequentialBackend with 1 concurrent workers.\n",
      "[Parallel(n_jobs=1)]: Done  21 out of  21 | elapsed:   19.0s finished\n",
      "Features: 3/10[Parallel(n_jobs=1)]: Using backend SequentialBackend with 1 concurrent workers.\n",
      "[Parallel(n_jobs=1)]: Done  20 out of  20 | elapsed:   15.0s finished\n",
      "Features: 4/10[Parallel(n_jobs=1)]: Using backend SequentialBackend with 1 concurrent workers.\n",
      "[Parallel(n_jobs=1)]: Done  19 out of  19 | elapsed:   13.1s finished\n",
      "Features: 5/10[Parallel(n_jobs=1)]: Using backend SequentialBackend with 1 concurrent workers.\n",
      "[Parallel(n_jobs=1)]: Done  18 out of  18 | elapsed:   14.6s finished\n",
      "Features: 6/10[Parallel(n_jobs=1)]: Using backend SequentialBackend with 1 concurrent workers.\n",
      "[Parallel(n_jobs=1)]: Done  17 out of  17 | elapsed:   15.1s finished\n",
      "Features: 7/10[Parallel(n_jobs=1)]: Using backend SequentialBackend with 1 concurrent workers.\n",
      "[Parallel(n_jobs=1)]: Done  16 out of  16 | elapsed:   14.3s finished\n",
      "Features: 8/10[Parallel(n_jobs=1)]: Using backend SequentialBackend with 1 concurrent workers.\n",
      "[Parallel(n_jobs=1)]: Done  15 out of  15 | elapsed:   13.6s finished\n",
      "Features: 9/10[Parallel(n_jobs=1)]: Using backend SequentialBackend with 1 concurrent workers.\n",
      "[Parallel(n_jobs=1)]: Done  14 out of  14 | elapsed:   21.0s finished\n",
      "Features: 10/10[Parallel(n_jobs=1)]: Using backend SequentialBackend with 1 concurrent workers.\n",
      "[Parallel(n_jobs=1)]: Done  23 out of  23 | elapsed:   16.9s finished\n",
      "Features: 1/10[Parallel(n_jobs=1)]: Using backend SequentialBackend with 1 concurrent workers.\n",
      "[Parallel(n_jobs=1)]: Done  22 out of  22 | elapsed:   13.3s finished\n",
      "Features: 2/10[Parallel(n_jobs=1)]: Using backend SequentialBackend with 1 concurrent workers.\n",
      "[Parallel(n_jobs=1)]: Done  21 out of  21 | elapsed:   19.3s finished\n",
      "Features: 3/10[Parallel(n_jobs=1)]: Using backend SequentialBackend with 1 concurrent workers.\n",
      "[Parallel(n_jobs=1)]: Done  20 out of  20 | elapsed:   15.5s finished\n",
      "Features: 4/10[Parallel(n_jobs=1)]: Using backend SequentialBackend with 1 concurrent workers.\n",
      "[Parallel(n_jobs=1)]: Done  19 out of  19 | elapsed:   16.7s finished\n",
      "Features: 5/10[Parallel(n_jobs=1)]: Using backend SequentialBackend with 1 concurrent workers.\n",
      "[Parallel(n_jobs=1)]: Done  18 out of  18 | elapsed:   14.6s finished\n",
      "Features: 6/10[Parallel(n_jobs=1)]: Using backend SequentialBackend with 1 concurrent workers.\n",
      "[Parallel(n_jobs=1)]: Done  17 out of  17 | elapsed:   15.0s finished\n",
      "Features: 7/10[Parallel(n_jobs=1)]: Using backend SequentialBackend with 1 concurrent workers.\n",
      "[Parallel(n_jobs=1)]: Done  16 out of  16 | elapsed:   13.2s finished\n",
      "Features: 8/10[Parallel(n_jobs=1)]: Using backend SequentialBackend with 1 concurrent workers.\n",
      "[Parallel(n_jobs=1)]: Done  15 out of  15 | elapsed:   13.2s finished\n",
      "Features: 9/10[Parallel(n_jobs=1)]: Using backend SequentialBackend with 1 concurrent workers.\n",
      "[Parallel(n_jobs=1)]: Done  14 out of  14 | elapsed:   20.4s finished\n",
      "Features: 10/10[Parallel(n_jobs=1)]: Using backend SequentialBackend with 1 concurrent workers.\n",
      "[Parallel(n_jobs=1)]: Done  23 out of  23 | elapsed:   16.9s finished\n",
      "Features: 1/10[Parallel(n_jobs=1)]: Using backend SequentialBackend with 1 concurrent workers.\n",
      "[Parallel(n_jobs=1)]: Done  22 out of  22 | elapsed:   13.4s finished\n",
      "Features: 2/10[Parallel(n_jobs=1)]: Using backend SequentialBackend with 1 concurrent workers.\n",
      "[Parallel(n_jobs=1)]: Done  21 out of  21 | elapsed:   19.7s finished\n",
      "Features: 3/10[Parallel(n_jobs=1)]: Using backend SequentialBackend with 1 concurrent workers.\n",
      "[Parallel(n_jobs=1)]: Done  20 out of  20 | elapsed:   15.5s finished\n",
      "Features: 4/10[Parallel(n_jobs=1)]: Using backend SequentialBackend with 1 concurrent workers.\n",
      "[Parallel(n_jobs=1)]: Done  19 out of  19 | elapsed:   12.9s finished\n",
      "Features: 5/10[Parallel(n_jobs=1)]: Using backend SequentialBackend with 1 concurrent workers.\n",
      "[Parallel(n_jobs=1)]: Done  18 out of  18 | elapsed:   11.9s finished\n",
      "Features: 6/10[Parallel(n_jobs=1)]: Using backend SequentialBackend with 1 concurrent workers.\n",
      "[Parallel(n_jobs=1)]: Done  17 out of  17 | elapsed:   11.9s finished\n",
      "Features: 7/10[Parallel(n_jobs=1)]: Using backend SequentialBackend with 1 concurrent workers.\n",
      "[Parallel(n_jobs=1)]: Done  16 out of  16 | elapsed:   11.7s finished\n",
      "Features: 8/10[Parallel(n_jobs=1)]: Using backend SequentialBackend with 1 concurrent workers.\n",
      "[Parallel(n_jobs=1)]: Done  15 out of  15 | elapsed:   11.9s finished\n",
      "Features: 9/10[Parallel(n_jobs=1)]: Using backend SequentialBackend with 1 concurrent workers.\n",
      "[Parallel(n_jobs=1)]: Done  14 out of  14 | elapsed:   17.4s finished\n",
      "Features: 10/10[Parallel(n_jobs=1)]: Using backend SequentialBackend with 1 concurrent workers.\n",
      "[Parallel(n_jobs=1)]: Done  23 out of  23 | elapsed:   17.0s finished\n",
      "Features: 1/10[Parallel(n_jobs=1)]: Using backend SequentialBackend with 1 concurrent workers.\n",
      "[Parallel(n_jobs=1)]: Done  22 out of  22 | elapsed:   13.3s finished\n",
      "Features: 2/10[Parallel(n_jobs=1)]: Using backend SequentialBackend with 1 concurrent workers.\n",
      "[Parallel(n_jobs=1)]: Done  21 out of  21 | elapsed:   19.7s finished\n",
      "Features: 3/10[Parallel(n_jobs=1)]: Using backend SequentialBackend with 1 concurrent workers.\n",
      "[Parallel(n_jobs=1)]: Done  20 out of  20 | elapsed:   15.8s finished\n",
      "Features: 4/10[Parallel(n_jobs=1)]: Using backend SequentialBackend with 1 concurrent workers.\n",
      "[Parallel(n_jobs=1)]: Done  19 out of  19 | elapsed:   14.1s finished\n",
      "Features: 5/10[Parallel(n_jobs=1)]: Using backend SequentialBackend with 1 concurrent workers.\n",
      "[Parallel(n_jobs=1)]: Done  18 out of  18 | elapsed:   14.9s finished\n",
      "Features: 6/10[Parallel(n_jobs=1)]: Using backend SequentialBackend with 1 concurrent workers.\n",
      "[Parallel(n_jobs=1)]: Done  17 out of  17 | elapsed:   15.2s finished\n",
      "Features: 7/10[Parallel(n_jobs=1)]: Using backend SequentialBackend with 1 concurrent workers.\n",
      "[Parallel(n_jobs=1)]: Done  16 out of  16 | elapsed:   13.4s finished\n",
      "Features: 8/10[Parallel(n_jobs=1)]: Using backend SequentialBackend with 1 concurrent workers.\n",
      "[Parallel(n_jobs=1)]: Done  15 out of  15 | elapsed:   12.6s finished\n",
      "Features: 9/10[Parallel(n_jobs=1)]: Using backend SequentialBackend with 1 concurrent workers.\n",
      "[Parallel(n_jobs=1)]: Done  14 out of  14 | elapsed:   17.9s finished\n",
      "Features: 10/10[Parallel(n_jobs=1)]: Using backend SequentialBackend with 1 concurrent workers.\n",
      "[Parallel(n_jobs=1)]: Done  23 out of  23 | elapsed:   17.0s finished\n",
      "Features: 1/10[Parallel(n_jobs=1)]: Using backend SequentialBackend with 1 concurrent workers.\n",
      "[Parallel(n_jobs=1)]: Done  22 out of  22 | elapsed:   13.3s finished\n",
      "Features: 2/10[Parallel(n_jobs=1)]: Using backend SequentialBackend with 1 concurrent workers.\n",
      "[Parallel(n_jobs=1)]: Done  21 out of  21 | elapsed:   19.6s finished\n",
      "Features: 3/10[Parallel(n_jobs=1)]: Using backend SequentialBackend with 1 concurrent workers.\n",
      "[Parallel(n_jobs=1)]: Done  20 out of  20 | elapsed:   16.0s finished\n",
      "Features: 4/10[Parallel(n_jobs=1)]: Using backend SequentialBackend with 1 concurrent workers.\n",
      "[Parallel(n_jobs=1)]: Done  19 out of  19 | elapsed:   14.9s finished\n",
      "Features: 5/10[Parallel(n_jobs=1)]: Using backend SequentialBackend with 1 concurrent workers.\n",
      "[Parallel(n_jobs=1)]: Done  18 out of  18 | elapsed:   13.6s finished\n",
      "Features: 6/10[Parallel(n_jobs=1)]: Using backend SequentialBackend with 1 concurrent workers.\n",
      "[Parallel(n_jobs=1)]: Done  17 out of  17 | elapsed:   13.4s finished\n",
      "Features: 7/10[Parallel(n_jobs=1)]: Using backend SequentialBackend with 1 concurrent workers.\n",
      "[Parallel(n_jobs=1)]: Done  16 out of  16 | elapsed:   12.1s finished\n",
      "Features: 8/10[Parallel(n_jobs=1)]: Using backend SequentialBackend with 1 concurrent workers.\n",
      "[Parallel(n_jobs=1)]: Done  15 out of  15 | elapsed:   11.9s finished\n",
      "Features: 9/10[Parallel(n_jobs=1)]: Using backend SequentialBackend with 1 concurrent workers.\n",
      "[Parallel(n_jobs=1)]: Done  14 out of  14 | elapsed:   18.7s finished\n",
      "Features: 10/10[Parallel(n_jobs=1)]: Using backend SequentialBackend with 1 concurrent workers.\n",
      "[Parallel(n_jobs=1)]: Done  23 out of  23 | elapsed:   16.9s finished\n",
      "Features: 1/10[Parallel(n_jobs=1)]: Using backend SequentialBackend with 1 concurrent workers.\n",
      "[Parallel(n_jobs=1)]: Done  22 out of  22 | elapsed:   13.5s finished\n",
      "Features: 2/10[Parallel(n_jobs=1)]: Using backend SequentialBackend with 1 concurrent workers.\n",
      "[Parallel(n_jobs=1)]: Done  21 out of  21 | elapsed:   19.5s finished\n",
      "Features: 3/10[Parallel(n_jobs=1)]: Using backend SequentialBackend with 1 concurrent workers.\n",
      "[Parallel(n_jobs=1)]: Done  20 out of  20 | elapsed:   15.6s finished\n",
      "Features: 4/10[Parallel(n_jobs=1)]: Using backend SequentialBackend with 1 concurrent workers.\n",
      "[Parallel(n_jobs=1)]: Done  19 out of  19 | elapsed:   13.8s finished\n",
      "Features: 5/10[Parallel(n_jobs=1)]: Using backend SequentialBackend with 1 concurrent workers.\n",
      "[Parallel(n_jobs=1)]: Done  18 out of  18 | elapsed:   13.7s finished\n",
      "Features: 6/10[Parallel(n_jobs=1)]: Using backend SequentialBackend with 1 concurrent workers.\n",
      "[Parallel(n_jobs=1)]: Done  17 out of  17 | elapsed:   13.2s finished\n",
      "Features: 7/10[Parallel(n_jobs=1)]: Using backend SequentialBackend with 1 concurrent workers.\n",
      "[Parallel(n_jobs=1)]: Done  16 out of  16 | elapsed:   11.7s finished\n",
      "Features: 8/10[Parallel(n_jobs=1)]: Using backend SequentialBackend with 1 concurrent workers.\n",
      "[Parallel(n_jobs=1)]: Done  15 out of  15 | elapsed:   11.6s finished\n",
      "Features: 9/10[Parallel(n_jobs=1)]: Using backend SequentialBackend with 1 concurrent workers.\n",
      "[Parallel(n_jobs=1)]: Done  14 out of  14 | elapsed:   17.3s finished\n",
      "Features: 10/10[Parallel(n_jobs=1)]: Using backend SequentialBackend with 1 concurrent workers.\n",
      "[Parallel(n_jobs=1)]: Done  23 out of  23 | elapsed:   16.8s finished\n",
      "Features: 1/10[Parallel(n_jobs=1)]: Using backend SequentialBackend with 1 concurrent workers.\n",
      "[Parallel(n_jobs=1)]: Done  22 out of  22 | elapsed:   13.2s finished\n",
      "Features: 2/10[Parallel(n_jobs=1)]: Using backend SequentialBackend with 1 concurrent workers.\n",
      "[Parallel(n_jobs=1)]: Done  21 out of  21 | elapsed:   19.3s finished\n",
      "Features: 3/10[Parallel(n_jobs=1)]: Using backend SequentialBackend with 1 concurrent workers.\n",
      "[Parallel(n_jobs=1)]: Done  20 out of  20 | elapsed:   15.4s finished\n",
      "Features: 4/10[Parallel(n_jobs=1)]: Using backend SequentialBackend with 1 concurrent workers.\n",
      "[Parallel(n_jobs=1)]: Done  19 out of  19 | elapsed:   16.7s finished\n",
      "Features: 5/10[Parallel(n_jobs=1)]: Using backend SequentialBackend with 1 concurrent workers.\n",
      "[Parallel(n_jobs=1)]: Done  18 out of  18 | elapsed:   16.0s finished\n",
      "Features: 6/10[Parallel(n_jobs=1)]: Using backend SequentialBackend with 1 concurrent workers.\n",
      "[Parallel(n_jobs=1)]: Done  17 out of  17 | elapsed:   16.2s finished\n",
      "Features: 7/10[Parallel(n_jobs=1)]: Using backend SequentialBackend with 1 concurrent workers.\n",
      "[Parallel(n_jobs=1)]: Done  16 out of  16 | elapsed:   15.1s finished\n",
      "Features: 8/10[Parallel(n_jobs=1)]: Using backend SequentialBackend with 1 concurrent workers.\n",
      "[Parallel(n_jobs=1)]: Done  15 out of  15 | elapsed:   13.7s finished\n",
      "Features: 9/10[Parallel(n_jobs=1)]: Using backend SequentialBackend with 1 concurrent workers.\n",
      "[Parallel(n_jobs=1)]: Done  14 out of  14 | elapsed:   19.7s finished\n",
      "Features: 10/10"
     ]
    },
    {
     "name": "stdout",
     "output_type": "stream",
     "text": [
      "\n",
      "Error de validación aplicando SFS: 0.16576390289087906 +/- 0.001057135201549656\n",
      "\n",
      "Eficiencia en validación aplicando SFS: 83.49613443822045%\n",
      "\n",
      "\n",
      "Tiempo total de ejecución: 1502.729489326477 segundos.\n",
      "N-FEATURES:  10.0\n",
      "Indices  (1, 4, 5, 6, 9, 11, 14, 16, 17, 18)\n"
     ]
    },
    {
     "name": "stderr",
     "output_type": "stream",
     "text": [
      "[Parallel(n_jobs=1)]: Using backend SequentialBackend with 1 concurrent workers.\n",
      "[Parallel(n_jobs=1)]: Done  23 out of  23 | elapsed:   16.8s finished\n",
      "Features: 1/13[Parallel(n_jobs=1)]: Using backend SequentialBackend with 1 concurrent workers.\n",
      "[Parallel(n_jobs=1)]: Done  22 out of  22 | elapsed:   13.3s finished\n",
      "Features: 2/13[Parallel(n_jobs=1)]: Using backend SequentialBackend with 1 concurrent workers.\n",
      "[Parallel(n_jobs=1)]: Done  21 out of  21 | elapsed:   19.5s finished\n",
      "Features: 3/13[Parallel(n_jobs=1)]: Using backend SequentialBackend with 1 concurrent workers.\n",
      "[Parallel(n_jobs=1)]: Done  20 out of  20 | elapsed:   15.7s finished\n",
      "Features: 4/13[Parallel(n_jobs=1)]: Using backend SequentialBackend with 1 concurrent workers.\n",
      "[Parallel(n_jobs=1)]: Done  19 out of  19 | elapsed:   13.6s finished\n",
      "Features: 5/13[Parallel(n_jobs=1)]: Using backend SequentialBackend with 1 concurrent workers.\n",
      "[Parallel(n_jobs=1)]: Done  18 out of  18 | elapsed:   13.7s finished\n",
      "Features: 6/13[Parallel(n_jobs=1)]: Using backend SequentialBackend with 1 concurrent workers.\n",
      "[Parallel(n_jobs=1)]: Done  17 out of  17 | elapsed:   13.3s finished\n",
      "Features: 7/13[Parallel(n_jobs=1)]: Using backend SequentialBackend with 1 concurrent workers.\n",
      "[Parallel(n_jobs=1)]: Done  16 out of  16 | elapsed:   12.9s finished\n",
      "Features: 8/13[Parallel(n_jobs=1)]: Using backend SequentialBackend with 1 concurrent workers.\n",
      "[Parallel(n_jobs=1)]: Done  15 out of  15 | elapsed:   13.2s finished\n",
      "Features: 9/13[Parallel(n_jobs=1)]: Using backend SequentialBackend with 1 concurrent workers.\n",
      "[Parallel(n_jobs=1)]: Done  14 out of  14 | elapsed:   18.6s finished\n",
      "Features: 10/13[Parallel(n_jobs=1)]: Using backend SequentialBackend with 1 concurrent workers.\n",
      "[Parallel(n_jobs=1)]: Done  13 out of  13 | elapsed:   16.3s finished\n",
      "Features: 11/13[Parallel(n_jobs=1)]: Using backend SequentialBackend with 1 concurrent workers.\n",
      "[Parallel(n_jobs=1)]: Done  12 out of  12 | elapsed:   14.3s finished\n",
      "Features: 12/13[Parallel(n_jobs=1)]: Using backend SequentialBackend with 1 concurrent workers.\n",
      "[Parallel(n_jobs=1)]: Done  11 out of  11 | elapsed:   14.2s finished\n",
      "Features: 13/13[Parallel(n_jobs=1)]: Using backend SequentialBackend with 1 concurrent workers.\n",
      "[Parallel(n_jobs=1)]: Done  23 out of  23 | elapsed:   16.7s finished\n",
      "Features: 1/13[Parallel(n_jobs=1)]: Using backend SequentialBackend with 1 concurrent workers.\n",
      "[Parallel(n_jobs=1)]: Done  22 out of  22 | elapsed:   13.2s finished\n",
      "Features: 2/13[Parallel(n_jobs=1)]: Using backend SequentialBackend with 1 concurrent workers.\n",
      "[Parallel(n_jobs=1)]: Done  21 out of  21 | elapsed:   18.7s finished\n",
      "Features: 3/13[Parallel(n_jobs=1)]: Using backend SequentialBackend with 1 concurrent workers.\n",
      "[Parallel(n_jobs=1)]: Done  20 out of  20 | elapsed:   14.9s finished\n",
      "Features: 4/13[Parallel(n_jobs=1)]: Using backend SequentialBackend with 1 concurrent workers.\n",
      "[Parallel(n_jobs=1)]: Done  19 out of  19 | elapsed:   13.2s finished\n",
      "Features: 5/13[Parallel(n_jobs=1)]: Using backend SequentialBackend with 1 concurrent workers.\n",
      "[Parallel(n_jobs=1)]: Done  18 out of  18 | elapsed:   13.4s finished\n",
      "Features: 6/13[Parallel(n_jobs=1)]: Using backend SequentialBackend with 1 concurrent workers.\n",
      "[Parallel(n_jobs=1)]: Done  17 out of  17 | elapsed:   13.3s finished\n",
      "Features: 7/13[Parallel(n_jobs=1)]: Using backend SequentialBackend with 1 concurrent workers.\n",
      "[Parallel(n_jobs=1)]: Done  16 out of  16 | elapsed:   12.1s finished\n",
      "Features: 8/13[Parallel(n_jobs=1)]: Using backend SequentialBackend with 1 concurrent workers.\n",
      "[Parallel(n_jobs=1)]: Done  15 out of  15 | elapsed:   11.6s finished\n",
      "Features: 9/13[Parallel(n_jobs=1)]: Using backend SequentialBackend with 1 concurrent workers.\n",
      "[Parallel(n_jobs=1)]: Done  14 out of  14 | elapsed:   16.2s finished\n",
      "Features: 10/13[Parallel(n_jobs=1)]: Using backend SequentialBackend with 1 concurrent workers.\n",
      "[Parallel(n_jobs=1)]: Done  13 out of  13 | elapsed:   16.5s finished\n",
      "Features: 11/13[Parallel(n_jobs=1)]: Using backend SequentialBackend with 1 concurrent workers.\n",
      "[Parallel(n_jobs=1)]: Done  12 out of  12 | elapsed:   15.7s finished\n",
      "Features: 12/13[Parallel(n_jobs=1)]: Using backend SequentialBackend with 1 concurrent workers.\n",
      "[Parallel(n_jobs=1)]: Done  11 out of  11 | elapsed:   13.7s finished\n",
      "Features: 13/13[Parallel(n_jobs=1)]: Using backend SequentialBackend with 1 concurrent workers.\n",
      "[Parallel(n_jobs=1)]: Done  23 out of  23 | elapsed:   17.2s finished\n",
      "Features: 1/13[Parallel(n_jobs=1)]: Using backend SequentialBackend with 1 concurrent workers.\n",
      "[Parallel(n_jobs=1)]: Done  22 out of  22 | elapsed:   13.4s finished\n",
      "Features: 2/13[Parallel(n_jobs=1)]: Using backend SequentialBackend with 1 concurrent workers.\n",
      "[Parallel(n_jobs=1)]: Done  21 out of  21 | elapsed:   19.5s finished\n",
      "Features: 3/13[Parallel(n_jobs=1)]: Using backend SequentialBackend with 1 concurrent workers.\n",
      "[Parallel(n_jobs=1)]: Done  20 out of  20 | elapsed:   15.4s finished\n",
      "Features: 4/13[Parallel(n_jobs=1)]: Using backend SequentialBackend with 1 concurrent workers.\n",
      "[Parallel(n_jobs=1)]: Done  19 out of  19 | elapsed:   13.6s finished\n",
      "Features: 5/13[Parallel(n_jobs=1)]: Using backend SequentialBackend with 1 concurrent workers.\n",
      "[Parallel(n_jobs=1)]: Done  18 out of  18 | elapsed:   13.4s finished\n",
      "Features: 6/13[Parallel(n_jobs=1)]: Using backend SequentialBackend with 1 concurrent workers.\n",
      "[Parallel(n_jobs=1)]: Done  17 out of  17 | elapsed:   12.4s finished\n",
      "Features: 7/13[Parallel(n_jobs=1)]: Using backend SequentialBackend with 1 concurrent workers.\n",
      "[Parallel(n_jobs=1)]: Done  16 out of  16 | elapsed:   13.0s finished\n",
      "Features: 8/13[Parallel(n_jobs=1)]: Using backend SequentialBackend with 1 concurrent workers.\n",
      "[Parallel(n_jobs=1)]: Done  15 out of  15 | elapsed:   11.5s finished\n",
      "Features: 9/13[Parallel(n_jobs=1)]: Using backend SequentialBackend with 1 concurrent workers.\n",
      "[Parallel(n_jobs=1)]: Done  14 out of  14 | elapsed:   15.4s finished\n",
      "Features: 10/13[Parallel(n_jobs=1)]: Using backend SequentialBackend with 1 concurrent workers.\n",
      "[Parallel(n_jobs=1)]: Done  13 out of  13 | elapsed:   13.5s finished\n",
      "Features: 11/13[Parallel(n_jobs=1)]: Using backend SequentialBackend with 1 concurrent workers.\n",
      "[Parallel(n_jobs=1)]: Done  12 out of  12 | elapsed:   14.0s finished\n",
      "Features: 12/13[Parallel(n_jobs=1)]: Using backend SequentialBackend with 1 concurrent workers.\n",
      "[Parallel(n_jobs=1)]: Done  11 out of  11 | elapsed:   12.2s finished\n",
      "Features: 13/13[Parallel(n_jobs=1)]: Using backend SequentialBackend with 1 concurrent workers.\n",
      "[Parallel(n_jobs=1)]: Done  23 out of  23 | elapsed:   16.9s finished\n",
      "Features: 1/13[Parallel(n_jobs=1)]: Using backend SequentialBackend with 1 concurrent workers.\n",
      "[Parallel(n_jobs=1)]: Done  22 out of  22 | elapsed:   13.2s finished\n",
      "Features: 2/13[Parallel(n_jobs=1)]: Using backend SequentialBackend with 1 concurrent workers.\n",
      "[Parallel(n_jobs=1)]: Done  21 out of  21 | elapsed:   19.0s finished\n",
      "Features: 3/13[Parallel(n_jobs=1)]: Using backend SequentialBackend with 1 concurrent workers.\n",
      "[Parallel(n_jobs=1)]: Done  20 out of  20 | elapsed:   15.1s finished\n",
      "Features: 4/13[Parallel(n_jobs=1)]: Using backend SequentialBackend with 1 concurrent workers.\n",
      "[Parallel(n_jobs=1)]: Done  19 out of  19 | elapsed:   13.4s finished\n",
      "Features: 5/13[Parallel(n_jobs=1)]: Using backend SequentialBackend with 1 concurrent workers.\n",
      "[Parallel(n_jobs=1)]: Done  18 out of  18 | elapsed:   11.5s finished\n",
      "Features: 6/13[Parallel(n_jobs=1)]: Using backend SequentialBackend with 1 concurrent workers.\n",
      "[Parallel(n_jobs=1)]: Done  17 out of  17 | elapsed:   11.6s finished\n",
      "Features: 7/13[Parallel(n_jobs=1)]: Using backend SequentialBackend with 1 concurrent workers.\n",
      "[Parallel(n_jobs=1)]: Done  16 out of  16 | elapsed:   10.7s finished\n",
      "Features: 8/13[Parallel(n_jobs=1)]: Using backend SequentialBackend with 1 concurrent workers.\n",
      "[Parallel(n_jobs=1)]: Done  15 out of  15 | elapsed:   10.5s finished\n",
      "Features: 9/13[Parallel(n_jobs=1)]: Using backend SequentialBackend with 1 concurrent workers.\n",
      "[Parallel(n_jobs=1)]: Done  14 out of  14 | elapsed:   14.1s finished\n",
      "Features: 10/13[Parallel(n_jobs=1)]: Using backend SequentialBackend with 1 concurrent workers.\n",
      "[Parallel(n_jobs=1)]: Done  13 out of  13 | elapsed:   14.8s finished\n",
      "Features: 11/13[Parallel(n_jobs=1)]: Using backend SequentialBackend with 1 concurrent workers.\n",
      "[Parallel(n_jobs=1)]: Done  12 out of  12 | elapsed:   14.9s finished\n",
      "Features: 12/13[Parallel(n_jobs=1)]: Using backend SequentialBackend with 1 concurrent workers.\n",
      "[Parallel(n_jobs=1)]: Done  11 out of  11 | elapsed:   13.5s finished\n",
      "Features: 13/13[Parallel(n_jobs=1)]: Using backend SequentialBackend with 1 concurrent workers.\n",
      "[Parallel(n_jobs=1)]: Done  23 out of  23 | elapsed:   17.1s finished\n",
      "Features: 1/13[Parallel(n_jobs=1)]: Using backend SequentialBackend with 1 concurrent workers.\n",
      "[Parallel(n_jobs=1)]: Done  22 out of  22 | elapsed:   13.3s finished\n",
      "Features: 2/13[Parallel(n_jobs=1)]: Using backend SequentialBackend with 1 concurrent workers.\n",
      "[Parallel(n_jobs=1)]: Done  21 out of  21 | elapsed:   19.5s finished\n",
      "Features: 3/13[Parallel(n_jobs=1)]: Using backend SequentialBackend with 1 concurrent workers.\n",
      "[Parallel(n_jobs=1)]: Done  20 out of  20 | elapsed:   15.4s finished\n",
      "Features: 4/13[Parallel(n_jobs=1)]: Using backend SequentialBackend with 1 concurrent workers.\n",
      "[Parallel(n_jobs=1)]: Done  19 out of  19 | elapsed:   13.4s finished\n",
      "Features: 5/13[Parallel(n_jobs=1)]: Using backend SequentialBackend with 1 concurrent workers.\n",
      "[Parallel(n_jobs=1)]: Done  18 out of  18 | elapsed:   14.7s finished\n",
      "Features: 6/13[Parallel(n_jobs=1)]: Using backend SequentialBackend with 1 concurrent workers.\n",
      "[Parallel(n_jobs=1)]: Done  17 out of  17 | elapsed:   14.1s finished\n",
      "Features: 7/13[Parallel(n_jobs=1)]: Using backend SequentialBackend with 1 concurrent workers.\n",
      "[Parallel(n_jobs=1)]: Done  16 out of  16 | elapsed:   12.8s finished\n",
      "Features: 8/13[Parallel(n_jobs=1)]: Using backend SequentialBackend with 1 concurrent workers.\n",
      "[Parallel(n_jobs=1)]: Done  15 out of  15 | elapsed:   12.9s finished\n",
      "Features: 9/13[Parallel(n_jobs=1)]: Using backend SequentialBackend with 1 concurrent workers.\n",
      "[Parallel(n_jobs=1)]: Done  14 out of  14 | elapsed:   18.5s finished\n",
      "Features: 10/13[Parallel(n_jobs=1)]: Using backend SequentialBackend with 1 concurrent workers.\n",
      "[Parallel(n_jobs=1)]: Done  13 out of  13 | elapsed:   18.3s finished\n",
      "Features: 11/13[Parallel(n_jobs=1)]: Using backend SequentialBackend with 1 concurrent workers.\n",
      "[Parallel(n_jobs=1)]: Done  12 out of  12 | elapsed:   16.1s finished\n",
      "Features: 12/13[Parallel(n_jobs=1)]: Using backend SequentialBackend with 1 concurrent workers.\n",
      "[Parallel(n_jobs=1)]: Done  11 out of  11 | elapsed:   15.1s finished\n",
      "Features: 13/13[Parallel(n_jobs=1)]: Using backend SequentialBackend with 1 concurrent workers.\n",
      "[Parallel(n_jobs=1)]: Done  23 out of  23 | elapsed:   16.9s finished\n",
      "Features: 1/13[Parallel(n_jobs=1)]: Using backend SequentialBackend with 1 concurrent workers.\n",
      "[Parallel(n_jobs=1)]: Done  22 out of  22 | elapsed:   13.4s finished\n",
      "Features: 2/13[Parallel(n_jobs=1)]: Using backend SequentialBackend with 1 concurrent workers.\n",
      "[Parallel(n_jobs=1)]: Done  21 out of  21 | elapsed:   19.6s finished\n",
      "Features: 3/13[Parallel(n_jobs=1)]: Using backend SequentialBackend with 1 concurrent workers.\n",
      "[Parallel(n_jobs=1)]: Done  20 out of  20 | elapsed:   15.6s finished\n",
      "Features: 4/13[Parallel(n_jobs=1)]: Using backend SequentialBackend with 1 concurrent workers.\n",
      "[Parallel(n_jobs=1)]: Done  19 out of  19 | elapsed:   12.9s finished\n",
      "Features: 5/13[Parallel(n_jobs=1)]: Using backend SequentialBackend with 1 concurrent workers.\n",
      "[Parallel(n_jobs=1)]: Done  18 out of  18 | elapsed:   13.0s finished\n",
      "Features: 6/13[Parallel(n_jobs=1)]: Using backend SequentialBackend with 1 concurrent workers.\n",
      "[Parallel(n_jobs=1)]: Done  17 out of  17 | elapsed:   11.2s finished\n",
      "Features: 7/13[Parallel(n_jobs=1)]: Using backend SequentialBackend with 1 concurrent workers.\n",
      "[Parallel(n_jobs=1)]: Done  16 out of  16 | elapsed:   10.4s finished\n",
      "Features: 8/13[Parallel(n_jobs=1)]: Using backend SequentialBackend with 1 concurrent workers.\n",
      "[Parallel(n_jobs=1)]: Done  15 out of  15 | elapsed:   10.2s finished\n",
      "Features: 9/13[Parallel(n_jobs=1)]: Using backend SequentialBackend with 1 concurrent workers.\n",
      "[Parallel(n_jobs=1)]: Done  14 out of  14 | elapsed:   16.4s finished\n",
      "Features: 10/13[Parallel(n_jobs=1)]: Using backend SequentialBackend with 1 concurrent workers.\n",
      "[Parallel(n_jobs=1)]: Done  13 out of  13 | elapsed:   16.7s finished\n",
      "Features: 11/13[Parallel(n_jobs=1)]: Using backend SequentialBackend with 1 concurrent workers.\n",
      "[Parallel(n_jobs=1)]: Done  12 out of  12 | elapsed:   15.0s finished\n",
      "Features: 12/13[Parallel(n_jobs=1)]: Using backend SequentialBackend with 1 concurrent workers.\n",
      "[Parallel(n_jobs=1)]: Done  11 out of  11 | elapsed:   14.8s finished\n",
      "Features: 13/13[Parallel(n_jobs=1)]: Using backend SequentialBackend with 1 concurrent workers.\n",
      "[Parallel(n_jobs=1)]: Done  23 out of  23 | elapsed:   16.9s finished\n",
      "Features: 1/13[Parallel(n_jobs=1)]: Using backend SequentialBackend with 1 concurrent workers.\n",
      "[Parallel(n_jobs=1)]: Done  22 out of  22 | elapsed:   13.5s finished\n",
      "Features: 2/13[Parallel(n_jobs=1)]: Using backend SequentialBackend with 1 concurrent workers.\n",
      "[Parallel(n_jobs=1)]: Done  21 out of  21 | elapsed:   19.3s finished\n",
      "Features: 3/13[Parallel(n_jobs=1)]: Using backend SequentialBackend with 1 concurrent workers.\n",
      "[Parallel(n_jobs=1)]: Done  20 out of  20 | elapsed:   15.6s finished\n",
      "Features: 4/13[Parallel(n_jobs=1)]: Using backend SequentialBackend with 1 concurrent workers.\n",
      "[Parallel(n_jobs=1)]: Done  19 out of  19 | elapsed:   16.9s finished\n",
      "Features: 5/13[Parallel(n_jobs=1)]: Using backend SequentialBackend with 1 concurrent workers.\n",
      "[Parallel(n_jobs=1)]: Done  18 out of  18 | elapsed:   14.9s finished\n",
      "Features: 6/13[Parallel(n_jobs=1)]: Using backend SequentialBackend with 1 concurrent workers.\n",
      "[Parallel(n_jobs=1)]: Done  17 out of  17 | elapsed:   13.2s finished\n",
      "Features: 7/13[Parallel(n_jobs=1)]: Using backend SequentialBackend with 1 concurrent workers.\n",
      "[Parallel(n_jobs=1)]: Done  16 out of  16 | elapsed:   13.7s finished\n",
      "Features: 8/13[Parallel(n_jobs=1)]: Using backend SequentialBackend with 1 concurrent workers.\n",
      "[Parallel(n_jobs=1)]: Done  15 out of  15 | elapsed:   13.0s finished\n",
      "Features: 9/13[Parallel(n_jobs=1)]: Using backend SequentialBackend with 1 concurrent workers.\n",
      "[Parallel(n_jobs=1)]: Done  14 out of  14 | elapsed:   19.9s finished\n",
      "Features: 10/13[Parallel(n_jobs=1)]: Using backend SequentialBackend with 1 concurrent workers.\n",
      "[Parallel(n_jobs=1)]: Done  13 out of  13 | elapsed:   17.2s finished\n",
      "Features: 11/13[Parallel(n_jobs=1)]: Using backend SequentialBackend with 1 concurrent workers.\n",
      "[Parallel(n_jobs=1)]: Done  12 out of  12 | elapsed:   16.3s finished\n",
      "Features: 12/13[Parallel(n_jobs=1)]: Using backend SequentialBackend with 1 concurrent workers.\n",
      "[Parallel(n_jobs=1)]: Done  11 out of  11 | elapsed:   15.9s finished\n",
      "Features: 13/13[Parallel(n_jobs=1)]: Using backend SequentialBackend with 1 concurrent workers.\n",
      "[Parallel(n_jobs=1)]: Done  23 out of  23 | elapsed:   16.8s finished\n",
      "Features: 1/13[Parallel(n_jobs=1)]: Using backend SequentialBackend with 1 concurrent workers.\n",
      "[Parallel(n_jobs=1)]: Done  22 out of  22 | elapsed:   13.2s finished\n",
      "Features: 2/13[Parallel(n_jobs=1)]: Using backend SequentialBackend with 1 concurrent workers.\n",
      "[Parallel(n_jobs=1)]: Done  21 out of  21 | elapsed:   19.4s finished\n",
      "Features: 3/13[Parallel(n_jobs=1)]: Using backend SequentialBackend with 1 concurrent workers.\n",
      "[Parallel(n_jobs=1)]: Done  20 out of  20 | elapsed:   15.4s finished\n",
      "Features: 4/13[Parallel(n_jobs=1)]: Using backend SequentialBackend with 1 concurrent workers.\n",
      "[Parallel(n_jobs=1)]: Done  19 out of  19 | elapsed:   13.4s finished\n",
      "Features: 5/13[Parallel(n_jobs=1)]: Using backend SequentialBackend with 1 concurrent workers.\n",
      "[Parallel(n_jobs=1)]: Done  18 out of  18 | elapsed:   14.4s finished\n",
      "Features: 6/13[Parallel(n_jobs=1)]: Using backend SequentialBackend with 1 concurrent workers.\n",
      "[Parallel(n_jobs=1)]: Done  17 out of  17 | elapsed:   14.0s finished\n",
      "Features: 7/13[Parallel(n_jobs=1)]: Using backend SequentialBackend with 1 concurrent workers.\n",
      "[Parallel(n_jobs=1)]: Done  16 out of  16 | elapsed:   12.2s finished\n",
      "Features: 8/13[Parallel(n_jobs=1)]: Using backend SequentialBackend with 1 concurrent workers.\n",
      "[Parallel(n_jobs=1)]: Done  15 out of  15 | elapsed:   11.9s finished\n",
      "Features: 9/13[Parallel(n_jobs=1)]: Using backend SequentialBackend with 1 concurrent workers.\n",
      "[Parallel(n_jobs=1)]: Done  14 out of  14 | elapsed:   17.2s finished\n",
      "Features: 10/13[Parallel(n_jobs=1)]: Using backend SequentialBackend with 1 concurrent workers.\n",
      "[Parallel(n_jobs=1)]: Done  13 out of  13 | elapsed:   15.2s finished\n",
      "Features: 11/13[Parallel(n_jobs=1)]: Using backend SequentialBackend with 1 concurrent workers.\n",
      "[Parallel(n_jobs=1)]: Done  12 out of  12 | elapsed:   15.3s finished\n",
      "Features: 12/13[Parallel(n_jobs=1)]: Using backend SequentialBackend with 1 concurrent workers.\n",
      "[Parallel(n_jobs=1)]: Done  11 out of  11 | elapsed:   13.3s finished\n",
      "Features: 13/13[Parallel(n_jobs=1)]: Using backend SequentialBackend with 1 concurrent workers.\n",
      "[Parallel(n_jobs=1)]: Done  23 out of  23 | elapsed:   16.8s finished\n",
      "Features: 1/13[Parallel(n_jobs=1)]: Using backend SequentialBackend with 1 concurrent workers.\n",
      "[Parallel(n_jobs=1)]: Done  22 out of  22 | elapsed:   13.1s finished\n",
      "Features: 2/13[Parallel(n_jobs=1)]: Using backend SequentialBackend with 1 concurrent workers.\n",
      "[Parallel(n_jobs=1)]: Done  21 out of  21 | elapsed:   19.3s finished\n",
      "Features: 3/13[Parallel(n_jobs=1)]: Using backend SequentialBackend with 1 concurrent workers.\n",
      "[Parallel(n_jobs=1)]: Done  20 out of  20 | elapsed:   15.5s finished\n",
      "Features: 4/13[Parallel(n_jobs=1)]: Using backend SequentialBackend with 1 concurrent workers.\n",
      "[Parallel(n_jobs=1)]: Done  19 out of  19 | elapsed:   12.9s finished\n",
      "Features: 5/13[Parallel(n_jobs=1)]: Using backend SequentialBackend with 1 concurrent workers.\n",
      "[Parallel(n_jobs=1)]: Done  18 out of  18 | elapsed:   12.9s finished\n",
      "Features: 6/13[Parallel(n_jobs=1)]: Using backend SequentialBackend with 1 concurrent workers.\n",
      "[Parallel(n_jobs=1)]: Done  17 out of  17 | elapsed:   12.7s finished\n",
      "Features: 7/13[Parallel(n_jobs=1)]: Using backend SequentialBackend with 1 concurrent workers.\n",
      "[Parallel(n_jobs=1)]: Done  16 out of  16 | elapsed:   13.1s finished\n",
      "Features: 8/13[Parallel(n_jobs=1)]: Using backend SequentialBackend with 1 concurrent workers.\n",
      "[Parallel(n_jobs=1)]: Done  15 out of  15 | elapsed:   12.6s finished\n",
      "Features: 9/13[Parallel(n_jobs=1)]: Using backend SequentialBackend with 1 concurrent workers.\n",
      "[Parallel(n_jobs=1)]: Done  14 out of  14 | elapsed:   17.7s finished\n",
      "Features: 10/13[Parallel(n_jobs=1)]: Using backend SequentialBackend with 1 concurrent workers.\n",
      "[Parallel(n_jobs=1)]: Done  13 out of  13 | elapsed:   16.9s finished\n",
      "Features: 11/13[Parallel(n_jobs=1)]: Using backend SequentialBackend with 1 concurrent workers.\n",
      "[Parallel(n_jobs=1)]: Done  12 out of  12 | elapsed:   15.2s finished\n",
      "Features: 12/13[Parallel(n_jobs=1)]: Using backend SequentialBackend with 1 concurrent workers.\n",
      "[Parallel(n_jobs=1)]: Done  11 out of  11 | elapsed:   14.3s finished\n",
      "Features: 13/13[Parallel(n_jobs=1)]: Using backend SequentialBackend with 1 concurrent workers.\n",
      "[Parallel(n_jobs=1)]: Done  23 out of  23 | elapsed:   16.8s finished\n",
      "Features: 1/13[Parallel(n_jobs=1)]: Using backend SequentialBackend with 1 concurrent workers.\n",
      "[Parallel(n_jobs=1)]: Done  22 out of  22 | elapsed:   13.1s finished\n",
      "Features: 2/13[Parallel(n_jobs=1)]: Using backend SequentialBackend with 1 concurrent workers.\n",
      "[Parallel(n_jobs=1)]: Done  21 out of  21 | elapsed:   19.3s finished\n",
      "Features: 3/13[Parallel(n_jobs=1)]: Using backend SequentialBackend with 1 concurrent workers.\n",
      "[Parallel(n_jobs=1)]: Done  20 out of  20 | elapsed:   15.5s finished\n",
      "Features: 4/13[Parallel(n_jobs=1)]: Using backend SequentialBackend with 1 concurrent workers.\n",
      "[Parallel(n_jobs=1)]: Done  19 out of  19 | elapsed:   13.4s finished\n",
      "Features: 5/13[Parallel(n_jobs=1)]: Using backend SequentialBackend with 1 concurrent workers.\n",
      "[Parallel(n_jobs=1)]: Done  18 out of  18 | elapsed:   13.4s finished\n",
      "Features: 6/13[Parallel(n_jobs=1)]: Using backend SequentialBackend with 1 concurrent workers.\n",
      "[Parallel(n_jobs=1)]: Done  17 out of  17 | elapsed:   14.2s finished\n",
      "Features: 7/13[Parallel(n_jobs=1)]: Using backend SequentialBackend with 1 concurrent workers.\n",
      "[Parallel(n_jobs=1)]: Done  16 out of  16 | elapsed:   12.5s finished\n",
      "Features: 8/13[Parallel(n_jobs=1)]: Using backend SequentialBackend with 1 concurrent workers.\n",
      "[Parallel(n_jobs=1)]: Done  15 out of  15 | elapsed:   11.3s finished\n",
      "Features: 9/13[Parallel(n_jobs=1)]: Using backend SequentialBackend with 1 concurrent workers.\n",
      "[Parallel(n_jobs=1)]: Done  14 out of  14 | elapsed:   16.9s finished\n",
      "Features: 10/13[Parallel(n_jobs=1)]: Using backend SequentialBackend with 1 concurrent workers.\n",
      "[Parallel(n_jobs=1)]: Done  13 out of  13 | elapsed:   14.9s finished\n",
      "Features: 11/13[Parallel(n_jobs=1)]: Using backend SequentialBackend with 1 concurrent workers.\n",
      "[Parallel(n_jobs=1)]: Done  12 out of  12 | elapsed:   15.1s finished\n",
      "Features: 12/13[Parallel(n_jobs=1)]: Using backend SequentialBackend with 1 concurrent workers.\n",
      "[Parallel(n_jobs=1)]: Done  11 out of  11 | elapsed:   14.6s finished\n",
      "Features: 13/13[Parallel(n_jobs=1)]: Using backend SequentialBackend with 1 concurrent workers.\n"
     ]
    },
    {
     "name": "stdout",
     "output_type": "stream",
     "text": [
      "\n",
      "Error de validación aplicando SFS: 0.16519448223624736 +/- 0.001174457062972763\n",
      "\n",
      "Eficiencia en validación aplicando SFS: 83.53779917596408%\n",
      "\n",
      "\n",
      "Tiempo total de ejecución: 1918.842645406723 segundos.\n",
      "N-FEATURES:  13.0\n",
      "Indices  (1, 4, 5, 6, 7, 9, 11, 14, 15, 16, 18, 19, 22)\n"
     ]
    },
    {
     "name": "stderr",
     "output_type": "stream",
     "text": [
      "[Parallel(n_jobs=1)]: Done  23 out of  23 | elapsed:   16.8s finished\n",
      "Features: 1/15[Parallel(n_jobs=1)]: Using backend SequentialBackend with 1 concurrent workers.\n",
      "[Parallel(n_jobs=1)]: Done  22 out of  22 | elapsed:   13.2s finished\n",
      "Features: 2/15[Parallel(n_jobs=1)]: Using backend SequentialBackend with 1 concurrent workers.\n",
      "[Parallel(n_jobs=1)]: Done  21 out of  21 | elapsed:   19.6s finished\n",
      "Features: 3/15[Parallel(n_jobs=1)]: Using backend SequentialBackend with 1 concurrent workers.\n",
      "[Parallel(n_jobs=1)]: Done  20 out of  20 | elapsed:   15.4s finished\n",
      "Features: 4/15[Parallel(n_jobs=1)]: Using backend SequentialBackend with 1 concurrent workers.\n",
      "[Parallel(n_jobs=1)]: Done  19 out of  19 | elapsed:   13.4s finished\n",
      "Features: 5/15[Parallel(n_jobs=1)]: Using backend SequentialBackend with 1 concurrent workers.\n",
      "[Parallel(n_jobs=1)]: Done  18 out of  18 | elapsed:   14.5s finished\n",
      "Features: 6/15[Parallel(n_jobs=1)]: Using backend SequentialBackend with 1 concurrent workers.\n",
      "[Parallel(n_jobs=1)]: Done  17 out of  17 | elapsed:   14.9s finished\n",
      "Features: 7/15[Parallel(n_jobs=1)]: Using backend SequentialBackend with 1 concurrent workers.\n",
      "[Parallel(n_jobs=1)]: Done  16 out of  16 | elapsed:   13.4s finished\n",
      "Features: 8/15[Parallel(n_jobs=1)]: Using backend SequentialBackend with 1 concurrent workers.\n",
      "[Parallel(n_jobs=1)]: Done  15 out of  15 | elapsed:   11.7s finished\n",
      "Features: 9/15[Parallel(n_jobs=1)]: Using backend SequentialBackend with 1 concurrent workers.\n",
      "[Parallel(n_jobs=1)]: Done  14 out of  14 | elapsed:   17.9s finished\n",
      "Features: 10/15[Parallel(n_jobs=1)]: Using backend SequentialBackend with 1 concurrent workers.\n",
      "[Parallel(n_jobs=1)]: Done  13 out of  13 | elapsed:   18.0s finished\n",
      "Features: 11/15[Parallel(n_jobs=1)]: Using backend SequentialBackend with 1 concurrent workers.\n",
      "[Parallel(n_jobs=1)]: Done  12 out of  12 | elapsed:   16.8s finished\n",
      "Features: 12/15[Parallel(n_jobs=1)]: Using backend SequentialBackend with 1 concurrent workers.\n",
      "[Parallel(n_jobs=1)]: Done  11 out of  11 | elapsed:   14.7s finished\n",
      "Features: 13/15[Parallel(n_jobs=1)]: Using backend SequentialBackend with 1 concurrent workers.\n",
      "[Parallel(n_jobs=1)]: Done  10 out of  10 | elapsed:   14.0s finished\n",
      "Features: 14/15[Parallel(n_jobs=1)]: Using backend SequentialBackend with 1 concurrent workers.\n",
      "[Parallel(n_jobs=1)]: Done   9 out of   9 | elapsed:   18.3s finished\n",
      "Features: 15/15[Parallel(n_jobs=1)]: Using backend SequentialBackend with 1 concurrent workers.\n",
      "[Parallel(n_jobs=1)]: Done  23 out of  23 | elapsed:   16.8s finished\n",
      "Features: 1/15[Parallel(n_jobs=1)]: Using backend SequentialBackend with 1 concurrent workers.\n",
      "[Parallel(n_jobs=1)]: Done  22 out of  22 | elapsed:   13.5s finished\n",
      "Features: 2/15[Parallel(n_jobs=1)]: Using backend SequentialBackend with 1 concurrent workers.\n",
      "[Parallel(n_jobs=1)]: Done  21 out of  21 | elapsed:   18.9s finished\n",
      "Features: 3/15[Parallel(n_jobs=1)]: Using backend SequentialBackend with 1 concurrent workers.\n",
      "[Parallel(n_jobs=1)]: Done  20 out of  20 | elapsed:   15.2s finished\n",
      "Features: 4/15[Parallel(n_jobs=1)]: Using backend SequentialBackend with 1 concurrent workers.\n",
      "[Parallel(n_jobs=1)]: Done  19 out of  19 | elapsed:   13.3s finished\n",
      "Features: 5/15[Parallel(n_jobs=1)]: Using backend SequentialBackend with 1 concurrent workers.\n",
      "[Parallel(n_jobs=1)]: Done  18 out of  18 | elapsed:   13.3s finished\n",
      "Features: 6/15[Parallel(n_jobs=1)]: Using backend SequentialBackend with 1 concurrent workers.\n",
      "[Parallel(n_jobs=1)]: Done  17 out of  17 | elapsed:   12.1s finished\n",
      "Features: 7/15[Parallel(n_jobs=1)]: Using backend SequentialBackend with 1 concurrent workers.\n",
      "[Parallel(n_jobs=1)]: Done  16 out of  16 | elapsed:   12.1s finished\n",
      "Features: 8/15[Parallel(n_jobs=1)]: Using backend SequentialBackend with 1 concurrent workers.\n",
      "[Parallel(n_jobs=1)]: Done  15 out of  15 | elapsed:   10.7s finished\n",
      "Features: 9/15[Parallel(n_jobs=1)]: Using backend SequentialBackend with 1 concurrent workers.\n",
      "[Parallel(n_jobs=1)]: Done  14 out of  14 | elapsed:   16.1s finished\n",
      "Features: 10/15[Parallel(n_jobs=1)]: Using backend SequentialBackend with 1 concurrent workers.\n",
      "[Parallel(n_jobs=1)]: Done  13 out of  13 | elapsed:   16.1s finished\n",
      "Features: 11/15[Parallel(n_jobs=1)]: Using backend SequentialBackend with 1 concurrent workers.\n",
      "[Parallel(n_jobs=1)]: Done  12 out of  12 | elapsed:   15.5s finished\n",
      "Features: 12/15[Parallel(n_jobs=1)]: Using backend SequentialBackend with 1 concurrent workers.\n",
      "[Parallel(n_jobs=1)]: Done  11 out of  11 | elapsed:   15.0s finished\n",
      "Features: 13/15[Parallel(n_jobs=1)]: Using backend SequentialBackend with 1 concurrent workers.\n",
      "[Parallel(n_jobs=1)]: Done  10 out of  10 | elapsed:   13.8s finished\n",
      "Features: 14/15[Parallel(n_jobs=1)]: Using backend SequentialBackend with 1 concurrent workers.\n",
      "[Parallel(n_jobs=1)]: Done   9 out of   9 | elapsed:   18.2s finished\n",
      "Features: 15/15[Parallel(n_jobs=1)]: Using backend SequentialBackend with 1 concurrent workers.\n",
      "[Parallel(n_jobs=1)]: Done  23 out of  23 | elapsed:   16.9s finished\n",
      "Features: 1/15[Parallel(n_jobs=1)]: Using backend SequentialBackend with 1 concurrent workers.\n",
      "[Parallel(n_jobs=1)]: Done  22 out of  22 | elapsed:   13.3s finished\n",
      "Features: 2/15[Parallel(n_jobs=1)]: Using backend SequentialBackend with 1 concurrent workers.\n",
      "[Parallel(n_jobs=1)]: Done  21 out of  21 | elapsed:   19.4s finished\n",
      "Features: 3/15[Parallel(n_jobs=1)]: Using backend SequentialBackend with 1 concurrent workers.\n",
      "[Parallel(n_jobs=1)]: Done  20 out of  20 | elapsed:   15.6s finished\n",
      "Features: 4/15[Parallel(n_jobs=1)]: Using backend SequentialBackend with 1 concurrent workers.\n",
      "[Parallel(n_jobs=1)]: Done  19 out of  19 | elapsed:   15.5s finished\n",
      "Features: 5/15[Parallel(n_jobs=1)]: Using backend SequentialBackend with 1 concurrent workers.\n",
      "[Parallel(n_jobs=1)]: Done  18 out of  18 | elapsed:   16.2s finished\n",
      "Features: 6/15[Parallel(n_jobs=1)]: Using backend SequentialBackend with 1 concurrent workers.\n",
      "[Parallel(n_jobs=1)]: Done  17 out of  17 | elapsed:   14.4s finished\n",
      "Features: 7/15[Parallel(n_jobs=1)]: Using backend SequentialBackend with 1 concurrent workers.\n",
      "[Parallel(n_jobs=1)]: Done  16 out of  16 | elapsed:   13.5s finished\n",
      "Features: 8/15[Parallel(n_jobs=1)]: Using backend SequentialBackend with 1 concurrent workers.\n",
      "[Parallel(n_jobs=1)]: Done  15 out of  15 | elapsed:   12.4s finished\n",
      "Features: 9/15[Parallel(n_jobs=1)]: Using backend SequentialBackend with 1 concurrent workers.\n",
      "[Parallel(n_jobs=1)]: Done  14 out of  14 | elapsed:   16.9s finished\n",
      "Features: 10/15[Parallel(n_jobs=1)]: Using backend SequentialBackend with 1 concurrent workers.\n",
      "[Parallel(n_jobs=1)]: Done  13 out of  13 | elapsed:   16.4s finished\n",
      "Features: 11/15[Parallel(n_jobs=1)]: Using backend SequentialBackend with 1 concurrent workers.\n",
      "[Parallel(n_jobs=1)]: Done  12 out of  12 | elapsed:   14.7s finished\n",
      "Features: 12/15[Parallel(n_jobs=1)]: Using backend SequentialBackend with 1 concurrent workers.\n",
      "[Parallel(n_jobs=1)]: Done  11 out of  11 | elapsed:   12.9s finished\n",
      "Features: 13/15[Parallel(n_jobs=1)]: Using backend SequentialBackend with 1 concurrent workers.\n",
      "[Parallel(n_jobs=1)]: Done  10 out of  10 | elapsed:   12.4s finished\n",
      "Features: 14/15[Parallel(n_jobs=1)]: Using backend SequentialBackend with 1 concurrent workers.\n",
      "[Parallel(n_jobs=1)]: Done   9 out of   9 | elapsed:   15.6s finished\n",
      "Features: 15/15[Parallel(n_jobs=1)]: Using backend SequentialBackend with 1 concurrent workers.\n",
      "[Parallel(n_jobs=1)]: Done  23 out of  23 | elapsed:   16.9s finished\n",
      "Features: 1/15[Parallel(n_jobs=1)]: Using backend SequentialBackend with 1 concurrent workers.\n",
      "[Parallel(n_jobs=1)]: Done  22 out of  22 | elapsed:   13.4s finished\n",
      "Features: 2/15[Parallel(n_jobs=1)]: Using backend SequentialBackend with 1 concurrent workers.\n",
      "[Parallel(n_jobs=1)]: Done  21 out of  21 | elapsed:   19.4s finished\n",
      "Features: 3/15[Parallel(n_jobs=1)]: Using backend SequentialBackend with 1 concurrent workers.\n",
      "[Parallel(n_jobs=1)]: Done  20 out of  20 | elapsed:   15.8s finished\n",
      "Features: 4/15[Parallel(n_jobs=1)]: Using backend SequentialBackend with 1 concurrent workers.\n",
      "[Parallel(n_jobs=1)]: Done  19 out of  19 | elapsed:   15.3s finished\n",
      "Features: 5/15[Parallel(n_jobs=1)]: Using backend SequentialBackend with 1 concurrent workers.\n",
      "[Parallel(n_jobs=1)]: Done  18 out of  18 | elapsed:   13.7s finished\n",
      "Features: 6/15[Parallel(n_jobs=1)]: Using backend SequentialBackend with 1 concurrent workers.\n",
      "[Parallel(n_jobs=1)]: Done  17 out of  17 | elapsed:   14.5s finished\n",
      "Features: 7/15[Parallel(n_jobs=1)]: Using backend SequentialBackend with 1 concurrent workers.\n",
      "[Parallel(n_jobs=1)]: Done  16 out of  16 | elapsed:   13.1s finished\n",
      "Features: 8/15[Parallel(n_jobs=1)]: Using backend SequentialBackend with 1 concurrent workers.\n",
      "[Parallel(n_jobs=1)]: Done  15 out of  15 | elapsed:   12.3s finished\n",
      "Features: 9/15[Parallel(n_jobs=1)]: Using backend SequentialBackend with 1 concurrent workers.\n",
      "[Parallel(n_jobs=1)]: Done  14 out of  14 | elapsed:   18.5s finished\n",
      "Features: 10/15[Parallel(n_jobs=1)]: Using backend SequentialBackend with 1 concurrent workers.\n",
      "[Parallel(n_jobs=1)]: Done  13 out of  13 | elapsed:   18.6s finished\n",
      "Features: 11/15[Parallel(n_jobs=1)]: Using backend SequentialBackend with 1 concurrent workers.\n",
      "[Parallel(n_jobs=1)]: Done  12 out of  12 | elapsed:   18.2s finished\n",
      "Features: 12/15[Parallel(n_jobs=1)]: Using backend SequentialBackend with 1 concurrent workers.\n",
      "[Parallel(n_jobs=1)]: Done  11 out of  11 | elapsed:   15.8s finished\n",
      "Features: 13/15[Parallel(n_jobs=1)]: Using backend SequentialBackend with 1 concurrent workers.\n"
     ]
    }
   ],
   "source": [
    "erroresA = []\n",
    "stdsA  = []\n",
    "tiemposA = []\n",
    "k_feature_idx_A = []\n",
    "\n",
    "\n",
    "import pandas as pd\n",
    "import qgrid\n",
    "df_types = pd.DataFrame({\n",
    "    'Modelo' : pd.Series(['RDF']*5),\n",
    "    '# de características seleccionadas' : pd.Series([10]*1),\n",
    "    'Fordward':pd.Series([True]*5)\n",
    "\n",
    "   })\n",
    "df_types.set_index(['Modelo','# de características seleccionadas','Fordward'], inplace=True)\n",
    "\n",
    "for i in df_types.index:  \n",
    "  \n",
    "  \n",
    "  model = getModel(str(i[0]))\n",
    "  tiempos,errores,stds,k_feature_idx_ = implementationSelectionFeatures(model,int(i[1]),i[2],False)\n",
    "  \n",
    "  erroresA.append(errores)\n",
    "  stdsA.append(stds)\n",
    "  tiemposA.append(tiempos)\n",
    "  k_feature_idx_A.append(k_feature_idx_)\n",
    "  \n",
    "  \n",
    "  \n",
    "  print('N-FEATURES: ', str(i[1]))\n",
    "  print(\"Indices \",k_feature_idx_)\n",
    "  \n",
    "  df_types[\"Error de validación\"] = \"\"\n",
    "  df_types[\"IC(std)\"] = \"\"\n",
    "  df_types[\"Tiempo de ejecución\"] = \"\"  \n",
    "  df_types[\"Indices de caracteristicas\"] = \"\"\n",
    "  \n",
    "  \n",
    "  df_types[\"Error de validación\"][i] = errores\n",
    "  df_types[\"IC(std)\"][i]= stds\n",
    "  df_types[\"Tiempo de ejecución\"][i] = tiempos\n",
    "  df_types[\"Indices de caracteristicas\"][i] = k_feature_idx_  \n",
    "  \n",
    "  \n",
    "  #df_types.sort_index(inplace=True)\n",
    "qgrid_widget = qgrid.show_grid(df_types, show_toolbar=False)\n",
    "qgrid_widget\n",
    "qgrid_widget.get_changed_df()"
   ]
  },
  {
   "cell_type": "code",
   "execution_count": 0,
   "metadata": {
    "colab": {
     "base_uri": "https://localhost:8080/",
     "height": 363
    },
    "colab_type": "code",
    "collapsed": false,
    "executionInfo": {
     "elapsed": 478,
     "status": "error",
     "timestamp": 1570376656799,
     "user": {
      "displayName": "LEON DARÍO ARANGO AMAYA",
      "photoUrl": "https://lh3.googleusercontent.com/a-/AAuE7mAVlNnXKgaMV4o_n4uMw2Dsx2VLyb8Ng74F-gJ52A=s64",
      "userId": "02024137269287823222"
     },
     "user_tz": 300
    },
    "id": "X2msDRLlvZeG",
    "outputId": "72455c3c-f6b8-4d43-e53e-2e0319541652"
   },
   "outputs": [
    {
     "ename": "ModuleNotFoundError",
     "evalue": "ignored",
     "output_type": "error",
     "traceback": [
      "\u001b[0;31m---------------------------------------------------------------------------\u001b[0m",
      "\u001b[0;31mModuleNotFoundError\u001b[0m                       Traceback (most recent call last)",
      "\u001b[0;32m<ipython-input-1-5201b4535787>\u001b[0m in \u001b[0;36m<module>\u001b[0;34m()\u001b[0m\n\u001b[1;32m      6\u001b[0m \u001b[0;34m\u001b[0m\u001b[0m\n\u001b[1;32m      7\u001b[0m \u001b[0;32mimport\u001b[0m \u001b[0mpandas\u001b[0m \u001b[0;32mas\u001b[0m \u001b[0mpd\u001b[0m\u001b[0;34m\u001b[0m\u001b[0;34m\u001b[0m\u001b[0m\n\u001b[0;32m----> 8\u001b[0;31m \u001b[0;32mimport\u001b[0m \u001b[0mqgrid\u001b[0m\u001b[0;34m\u001b[0m\u001b[0;34m\u001b[0m\u001b[0m\n\u001b[0m\u001b[1;32m      9\u001b[0m df_types = pd.DataFrame({\n\u001b[1;32m     10\u001b[0m     \u001b[0;34m'Modelo'\u001b[0m \u001b[0;34m:\u001b[0m \u001b[0mpd\u001b[0m\u001b[0;34m.\u001b[0m\u001b[0mSeries\u001b[0m\u001b[0;34m(\u001b[0m\u001b[0;34m[\u001b[0m\u001b[0;34m'RDF'\u001b[0m\u001b[0;34m]\u001b[0m\u001b[0;34m*\u001b[0m\u001b[0;36m5\u001b[0m\u001b[0;34m)\u001b[0m\u001b[0;34m,\u001b[0m\u001b[0;34m\u001b[0m\u001b[0;34m\u001b[0m\u001b[0m\n",
      "\u001b[0;31mModuleNotFoundError\u001b[0m: No module named 'qgrid'",
      "",
      "\u001b[0;31m---------------------------------------------------------------------------\u001b[0;32m\nNOTE: If your import is failing due to a missing package, you can\nmanually install dependencies using either !pip or !apt.\n\nTo view examples of installing some common dependencies, click the\n\"Open Examples\" button below.\n\u001b[0;31m---------------------------------------------------------------------------\u001b[0m\n"
     ]
    }
   ],
   "source": [
    "erroresA = []\n",
    "stdsA  = []\n",
    "tiemposA = []\n",
    "k_feature_idx_A = []\n",
    "\n",
    "\n",
    "import pandas as pd\n",
    "import qgrid\n",
    "df_types = pd.DataFrame({\n",
    "    'Modelo' : pd.Series(['RDF']*5),\n",
    "    '# de características seleccionadas' : pd.Series([13,15,18,20]*1),\n",
    "    'Fordward':pd.Series([True]*5)\n",
    "\n",
    "   })\n",
    "df_types.set_index(['Modelo','# de características seleccionadas','Fordward'], inplace=True)\n",
    "\n",
    "for i in df_types.index:  \n",
    "  \n",
    "  \n",
    "  model = getModel(str(i[0]))\n",
    "  tiempos,errores,stds,k_feature_idx_ = implementationSelectionFeatures(model,int(i[1]),i[2],False)\n",
    "  \n",
    "  erroresA.append(errores)\n",
    "  stdsA.append(stds)\n",
    "  tiemposA.append(tiempos)\n",
    "  k_feature_idx_A.append(k_feature_idx_)\n",
    "  \n",
    "  \n",
    "  \n",
    "  print('N-FEATURES: ', str(i[1]))\n",
    "  print(\"Indices \",k_feature_idx_)\n",
    "  \n",
    "  df_types[\"Error de validación\"] = \"\"\n",
    "  df_types[\"IC(std)\"] = \"\"\n",
    "  df_types[\"Tiempo de ejecución\"] = \"\"  \n",
    "  df_types[\"Indices de caracteristicas\"] = \"\"\n",
    "  \n",
    "  \n",
    "  df_types[\"Error de validación\"][i] = errores\n",
    "  df_types[\"IC(std)\"][i]= stds\n",
    "  df_types[\"Tiempo de ejecución\"][i] = tiempos\n",
    "  df_types[\"Indices de caracteristicas\"][i] = k_feature_idx_  \n",
    "  \n",
    "  \n",
    "  #df_types.sort_index(inplace=True)\n",
    "qgrid_widget = qgrid.show_grid(df_types, show_toolbar=False)\n",
    "qgrid_widget\n",
    "qgrid_widget.get_changed_df()"
   ]
  },
  {
   "cell_type": "markdown",
   "metadata": {
    "colab_type": "text",
    "id": "1kfL7wcx4a3j"
   },
   "source": [
    "## Evaluación del modelo con menos características\n"
   ]
  },
  {
   "cell_type": "code",
   "execution_count": 0,
   "metadata": {
    "colab": {},
    "colab_type": "code",
    "collapsed": true,
    "id": "9QtELJ5V6gmz"
   },
   "outputs": [],
   "source": [
    "# SACAR EL X_TEST Y X_TRAIN , Y_TRAIN Y Y_TEST de los indices de las variables mas importantes\n",
    "\n",
    "#X_test,y_test\n",
    "\n",
    "#X,Y"
   ]
  },
  {
   "cell_type": "code",
   "execution_count": 0,
   "metadata": {
    "colab": {
     "base_uri": "https://localhost:8080/"
    },
    "colab_type": "code",
    "collapsed": false,
    "executionInfo": {
     "elapsed": 441,
     "status": "error",
     "timestamp": 1570317127388,
     "user": {
      "displayName": "LEON DARÍO ARANGO AMAYA",
      "photoUrl": "https://lh3.googleusercontent.com/a-/AAuE7mAVlNnXKgaMV4o_n4uMw2Dsx2VLyb8Ng74F-gJ52A=s64",
      "userId": "02024137269287823222"
     },
     "user_tz": 300
    },
    "id": "leeMEbV64aNd",
    "outputId": "2a9798f2-c743-4127-da54-632a321f47a4"
   },
   "outputs": [
    {
     "ename": "NameError",
     "evalue": "ignored",
     "output_type": "error",
     "traceback": [
      "\u001b[0;31m---------------------------------------------------------------------------\u001b[0m",
      "\u001b[0;31mNameError\u001b[0m                                 Traceback (most recent call last)",
      "\u001b[0;32m<ipython-input-38-cfc8dffd276c>\u001b[0m in \u001b[0;36m<module>\u001b[0;34m()\u001b[0m\n\u001b[1;32m     12\u001b[0m \u001b[0mrfc\u001b[0m\u001b[0;34m=\u001b[0m\u001b[0mRandomForestClassifier\u001b[0m\u001b[0;34m(\u001b[0m\u001b[0;34m)\u001b[0m\u001b[0;34m\u001b[0m\u001b[0;34m\u001b[0m\u001b[0m\n\u001b[1;32m     13\u001b[0m \u001b[0;34m\u001b[0m\u001b[0m\n\u001b[0;32m---> 14\u001b[0;31m \u001b[0mgsRDF\u001b[0m\u001b[0;34m,\u001b[0m\u001b[0mX_test\u001b[0m\u001b[0;34m,\u001b[0m\u001b[0mY_test\u001b[0m\u001b[0;34m=\u001b[0m \u001b[0mmodelTrain\u001b[0m\u001b[0;34m(\u001b[0m\u001b[0mrfc\u001b[0m\u001b[0;34m,\u001b[0m\u001b[0mparams\u001b[0m\u001b[0;34m,\u001b[0m\u001b[0mX\u001b[0m\u001b[0;34m,\u001b[0m\u001b[0mY\u001b[0m\u001b[0;34m,\u001b[0m\u001b[0mVALID_SIZE\u001b[0m\u001b[0;34m,\u001b[0m\u001b[0mFOLDS\u001b[0m\u001b[0;34m)\u001b[0m\u001b[0;34m\u001b[0m\u001b[0;34m\u001b[0m\u001b[0m\n\u001b[0m\u001b[1;32m     15\u001b[0m \u001b[0;34m\u001b[0m\u001b[0m\n\u001b[1;32m     16\u001b[0m \u001b[0mprint\u001b[0m\u001b[0;34m(\u001b[0m\u001b[0;34m\"Best SCORE\"\u001b[0m\u001b[0;34m,\u001b[0m\u001b[0mgsRDF\u001b[0m\u001b[0;34m.\u001b[0m\u001b[0mbest_score_\u001b[0m\u001b[0;34m)\u001b[0m\u001b[0;34m\u001b[0m\u001b[0;34m\u001b[0m\u001b[0m\n",
      "\u001b[0;31mNameError\u001b[0m: name 'modelTrain' is not defined"
     ]
    }
   ],
   "source": [
    "from sklearn.ensemble import RandomForestClassifier\n",
    "\n",
    "FOLDS = 10\n",
    "\n",
    "params = { \n",
    "    'n_estimators': [50],\n",
    "     \"max_features\": [0.21],\n",
    "     'max_depth': [8],\n",
    "    'criterion' :['entropy']\n",
    "}\n",
    "\n",
    "rfc=RandomForestClassifier()\n",
    "\n",
    "gsRDF,X_test,Y_test= modelTrain(rfc,params,X,Y,VALID_SIZE,FOLDS)\n",
    "\n",
    "print(\"Best SCORE\",gsRDF.best_score_)\n",
    "print(\"Best ESTIMATOR\", gsRDF.best_params_)\n",
    "\n",
    "#GUARDAR MODELO\n",
    "\n",
    "PATH_gsRDF_MODEL = PATH+'Models/Best Models Seleccion y Extraccion Carateristicas/RDF.pkl'\n",
    "joblib.dump(gsRDF,PATH_gsRDF_MODEL)\n",
    "\n",
    "\n",
    "metrics = Metrics(gsRDF.best_estimator_,X_test,y_test)\n",
    "printMetrics(gsRDF)\n"
   ]
  },
  {
   "cell_type": "markdown",
   "metadata": {
    "colab_type": "text",
    "id": "22xWTfOgjYce"
   },
   "source": [
    "# RNA"
   ]
  },
  {
   "cell_type": "code",
   "execution_count": 0,
   "metadata": {
    "colab": {},
    "colab_type": "code",
    "collapsed": true,
    "id": "GcoJYY08jaFK"
   },
   "outputs": [],
   "source": [
    "erroresA = []\n",
    "stdsA  = []\n",
    "tiemposA = []\n",
    "k_feature_idx_A = []\n",
    "\n",
    "\n",
    "import pandas as pd\n",
    "import qgrid\n",
    "df_types = pd.DataFrame({\n",
    "    'Modelo' : pd.Series(['RNA']*10),\n",
    "    '# de características seleccionadas' : pd.Series([10,13,15,18,20]*2),\n",
    "    'Fordward':pd.Series([True]*5+[False]*5)\n",
    "\n",
    "   })\n",
    "df_types.set_index(['Modelo','# de características seleccionadas','Fordward'], inplace=True)\n",
    "\n",
    "for i in df_types.index:  \n",
    " \n",
    " \n",
    "  model = getModel(str(i[0]))\n",
    "  tiempos,errores,stds,k_feature_idx_ = implementationSelectionFeatures(model,int(i[1]),i[2],False)\n",
    " \n",
    "  erroresA.append(errores)\n",
    "  stdsA.append(stds)\n",
    "  tiemposA.append(tiempos)\n",
    "  k_feature_idx_A.append(k_feature_idx_)\n",
    " \n",
    " \n",
    " \n",
    "  print('N-FEATURES: ', str(i[1]))\n",
    "  print(\"Indices \",k_feature_idx_)\n",
    " \n",
    "  df_types[\"Error de validación\"] = \"\"\n",
    "  df_types[\"IC(std)\"] = \"\"\n",
    "  df_types[\"Tiempo de ejecución\"] = \"\"  \n",
    "  df_types[\"Indices de caracteristicas\"] = \"\"\n",
    " \n",
    " \n",
    "  df_types[\"Error de validación\"][i] = errores\n",
    "  df_types[\"IC(std)\"][i]= stds\n",
    "  df_types[\"Tiempo de ejecución\"][i] = tiempos\n",
    "  df_types[\"Indices de caracteristicas\"][i] = k_feature_idx_  \n",
    " \n",
    " \n",
    "  #df_types.sort_index(inplace=True)\n",
    "qgrid_widget = qgrid.show_grid(df_types, show_toolbar=False)\n",
    "qgrid_widget\n",
    "qgrid_widget.get_changed_df()\n"
   ]
  },
  {
   "cell_type": "markdown",
   "metadata": {
    "colab_type": "text",
    "id": "Fa_dfNqgjaps"
   },
   "source": [
    "# SVM"
   ]
  },
  {
   "cell_type": "code",
   "execution_count": null,
   "metadata": {
    "collapsed": true
   },
   "outputs": [],
   "source": []
  },
  {
   "cell_type": "code",
   "execution_count": null,
   "metadata": {
    "colab": {
     "base_uri": "https://localhost:8080/",
     "height": 34
    },
    "colab_type": "code",
    "collapsed": false,
    "id": "kqDIdaC8jcAM",
    "outputId": "7a4e2856-d0b6-4026-f6be-de5e99dbc3ab"
   },
   "outputs": [
    {
     "name": "stderr",
     "output_type": "stream",
     "text": [
      "[Parallel(n_jobs=-1)]: Using backend LokyBackend with 16 concurrent workers.\n",
      "[Parallel(n_jobs=-1)]: Done  16 out of  23 | elapsed:   41.4s remaining:   18.1s\n",
      "[Parallel(n_jobs=-1)]: Done  23 out of  23 | elapsed:  1.1min finished\n",
      "Features: 1/10[Parallel(n_jobs=-1)]: Using backend LokyBackend with 16 concurrent workers.\n",
      "[Parallel(n_jobs=-1)]: Done  14 out of  22 | elapsed:   49.8s remaining:   28.4s\n",
      "[Parallel(n_jobs=-1)]: Done  22 out of  22 | elapsed:  1.1min finished\n",
      "Features: 2/10[Parallel(n_jobs=-1)]: Using backend LokyBackend with 16 concurrent workers.\n",
      "[Parallel(n_jobs=-1)]: Done  12 out of  21 | elapsed:   46.3s remaining:   34.8s\n",
      "[Parallel(n_jobs=-1)]: Done  21 out of  21 | elapsed:  1.2min finished\n",
      "Features: 3/10[Parallel(n_jobs=-1)]: Using backend LokyBackend with 16 concurrent workers.\n",
      "[Parallel(n_jobs=-1)]: Done  10 out of  20 | elapsed:   49.2s remaining:   49.2s\n",
      "[Parallel(n_jobs=-1)]: Done  20 out of  20 | elapsed:  1.3min finished\n",
      "Features: 4/10[Parallel(n_jobs=-1)]: Using backend LokyBackend with 16 concurrent workers.\n",
      "[Parallel(n_jobs=-1)]: Done   8 out of  19 | elapsed:   51.5s remaining:  1.2min\n",
      "[Parallel(n_jobs=-1)]: Done  19 out of  19 | elapsed:  1.3min finished\n",
      "Features: 5/10[Parallel(n_jobs=-1)]: Using backend LokyBackend with 16 concurrent workers.\n",
      "[Parallel(n_jobs=-1)]: Done   6 out of  18 | elapsed:   56.9s remaining:  1.9min\n",
      "[Parallel(n_jobs=-1)]: Done  18 out of  18 | elapsed:  1.4min finished\n",
      "Features: 6/10[Parallel(n_jobs=-1)]: Using backend LokyBackend with 16 concurrent workers.\n",
      "[Parallel(n_jobs=-1)]: Done   4 out of  17 | elapsed:  1.1min remaining:  3.4min\n",
      "[Parallel(n_jobs=-1)]: Done  17 out of  17 | elapsed:  1.5min finished\n",
      "Features: 7/10[Parallel(n_jobs=-1)]: Using backend LokyBackend with 16 concurrent workers.\n",
      "[Parallel(n_jobs=-1)]: Done   2 out of  16 | elapsed:  1.1min remaining:  8.0min\n",
      "[Parallel(n_jobs=-1)]: Done  16 out of  16 | elapsed:  1.3min finished\n",
      "Features: 8/10[Parallel(n_jobs=-1)]: Using backend LokyBackend with 16 concurrent workers.\n",
      "[Parallel(n_jobs=-1)]: Done  15 out of  15 | elapsed:  1.3min finished\n",
      "Features: 9/10[Parallel(n_jobs=-1)]: Using backend LokyBackend with 16 concurrent workers.\n",
      "[Parallel(n_jobs=-1)]: Done  14 out of  14 | elapsed:  1.2min finished\n",
      "Features: 10/10[Parallel(n_jobs=-1)]: Using backend LokyBackend with 16 concurrent workers.\n",
      "[Parallel(n_jobs=-1)]: Done  16 out of  23 | elapsed:   43.4s remaining:   19.0s\n",
      "[Parallel(n_jobs=-1)]: Done  23 out of  23 | elapsed:  1.1min finished\n",
      "Features: 1/10[Parallel(n_jobs=-1)]: Using backend LokyBackend with 16 concurrent workers.\n",
      "[Parallel(n_jobs=-1)]: Done  14 out of  22 | elapsed:   47.9s remaining:   27.4s\n",
      "[Parallel(n_jobs=-1)]: Done  22 out of  22 | elapsed:  1.1min finished\n",
      "Features: 2/10[Parallel(n_jobs=-1)]: Using backend LokyBackend with 16 concurrent workers.\n",
      "[Parallel(n_jobs=-1)]: Done  12 out of  21 | elapsed:   50.7s remaining:   38.0s\n",
      "[Parallel(n_jobs=-1)]: Done  21 out of  21 | elapsed:  1.1min finished\n",
      "Features: 3/10[Parallel(n_jobs=-1)]: Using backend LokyBackend with 16 concurrent workers.\n",
      "[Parallel(n_jobs=-1)]: Done  10 out of  20 | elapsed:   44.2s remaining:   44.2s\n",
      "[Parallel(n_jobs=-1)]: Done  20 out of  20 | elapsed:  1.2min finished\n",
      "Features: 4/10[Parallel(n_jobs=-1)]: Using backend LokyBackend with 16 concurrent workers.\n",
      "[Parallel(n_jobs=-1)]: Done   8 out of  19 | elapsed:  1.1min remaining:  1.6min\n",
      "[Parallel(n_jobs=-1)]: Done  19 out of  19 | elapsed:  1.6min finished\n",
      "Features: 5/10[Parallel(n_jobs=-1)]: Using backend LokyBackend with 16 concurrent workers.\n",
      "[Parallel(n_jobs=-1)]: Done   6 out of  18 | elapsed:  1.1min remaining:  2.2min\n",
      "[Parallel(n_jobs=-1)]: Done  18 out of  18 | elapsed:  1.6min finished\n",
      "Features: 6/10[Parallel(n_jobs=-1)]: Using backend LokyBackend with 16 concurrent workers.\n",
      "[Parallel(n_jobs=-1)]: Done   4 out of  17 | elapsed:   58.6s remaining:  3.2min\n",
      "[Parallel(n_jobs=-1)]: Done  17 out of  17 | elapsed:  1.5min finished\n",
      "Features: 7/10[Parallel(n_jobs=-1)]: Using backend LokyBackend with 16 concurrent workers.\n",
      "[Parallel(n_jobs=-1)]: Done   2 out of  16 | elapsed:  1.1min remaining:  7.7min\n",
      "[Parallel(n_jobs=-1)]: Done  16 out of  16 | elapsed:  1.2min finished\n",
      "Features: 8/10[Parallel(n_jobs=-1)]: Using backend LokyBackend with 16 concurrent workers.\n",
      "[Parallel(n_jobs=-1)]: Done  15 out of  15 | elapsed:  1.3min finished\n",
      "Features: 9/10[Parallel(n_jobs=-1)]: Using backend LokyBackend with 16 concurrent workers.\n",
      "[Parallel(n_jobs=-1)]: Done  14 out of  14 | elapsed:  1.2min finished\n",
      "Features: 10/10[Parallel(n_jobs=-1)]: Using backend LokyBackend with 16 concurrent workers.\n",
      "[Parallel(n_jobs=-1)]: Done  16 out of  23 | elapsed:   42.4s remaining:   18.5s\n",
      "[Parallel(n_jobs=-1)]: Done  23 out of  23 | elapsed:  1.1min finished\n",
      "Features: 1/10[Parallel(n_jobs=-1)]: Using backend LokyBackend with 16 concurrent workers.\n",
      "[Parallel(n_jobs=-1)]: Done  14 out of  22 | elapsed:   51.0s remaining:   29.2s\n",
      "[Parallel(n_jobs=-1)]: Done  22 out of  22 | elapsed:  1.2min finished\n",
      "Features: 2/10[Parallel(n_jobs=-1)]: Using backend LokyBackend with 16 concurrent workers.\n",
      "[Parallel(n_jobs=-1)]: Done  12 out of  21 | elapsed:   47.3s remaining:   35.5s\n",
      "[Parallel(n_jobs=-1)]: Done  21 out of  21 | elapsed:  1.2min finished\n",
      "Features: 3/10[Parallel(n_jobs=-1)]: Using backend LokyBackend with 16 concurrent workers.\n",
      "[Parallel(n_jobs=-1)]: Done  10 out of  20 | elapsed:   48.9s remaining:   48.9s\n",
      "[Parallel(n_jobs=-1)]: Done  20 out of  20 | elapsed:  1.1min finished\n",
      "Features: 4/10[Parallel(n_jobs=-1)]: Using backend LokyBackend with 16 concurrent workers.\n",
      "[Parallel(n_jobs=-1)]: Done   8 out of  19 | elapsed:   54.4s remaining:  1.2min\n",
      "[Parallel(n_jobs=-1)]: Done  19 out of  19 | elapsed:  1.4min finished\n",
      "Features: 5/10[Parallel(n_jobs=-1)]: Using backend LokyBackend with 16 concurrent workers.\n",
      "[Parallel(n_jobs=-1)]: Done   6 out of  18 | elapsed:  1.0min remaining:  2.0min\n",
      "[Parallel(n_jobs=-1)]: Done  18 out of  18 | elapsed:  1.6min finished\n",
      "Features: 6/10[Parallel(n_jobs=-1)]: Using backend LokyBackend with 16 concurrent workers.\n",
      "[Parallel(n_jobs=-1)]: Done   4 out of  17 | elapsed:  1.0min remaining:  3.3min\n",
      "[Parallel(n_jobs=-1)]: Done  17 out of  17 | elapsed:  1.5min finished\n",
      "Features: 7/10[Parallel(n_jobs=-1)]: Using backend LokyBackend with 16 concurrent workers.\n",
      "[Parallel(n_jobs=-1)]: Done   2 out of  16 | elapsed:  1.2min remaining:  8.4min\n",
      "[Parallel(n_jobs=-1)]: Done  16 out of  16 | elapsed:  1.3min finished\n",
      "Features: 8/10[Parallel(n_jobs=-1)]: Using backend LokyBackend with 16 concurrent workers.\n",
      "[Parallel(n_jobs=-1)]: Done  15 out of  15 | elapsed:  1.2min finished\n",
      "Features: 9/10[Parallel(n_jobs=-1)]: Using backend LokyBackend with 16 concurrent workers.\n",
      "[Parallel(n_jobs=-1)]: Done  14 out of  14 | elapsed:  1.3min finished\n",
      "Features: 10/10[Parallel(n_jobs=-1)]: Using backend LokyBackend with 16 concurrent workers.\n",
      "[Parallel(n_jobs=-1)]: Done  16 out of  23 | elapsed:   42.8s remaining:   18.7s\n",
      "[Parallel(n_jobs=-1)]: Done  23 out of  23 | elapsed:   58.9s finished\n",
      "Features: 1/10[Parallel(n_jobs=-1)]: Using backend LokyBackend with 16 concurrent workers.\n",
      "[Parallel(n_jobs=-1)]: Done  14 out of  22 | elapsed:   52.8s remaining:   30.2s\n",
      "[Parallel(n_jobs=-1)]: Done  22 out of  22 | elapsed:  1.3min finished\n",
      "Features: 2/10[Parallel(n_jobs=-1)]: Using backend LokyBackend with 16 concurrent workers.\n",
      "[Parallel(n_jobs=-1)]: Done  12 out of  21 | elapsed:   54.8s remaining:   41.1s\n",
      "[Parallel(n_jobs=-1)]: Done  21 out of  21 | elapsed:  1.3min finished\n",
      "Features: 3/10[Parallel(n_jobs=-1)]: Using backend LokyBackend with 16 concurrent workers.\n",
      "[Parallel(n_jobs=-1)]: Done  10 out of  20 | elapsed:   50.8s remaining:   50.8s\n",
      "[Parallel(n_jobs=-1)]: Done  20 out of  20 | elapsed:  1.2min finished\n",
      "Features: 4/10[Parallel(n_jobs=-1)]: Using backend LokyBackend with 16 concurrent workers.\n",
      "[Parallel(n_jobs=-1)]: Done   8 out of  19 | elapsed:  1.0min remaining:  1.4min\n",
      "[Parallel(n_jobs=-1)]: Done  19 out of  19 | elapsed:  1.5min finished\n",
      "Features: 5/10[Parallel(n_jobs=-1)]: Using backend LokyBackend with 16 concurrent workers.\n",
      "[Parallel(n_jobs=-1)]: Done   6 out of  18 | elapsed:   52.5s remaining:  1.8min\n",
      "[Parallel(n_jobs=-1)]: Done  18 out of  18 | elapsed:  1.4min finished\n",
      "Features: 6/10[Parallel(n_jobs=-1)]: Using backend LokyBackend with 16 concurrent workers.\n",
      "[Parallel(n_jobs=-1)]: Done   4 out of  17 | elapsed:  1.1min remaining:  3.5min\n",
      "[Parallel(n_jobs=-1)]: Done  17 out of  17 | elapsed:  1.6min finished\n",
      "Features: 7/10[Parallel(n_jobs=-1)]: Using backend LokyBackend with 16 concurrent workers.\n",
      "[Parallel(n_jobs=-1)]: Done   2 out of  16 | elapsed:  1.1min remaining:  7.7min\n",
      "[Parallel(n_jobs=-1)]: Done  16 out of  16 | elapsed:  1.1min finished\n",
      "Features: 8/10[Parallel(n_jobs=-1)]: Using backend LokyBackend with 16 concurrent workers.\n",
      "[Parallel(n_jobs=-1)]: Done  15 out of  15 | elapsed:  1.4min finished\n",
      "Features: 9/10[Parallel(n_jobs=-1)]: Using backend LokyBackend with 16 concurrent workers.\n",
      "[Parallel(n_jobs=-1)]: Done  14 out of  14 | elapsed:  1.4min finished\n",
      "Features: 10/10[Parallel(n_jobs=-1)]: Using backend LokyBackend with 16 concurrent workers.\n",
      "[Parallel(n_jobs=-1)]: Done  16 out of  23 | elapsed:   46.4s remaining:   20.3s\n",
      "[Parallel(n_jobs=-1)]: Done  23 out of  23 | elapsed:  1.1min finished\n",
      "Features: 1/10[Parallel(n_jobs=-1)]: Using backend LokyBackend with 16 concurrent workers.\n",
      "[Parallel(n_jobs=-1)]: Done  14 out of  22 | elapsed:   53.1s remaining:   30.3s\n",
      "[Parallel(n_jobs=-1)]: Done  22 out of  22 | elapsed:  1.3min finished\n",
      "Features: 2/10[Parallel(n_jobs=-1)]: Using backend LokyBackend with 16 concurrent workers.\n",
      "[Parallel(n_jobs=-1)]: Done  12 out of  21 | elapsed:   51.7s remaining:   38.8s\n",
      "[Parallel(n_jobs=-1)]: Done  21 out of  21 | elapsed:  1.2min finished\n",
      "Features: 3/10[Parallel(n_jobs=-1)]: Using backend LokyBackend with 16 concurrent workers.\n",
      "[Parallel(n_jobs=-1)]: Done  10 out of  20 | elapsed:   52.0s remaining:   52.0s\n",
      "[Parallel(n_jobs=-1)]: Done  20 out of  20 | elapsed:  1.3min finished\n",
      "Features: 4/10[Parallel(n_jobs=-1)]: Using backend LokyBackend with 16 concurrent workers.\n",
      "[Parallel(n_jobs=-1)]: Done   8 out of  19 | elapsed:   58.8s remaining:  1.3min\n",
      "[Parallel(n_jobs=-1)]: Done  19 out of  19 | elapsed:  1.4min finished\n",
      "Features: 5/10[Parallel(n_jobs=-1)]: Using backend LokyBackend with 16 concurrent workers.\n",
      "[Parallel(n_jobs=-1)]: Done   6 out of  18 | elapsed:   57.8s remaining:  1.9min\n",
      "[Parallel(n_jobs=-1)]: Done  18 out of  18 | elapsed:  1.4min finished\n",
      "Features: 6/10[Parallel(n_jobs=-1)]: Using backend LokyBackend with 16 concurrent workers.\n",
      "[Parallel(n_jobs=-1)]: Done   4 out of  17 | elapsed:  1.0min remaining:  3.3min\n",
      "[Parallel(n_jobs=-1)]: Done  17 out of  17 | elapsed:  1.5min finished\n",
      "Features: 7/10[Parallel(n_jobs=-1)]: Using backend LokyBackend with 16 concurrent workers.\n",
      "[Parallel(n_jobs=-1)]: Done   2 out of  16 | elapsed:  1.0min remaining:  7.0min\n",
      "[Parallel(n_jobs=-1)]: Done  16 out of  16 | elapsed:  1.1min finished\n",
      "Features: 8/10[Parallel(n_jobs=-1)]: Using backend LokyBackend with 16 concurrent workers.\n",
      "[Parallel(n_jobs=-1)]: Done  15 out of  15 | elapsed:  1.2min finished\n",
      "Features: 9/10[Parallel(n_jobs=-1)]: Using backend LokyBackend with 16 concurrent workers.\n",
      "[Parallel(n_jobs=-1)]: Done  14 out of  14 | elapsed:  1.3min finished\n",
      "Features: 10/10[Parallel(n_jobs=-1)]: Using backend LokyBackend with 16 concurrent workers.\n",
      "[Parallel(n_jobs=-1)]: Done  16 out of  23 | elapsed:   46.2s remaining:   20.2s\n",
      "[Parallel(n_jobs=-1)]: Done  23 out of  23 | elapsed:  1.1min finished\n",
      "Features: 1/10[Parallel(n_jobs=-1)]: Using backend LokyBackend with 16 concurrent workers.\n",
      "[Parallel(n_jobs=-1)]: Done  14 out of  22 | elapsed:   46.1s remaining:   26.3s\n",
      "[Parallel(n_jobs=-1)]: Done  22 out of  22 | elapsed:  1.1min finished\n",
      "Features: 2/10[Parallel(n_jobs=-1)]: Using backend LokyBackend with 16 concurrent workers.\n",
      "[Parallel(n_jobs=-1)]: Done  12 out of  21 | elapsed:   45.5s remaining:   34.1s\n",
      "[Parallel(n_jobs=-1)]: Done  21 out of  21 | elapsed:  1.0min finished\n",
      "Features: 3/10[Parallel(n_jobs=-1)]: Using backend LokyBackend with 16 concurrent workers.\n",
      "[Parallel(n_jobs=-1)]: Done  10 out of  20 | elapsed:   52.0s remaining:   52.0s\n",
      "[Parallel(n_jobs=-1)]: Done  20 out of  20 | elapsed:  1.3min finished\n",
      "Features: 4/10[Parallel(n_jobs=-1)]: Using backend LokyBackend with 16 concurrent workers.\n",
      "[Parallel(n_jobs=-1)]: Done   8 out of  19 | elapsed:   49.6s remaining:  1.1min\n",
      "[Parallel(n_jobs=-1)]: Done  19 out of  19 | elapsed:  1.3min finished\n",
      "Features: 5/10[Parallel(n_jobs=-1)]: Using backend LokyBackend with 16 concurrent workers.\n",
      "[Parallel(n_jobs=-1)]: Done   6 out of  18 | elapsed:   52.5s remaining:  1.8min\n",
      "[Parallel(n_jobs=-1)]: Done  18 out of  18 | elapsed:  1.2min finished\n",
      "Features: 6/10[Parallel(n_jobs=-1)]: Using backend LokyBackend with 16 concurrent workers.\n",
      "[Parallel(n_jobs=-1)]: Done   4 out of  17 | elapsed:   44.1s remaining:  2.4min\n",
      "[Parallel(n_jobs=-1)]: Done  17 out of  17 | elapsed:  1.3min finished\n",
      "Features: 7/10[Parallel(n_jobs=-1)]: Using backend LokyBackend with 16 concurrent workers.\n",
      "[Parallel(n_jobs=-1)]: Done   2 out of  16 | elapsed:  1.1min remaining:  8.0min\n",
      "[Parallel(n_jobs=-1)]: Done  16 out of  16 | elapsed:  1.2min finished\n",
      "Features: 8/10[Parallel(n_jobs=-1)]: Using backend LokyBackend with 16 concurrent workers.\n",
      "[Parallel(n_jobs=-1)]: Done  15 out of  15 | elapsed:  1.2min finished\n",
      "Features: 9/10[Parallel(n_jobs=-1)]: Using backend LokyBackend with 16 concurrent workers.\n",
      "[Parallel(n_jobs=-1)]: Done  14 out of  14 | elapsed:  1.1min finished\n",
      "Features: 10/10[Parallel(n_jobs=-1)]: Using backend LokyBackend with 16 concurrent workers.\n",
      "[Parallel(n_jobs=-1)]: Done  16 out of  23 | elapsed:   42.5s remaining:   18.6s\n",
      "[Parallel(n_jobs=-1)]: Done  23 out of  23 | elapsed:  1.1min finished\n",
      "Features: 1/10[Parallel(n_jobs=-1)]: Using backend LokyBackend with 16 concurrent workers.\n",
      "[Parallel(n_jobs=-1)]: Done  14 out of  22 | elapsed:   49.3s remaining:   28.2s\n",
      "[Parallel(n_jobs=-1)]: Done  22 out of  22 | elapsed:  1.2min finished\n",
      "Features: 2/10[Parallel(n_jobs=-1)]: Using backend LokyBackend with 16 concurrent workers.\n",
      "[Parallel(n_jobs=-1)]: Done  12 out of  21 | elapsed:   48.7s remaining:   36.6s\n",
      "[Parallel(n_jobs=-1)]: Done  21 out of  21 | elapsed:  1.1min finished\n",
      "Features: 3/10[Parallel(n_jobs=-1)]: Using backend LokyBackend with 16 concurrent workers.\n",
      "[Parallel(n_jobs=-1)]: Done  10 out of  20 | elapsed:   47.8s remaining:   47.8s\n",
      "[Parallel(n_jobs=-1)]: Done  20 out of  20 | elapsed:  1.3min finished\n",
      "Features: 4/10[Parallel(n_jobs=-1)]: Using backend LokyBackend with 16 concurrent workers.\n",
      "[Parallel(n_jobs=-1)]: Done   8 out of  19 | elapsed:   48.8s remaining:  1.1min\n",
      "[Parallel(n_jobs=-1)]: Done  19 out of  19 | elapsed:  1.2min finished\n",
      "Features: 5/10[Parallel(n_jobs=-1)]: Using backend LokyBackend with 16 concurrent workers.\n",
      "[Parallel(n_jobs=-1)]: Done   6 out of  18 | elapsed:   47.8s remaining:  1.6min\n",
      "[Parallel(n_jobs=-1)]: Done  18 out of  18 | elapsed:  1.1min finished\n",
      "Features: 6/10[Parallel(n_jobs=-1)]: Using backend LokyBackend with 16 concurrent workers.\n",
      "[Parallel(n_jobs=-1)]: Done   4 out of  17 | elapsed:   58.7s remaining:  3.2min\n",
      "[Parallel(n_jobs=-1)]: Done  17 out of  17 | elapsed:  1.5min finished\n",
      "Features: 7/10[Parallel(n_jobs=-1)]: Using backend LokyBackend with 16 concurrent workers.\n",
      "[Parallel(n_jobs=-1)]: Done   2 out of  16 | elapsed:  1.0min remaining:  7.3min\n",
      "[Parallel(n_jobs=-1)]: Done  16 out of  16 | elapsed:  1.2min finished\n",
      "Features: 8/10[Parallel(n_jobs=-1)]: Using backend LokyBackend with 16 concurrent workers.\n",
      "[Parallel(n_jobs=-1)]: Done  15 out of  15 | elapsed:  1.2min finished\n",
      "Features: 9/10[Parallel(n_jobs=-1)]: Using backend LokyBackend with 16 concurrent workers.\n",
      "[Parallel(n_jobs=-1)]: Done  14 out of  14 | elapsed:  1.3min finished\n",
      "Features: 10/10[Parallel(n_jobs=-1)]: Using backend LokyBackend with 16 concurrent workers.\n",
      "[Parallel(n_jobs=-1)]: Done  16 out of  23 | elapsed:   44.3s remaining:   19.4s\n",
      "[Parallel(n_jobs=-1)]: Done  23 out of  23 | elapsed:  1.1min finished\n",
      "Features: 1/10[Parallel(n_jobs=-1)]: Using backend LokyBackend with 16 concurrent workers.\n",
      "[Parallel(n_jobs=-1)]: Done  14 out of  22 | elapsed:   51.5s remaining:   29.4s\n",
      "[Parallel(n_jobs=-1)]: Done  22 out of  22 | elapsed:  1.2min finished\n",
      "Features: 2/10[Parallel(n_jobs=-1)]: Using backend LokyBackend with 16 concurrent workers.\n",
      "[Parallel(n_jobs=-1)]: Done  12 out of  21 | elapsed:   49.3s remaining:   37.0s\n",
      "[Parallel(n_jobs=-1)]: Done  21 out of  21 | elapsed:  1.1min finished\n",
      "Features: 3/10[Parallel(n_jobs=-1)]: Using backend LokyBackend with 16 concurrent workers.\n",
      "[Parallel(n_jobs=-1)]: Done  10 out of  20 | elapsed:   51.5s remaining:   51.5s\n",
      "[Parallel(n_jobs=-1)]: Done  20 out of  20 | elapsed:  1.2min finished\n",
      "Features: 4/10[Parallel(n_jobs=-1)]: Using backend LokyBackend with 16 concurrent workers.\n",
      "[Parallel(n_jobs=-1)]: Done   8 out of  19 | elapsed:   50.5s remaining:  1.2min\n",
      "[Parallel(n_jobs=-1)]: Done  19 out of  19 | elapsed:  1.3min finished\n",
      "Features: 5/10[Parallel(n_jobs=-1)]: Using backend LokyBackend with 16 concurrent workers.\n",
      "[Parallel(n_jobs=-1)]: Done   6 out of  18 | elapsed:   59.3s remaining:  2.0min\n",
      "[Parallel(n_jobs=-1)]: Done  18 out of  18 | elapsed:  1.5min finished\n",
      "Features: 6/10[Parallel(n_jobs=-1)]: Using backend LokyBackend with 16 concurrent workers.\n",
      "[Parallel(n_jobs=-1)]: Done   4 out of  17 | elapsed:  1.1min remaining:  3.7min\n",
      "[Parallel(n_jobs=-1)]: Done  17 out of  17 | elapsed:  1.7min finished\n",
      "Features: 7/10[Parallel(n_jobs=-1)]: Using backend LokyBackend with 16 concurrent workers.\n",
      "[Parallel(n_jobs=-1)]: Done   2 out of  16 | elapsed:  1.1min remaining:  7.8min\n",
      "[Parallel(n_jobs=-1)]: Done  16 out of  16 | elapsed:  1.3min finished\n",
      "Features: 8/10[Parallel(n_jobs=-1)]: Using backend LokyBackend with 16 concurrent workers.\n",
      "[Parallel(n_jobs=-1)]: Done  15 out of  15 | elapsed:  1.2min finished\n",
      "Features: 9/10[Parallel(n_jobs=-1)]: Using backend LokyBackend with 16 concurrent workers.\n",
      "[Parallel(n_jobs=-1)]: Done  14 out of  14 | elapsed:  1.3min finished\n",
      "Features: 10/10[Parallel(n_jobs=-1)]: Using backend LokyBackend with 16 concurrent workers.\n",
      "[Parallel(n_jobs=-1)]: Done  16 out of  23 | elapsed:   42.5s remaining:   18.6s\n",
      "[Parallel(n_jobs=-1)]: Done  23 out of  23 | elapsed:  1.0min finished\n",
      "Features: 1/10[Parallel(n_jobs=-1)]: Using backend LokyBackend with 16 concurrent workers.\n",
      "[Parallel(n_jobs=-1)]: Done  14 out of  22 | elapsed:   49.4s remaining:   28.2s\n",
      "[Parallel(n_jobs=-1)]: Done  22 out of  22 | elapsed:  1.2min finished\n",
      "Features: 2/10[Parallel(n_jobs=-1)]: Using backend LokyBackend with 16 concurrent workers.\n",
      "[Parallel(n_jobs=-1)]: Done  12 out of  21 | elapsed:   48.5s remaining:   36.3s\n",
      "[Parallel(n_jobs=-1)]: Done  21 out of  21 | elapsed:  1.0min finished\n",
      "Features: 3/10[Parallel(n_jobs=-1)]: Using backend LokyBackend with 16 concurrent workers.\n",
      "[Parallel(n_jobs=-1)]: Done  10 out of  20 | elapsed:   54.0s remaining:   54.0s\n",
      "[Parallel(n_jobs=-1)]: Done  20 out of  20 | elapsed:  1.3min finished\n",
      "Features: 4/10[Parallel(n_jobs=-1)]: Using backend LokyBackend with 16 concurrent workers.\n",
      "[Parallel(n_jobs=-1)]: Done   8 out of  19 | elapsed:   45.9s remaining:  1.1min\n",
      "[Parallel(n_jobs=-1)]: Done  19 out of  19 | elapsed:  1.1min finished\n",
      "Features: 5/10[Parallel(n_jobs=-1)]: Using backend LokyBackend with 16 concurrent workers.\n",
      "[Parallel(n_jobs=-1)]: Done   6 out of  18 | elapsed:   52.7s remaining:  1.8min\n",
      "[Parallel(n_jobs=-1)]: Done  18 out of  18 | elapsed:  1.3min finished\n",
      "Features: 6/10[Parallel(n_jobs=-1)]: Using backend LokyBackend with 16 concurrent workers.\n",
      "[Parallel(n_jobs=-1)]: Done   4 out of  17 | elapsed:  1.0min remaining:  3.3min\n",
      "[Parallel(n_jobs=-1)]: Done  17 out of  17 | elapsed:  1.5min finished\n",
      "Features: 7/10[Parallel(n_jobs=-1)]: Using backend LokyBackend with 16 concurrent workers.\n",
      "[Parallel(n_jobs=-1)]: Done   2 out of  16 | elapsed:  1.1min remaining:  7.5min\n",
      "[Parallel(n_jobs=-1)]: Done  16 out of  16 | elapsed:  1.2min finished\n",
      "Features: 8/10[Parallel(n_jobs=-1)]: Using backend LokyBackend with 16 concurrent workers.\n",
      "[Parallel(n_jobs=-1)]: Done  15 out of  15 | elapsed:  1.3min finished\n",
      "Features: 9/10[Parallel(n_jobs=-1)]: Using backend LokyBackend with 16 concurrent workers.\n",
      "[Parallel(n_jobs=-1)]: Done  14 out of  14 | elapsed:  1.3min finished\n",
      "Features: 10/10[Parallel(n_jobs=-1)]: Using backend LokyBackend with 16 concurrent workers.\n",
      "[Parallel(n_jobs=-1)]: Done  16 out of  23 | elapsed:   42.2s remaining:   18.5s\n",
      "[Parallel(n_jobs=-1)]: Done  23 out of  23 | elapsed:  1.0min finished\n",
      "Features: 1/10[Parallel(n_jobs=-1)]: Using backend LokyBackend with 16 concurrent workers.\n",
      "[Parallel(n_jobs=-1)]: Done  14 out of  22 | elapsed:   53.2s remaining:   30.4s\n",
      "[Parallel(n_jobs=-1)]: Done  22 out of  22 | elapsed:  1.1min finished\n",
      "Features: 2/10[Parallel(n_jobs=-1)]: Using backend LokyBackend with 16 concurrent workers.\n",
      "[Parallel(n_jobs=-1)]: Done  12 out of  21 | elapsed:   44.2s remaining:   33.1s\n",
      "[Parallel(n_jobs=-1)]: Done  21 out of  21 | elapsed:  1.1min finished\n",
      "Features: 3/10[Parallel(n_jobs=-1)]: Using backend LokyBackend with 16 concurrent workers.\n",
      "[Parallel(n_jobs=-1)]: Done  10 out of  20 | elapsed:   48.6s remaining:   48.6s\n",
      "[Parallel(n_jobs=-1)]: Done  20 out of  20 | elapsed:  1.2min finished\n",
      "Features: 4/10[Parallel(n_jobs=-1)]: Using backend LokyBackend with 16 concurrent workers.\n",
      "[Parallel(n_jobs=-1)]: Done   8 out of  19 | elapsed:   49.2s remaining:  1.1min\n",
      "[Parallel(n_jobs=-1)]: Done  19 out of  19 | elapsed:  1.2min finished\n",
      "Features: 5/10[Parallel(n_jobs=-1)]: Using backend LokyBackend with 16 concurrent workers.\n",
      "[Parallel(n_jobs=-1)]: Done   6 out of  18 | elapsed:  1.1min remaining:  2.2min\n",
      "[Parallel(n_jobs=-1)]: Done  18 out of  18 | elapsed:  1.6min finished\n",
      "Features: 6/10[Parallel(n_jobs=-1)]: Using backend LokyBackend with 16 concurrent workers.\n",
      "[Parallel(n_jobs=-1)]: Done   4 out of  17 | elapsed:  1.1min remaining:  3.7min\n",
      "[Parallel(n_jobs=-1)]: Done  17 out of  17 | elapsed:  1.5min finished\n",
      "Features: 7/10[Parallel(n_jobs=-1)]: Using backend LokyBackend with 16 concurrent workers.\n",
      "[Parallel(n_jobs=-1)]: Done   2 out of  16 | elapsed:  1.1min remaining:  7.7min\n",
      "[Parallel(n_jobs=-1)]: Done  16 out of  16 | elapsed:  1.2min finished\n",
      "Features: 8/10[Parallel(n_jobs=-1)]: Using backend LokyBackend with 16 concurrent workers.\n",
      "[Parallel(n_jobs=-1)]: Done  15 out of  15 | elapsed:  1.2min finished\n",
      "Features: 9/10[Parallel(n_jobs=-1)]: Using backend LokyBackend with 16 concurrent workers.\n",
      "[Parallel(n_jobs=-1)]: Done  14 out of  14 | elapsed:  1.3min finished\n",
      "Features: 10/10"
     ]
    },
    {
     "name": "stdout",
     "output_type": "stream",
     "text": [
      "\n",
      "Error de validación aplicando SFS: 0.1724027780658099 +/- 0.0008023165061628212\n",
      "\n",
      "Eficiencia en validación aplicando SFS: 82.8109809731031%\n",
      "\n",
      "\n",
      "Tiempo total de ejecución: 7610.58376955986 segundos.\n",
      "Fordward True\n",
      "N-FEATURES:  10\n",
      "Indices  (1, 2, 3, 4, 5, 6, 7, 10, 11, 16)\n"
     ]
    },
    {
     "name": "stderr",
     "output_type": "stream",
     "text": [
      "[Parallel(n_jobs=-1)]: Using backend LokyBackend with 16 concurrent workers.\n",
      "[Parallel(n_jobs=-1)]: Done  16 out of  23 | elapsed:   39.1s remaining:   17.1s\n",
      "[Parallel(n_jobs=-1)]: Done  23 out of  23 | elapsed:   59.3s finished\n",
      "Features: 1/13[Parallel(n_jobs=-1)]: Using backend LokyBackend with 16 concurrent workers.\n",
      "[Parallel(n_jobs=-1)]: Done  14 out of  22 | elapsed:   51.8s remaining:   29.6s\n",
      "[Parallel(n_jobs=-1)]: Done  22 out of  22 | elapsed:  1.2min finished\n",
      "Features: 2/13[Parallel(n_jobs=-1)]: Using backend LokyBackend with 16 concurrent workers.\n",
      "[Parallel(n_jobs=-1)]: Done  12 out of  21 | elapsed:   42.8s remaining:   32.1s\n",
      "[Parallel(n_jobs=-1)]: Done  21 out of  21 | elapsed:  1.1min finished\n",
      "Features: 3/13[Parallel(n_jobs=-1)]: Using backend LokyBackend with 16 concurrent workers.\n",
      "[Parallel(n_jobs=-1)]: Done  10 out of  20 | elapsed:   53.7s remaining:   53.7s\n",
      "[Parallel(n_jobs=-1)]: Done  20 out of  20 | elapsed:  1.3min finished\n",
      "Features: 4/13[Parallel(n_jobs=-1)]: Using backend LokyBackend with 16 concurrent workers.\n",
      "[Parallel(n_jobs=-1)]: Done   8 out of  19 | elapsed:   50.2s remaining:  1.1min\n",
      "[Parallel(n_jobs=-1)]: Done  19 out of  19 | elapsed:  1.3min finished\n",
      "Features: 5/13[Parallel(n_jobs=-1)]: Using backend LokyBackend with 16 concurrent workers.\n",
      "[Parallel(n_jobs=-1)]: Done   6 out of  18 | elapsed:   54.5s remaining:  1.8min\n",
      "[Parallel(n_jobs=-1)]: Done  18 out of  18 | elapsed:  1.3min finished\n",
      "Features: 6/13[Parallel(n_jobs=-1)]: Using backend LokyBackend with 16 concurrent workers.\n",
      "[Parallel(n_jobs=-1)]: Done   4 out of  17 | elapsed:  1.2min remaining:  3.7min\n",
      "[Parallel(n_jobs=-1)]: Done  17 out of  17 | elapsed:  1.8min finished\n",
      "Features: 7/13[Parallel(n_jobs=-1)]: Using backend LokyBackend with 16 concurrent workers.\n",
      "[Parallel(n_jobs=-1)]: Done   2 out of  16 | elapsed:  1.1min remaining:  7.5min\n",
      "[Parallel(n_jobs=-1)]: Done  16 out of  16 | elapsed:  1.1min finished\n",
      "Features: 8/13[Parallel(n_jobs=-1)]: Using backend LokyBackend with 16 concurrent workers.\n",
      "[Parallel(n_jobs=-1)]: Done  15 out of  15 | elapsed:  1.3min finished\n",
      "Features: 9/13[Parallel(n_jobs=-1)]: Using backend LokyBackend with 16 concurrent workers.\n",
      "[Parallel(n_jobs=-1)]: Done  14 out of  14 | elapsed:  1.2min finished\n",
      "Features: 10/13[Parallel(n_jobs=-1)]: Using backend LokyBackend with 16 concurrent workers.\n",
      "[Parallel(n_jobs=-1)]: Done  10 out of  13 | elapsed:  1.3min remaining:   23.1s\n",
      "[Parallel(n_jobs=-1)]: Done  13 out of  13 | elapsed:  1.3min finished\n",
      "Features: 11/13[Parallel(n_jobs=-1)]: Using backend LokyBackend with 16 concurrent workers.\n",
      "[Parallel(n_jobs=-1)]: Done   7 out of  12 | elapsed:  1.1min remaining:   46.8s\n",
      "[Parallel(n_jobs=-1)]: Done  12 out of  12 | elapsed:  1.2min finished\n",
      "Features: 12/13[Parallel(n_jobs=-1)]: Using backend LokyBackend with 16 concurrent workers.\n",
      "[Parallel(n_jobs=-1)]: Done   4 out of  11 | elapsed:   40.9s remaining:  1.2min\n",
      "[Parallel(n_jobs=-1)]: Done  11 out of  11 | elapsed:   49.8s finished\n",
      "Features: 13/13[Parallel(n_jobs=-1)]: Using backend LokyBackend with 16 concurrent workers.\n",
      "[Parallel(n_jobs=-1)]: Done  16 out of  23 | elapsed:   22.3s remaining:    9.8s\n",
      "[Parallel(n_jobs=-1)]: Done  23 out of  23 | elapsed:   32.9s finished\n",
      "Features: 1/13[Parallel(n_jobs=-1)]: Using backend LokyBackend with 16 concurrent workers.\n",
      "[Parallel(n_jobs=-1)]: Done  14 out of  22 | elapsed:   29.7s remaining:   17.0s\n",
      "[Parallel(n_jobs=-1)]: Done  22 out of  22 | elapsed:   39.7s finished\n",
      "Features: 2/13[Parallel(n_jobs=-1)]: Using backend LokyBackend with 16 concurrent workers.\n",
      "[Parallel(n_jobs=-1)]: Done  12 out of  21 | elapsed:   27.7s remaining:   20.8s\n",
      "[Parallel(n_jobs=-1)]: Done  21 out of  21 | elapsed:   39.7s finished\n",
      "Features: 3/13[Parallel(n_jobs=-1)]: Using backend LokyBackend with 16 concurrent workers.\n",
      "[Parallel(n_jobs=-1)]: Done  10 out of  20 | elapsed:   29.2s remaining:   29.2s\n",
      "[Parallel(n_jobs=-1)]: Done  20 out of  20 | elapsed:   43.1s finished\n",
      "Features: 4/13[Parallel(n_jobs=-1)]: Using backend LokyBackend with 16 concurrent workers.\n",
      "[Parallel(n_jobs=-1)]: Done   8 out of  19 | elapsed:   35.0s remaining:   48.2s\n",
      "[Parallel(n_jobs=-1)]: Done  19 out of  19 | elapsed:   54.9s finished\n",
      "Features: 5/13[Parallel(n_jobs=-1)]: Using backend LokyBackend with 16 concurrent workers.\n",
      "[Parallel(n_jobs=-1)]: Done   6 out of  18 | elapsed:   35.7s remaining:  1.2min\n",
      "[Parallel(n_jobs=-1)]: Done  18 out of  18 | elapsed:   56.0s finished\n",
      "Features: 6/13[Parallel(n_jobs=-1)]: Using backend LokyBackend with 16 concurrent workers.\n",
      "[Parallel(n_jobs=-1)]: Done   4 out of  17 | elapsed:   36.8s remaining:  2.0min\n",
      "[Parallel(n_jobs=-1)]: Done  17 out of  17 | elapsed:   57.5s finished\n",
      "Features: 7/13[Parallel(n_jobs=-1)]: Using backend LokyBackend with 16 concurrent workers.\n",
      "[Parallel(n_jobs=-1)]: Done   2 out of  16 | elapsed:   41.5s remaining:  4.8min\n",
      "[Parallel(n_jobs=-1)]: Done  16 out of  16 | elapsed:   44.1s finished\n",
      "Features: 8/13[Parallel(n_jobs=-1)]: Using backend LokyBackend with 16 concurrent workers.\n",
      "[Parallel(n_jobs=-1)]: Done  15 out of  15 | elapsed:   42.0s finished\n",
      "Features: 9/13[Parallel(n_jobs=-1)]: Using backend LokyBackend with 16 concurrent workers.\n",
      "[Parallel(n_jobs=-1)]: Done  14 out of  14 | elapsed:   44.1s finished\n",
      "Features: 10/13[Parallel(n_jobs=-1)]: Using backend LokyBackend with 16 concurrent workers.\n",
      "[Parallel(n_jobs=-1)]: Done  10 out of  13 | elapsed:   44.5s remaining:   13.3s\n",
      "[Parallel(n_jobs=-1)]: Done  13 out of  13 | elapsed:   45.3s finished\n",
      "Features: 11/13[Parallel(n_jobs=-1)]: Using backend LokyBackend with 16 concurrent workers.\n",
      "[Parallel(n_jobs=-1)]: Done   7 out of  12 | elapsed:   42.8s remaining:   30.6s\n",
      "[Parallel(n_jobs=-1)]: Done  12 out of  12 | elapsed:   43.7s finished\n",
      "Features: 12/13[Parallel(n_jobs=-1)]: Using backend LokyBackend with 16 concurrent workers.\n",
      "[Parallel(n_jobs=-1)]: Done   4 out of  11 | elapsed:   33.6s remaining:   58.9s\n",
      "[Parallel(n_jobs=-1)]: Done  11 out of  11 | elapsed:   44.7s finished\n",
      "Features: 13/13[Parallel(n_jobs=-1)]: Using backend LokyBackend with 16 concurrent workers.\n",
      "[Parallel(n_jobs=-1)]: Done  16 out of  23 | elapsed:   22.3s remaining:    9.8s\n",
      "[Parallel(n_jobs=-1)]: Done  23 out of  23 | elapsed:   33.2s finished\n",
      "Features: 1/13[Parallel(n_jobs=-1)]: Using backend LokyBackend with 16 concurrent workers.\n",
      "[Parallel(n_jobs=-1)]: Done  14 out of  22 | elapsed:   29.3s remaining:   16.7s\n",
      "[Parallel(n_jobs=-1)]: Done  22 out of  22 | elapsed:   39.4s finished\n",
      "Features: 2/13[Parallel(n_jobs=-1)]: Using backend LokyBackend with 16 concurrent workers.\n",
      "[Parallel(n_jobs=-1)]: Done  12 out of  21 | elapsed:   28.2s remaining:   21.2s\n",
      "[Parallel(n_jobs=-1)]: Done  21 out of  21 | elapsed:   40.2s finished\n",
      "Features: 3/13[Parallel(n_jobs=-1)]: Using backend LokyBackend with 16 concurrent workers.\n",
      "[Parallel(n_jobs=-1)]: Done  10 out of  20 | elapsed:   28.3s remaining:   28.3s\n",
      "[Parallel(n_jobs=-1)]: Done  20 out of  20 | elapsed:   41.7s finished\n",
      "Features: 4/13[Parallel(n_jobs=-1)]: Using backend LokyBackend with 16 concurrent workers.\n",
      "[Parallel(n_jobs=-1)]: Done   8 out of  19 | elapsed:   28.6s remaining:   39.4s\n",
      "[Parallel(n_jobs=-1)]: Done  19 out of  19 | elapsed:   43.8s finished\n",
      "Features: 5/13[Parallel(n_jobs=-1)]: Using backend LokyBackend with 16 concurrent workers.\n",
      "[Parallel(n_jobs=-1)]: Done   6 out of  18 | elapsed:   35.7s remaining:  1.2min\n",
      "[Parallel(n_jobs=-1)]: Done  18 out of  18 | elapsed:   57.5s finished\n",
      "Features: 6/13[Parallel(n_jobs=-1)]: Using backend LokyBackend with 16 concurrent workers.\n",
      "[Parallel(n_jobs=-1)]: Done   4 out of  17 | elapsed:   37.4s remaining:  2.0min\n",
      "[Parallel(n_jobs=-1)]: Done  17 out of  17 | elapsed:   59.6s finished\n",
      "Features: 7/13[Parallel(n_jobs=-1)]: Using backend LokyBackend with 16 concurrent workers.\n",
      "[Parallel(n_jobs=-1)]: Done   2 out of  16 | elapsed:   40.8s remaining:  4.8min\n",
      "[Parallel(n_jobs=-1)]: Done  16 out of  16 | elapsed:   43.1s finished\n",
      "Features: 8/13[Parallel(n_jobs=-1)]: Using backend LokyBackend with 16 concurrent workers.\n",
      "[Parallel(n_jobs=-1)]: Done  15 out of  15 | elapsed:   44.6s finished\n",
      "Features: 9/13[Parallel(n_jobs=-1)]: Using backend LokyBackend with 16 concurrent workers.\n",
      "[Parallel(n_jobs=-1)]: Done  14 out of  14 | elapsed:   43.7s finished\n",
      "Features: 10/13[Parallel(n_jobs=-1)]: Using backend LokyBackend with 16 concurrent workers.\n",
      "[Parallel(n_jobs=-1)]: Done  10 out of  13 | elapsed:   44.1s remaining:   13.2s\n",
      "[Parallel(n_jobs=-1)]: Done  13 out of  13 | elapsed:   44.7s finished\n",
      "Features: 11/13[Parallel(n_jobs=-1)]: Using backend LokyBackend with 16 concurrent workers.\n",
      "[Parallel(n_jobs=-1)]: Done   7 out of  12 | elapsed:   42.1s remaining:   30.1s\n",
      "[Parallel(n_jobs=-1)]: Done  12 out of  12 | elapsed:   42.5s finished\n",
      "Features: 12/13[Parallel(n_jobs=-1)]: Using backend LokyBackend with 16 concurrent workers.\n",
      "[Parallel(n_jobs=-1)]: Done   4 out of  11 | elapsed:   33.1s remaining:   58.0s\n",
      "[Parallel(n_jobs=-1)]: Done  11 out of  11 | elapsed:   43.0s finished\n",
      "Features: 13/13[Parallel(n_jobs=-1)]: Using backend LokyBackend with 16 concurrent workers.\n",
      "[Parallel(n_jobs=-1)]: Done  16 out of  23 | elapsed:   23.7s remaining:   10.4s\n",
      "[Parallel(n_jobs=-1)]: Done  23 out of  23 | elapsed:   33.3s finished\n",
      "Features: 1/13[Parallel(n_jobs=-1)]: Using backend LokyBackend with 16 concurrent workers.\n",
      "[Parallel(n_jobs=-1)]: Done  14 out of  22 | elapsed:   29.2s remaining:   16.7s\n",
      "[Parallel(n_jobs=-1)]: Done  22 out of  22 | elapsed:   39.8s finished\n",
      "Features: 2/13[Parallel(n_jobs=-1)]: Using backend LokyBackend with 16 concurrent workers.\n",
      "[Parallel(n_jobs=-1)]: Done  12 out of  21 | elapsed:   29.9s remaining:   22.4s\n",
      "[Parallel(n_jobs=-1)]: Done  21 out of  21 | elapsed:   42.6s finished\n",
      "Features: 3/13[Parallel(n_jobs=-1)]: Using backend LokyBackend with 16 concurrent workers.\n",
      "[Parallel(n_jobs=-1)]: Done  10 out of  20 | elapsed:   28.9s remaining:   28.9s\n",
      "[Parallel(n_jobs=-1)]: Done  20 out of  20 | elapsed:   43.0s finished\n",
      "Features: 4/13[Parallel(n_jobs=-1)]: Using backend LokyBackend with 16 concurrent workers.\n",
      "[Parallel(n_jobs=-1)]: Done   8 out of  19 | elapsed:   30.3s remaining:   41.6s\n",
      "[Parallel(n_jobs=-1)]: Done  19 out of  19 | elapsed:   46.2s finished\n",
      "Features: 5/13[Parallel(n_jobs=-1)]: Using backend LokyBackend with 16 concurrent workers.\n",
      "[Parallel(n_jobs=-1)]: Done   6 out of  18 | elapsed:   30.7s remaining:  1.0min\n",
      "[Parallel(n_jobs=-1)]: Done  18 out of  18 | elapsed:   47.1s finished\n",
      "Features: 6/13[Parallel(n_jobs=-1)]: Using backend LokyBackend with 16 concurrent workers.\n",
      "[Parallel(n_jobs=-1)]: Done   4 out of  17 | elapsed:   37.2s remaining:  2.0min\n",
      "[Parallel(n_jobs=-1)]: Done  17 out of  17 | elapsed:   59.7s finished\n",
      "Features: 7/13[Parallel(n_jobs=-1)]: Using backend LokyBackend with 16 concurrent workers.\n",
      "[Parallel(n_jobs=-1)]: Done   2 out of  16 | elapsed:   41.2s remaining:  4.8min\n",
      "[Parallel(n_jobs=-1)]: Done  16 out of  16 | elapsed:   43.0s finished\n",
      "Features: 8/13[Parallel(n_jobs=-1)]: Using backend LokyBackend with 16 concurrent workers.\n",
      "[Parallel(n_jobs=-1)]: Done  15 out of  15 | elapsed:   43.9s finished\n",
      "Features: 9/13[Parallel(n_jobs=-1)]: Using backend LokyBackend with 16 concurrent workers.\n",
      "[Parallel(n_jobs=-1)]: Done  14 out of  14 | elapsed:   45.2s finished\n",
      "Features: 10/13[Parallel(n_jobs=-1)]: Using backend LokyBackend with 16 concurrent workers.\n",
      "[Parallel(n_jobs=-1)]: Done  10 out of  13 | elapsed:   43.8s remaining:   13.2s\n",
      "[Parallel(n_jobs=-1)]: Done  13 out of  13 | elapsed:   44.7s finished\n",
      "Features: 11/13[Parallel(n_jobs=-1)]: Using backend LokyBackend with 16 concurrent workers.\n",
      "[Parallel(n_jobs=-1)]: Done   7 out of  12 | elapsed:   43.0s remaining:   30.7s\n",
      "[Parallel(n_jobs=-1)]: Done  12 out of  12 | elapsed:   43.6s finished\n",
      "Features: 12/13[Parallel(n_jobs=-1)]: Using backend LokyBackend with 16 concurrent workers.\n",
      "[Parallel(n_jobs=-1)]: Done   4 out of  11 | elapsed:   33.9s remaining:   59.4s\n",
      "[Parallel(n_jobs=-1)]: Done  11 out of  11 | elapsed:   44.4s finished\n",
      "Features: 13/13[Parallel(n_jobs=-1)]: Using backend LokyBackend with 16 concurrent workers.\n",
      "[Parallel(n_jobs=-1)]: Done  16 out of  23 | elapsed:   23.4s remaining:   10.2s\n",
      "[Parallel(n_jobs=-1)]: Done  23 out of  23 | elapsed:   33.0s finished\n",
      "Features: 1/13[Parallel(n_jobs=-1)]: Using backend LokyBackend with 16 concurrent workers.\n",
      "[Parallel(n_jobs=-1)]: Done  14 out of  22 | elapsed:   29.0s remaining:   16.5s\n",
      "[Parallel(n_jobs=-1)]: Done  22 out of  22 | elapsed:   40.1s finished\n",
      "Features: 2/13[Parallel(n_jobs=-1)]: Using backend LokyBackend with 16 concurrent workers.\n",
      "[Parallel(n_jobs=-1)]: Done  12 out of  21 | elapsed:   27.8s remaining:   20.8s\n",
      "[Parallel(n_jobs=-1)]: Done  21 out of  21 | elapsed:   40.1s finished\n",
      "Features: 3/13[Parallel(n_jobs=-1)]: Using backend LokyBackend with 16 concurrent workers.\n",
      "[Parallel(n_jobs=-1)]: Done  10 out of  20 | elapsed:   29.1s remaining:   29.1s\n",
      "[Parallel(n_jobs=-1)]: Done  20 out of  20 | elapsed:   42.7s finished\n",
      "Features: 4/13[Parallel(n_jobs=-1)]: Using backend LokyBackend with 16 concurrent workers.\n",
      "[Parallel(n_jobs=-1)]: Done   8 out of  19 | elapsed:   28.5s remaining:   39.2s\n",
      "[Parallel(n_jobs=-1)]: Done  19 out of  19 | elapsed:   43.3s finished\n",
      "Features: 5/13[Parallel(n_jobs=-1)]: Using backend LokyBackend with 16 concurrent workers.\n",
      "[Parallel(n_jobs=-1)]: Done   6 out of  18 | elapsed:   32.5s remaining:  1.1min\n",
      "[Parallel(n_jobs=-1)]: Done  18 out of  18 | elapsed:   50.5s finished\n",
      "Features: 6/13[Parallel(n_jobs=-1)]: Using backend LokyBackend with 16 concurrent workers.\n",
      "[Parallel(n_jobs=-1)]: Done   4 out of  17 | elapsed:   34.6s remaining:  1.9min\n",
      "[Parallel(n_jobs=-1)]: Done  17 out of  17 | elapsed:   53.7s finished\n",
      "Features: 7/13[Parallel(n_jobs=-1)]: Using backend LokyBackend with 16 concurrent workers.\n",
      "[Parallel(n_jobs=-1)]: Done   2 out of  16 | elapsed:   37.6s remaining:  4.4min\n",
      "[Parallel(n_jobs=-1)]: Done  16 out of  16 | elapsed:   40.7s finished\n",
      "Features: 8/13[Parallel(n_jobs=-1)]: Using backend LokyBackend with 16 concurrent workers.\n",
      "[Parallel(n_jobs=-1)]: Done  15 out of  15 | elapsed:   44.6s finished\n",
      "Features: 9/13[Parallel(n_jobs=-1)]: Using backend LokyBackend with 16 concurrent workers.\n",
      "[Parallel(n_jobs=-1)]: Done  14 out of  14 | elapsed:   44.7s finished\n",
      "Features: 10/13[Parallel(n_jobs=-1)]: Using backend LokyBackend with 16 concurrent workers.\n",
      "[Parallel(n_jobs=-1)]: Done  10 out of  13 | elapsed:   45.1s remaining:   13.5s\n",
      "[Parallel(n_jobs=-1)]: Done  13 out of  13 | elapsed:   45.6s finished\n",
      "Features: 11/13[Parallel(n_jobs=-1)]: Using backend LokyBackend with 16 concurrent workers.\n",
      "[Parallel(n_jobs=-1)]: Done   7 out of  12 | elapsed:   42.3s remaining:   30.2s\n",
      "[Parallel(n_jobs=-1)]: Done  12 out of  12 | elapsed:   42.7s finished\n",
      "Features: 12/13[Parallel(n_jobs=-1)]: Using backend LokyBackend with 16 concurrent workers.\n",
      "[Parallel(n_jobs=-1)]: Done   4 out of  11 | elapsed:   33.7s remaining:   59.0s\n",
      "[Parallel(n_jobs=-1)]: Done  11 out of  11 | elapsed:   44.9s finished\n",
      "Features: 13/13[Parallel(n_jobs=-1)]: Using backend LokyBackend with 16 concurrent workers.\n",
      "[Parallel(n_jobs=-1)]: Done  16 out of  23 | elapsed:   23.1s remaining:   10.1s\n",
      "[Parallel(n_jobs=-1)]: Done  23 out of  23 | elapsed:   33.2s finished\n",
      "Features: 1/13[Parallel(n_jobs=-1)]: Using backend LokyBackend with 16 concurrent workers.\n",
      "[Parallel(n_jobs=-1)]: Done  14 out of  22 | elapsed:   29.7s remaining:   17.0s\n",
      "[Parallel(n_jobs=-1)]: Done  22 out of  22 | elapsed:   40.3s finished\n",
      "Features: 2/13[Parallel(n_jobs=-1)]: Using backend LokyBackend with 16 concurrent workers.\n",
      "[Parallel(n_jobs=-1)]: Done  12 out of  21 | elapsed:   27.4s remaining:   20.5s\n",
      "[Parallel(n_jobs=-1)]: Done  21 out of  21 | elapsed:   39.9s finished\n",
      "Features: 3/13[Parallel(n_jobs=-1)]: Using backend LokyBackend with 16 concurrent workers.\n",
      "[Parallel(n_jobs=-1)]: Done  10 out of  20 | elapsed:   28.7s remaining:   28.7s\n",
      "[Parallel(n_jobs=-1)]: Done  20 out of  20 | elapsed:   41.9s finished\n",
      "Features: 4/13[Parallel(n_jobs=-1)]: Using backend LokyBackend with 16 concurrent workers.\n",
      "[Parallel(n_jobs=-1)]: Done   8 out of  19 | elapsed:   28.8s remaining:   39.5s\n",
      "[Parallel(n_jobs=-1)]: Done  19 out of  19 | elapsed:   44.4s finished\n",
      "Features: 5/13[Parallel(n_jobs=-1)]: Using backend LokyBackend with 16 concurrent workers.\n",
      "[Parallel(n_jobs=-1)]: Done   6 out of  18 | elapsed:   30.2s remaining:  1.0min\n",
      "[Parallel(n_jobs=-1)]: Done  18 out of  18 | elapsed:   45.7s finished\n",
      "Features: 6/13[Parallel(n_jobs=-1)]: Using backend LokyBackend with 16 concurrent workers.\n",
      "[Parallel(n_jobs=-1)]: Done   4 out of  17 | elapsed:   31.6s remaining:  1.7min\n",
      "[Parallel(n_jobs=-1)]: Done  17 out of  17 | elapsed:   48.3s finished\n",
      "Features: 7/13[Parallel(n_jobs=-1)]: Using backend LokyBackend with 16 concurrent workers.\n",
      "[Parallel(n_jobs=-1)]: Done   2 out of  16 | elapsed:   38.6s remaining:  4.5min\n",
      "[Parallel(n_jobs=-1)]: Done  16 out of  16 | elapsed:   42.5s finished\n",
      "Features: 8/13[Parallel(n_jobs=-1)]: Using backend LokyBackend with 16 concurrent workers.\n",
      "[Parallel(n_jobs=-1)]: Done  15 out of  15 | elapsed:   43.2s finished\n",
      "Features: 9/13[Parallel(n_jobs=-1)]: Using backend LokyBackend with 16 concurrent workers.\n",
      "[Parallel(n_jobs=-1)]: Done  14 out of  14 | elapsed:   43.3s finished\n",
      "Features: 10/13[Parallel(n_jobs=-1)]: Using backend LokyBackend with 16 concurrent workers.\n",
      "[Parallel(n_jobs=-1)]: Done  10 out of  13 | elapsed:   42.2s remaining:   12.7s\n",
      "[Parallel(n_jobs=-1)]: Done  13 out of  13 | elapsed:   43.7s finished\n",
      "Features: 11/13[Parallel(n_jobs=-1)]: Using backend LokyBackend with 16 concurrent workers.\n",
      "[Parallel(n_jobs=-1)]: Done   7 out of  12 | elapsed:   42.3s remaining:   30.2s\n",
      "[Parallel(n_jobs=-1)]: Done  12 out of  12 | elapsed:   43.1s finished\n",
      "Features: 12/13[Parallel(n_jobs=-1)]: Using backend LokyBackend with 16 concurrent workers.\n",
      "[Parallel(n_jobs=-1)]: Done   4 out of  11 | elapsed:   34.6s remaining:  1.0min\n",
      "[Parallel(n_jobs=-1)]: Done  11 out of  11 | elapsed:   44.9s finished\n",
      "Features: 13/13[Parallel(n_jobs=-1)]: Using backend LokyBackend with 16 concurrent workers.\n",
      "[Parallel(n_jobs=-1)]: Done  16 out of  23 | elapsed:   23.1s remaining:   10.1s\n",
      "[Parallel(n_jobs=-1)]: Done  23 out of  23 | elapsed:   33.4s finished\n",
      "Features: 1/13[Parallel(n_jobs=-1)]: Using backend LokyBackend with 16 concurrent workers.\n",
      "[Parallel(n_jobs=-1)]: Done  14 out of  22 | elapsed:   28.9s remaining:   16.5s\n",
      "[Parallel(n_jobs=-1)]: Done  22 out of  22 | elapsed:   39.9s finished\n",
      "Features: 2/13[Parallel(n_jobs=-1)]: Using backend LokyBackend with 16 concurrent workers.\n",
      "[Parallel(n_jobs=-1)]: Done  12 out of  21 | elapsed:   26.9s remaining:   20.2s\n",
      "[Parallel(n_jobs=-1)]: Done  21 out of  21 | elapsed:   40.3s finished\n",
      "Features: 3/13[Parallel(n_jobs=-1)]: Using backend LokyBackend with 16 concurrent workers.\n",
      "[Parallel(n_jobs=-1)]: Done  10 out of  20 | elapsed:   36.9s remaining:   36.9s\n",
      "[Parallel(n_jobs=-1)]: Done  20 out of  20 | elapsed:  1.1min finished\n",
      "Features: 4/13[Parallel(n_jobs=-1)]: Using backend LokyBackend with 16 concurrent workers.\n",
      "[Parallel(n_jobs=-1)]: Done   8 out of  19 | elapsed:   54.1s remaining:  1.2min\n",
      "[Parallel(n_jobs=-1)]: Done  19 out of  19 | elapsed:  1.4min finished\n",
      "Features: 5/13[Parallel(n_jobs=-1)]: Using backend LokyBackend with 16 concurrent workers.\n",
      "[Parallel(n_jobs=-1)]: Done   6 out of  18 | elapsed:  1.1min remaining:  2.2min\n",
      "[Parallel(n_jobs=-1)]: Done  18 out of  18 | elapsed:  1.5min finished\n",
      "Features: 6/13[Parallel(n_jobs=-1)]: Using backend LokyBackend with 16 concurrent workers.\n",
      "[Parallel(n_jobs=-1)]: Done   4 out of  17 | elapsed:   37.3s remaining:  2.0min\n",
      "[Parallel(n_jobs=-1)]: Done  17 out of  17 | elapsed:  1.0min finished\n",
      "Features: 7/13[Parallel(n_jobs=-1)]: Using backend LokyBackend with 16 concurrent workers.\n",
      "[Parallel(n_jobs=-1)]: Done   2 out of  16 | elapsed:  1.2min remaining:  8.3min\n",
      "[Parallel(n_jobs=-1)]: Done  16 out of  16 | elapsed:  1.3min finished\n",
      "Features: 8/13[Parallel(n_jobs=-1)]: Using backend LokyBackend with 16 concurrent workers.\n",
      "[Parallel(n_jobs=-1)]: Done  15 out of  15 | elapsed:  1.6min finished\n",
      "Features: 9/13[Parallel(n_jobs=-1)]: Using backend LokyBackend with 16 concurrent workers.\n",
      "[Parallel(n_jobs=-1)]: Done  14 out of  14 | elapsed:  1.6min finished\n",
      "Features: 10/13[Parallel(n_jobs=-1)]: Using backend LokyBackend with 16 concurrent workers.\n",
      "[Parallel(n_jobs=-1)]: Done  10 out of  13 | elapsed:  1.5min remaining:   26.5s\n",
      "[Parallel(n_jobs=-1)]: Done  13 out of  13 | elapsed:  1.5min finished\n",
      "Features: 11/13[Parallel(n_jobs=-1)]: Using backend LokyBackend with 16 concurrent workers.\n",
      "[Parallel(n_jobs=-1)]: Done   7 out of  12 | elapsed:  1.4min remaining:   58.2s\n",
      "[Parallel(n_jobs=-1)]: Done  12 out of  12 | elapsed:  1.4min finished\n",
      "Features: 12/13[Parallel(n_jobs=-1)]: Using backend LokyBackend with 16 concurrent workers.\n",
      "[Parallel(n_jobs=-1)]: Done   4 out of  11 | elapsed:  1.2min remaining:  2.1min\n",
      "[Parallel(n_jobs=-1)]: Done  11 out of  11 | elapsed:  1.3min finished\n",
      "Features: 13/13[Parallel(n_jobs=-1)]: Using backend LokyBackend with 16 concurrent workers.\n",
      "[Parallel(n_jobs=-1)]: Done  16 out of  23 | elapsed:   35.4s remaining:   15.5s\n",
      "[Parallel(n_jobs=-1)]: Done  23 out of  23 | elapsed:  1.0min finished\n",
      "Features: 1/13[Parallel(n_jobs=-1)]: Using backend LokyBackend with 16 concurrent workers.\n",
      "[Parallel(n_jobs=-1)]: Done  14 out of  22 | elapsed:   53.1s remaining:   30.4s\n",
      "[Parallel(n_jobs=-1)]: Done  22 out of  22 | elapsed:  1.1min finished\n",
      "Features: 2/13[Parallel(n_jobs=-1)]: Using backend LokyBackend with 16 concurrent workers.\n",
      "[Parallel(n_jobs=-1)]: Done  12 out of  21 | elapsed:   58.0s remaining:   43.5s\n",
      "[Parallel(n_jobs=-1)]: Done  21 out of  21 | elapsed:  1.2min finished\n",
      "Features: 3/13[Parallel(n_jobs=-1)]: Using backend LokyBackend with 16 concurrent workers.\n",
      "[Parallel(n_jobs=-1)]: Done  10 out of  20 | elapsed:   52.9s remaining:   52.9s\n",
      "[Parallel(n_jobs=-1)]: Done  20 out of  20 | elapsed:  1.3min finished\n",
      "Features: 4/13[Parallel(n_jobs=-1)]: Using backend LokyBackend with 16 concurrent workers.\n",
      "[Parallel(n_jobs=-1)]: Done   8 out of  19 | elapsed:   40.2s remaining:   55.3s\n",
      "[Parallel(n_jobs=-1)]: Done  19 out of  19 | elapsed:  1.1min finished\n",
      "Features: 5/13[Parallel(n_jobs=-1)]: Using backend LokyBackend with 16 concurrent workers.\n",
      "[Parallel(n_jobs=-1)]: Done   6 out of  18 | elapsed:   56.1s remaining:  1.9min\n",
      "[Parallel(n_jobs=-1)]: Done  18 out of  18 | elapsed:  1.5min finished\n",
      "Features: 6/13[Parallel(n_jobs=-1)]: Using backend LokyBackend with 16 concurrent workers.\n",
      "[Parallel(n_jobs=-1)]: Done   4 out of  17 | elapsed:  1.1min remaining:  3.4min\n",
      "[Parallel(n_jobs=-1)]: Done  17 out of  17 | elapsed:  1.6min finished\n",
      "Features: 7/13[Parallel(n_jobs=-1)]: Using backend LokyBackend with 16 concurrent workers.\n",
      "[Parallel(n_jobs=-1)]: Done   2 out of  16 | elapsed:  1.1min remaining:  8.0min\n",
      "[Parallel(n_jobs=-1)]: Done  16 out of  16 | elapsed:  1.3min finished\n",
      "Features: 8/13[Parallel(n_jobs=-1)]: Using backend LokyBackend with 16 concurrent workers.\n",
      "[Parallel(n_jobs=-1)]: Done  15 out of  15 | elapsed:  1.1min finished\n",
      "Features: 9/13[Parallel(n_jobs=-1)]: Using backend LokyBackend with 16 concurrent workers.\n",
      "[Parallel(n_jobs=-1)]: Done  14 out of  14 | elapsed:  1.4min finished\n",
      "Features: 10/13[Parallel(n_jobs=-1)]: Using backend LokyBackend with 16 concurrent workers.\n",
      "[Parallel(n_jobs=-1)]: Done  10 out of  13 | elapsed:  1.5min remaining:   26.5s\n",
      "[Parallel(n_jobs=-1)]: Done  13 out of  13 | elapsed:  1.5min finished\n",
      "Features: 11/13[Parallel(n_jobs=-1)]: Using backend LokyBackend with 16 concurrent workers.\n",
      "[Parallel(n_jobs=-1)]: Done   7 out of  12 | elapsed:  1.4min remaining:  1.0min\n",
      "[Parallel(n_jobs=-1)]: Done  12 out of  12 | elapsed:  1.5min finished\n",
      "Features: 12/13[Parallel(n_jobs=-1)]: Using backend LokyBackend with 16 concurrent workers.\n",
      "[Parallel(n_jobs=-1)]: Done   4 out of  11 | elapsed:  1.4min remaining:  2.4min\n",
      "[Parallel(n_jobs=-1)]: Done  11 out of  11 | elapsed:  1.5min finished\n",
      "Features: 13/13[Parallel(n_jobs=-1)]: Using backend LokyBackend with 16 concurrent workers.\n",
      "[Parallel(n_jobs=-1)]: Done  16 out of  23 | elapsed:   48.6s remaining:   21.3s\n",
      "[Parallel(n_jobs=-1)]: Done  23 out of  23 | elapsed:  1.3min finished\n",
      "Features: 1/13[Parallel(n_jobs=-1)]: Using backend LokyBackend with 16 concurrent workers.\n",
      "[Parallel(n_jobs=-1)]: Done  14 out of  22 | elapsed:  1.0min remaining:   35.7s\n",
      "[Parallel(n_jobs=-1)]: Done  22 out of  22 | elapsed:  1.5min finished\n",
      "Features: 2/13[Parallel(n_jobs=-1)]: Using backend LokyBackend with 16 concurrent workers.\n",
      "[Parallel(n_jobs=-1)]: Done  12 out of  21 | elapsed:   46.5s remaining:   34.9s\n",
      "[Parallel(n_jobs=-1)]: Done  21 out of  21 | elapsed:  1.2min finished\n",
      "Features: 3/13[Parallel(n_jobs=-1)]: Using backend LokyBackend with 16 concurrent workers.\n",
      "[Parallel(n_jobs=-1)]: Done  10 out of  20 | elapsed:   43.3s remaining:   43.3s\n",
      "[Parallel(n_jobs=-1)]: Done  20 out of  20 | elapsed:  1.2min finished\n",
      "Features: 4/13[Parallel(n_jobs=-1)]: Using backend LokyBackend with 16 concurrent workers.\n",
      "[Parallel(n_jobs=-1)]: Done   8 out of  19 | elapsed:   51.3s remaining:  1.2min\n",
      "[Parallel(n_jobs=-1)]: Done  19 out of  19 | elapsed:  1.3min finished\n",
      "Features: 5/13[Parallel(n_jobs=-1)]: Using backend LokyBackend with 16 concurrent workers.\n",
      "[Parallel(n_jobs=-1)]: Done   6 out of  18 | elapsed:   54.5s remaining:  1.8min\n",
      "[Parallel(n_jobs=-1)]: Done  18 out of  18 | elapsed:  1.4min finished\n",
      "Features: 6/13[Parallel(n_jobs=-1)]: Using backend LokyBackend with 16 concurrent workers.\n",
      "[Parallel(n_jobs=-1)]: Done   4 out of  17 | elapsed:   53.2s remaining:  2.9min\n",
      "[Parallel(n_jobs=-1)]: Done  17 out of  17 | elapsed:  1.4min finished\n",
      "Features: 7/13[Parallel(n_jobs=-1)]: Using backend LokyBackend with 16 concurrent workers.\n",
      "[Parallel(n_jobs=-1)]: Done   2 out of  16 | elapsed:  1.2min remaining:  8.1min\n",
      "[Parallel(n_jobs=-1)]: Done  16 out of  16 | elapsed:  1.2min finished\n",
      "Features: 8/13[Parallel(n_jobs=-1)]: Using backend LokyBackend with 16 concurrent workers.\n",
      "[Parallel(n_jobs=-1)]: Done  15 out of  15 | elapsed:  1.2min finished\n",
      "Features: 9/13[Parallel(n_jobs=-1)]: Using backend LokyBackend with 16 concurrent workers.\n",
      "[Parallel(n_jobs=-1)]: Done  14 out of  14 | elapsed:  1.4min finished\n",
      "Features: 10/13[Parallel(n_jobs=-1)]: Using backend LokyBackend with 16 concurrent workers.\n",
      "[Parallel(n_jobs=-1)]: Done  10 out of  13 | elapsed:  1.2min remaining:   21.5s\n",
      "[Parallel(n_jobs=-1)]: Done  13 out of  13 | elapsed:  1.2min finished\n",
      "Features: 11/13[Parallel(n_jobs=-1)]: Using backend LokyBackend with 16 concurrent workers.\n",
      "[Parallel(n_jobs=-1)]: Done   7 out of  12 | elapsed:  1.2min remaining:   50.1s\n",
      "[Parallel(n_jobs=-1)]: Done  12 out of  12 | elapsed:  1.2min finished\n",
      "Features: 12/13[Parallel(n_jobs=-1)]: Using backend LokyBackend with 16 concurrent workers.\n",
      "[Parallel(n_jobs=-1)]: Done   4 out of  11 | elapsed:  1.4min remaining:  2.5min\n",
      "[Parallel(n_jobs=-1)]: Done  11 out of  11 | elapsed:  1.5min finished\n",
      "Features: 13/13[Parallel(n_jobs=-1)]: Using backend LokyBackend with 16 concurrent workers.\n",
      "[Parallel(n_jobs=-1)]: Done  16 out of  23 | elapsed:   52.7s remaining:   23.1s\n",
      "[Parallel(n_jobs=-1)]: Done  23 out of  23 | elapsed:  1.3min finished\n",
      "Features: 1/13[Parallel(n_jobs=-1)]: Using backend LokyBackend with 16 concurrent workers.\n"
     ]
    }
   ],
   "source": [
    "erroresA = []\n",
    "stdsA  = []\n",
    "tiemposA = []\n",
    "k_feature_idx_A = []\n",
    "\n",
    "\n",
    "import pandas as pd\n",
    "#import qgrid\n",
    "df_types = pd.DataFrame({\n",
    "    'Modelo' : pd.Series(['SVM']*10),\n",
    "    '# de características seleccionadas' : pd.Series([10,13,15,18,20]*2),\n",
    "    'Fordward':pd.Series([True]*5+[False]*5)\n",
    "\n",
    "   })\n",
    "df_types.set_index(['Modelo','# de características seleccionadas','Fordward'], inplace=True)\n",
    "\n",
    "for i in df_types.index:  \n",
    " \n",
    " \n",
    "  model = getModel(str(i[0]))\n",
    "  tiempos,errores,stds,k_feature_idx_ = implementationSelectionFeatures(model,int(i[1]),i[2],False)\n",
    " \n",
    "  erroresA.append(errores)\n",
    "  stdsA.append(stds)\n",
    "  tiemposA.append(tiempos)\n",
    "  k_feature_idx_A.append(k_feature_idx_)\n",
    " \n",
    "  print('Fordward',str(i[2]))\n",
    " \n",
    "  print('N-FEATURES: ', str(i[1]))\n",
    "  print(\"Indices \",k_feature_idx_)\n",
    " \n",
    "  df_types[\"Error de validación\"] = \"\"\n",
    "  df_types[\"IC(std)\"] = \"\"\n",
    "  df_types[\"Tiempo de ejecución\"] = \"\"  \n",
    "  df_types[\"Indices de caracteristicas\"] = \"\"\n",
    " \n",
    " \n",
    "  df_types[\"Error de validación\"][i] = errores\n",
    "  df_types[\"IC(std)\"][i]= stds\n",
    "  df_types[\"Tiempo de ejecución\"][i] = tiempos\n",
    "  df_types[\"Indices de caracteristicas\"][i] = k_feature_idx_  \n",
    " \n",
    " \n",
    "  #df_types.sort_index(inplace=True)\n",
    "#qgrid_widget = qgrid.show_grid(df_types, show_toolbar=False)\n",
    "#qgrid_widget\n",
    "#qgrid_widget.get_changed_df()\n"
   ]
  },
  {
   "cell_type": "markdown",
   "metadata": {
    "colab_type": "text",
    "id": "5NqBgTX8L9tE"
   },
   "source": [
    "# Extracción con PCA"
   ]
  },
  {
   "cell_type": "code",
   "execution_count": 0,
   "metadata": {
    "colab": {},
    "colab_type": "code",
    "collapsed": true,
    "id": "-GJlfyUB9koD"
   },
   "outputs": [],
   "source": [
    "from sklearn.model_selection import train_test_split\n",
    "VALID_SIZE = 0.20\n",
    "X, X_test, Y, Y_test = train_test_split(X,Y, test_size=VALID_SIZE, shuffle=True )"
   ]
  },
  {
   "cell_type": "code",
   "execution_count": 0,
   "metadata": {
    "colab": {},
    "colab_type": "code",
    "collapsed": true,
    "id": "1Y3hKEwy9Alo"
   },
   "outputs": [],
   "source": [
    "from mlxtend.feature_extraction import PrincipalComponentAnalysis as PCA\n",
    "from sklearn.model_selection import StratifiedKFold\n",
    "import time\n",
    "\n",
    "\n",
    "def extract_features(tipo, n):\n",
    "    \n",
    "    if tipo == 'pca':\n",
    "    \n",
    "        ext = PCA(n_components=n)\n",
    "    \n",
    "        return ext\n",
    "\n",
    "    elif tipo == 'lda':\n",
    "        \n",
    "        ext = LDA(n_discriminants=n)\n",
    "        \n",
    "        return ext\n",
    "    \n",
    "    else:\n",
    "        print (\"Ingrese un método válido (pca o lda)\\n\")\n",
    "\n",
    "        \n",
    "\n",
    "def implementationPCA(n_components,modelo):\n",
    "    #Para calcular el costo computacional\n",
    "  tiempo_i = time.time()\n",
    "\n",
    "\n",
    "\n",
    "  #Implemetamos la metodología de validación cross validation estratificada con 10 folds\n",
    "\n",
    "  Errores = np.ones(10)\n",
    "  j = 0\n",
    "\n",
    "\n",
    "  FOLDS = 10\n",
    "  skf = StratifiedKFold(n_splits=FOLDS)\n",
    "\n",
    "  for train_index, test_index in skf.split(X, Y):\n",
    "\n",
    "\n",
    "      #Aquí se aplica la extracción de características por PCA\n",
    "      #Complete el código\n",
    "\n",
    "      ex = extract_features('pca',n_components)#Complete el código llamando el método extract_features. Tenga en cuenta lo que le pide el ejercicio 3.1\n",
    "\n",
    "\n",
    "      #Fit de PCA\n",
    "      ex = ex.fit(X) #Complete el código con el fit correspondiente\n",
    "\n",
    "      #Transforme las variables y genere el nuevo espacio de características de menor dimensión\n",
    "      X_ex = ex.transform(X)#complete el código aquí para hacer la transformación\n",
    "\n",
    "\n",
    "      #Aquí se aplica la extracción de características por LDA\n",
    "\n",
    "      #OPCIONAL\n",
    "      '''\n",
    "      ex = #Complete el código llamando el método extract_features.Tenga en cuenta lo que le pide el ejercicio 3.1\n",
    "\n",
    "      #Fit de LDA\n",
    "      ex = #Complete el código con el fit correspondiente\n",
    "\n",
    "      #Transforme las variables y genere el nuevo espacio de características de menor dimensión\n",
    "      X_ex = #complete el código aquí para hacer la transformación\n",
    "      '''\n",
    "\n",
    "      #Se aplica CV-10\n",
    "\n",
    "      X_train, X_test = X_ex[train_index], X_ex[test_index]\n",
    "      y_train, y_test = Y[train_index], Y[test_index]  \n",
    "\n",
    "      #Aquí se entrena y se valida el modelo luego de aplicar extracción de características con PCA o LDA\n",
    "\n",
    "      ######\n",
    "\n",
    "      # Entrenamiento el modelo.\n",
    "      model = modelo.fit(X_train,y_train)\n",
    "\n",
    "      # Validación del modelo\n",
    "      ypred = model.predict(X_test)\n",
    "\n",
    "      #######\n",
    "\n",
    "      Errores[j] = classification_error(ypred, y_test)\n",
    "      j+=1\n",
    "\n",
    "\n",
    "  print(\"\\nError de validación aplicando extracción: \" + str(np.mean(Errores)) + \" +/- \" + str(np.std(Errores)))\n",
    "\n",
    "  efi = (1-np.mean(Errores))*100\n",
    "  print(\"\\nEficiencia en validación aplicando extracción: \" + str( efi+ \"%\" ))\n",
    "  \n",
    "  tiempo = time.time()-tiempo_i\n",
    "        \n",
    "  print (\"\\n\\nTiempo total de ejecución: \" + str(tiempo) + \" segundos.\")\n",
    "  return np.mean(Errores),np.std(Errores),efi,tiempo,ex\n",
    "  #print str(ypred)\n",
    "  #print str(y_test)"
   ]
  },
  {
   "cell_type": "code",
   "execution_count": 0,
   "metadata": {
    "colab": {},
    "colab_type": "code",
    "collapsed": true,
    "id": "AmmOqYJUG2ro"
   },
   "outputs": [],
   "source": [
    "def extraccion(tecnica, clf, n, X):\n",
    "  #Para calcular el costo computacional\n",
    "  tiempo_i = time.time()\n",
    "\n",
    "  #Estandarizamos los datos\n",
    "  X_extrac = X.copy()\n",
    "\n",
    "  #Implemetamos la metodología de validación cross validation con 10 folds\n",
    "\n",
    "  Errores = np.ones(10)\n",
    "  j = 0\n",
    "  kf = StratifiedKFold(n_splits=10)\n",
    "\n",
    "  for train_index, test_index in kf.split(X_extrac,Y):\n",
    "\n",
    "      #Aquí se aplica la extracción de características por PCA\n",
    "      #Complete el código\n",
    "\n",
    "      ex = extract_features(tecnica,n)#Complete el código llamando el método extract_features. Tenga en cuenta lo que le pide el ejercicio 3.1\n",
    "\n",
    "      #Fit de PCA\n",
    "      ex = ex.fit(X_extrac)#Complete el código con el fit correspondiente\n",
    "\n",
    "      #Transforme las variables y genere el nuevo espacio de características de menor dimensión\n",
    "      X_ex = ex.transform(X_extrac)#complete el código aquí para hacer la transformación\n",
    "      print(ex.e_vecs_)\n",
    "      \n",
    "\n",
    "      #Aquí se aplica la extracción de características por LDA\n",
    "\n",
    "      #OPCIONAL\n",
    "      '''\n",
    "      ex = #Complete el código llamando el método extract_features.Tenga en cuenta lo que le pide el ejercicio 3.1\n",
    "\n",
    "      #Fit de LDA\n",
    "      ex = #Complete el código con el fit correspondiente\n",
    "\n",
    "      #Transforme las variables y genere el nuevo espacio de características de menor dimensión\n",
    "      X_ex = #complete el código aquí para hacer la transformación\n",
    "      '''\n",
    "\n",
    "      #Se aplica CV-10\n",
    "\n",
    "      X_train, X_test = X_ex[train_index], X_ex[test_index]\n",
    "      y_train, y_test = Y[train_index], Y[test_index]  \n",
    "\n",
    "      #Aquí se entrena y se valida el modelo luego de aplicar extracción de características con PCA o LDA\n",
    "\n",
    "      ######\n",
    "\n",
    "      # Entrenamiento el modelo.\n",
    "      model = clf.fit(X_train,y_train)\n",
    "\n",
    "      # Validación del modelo\n",
    "      ypred = model.predict(X_test)\n",
    "\n",
    "      #######\n",
    "\n",
    "      Errores[j] = classification_error(ypred, y_test)\n",
    "      j+=1\n",
    "\n",
    "  \n",
    "  tiempo = time.time()-tiempo_i\n",
    "  error = np.mean(Errores)\n",
    "  eficiencia = (1-np.mean(Errores))*100\n",
    "  IC = np.std(Errores)\n",
    "  print(\"\\nError de validación aplicando extracción: \" + str(error) + \" +/- \" + str(IC))\n",
    "\n",
    "  print(\"\\nEficiencia en validación aplicando extracción: \" + str(eficiencia) + \"%\" )\n",
    "\n",
    "  print (\"\\n\\nTiempo total de ejecución: \" + str(tiempo) + \" segundos.\")\n",
    "  \n",
    "  return tiempo, error, IC"
   ]
  },
  {
   "cell_type": "markdown",
   "metadata": {
    "colab_type": "text",
    "id": "LbIezQZ-DXVV"
   },
   "source": [
    "# RDF"
   ]
  },
  {
   "cell_type": "code",
   "execution_count": 0,
   "metadata": {
    "colab": {},
    "colab_type": "code",
    "collapsed": true,
    "id": "bUsReygcERkv"
   },
   "outputs": [],
   "source": [
    "#! pip install qgrid"
   ]
  },
  {
   "cell_type": "code",
   "execution_count": 0,
   "metadata": {
    "colab": {
     "base_uri": "https://localhost:8080/",
     "height": 1000
    },
    "colab_type": "code",
    "collapsed": false,
    "executionInfo": {
     "elapsed": 476,
     "status": "error",
     "timestamp": 1570265593224,
     "user": {
      "displayName": "JOSE ALBERTO ARANGO SÁNCHEZ",
      "photoUrl": "https://lh3.googleusercontent.com/a-/AAuE7mAlmJPVrjjJ4aUXppU8o-4tXg36OBTyqwn-TK-0HOk=s64",
      "userId": "16388542354054473882"
     },
     "user_tz": 300
    },
    "id": "5FPS8xGm9ESv",
    "outputId": "e4bb089b-2573-4ef0-c3a3-28bc047e253a"
   },
   "outputs": [
    {
     "name": "stdout",
     "output_type": "stream",
     "text": [
      "[[ 6.70093354e-02 -3.11928649e-01 -5.90540758e-03  4.13236703e-02\n",
      "  -2.40960275e-01 -1.51805336e-01 -1.36040749e-01 -2.97820615e-01\n",
      "  -3.55789247e-02 -8.23921853e-03 -8.67665964e-02  4.96589572e-01\n",
      "   6.41256426e-01 -1.95116195e-01  3.10381449e-02  4.53701519e-02\n",
      "  -7.79507852e-03 -4.21469577e-03 -1.14417988e-02  2.07751611e-03\n",
      "   1.33283361e-02  2.81536685e-04  8.87240525e-05]\n",
      " [-2.12291676e-02 -2.51431456e-02  1.65309688e-02 -1.09896546e-01\n",
      "   5.64404445e-01 -7.58309287e-01 -2.10366540e-01 -8.58130873e-02\n",
      "   3.47699614e-02  5.15583386e-02  5.98398955e-02  1.22410267e-01\n",
      "  -1.21225111e-01  5.31020330e-02 -2.77033482e-02  4.89484503e-03\n",
      "   2.36315800e-02  6.92375976e-03  3.60379955e-03 -3.64984537e-04\n",
      "  -1.24148380e-03  1.71504151e-03 -4.69447809e-04]\n",
      " [ 1.22672009e-02  9.59561103e-02  8.31262633e-02  3.87134549e-01\n",
      "   4.04496346e-01  6.26552536e-02  1.80859518e-01  6.55198726e-01\n",
      "  -5.00449725e-02  2.36195351e-02 -2.13389035e-01  1.60032692e-01\n",
      "   3.36819031e-01 -1.18493685e-01  4.46431317e-02 -3.83899195e-05\n",
      "  -2.39885374e-02 -3.55571852e-03 -5.21107435e-03  3.60239940e-03\n",
      "  -1.06861000e-03 -5.08882524e-04 -1.45660992e-03]\n",
      " [-5.83628606e-03  3.95727460e-02 -9.81113614e-02 -6.22411671e-01\n",
      "   1.71002340e-02  1.75623036e-01  1.13043720e-01  2.56875178e-01\n",
      "  -3.59334913e-02 -8.80207734e-03 -1.23043918e-01  6.37739947e-01\n",
      "  -2.20617408e-01  1.35898551e-01 -2.47592752e-02  1.20900371e-02\n",
      "  -1.43602724e-02  1.04789025e-02 -1.06256210e-04  4.86895501e-03\n",
      "  -4.11104576e-03 -1.63763440e-04  1.06887281e-03]\n",
      " [ 1.41789964e-02 -6.06231492e-02  8.24690600e-02  6.51221918e-01\n",
      "  -1.04719335e-01  3.47093302e-02 -5.22239288e-02 -1.32591575e-01\n",
      "   2.67665145e-02 -2.97254374e-02  8.26456916e-03  4.92034130e-01\n",
      "  -4.82236213e-01  2.33013864e-01 -4.26906027e-02  7.38012005e-03\n",
      "  -9.58168709e-03  1.06253566e-02  5.05925692e-03  4.58240372e-03\n",
      "  -3.37821987e-03 -8.96999868e-04 -5.30459196e-04]\n",
      " [ 1.63920449e-01  2.93186080e-01 -1.77990738e-02  1.82953506e-02\n",
      "  -3.59214238e-02 -1.21878749e-02  7.22795583e-02  4.73500883e-03\n",
      "  -4.96070943e-02  2.84360704e-01  5.70007114e-01  1.65362444e-01\n",
      "   2.03325547e-02 -1.35953766e-01  5.98256329e-01 -2.20951988e-01\n",
      "   2.91051330e-02 -1.31557457e-01  2.05230655e-02  4.08297862e-03\n",
      "   3.85065969e-03  4.70978378e-03  1.87279872e-03]\n",
      " [ 1.98007768e-01  3.32524501e-01 -6.45729151e-02  3.10875839e-02\n",
      "  -6.21522479e-02 -3.74787776e-02  4.73118508e-02  1.64785636e-02\n",
      "  -5.03724657e-02  1.80281151e-01  3.21325751e-01  6.46787104e-02\n",
      "   7.52784756e-02 -5.84111928e-02 -3.40559586e-01  5.54543663e-01\n",
      "  -9.63625290e-02  4.78572388e-01 -1.49840305e-01  3.67817234e-02\n",
      "   1.04967252e-02 -4.55166644e-03 -1.76441721e-03]\n",
      " [ 2.02289320e-01  3.44695101e-01 -1.06938531e-01  2.90570588e-02\n",
      "  -5.87045481e-02 -5.21800503e-02 -1.47613122e-02 -9.96078046e-03\n",
      "  -1.79894160e-02 -2.63075268e-02  1.25173003e-01  5.30217970e-02\n",
      "   1.40963423e-01  1.04601083e-01 -5.12493458e-01 -1.11374920e-01\n",
      "  -1.53882728e-01 -6.03636603e-01  3.26828868e-01 -2.86604253e-02\n",
      "  -1.55818170e-02  1.20423587e-02  7.30695965e-03]\n",
      " [ 2.06459667e-01  3.41898368e-01 -1.31392927e-01  2.80974462e-02\n",
      "  -6.32285191e-02 -6.69723701e-02 -6.81505649e-02 -6.04989442e-02\n",
      "  -1.44251721e-03 -1.56383725e-01 -1.62268511e-01  3.66032251e-02\n",
      "   3.60664349e-02 -4.70215969e-02 -1.75887938e-01 -5.90154342e-01\n",
      "   1.02438148e-01  2.09075256e-01 -5.61927207e-01 -1.81435042e-02\n",
      "  -1.39823656e-02 -1.67990960e-02 -2.02589753e-03]\n",
      " [ 2.11150747e-01  3.26369068e-01 -1.47282755e-01  2.26423611e-02\n",
      "  -4.89638701e-02 -4.44951468e-02 -1.25369769e-01 -8.42555653e-02\n",
      "   6.41432693e-02 -9.89744031e-02 -3.39232767e-01 -2.79103060e-03\n",
      "   8.19478734e-03 -3.67150206e-03  1.96028776e-01 -7.50344812e-02\n",
      "   1.36169872e-01  4.04239832e-01  6.65538046e-01 -2.73420550e-02\n",
      "   2.63018892e-02  5.69723926e-03 -7.42621631e-05]\n",
      " [ 2.02287360e-01  3.01469642e-01 -1.54548028e-01  2.00857658e-02\n",
      "  -5.26683465e-06 -3.90529362e-02 -5.24854587e-02 -1.38376608e-01\n",
      "   3.22469480e-02 -1.08402211e-01 -3.99852766e-01 -3.37936703e-02\n",
      "  -3.24090290e-02  5.75942412e-02  3.63619997e-01  4.99748430e-01\n",
      "   4.86887584e-02 -3.92478853e-01 -3.19582733e-01  4.06109632e-02\n",
      "  -1.16666168e-02  4.40510266e-05 -2.94010258e-04]\n",
      " [ 3.36636273e-01 -1.36132215e-01  2.04998120e-01 -3.46297442e-02\n",
      "   2.54834995e-02  3.78849471e-02  3.20614725e-02  3.20579964e-02\n",
      "  -6.07094260e-02  5.71892353e-02  3.99719700e-02 -1.94840837e-02\n",
      "  -1.14252811e-02  4.08545111e-02 -8.27460944e-02  6.77453625e-02\n",
      "   5.41381991e-01 -4.13232551e-02 -8.64566539e-04 -4.34584698e-01\n",
      "  -4.10831672e-01  1.92062145e-01  3.30565336e-01]\n",
      " [ 3.45515521e-01 -1.34891645e-01  1.65785428e-01 -3.83772572e-02\n",
      "   3.60420288e-02  3.51925182e-02 -4.06036087e-02  4.82313438e-02\n",
      "  -3.53580905e-02 -1.09921163e-01  3.64561596e-02 -2.37608051e-02\n",
      "  -8.62007667e-02 -1.21203914e-01 -4.34258111e-02 -6.69021579e-03\n",
      "   1.15535156e-01 -3.97414049e-02  1.88912339e-02  4.87635246e-01\n",
      "   4.64492824e-01 -8.11662563e-02  5.58803075e-01]\n",
      " [ 3.46723149e-01 -1.34834926e-01  1.87860758e-01 -4.01581434e-02\n",
      "   4.40212445e-02  4.85151323e-02 -2.80831480e-03  4.52503851e-02\n",
      "  -2.97119073e-02 -5.36992524e-02  8.31023613e-02 -2.99615854e-02\n",
      "   2.59691342e-02  1.48225365e-01 -4.59355934e-02  3.23419191e-02\n",
      "   3.75365563e-01 -3.88088040e-02  7.40891590e-04 -2.73025209e-02\n",
      "   3.24696767e-01 -2.88909638e-01 -6.70023636e-01]\n",
      " [ 3.50716248e-01 -1.42458800e-01  1.19707168e-01 -3.84599430e-02\n",
      "   5.66659873e-02  7.23266025e-02 -1.06737286e-01  2.01328921e-02\n",
      "   8.02974720e-02  5.28811576e-02 -3.57615427e-02 -3.73022188e-02\n",
      "  -5.36637908e-02 -4.53647671e-02  2.74362429e-03 -5.31936525e-02\n",
      "  -1.81241629e-01  1.99204634e-02  1.01907041e-02  5.04003928e-01\n",
      "  -3.98130507e-01  5.11667053e-01 -3.05425505e-01]\n",
      " [ 3.53355382e-01 -1.44646239e-01  7.94175077e-02 -3.07351285e-02\n",
      "   1.01174082e-01  4.37103916e-02  7.36929059e-02 -7.42340498e-02\n",
      "  -2.43868498e-02  2.15672518e-02 -6.72045234e-02 -4.25706495e-02\n",
      "  -5.08412241e-02 -1.02637044e-02  6.02481994e-02 -4.85999368e-02\n",
      "  -4.27614983e-01  5.04635598e-02  1.67922688e-02 -5.06562299e-02\n",
      "  -3.91149851e-01 -6.77736543e-01  8.50456817e-02]\n",
      " [ 3.44968476e-01 -1.40840983e-01  8.82504259e-02 -3.09692236e-02\n",
      "   1.32451283e-03 -5.12827896e-02  1.42347934e-01 -5.44643777e-03\n",
      "   9.80125259e-02  2.15273106e-02 -8.01751302e-02 -5.07560795e-02\n",
      "  -5.68316887e-02  3.00962699e-02  7.63074420e-02 -3.88788331e-02\n",
      "  -4.82368770e-01  4.91815674e-02 -4.19396708e-02 -5.07035839e-01\n",
      "   4.18101813e-01  3.60753771e-01  7.05619433e-03]\n",
      " [ 9.24820521e-02 -1.59412663e-01 -3.97144333e-01  3.69734514e-02\n",
      "   1.21212699e-01  1.06444425e-01 -2.10842251e-01  1.46357619e-01\n",
      "   1.03713803e-01 -5.64754236e-01  3.66548729e-01 -2.29522023e-02\n",
      "   1.83353328e-01  4.13369312e-01  1.35096597e-01  4.63658653e-02\n",
      "  -5.70824953e-02  8.56502218e-02 -2.66618785e-02 -2.97678849e-02\n",
      "  -6.38262557e-02  4.36735549e-02  8.59730247e-02]\n",
      " [ 7.02303829e-02 -1.38065263e-01 -3.50776281e-01  4.38481798e-02\n",
      "   5.56648668e-02  6.40018354e-02 -1.61608517e-01  9.19510725e-02\n",
      "   4.96873488e-02 -2.29004905e-01  9.07229529e-02  4.84684251e-02\n",
      "  -2.94361823e-01 -7.66876458e-01 -8.66004212e-02  7.27160306e-02\n",
      "   4.50579545e-02 -9.40544049e-02  3.84073272e-02 -1.64711941e-01\n",
      "  -1.27084933e-02 -2.32861479e-02 -1.26724038e-01]\n",
      " [ 8.89379328e-02 -1.80411210e-01 -4.58074939e-01  5.13846522e-02\n",
      "   1.42232935e-01  2.12711478e-01 -2.36462095e-01  5.28986020e-03\n",
      "   3.90206520e-01  6.33653477e-01 -9.67927542e-02 -3.26454369e-02\n",
      "   4.09438113e-02  1.36573300e-01 -7.74346867e-02 -5.75676082e-02\n",
      "   9.77169672e-02 -2.27999748e-02 -4.77988876e-02  2.85215956e-03\n",
      "   1.01802281e-01 -6.76887136e-02  6.70231289e-02]\n",
      " [ 8.51512922e-02 -1.69667107e-01 -4.59400539e-01  7.80625680e-02\n",
      "   1.95951171e-01 -4.07602452e-02  6.83095046e-01 -2.82739289e-01\n",
      "  -3.37598597e-01  1.31782305e-02 -3.19987794e-02 -2.10299525e-02\n",
      "  -1.14008718e-02  3.93377871e-02 -3.31791280e-02 -4.24977486e-02\n",
      "   1.08622383e-01  2.36085118e-02  4.75384840e-02  1.28283499e-01\n",
      "   6.93946301e-03  8.96959837e-02 -2.89450587e-02]\n",
      " [ 7.68949370e-02 -1.36841690e-01 -1.45414879e-01  2.17639523e-02\n",
      "  -5.25210585e-01 -5.03217772e-01  3.03172518e-01  3.93948916e-01\n",
      "   3.73543439e-01 -1.27321920e-03 -1.26648143e-02 -6.26873448e-02\n",
      "  -6.77503988e-02  3.60346946e-02  2.68737773e-02  8.86588320e-03\n",
      "   7.13863664e-02 -1.97258659e-02  8.86819561e-04  9.39447532e-02\n",
      "  -8.33392024e-02 -7.73567580e-02 -1.37710711e-03]\n",
      " [ 7.21060881e-02 -1.32221180e-01 -2.03889115e-01  2.89738563e-02\n",
      "  -2.52815195e-01 -1.52710769e-01 -3.65288366e-01  2.90516435e-01\n",
      "  -7.35576878e-01  2.01626346e-01 -8.84927748e-02 -1.05970644e-01\n",
      "  -8.63757583e-02  1.09798359e-01  4.29345408e-02 -1.71443686e-02\n",
      "  -7.63624574e-02 -4.13684140e-03 -6.50885679e-03 -2.54071568e-02\n",
      "   2.29804623e-02  1.46489512e-02 -1.07969309e-02]]\n"
     ]
    },
    {
     "ename": "KeyError",
     "evalue": "ignored",
     "output_type": "error",
     "traceback": [
      "\u001b[0;31m---------------------------------------------------------------------------\u001b[0m",
      "\u001b[0;31mKeyError\u001b[0m                                  Traceback (most recent call last)",
      "\u001b[0;32m<ipython-input-86-b9e9ce78f7b1>\u001b[0m in \u001b[0;36m<module>\u001b[0;34m()\u001b[0m\n\u001b[1;32m     14\u001b[0m   \u001b[0mmodelo\u001b[0m \u001b[0;34m=\u001b[0m \u001b[0mgetModel\u001b[0m\u001b[0;34m(\u001b[0m\u001b[0mstr\u001b[0m\u001b[0;34m(\u001b[0m\u001b[0mi\u001b[0m\u001b[0;34m[\u001b[0m\u001b[0;36m0\u001b[0m\u001b[0;34m]\u001b[0m\u001b[0;34m)\u001b[0m\u001b[0;34m)\u001b[0m\u001b[0;34m\u001b[0m\u001b[0;34m\u001b[0m\u001b[0m\n\u001b[1;32m     15\u001b[0m \u001b[0;34m\u001b[0m\u001b[0m\n\u001b[0;32m---> 16\u001b[0;31m   \u001b[0mtiempos\u001b[0m\u001b[0;34m,\u001b[0m\u001b[0merrores\u001b[0m\u001b[0;34m,\u001b[0m\u001b[0mstds\u001b[0m \u001b[0;34m=\u001b[0m  \u001b[0mextraccion\u001b[0m\u001b[0;34m(\u001b[0m\u001b[0;34m'pca'\u001b[0m\u001b[0;34m,\u001b[0m \u001b[0mmodelo\u001b[0m\u001b[0;34m,\u001b[0m\u001b[0mint\u001b[0m\u001b[0;34m(\u001b[0m\u001b[0mi\u001b[0m\u001b[0;34m[\u001b[0m\u001b[0;36m1\u001b[0m\u001b[0;34m]\u001b[0m\u001b[0;34m)\u001b[0m\u001b[0;34m,\u001b[0m \u001b[0mX\u001b[0m\u001b[0;34m)\u001b[0m\u001b[0;34m\u001b[0m\u001b[0;34m\u001b[0m\u001b[0m\n\u001b[0m\u001b[1;32m     17\u001b[0m \u001b[0;34m\u001b[0m\u001b[0m\n\u001b[1;32m     18\u001b[0m   \u001b[0mprint\u001b[0m\u001b[0;34m(\u001b[0m\u001b[0;34m'N-FEATURES: '\u001b[0m\u001b[0;34m,\u001b[0m \u001b[0mstr\u001b[0m\u001b[0;34m(\u001b[0m\u001b[0mi\u001b[0m\u001b[0;34m[\u001b[0m\u001b[0;36m1\u001b[0m\u001b[0;34m]\u001b[0m\u001b[0;34m)\u001b[0m\u001b[0;34m)\u001b[0m\u001b[0;34m\u001b[0m\u001b[0;34m\u001b[0m\u001b[0m\n",
      "\u001b[0;32m<ipython-input-83-950333944f26>\u001b[0m in \u001b[0;36mextraccion\u001b[0;34m(tecnica, clf, n, X)\u001b[0m\n\u001b[1;32m     42\u001b[0m       \u001b[0;31m#Se aplica CV-10\u001b[0m\u001b[0;34m\u001b[0m\u001b[0;34m\u001b[0m\u001b[0;34m\u001b[0m\u001b[0m\n\u001b[1;32m     43\u001b[0m \u001b[0;34m\u001b[0m\u001b[0m\n\u001b[0;32m---> 44\u001b[0;31m       \u001b[0mX_train\u001b[0m\u001b[0;34m,\u001b[0m \u001b[0mX_test\u001b[0m \u001b[0;34m=\u001b[0m \u001b[0mX_ex\u001b[0m\u001b[0;34m[\u001b[0m\u001b[0mtrain_index\u001b[0m\u001b[0;34m]\u001b[0m\u001b[0;34m,\u001b[0m \u001b[0mX_ex\u001b[0m\u001b[0;34m[\u001b[0m\u001b[0mtest_index\u001b[0m\u001b[0;34m]\u001b[0m\u001b[0;34m\u001b[0m\u001b[0;34m\u001b[0m\u001b[0m\n\u001b[0m\u001b[1;32m     45\u001b[0m       \u001b[0my_train\u001b[0m\u001b[0;34m,\u001b[0m \u001b[0my_test\u001b[0m \u001b[0;34m=\u001b[0m \u001b[0mY\u001b[0m\u001b[0;34m[\u001b[0m\u001b[0mtrain_index\u001b[0m\u001b[0;34m]\u001b[0m\u001b[0;34m,\u001b[0m \u001b[0mY\u001b[0m\u001b[0;34m[\u001b[0m\u001b[0mtest_index\u001b[0m\u001b[0;34m]\u001b[0m\u001b[0;34m\u001b[0m\u001b[0;34m\u001b[0m\u001b[0m\n\u001b[1;32m     46\u001b[0m \u001b[0;34m\u001b[0m\u001b[0m\n",
      "\u001b[0;32m/usr/local/lib/python3.6/dist-packages/pandas/core/frame.py\u001b[0m in \u001b[0;36m__getitem__\u001b[0;34m(self, key)\u001b[0m\n\u001b[1;32m   2932\u001b[0m                 \u001b[0mkey\u001b[0m \u001b[0;34m=\u001b[0m \u001b[0mlist\u001b[0m\u001b[0;34m(\u001b[0m\u001b[0mkey\u001b[0m\u001b[0;34m)\u001b[0m\u001b[0;34m\u001b[0m\u001b[0;34m\u001b[0m\u001b[0m\n\u001b[1;32m   2933\u001b[0m             indexer = self.loc._convert_to_indexer(key, axis=1,\n\u001b[0;32m-> 2934\u001b[0;31m                                                    raise_missing=True)\n\u001b[0m\u001b[1;32m   2935\u001b[0m \u001b[0;34m\u001b[0m\u001b[0m\n\u001b[1;32m   2936\u001b[0m         \u001b[0;31m# take() does not accept boolean indexers\u001b[0m\u001b[0;34m\u001b[0m\u001b[0;34m\u001b[0m\u001b[0;34m\u001b[0m\u001b[0m\n",
      "\u001b[0;32m/usr/local/lib/python3.6/dist-packages/pandas/core/indexing.py\u001b[0m in \u001b[0;36m_convert_to_indexer\u001b[0;34m(self, obj, axis, is_setter, raise_missing)\u001b[0m\n\u001b[1;32m   1352\u001b[0m                 kwargs = {'raise_missing': True if is_setter else\n\u001b[1;32m   1353\u001b[0m                           raise_missing}\n\u001b[0;32m-> 1354\u001b[0;31m                 \u001b[0;32mreturn\u001b[0m \u001b[0mself\u001b[0m\u001b[0;34m.\u001b[0m\u001b[0m_get_listlike_indexer\u001b[0m\u001b[0;34m(\u001b[0m\u001b[0mobj\u001b[0m\u001b[0;34m,\u001b[0m \u001b[0maxis\u001b[0m\u001b[0;34m,\u001b[0m \u001b[0;34m**\u001b[0m\u001b[0mkwargs\u001b[0m\u001b[0;34m)\u001b[0m\u001b[0;34m[\u001b[0m\u001b[0;36m1\u001b[0m\u001b[0;34m]\u001b[0m\u001b[0;34m\u001b[0m\u001b[0;34m\u001b[0m\u001b[0m\n\u001b[0m\u001b[1;32m   1355\u001b[0m         \u001b[0;32melse\u001b[0m\u001b[0;34m:\u001b[0m\u001b[0;34m\u001b[0m\u001b[0;34m\u001b[0m\u001b[0m\n\u001b[1;32m   1356\u001b[0m             \u001b[0;32mtry\u001b[0m\u001b[0;34m:\u001b[0m\u001b[0;34m\u001b[0m\u001b[0;34m\u001b[0m\u001b[0m\n",
      "\u001b[0;32m/usr/local/lib/python3.6/dist-packages/pandas/core/indexing.py\u001b[0m in \u001b[0;36m_get_listlike_indexer\u001b[0;34m(self, key, axis, raise_missing)\u001b[0m\n\u001b[1;32m   1159\u001b[0m         self._validate_read_indexer(keyarr, indexer,\n\u001b[1;32m   1160\u001b[0m                                     \u001b[0mo\u001b[0m\u001b[0;34m.\u001b[0m\u001b[0m_get_axis_number\u001b[0m\u001b[0;34m(\u001b[0m\u001b[0maxis\u001b[0m\u001b[0;34m)\u001b[0m\u001b[0;34m,\u001b[0m\u001b[0;34m\u001b[0m\u001b[0;34m\u001b[0m\u001b[0m\n\u001b[0;32m-> 1161\u001b[0;31m                                     raise_missing=raise_missing)\n\u001b[0m\u001b[1;32m   1162\u001b[0m         \u001b[0;32mreturn\u001b[0m \u001b[0mkeyarr\u001b[0m\u001b[0;34m,\u001b[0m \u001b[0mindexer\u001b[0m\u001b[0;34m\u001b[0m\u001b[0;34m\u001b[0m\u001b[0m\n\u001b[1;32m   1163\u001b[0m \u001b[0;34m\u001b[0m\u001b[0m\n",
      "\u001b[0;32m/usr/local/lib/python3.6/dist-packages/pandas/core/indexing.py\u001b[0m in \u001b[0;36m_validate_read_indexer\u001b[0;34m(self, key, indexer, axis, raise_missing)\u001b[0m\n\u001b[1;32m   1244\u001b[0m                 raise KeyError(\n\u001b[1;32m   1245\u001b[0m                     u\"None of [{key}] are in the [{axis}]\".format(\n\u001b[0;32m-> 1246\u001b[0;31m                         key=key, axis=self.obj._get_axis_name(axis)))\n\u001b[0m\u001b[1;32m   1247\u001b[0m \u001b[0;34m\u001b[0m\u001b[0m\n\u001b[1;32m   1248\u001b[0m             \u001b[0;31m# We (temporarily) allow for some missing keys with .loc, except in\u001b[0m\u001b[0;34m\u001b[0m\u001b[0;34m\u001b[0m\u001b[0;34m\u001b[0m\u001b[0m\n",
      "\u001b[0;31mKeyError\u001b[0m: \"None of [Int64Index([ 1211,  1212,  1213,  1214,  1215,  1217,  1218,  1219,  1220,\\n             1221,\\n            ...\\n            12278, 12279, 12280, 12281, 12282, 12283, 12284, 12285, 12286,\\n            12287],\\n           dtype='int64', length=11058)] are in the [columns]\""
     ]
    }
   ],
   "source": [
    "\n",
    "import pandas as pd\n",
    "import qgrid\n",
    "df_types = pd.DataFrame({\n",
    "    'Modelo' : pd.Series(['RDF']*10),\n",
    "    '# de características seleccionadas' : pd.Series([10,13,15,18,20]*1),\n",
    "\n",
    "   })\n",
    "df_types.set_index(['Modelo','# de características seleccionadas'], inplace=True)\n",
    "\n",
    "for i in df_types.index:  \n",
    "  \n",
    "    \n",
    "  modelo = getModel(str(i[0]))\n",
    "  \n",
    "  tiempos,errores,stds =  extraccion('pca', modelo,int(i[1]), X)\n",
    "  \n",
    "  print('N-FEATURES: ', str(i[1]))\n",
    "  \n",
    "  df_types[\"Error de validación\"] = \"\"\n",
    "  df_types[\"IC(std)\"] = \"\"\n",
    "  df_types[\"Tiempo de ejecución\"] = \"\"  \n",
    "  df_types[\"Indices de caracteristicas\"] = \"\"  \n",
    "  \n",
    "  df_types[\"Error de validación\"][i] = errores\n",
    "  df_types[\"IC(std)\"][i]= stds\n",
    "  df_types[\"Tiempo de ejecución\"][i] = tiempos\n",
    "  \n",
    "  \n",
    "  #df_types.sort_index(inplace=True)\n",
    "  qgrid_widget = qgrid.show_grid(df_types, show_toolbar=False)\n",
    "  qgrid_widget\n",
    "  qgrid_widget.get_changed_df()"
   ]
  },
  {
   "cell_type": "code",
   "execution_count": 0,
   "metadata": {
    "colab": {},
    "colab_type": "code",
    "collapsed": true,
    "id": "j_e4ESX_D1Uq"
   },
   "outputs": [],
   "source": []
  }
 ],
 "metadata": {
  "colab": {
   "collapsed_sections": [
    "WSpHdL0TLzPZ",
    "ZweIc5OYz0Fw",
    "w5gPXvCHcykh",
    "ucRWuvml3nDE",
    "O2Rd2NOL4rKl",
    "Y_XGyVVg0PWt",
    "B3bM0UAU0aYO",
    "qTno4pUS0hLd",
    "C_OYTytC0p_V",
    "hahrL47VjQBe",
    "1kfL7wcx4a3j",
    "22xWTfOgjYce",
    "LbIezQZ-DXVV"
   ],
   "name": "Selección_SVM.ipynb",
   "provenance": [],
   "toc_visible": true
  },
  "kernelspec": {
   "display_name": "Python 3",
   "language": "python",
   "name": "python3"
  },
  "language_info": {
   "codemirror_mode": {
    "name": "ipython",
    "version": 3
   },
   "file_extension": ".py",
   "mimetype": "text/x-python",
   "name": "python",
   "nbconvert_exporter": "python",
   "pygments_lexer": "ipython3",
   "version": "3.5.4"
  }
 },
 "nbformat": 4,
 "nbformat_minor": 1
}

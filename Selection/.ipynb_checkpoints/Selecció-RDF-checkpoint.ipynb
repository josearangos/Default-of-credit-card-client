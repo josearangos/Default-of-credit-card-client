{
 "cells": [
  {
   "cell_type": "markdown",
   "metadata": {
    "colab_type": "text",
    "id": "fDegjWVq4oBv"
   },
   "source": [
    "**Kaggle** \n",
    "\n",
    "kernel con normalización https://www.kaggle.com/selener/prediction-of-credit-card-default\n",
    "\n",
    "\n",
    "\n",
    "kernels: https://www.kaggle.com/lucabasa/credit-card-default-a-very-pedagogical-notebook\n",
    "\n",
    "\n",
    "\n",
    "Sobre Matrix de confusion y selección de variables \n",
    "https://www.kaggle.com/gpreda/default-of-credit-card-clients-predictive-models\n"
   ]
  },
  {
   "cell_type": "markdown",
   "metadata": {
    "colab_type": "text",
    "id": "ZW-ElaqSyWwR"
   },
   "source": [
    "# **Experimentos**\n",
    "\n",
    "Incluya una sesion dentro de su informe con el nombre Experimentos, en la cual describa la metodología de validacion usada y la base de datos que est  ́ a usandó para llevar a cabo el proyecto, incluyendo la fuente de la base de datos como referencia, el numero de muestras,variables, etc. Si su problema es de clasificacion, indique cuantas clases contiene la basa de datos y cu  ́ antas muestras por clase. Si la base de datos esta desbalanceada,deben considerar el uso de tecnicas de submuestreo y sobremuestreo inteligente, ademas de usar validacíón ́estratificaida."
   ]
  },
  {
   "cell_type": "code",
   "execution_count": 1,
   "metadata": {
    "colab": {},
    "colab_type": "code",
    "collapsed": true,
    "id": "IscFLpvPx2DW"
   },
   "outputs": [],
   "source": [
    "from pandas import DataFrame, read_csv\n",
    "import pickle\n",
    "from sklearn.externals import joblib #Guardar modelos una vez entrenados\n",
    "import numpy as np\n",
    "import matplotlib.pyplot as plt\n",
    "import pandas as pd \n",
    "import seaborn as sns\n",
    "from sklearn.metrics import classification_report,confusion_matrix,accuracy_score,roc_curve,auc\n",
    "\n",
    "\n",
    "PATH = '/content/drive/My Drive/2019-1/Simulation of System and Laboratory/Final Project/Code/'"
   ]
  },
  {
   "cell_type": "code",
   "execution_count": 2,
   "metadata": {
    "colab": {},
    "colab_type": "code",
    "collapsed": true,
    "id": "7TgS3vrgyKSM"
   },
   "outputs": [],
   "source": [
    "file = '../UCI_Credit_Card.csv'\n",
    "df = pd.read_csv(file)"
   ]
  },
  {
   "cell_type": "markdown",
   "metadata": {
    "colab_type": "text",
    "id": "KsgD5gSAzLF8"
   },
   "source": [
    "# Sobre la base de datos"
   ]
  },
  {
   "cell_type": "code",
   "execution_count": 3,
   "metadata": {
    "colab": {
     "base_uri": "https://localhost:8080/",
     "height": 215
    },
    "colab_type": "code",
    "collapsed": false,
    "executionInfo": {
     "elapsed": 521,
     "status": "ok",
     "timestamp": 1570319867270,
     "user": {
      "displayName": "JOSE ALBERTO ARANGO SÁNCHEZ",
      "photoUrl": "https://lh3.googleusercontent.com/a-/AAuE7mAlmJPVrjjJ4aUXppU8o-4tXg36OBTyqwn-TK-0HOk=s64",
      "userId": "16388542354054473882"
     },
     "user_tz": 300
    },
    "id": "LBCWrKxY5mny",
    "outputId": "d2e1638b-9aa9-48d5-89a4-86e575a9d086"
   },
   "outputs": [
    {
     "data": {
      "text/html": [
       "<div>\n",
       "<style scoped>\n",
       "    .dataframe tbody tr th:only-of-type {\n",
       "        vertical-align: middle;\n",
       "    }\n",
       "\n",
       "    .dataframe tbody tr th {\n",
       "        vertical-align: top;\n",
       "    }\n",
       "\n",
       "    .dataframe thead th {\n",
       "        text-align: right;\n",
       "    }\n",
       "</style>\n",
       "<table border=\"1\" class=\"dataframe\">\n",
       "  <thead>\n",
       "    <tr style=\"text-align: right;\">\n",
       "      <th></th>\n",
       "      <th>ID</th>\n",
       "      <th>LIMIT_BAL</th>\n",
       "      <th>SEX</th>\n",
       "      <th>EDUCATION</th>\n",
       "      <th>MARRIAGE</th>\n",
       "      <th>AGE</th>\n",
       "      <th>PAY_0</th>\n",
       "      <th>PAY_2</th>\n",
       "      <th>PAY_3</th>\n",
       "      <th>PAY_4</th>\n",
       "      <th>...</th>\n",
       "      <th>BILL_AMT4</th>\n",
       "      <th>BILL_AMT5</th>\n",
       "      <th>BILL_AMT6</th>\n",
       "      <th>PAY_AMT1</th>\n",
       "      <th>PAY_AMT2</th>\n",
       "      <th>PAY_AMT3</th>\n",
       "      <th>PAY_AMT4</th>\n",
       "      <th>PAY_AMT5</th>\n",
       "      <th>PAY_AMT6</th>\n",
       "      <th>default.payment.next.month</th>\n",
       "    </tr>\n",
       "  </thead>\n",
       "  <tbody>\n",
       "    <tr>\n",
       "      <th>8268</th>\n",
       "      <td>8269</td>\n",
       "      <td>200000.0</td>\n",
       "      <td>1</td>\n",
       "      <td>1</td>\n",
       "      <td>2</td>\n",
       "      <td>32</td>\n",
       "      <td>-1</td>\n",
       "      <td>-1</td>\n",
       "      <td>-1</td>\n",
       "      <td>-1</td>\n",
       "      <td>...</td>\n",
       "      <td>628.0</td>\n",
       "      <td>1604.0</td>\n",
       "      <td>668.0</td>\n",
       "      <td>19614.0</td>\n",
       "      <td>628.0</td>\n",
       "      <td>628.0</td>\n",
       "      <td>1604.0</td>\n",
       "      <td>0.0</td>\n",
       "      <td>168.0</td>\n",
       "      <td>1</td>\n",
       "    </tr>\n",
       "    <tr>\n",
       "      <th>3792</th>\n",
       "      <td>3793</td>\n",
       "      <td>80000.0</td>\n",
       "      <td>1</td>\n",
       "      <td>3</td>\n",
       "      <td>1</td>\n",
       "      <td>45</td>\n",
       "      <td>1</td>\n",
       "      <td>-1</td>\n",
       "      <td>0</td>\n",
       "      <td>0</td>\n",
       "      <td>...</td>\n",
       "      <td>390.0</td>\n",
       "      <td>390.0</td>\n",
       "      <td>390.0</td>\n",
       "      <td>38677.0</td>\n",
       "      <td>3000.0</td>\n",
       "      <td>0.0</td>\n",
       "      <td>390.0</td>\n",
       "      <td>390.0</td>\n",
       "      <td>1170.0</td>\n",
       "      <td>0</td>\n",
       "    </tr>\n",
       "    <tr>\n",
       "      <th>10207</th>\n",
       "      <td>10208</td>\n",
       "      <td>80000.0</td>\n",
       "      <td>1</td>\n",
       "      <td>2</td>\n",
       "      <td>2</td>\n",
       "      <td>26</td>\n",
       "      <td>0</td>\n",
       "      <td>0</td>\n",
       "      <td>0</td>\n",
       "      <td>0</td>\n",
       "      <td>...</td>\n",
       "      <td>61002.0</td>\n",
       "      <td>58148.0</td>\n",
       "      <td>52515.0</td>\n",
       "      <td>8000.0</td>\n",
       "      <td>5000.0</td>\n",
       "      <td>4000.0</td>\n",
       "      <td>5000.0</td>\n",
       "      <td>3000.0</td>\n",
       "      <td>5000.0</td>\n",
       "      <td>0</td>\n",
       "    </tr>\n",
       "    <tr>\n",
       "      <th>27151</th>\n",
       "      <td>27152</td>\n",
       "      <td>200000.0</td>\n",
       "      <td>1</td>\n",
       "      <td>1</td>\n",
       "      <td>1</td>\n",
       "      <td>36</td>\n",
       "      <td>1</td>\n",
       "      <td>-2</td>\n",
       "      <td>-2</td>\n",
       "      <td>-1</td>\n",
       "      <td>...</td>\n",
       "      <td>5.0</td>\n",
       "      <td>1005.0</td>\n",
       "      <td>21.0</td>\n",
       "      <td>0.0</td>\n",
       "      <td>0.0</td>\n",
       "      <td>100.0</td>\n",
       "      <td>1000.0</td>\n",
       "      <td>500.0</td>\n",
       "      <td>0.0</td>\n",
       "      <td>0</td>\n",
       "    </tr>\n",
       "    <tr>\n",
       "      <th>27232</th>\n",
       "      <td>27233</td>\n",
       "      <td>260000.0</td>\n",
       "      <td>1</td>\n",
       "      <td>1</td>\n",
       "      <td>1</td>\n",
       "      <td>43</td>\n",
       "      <td>-1</td>\n",
       "      <td>-1</td>\n",
       "      <td>-2</td>\n",
       "      <td>-2</td>\n",
       "      <td>...</td>\n",
       "      <td>0.0</td>\n",
       "      <td>760.0</td>\n",
       "      <td>0.0</td>\n",
       "      <td>0.0</td>\n",
       "      <td>0.0</td>\n",
       "      <td>0.0</td>\n",
       "      <td>760.0</td>\n",
       "      <td>0.0</td>\n",
       "      <td>935.0</td>\n",
       "      <td>0</td>\n",
       "    </tr>\n",
       "  </tbody>\n",
       "</table>\n",
       "<p>5 rows × 25 columns</p>\n",
       "</div>"
      ],
      "text/plain": [
       "          ID  LIMIT_BAL  SEX  EDUCATION  MARRIAGE  AGE  PAY_0  PAY_2  PAY_3  \\\n",
       "8268    8269   200000.0    1          1         2   32     -1     -1     -1   \n",
       "3792    3793    80000.0    1          3         1   45      1     -1      0   \n",
       "10207  10208    80000.0    1          2         2   26      0      0      0   \n",
       "27151  27152   200000.0    1          1         1   36      1     -2     -2   \n",
       "27232  27233   260000.0    1          1         1   43     -1     -1     -2   \n",
       "\n",
       "       PAY_4             ...              BILL_AMT4  BILL_AMT5  BILL_AMT6  \\\n",
       "8268      -1             ...                  628.0     1604.0      668.0   \n",
       "3792       0             ...                  390.0      390.0      390.0   \n",
       "10207      0             ...                61002.0    58148.0    52515.0   \n",
       "27151     -1             ...                    5.0     1005.0       21.0   \n",
       "27232     -2             ...                    0.0      760.0        0.0   \n",
       "\n",
       "       PAY_AMT1  PAY_AMT2  PAY_AMT3  PAY_AMT4  PAY_AMT5  PAY_AMT6  \\\n",
       "8268    19614.0     628.0     628.0    1604.0       0.0     168.0   \n",
       "3792    38677.0    3000.0       0.0     390.0     390.0    1170.0   \n",
       "10207    8000.0    5000.0    4000.0    5000.0    3000.0    5000.0   \n",
       "27151       0.0       0.0     100.0    1000.0     500.0       0.0   \n",
       "27232       0.0       0.0       0.0     760.0       0.0     935.0   \n",
       "\n",
       "       default.payment.next.month  \n",
       "8268                            1  \n",
       "3792                            0  \n",
       "10207                           0  \n",
       "27151                           0  \n",
       "27232                           0  \n",
       "\n",
       "[5 rows x 25 columns]"
      ]
     },
     "execution_count": 3,
     "metadata": {},
     "output_type": "execute_result"
    }
   ],
   "source": [
    "df.sample(5)"
   ]
  },
  {
   "cell_type": "markdown",
   "metadata": {
    "colab_type": "text",
    "id": "XMBYYL4f8Yu7"
   },
   "source": [
    "## **Variables**\n",
    "**SEX: Gender**\n",
    "1 = male \n",
    "2 = female\n",
    "\n",
    "**EDUCATION:**\n",
    "\n",
    "1 = graduate school \n",
    "2 = university \n",
    "3 = high school \n",
    "4 = others \n",
    "5 = unknown \n",
    "6 = unknown\n",
    "\n",
    "\n",
    "\n",
    "\n",
    "\n",
    "\n",
    "**MARRIAGE**: Marital status\n",
    "1 = married\n",
    "2 = single\n",
    "3 = others\n",
    "\n",
    "\n",
    "\n",
    "**PAY_0,2,3,4,5,6: **Repayment status in September 2005, August 2005, July 2005, June 2005, May 2005, April 2005 (respectivey)\n",
    "\n",
    "-2= no consumption\n",
    "-1= pay duly\n",
    "1 = payment delay for one month\n",
    "2 = payment delay for two months\n",
    "... \n",
    "8 = payment delay for eight months\n",
    "9 = payment delay for nine months and above\n"
   ]
  },
  {
   "cell_type": "markdown",
   "metadata": {
    "colab_type": "text",
    "id": "K5ljewd6zTmK"
   },
   "source": [
    "**Cantidad de muestras**"
   ]
  },
  {
   "cell_type": "code",
   "execution_count": 4,
   "metadata": {
    "colab": {
     "base_uri": "https://localhost:8080/",
     "height": 34
    },
    "colab_type": "code",
    "collapsed": false,
    "executionInfo": {
     "elapsed": 947,
     "status": "ok",
     "timestamp": 1570319868662,
     "user": {
      "displayName": "JOSE ALBERTO ARANGO SÁNCHEZ",
      "photoUrl": "https://lh3.googleusercontent.com/a-/AAuE7mAlmJPVrjjJ4aUXppU8o-4tXg36OBTyqwn-TK-0HOk=s64",
      "userId": "16388542354054473882"
     },
     "user_tz": 300
    },
    "id": "VcGQnEfDzg4f",
    "outputId": "6a2c0eff-b065-489e-855d-a00880dc51d8"
   },
   "outputs": [
    {
     "data": {
      "text/plain": [
       "(30000, 25)"
      ]
     },
     "execution_count": 4,
     "metadata": {},
     "output_type": "execute_result"
    }
   ],
   "source": [
    "df = df.rename(columns={'default.payment.next.month': 'def_pay', \n",
    "                        'PAY_0': 'PAY_1'})\n",
    "data = df.values\n",
    "data.shape"
   ]
  },
  {
   "cell_type": "markdown",
   "metadata": {
    "colab_type": "text",
    "id": "vWb3jtW8z5xJ"
   },
   "source": [
    "Cantidad de clases"
   ]
  },
  {
   "cell_type": "code",
   "execution_count": 5,
   "metadata": {
    "colab": {
     "base_uri": "https://localhost:8080/",
     "height": 34
    },
    "colab_type": "code",
    "collapsed": false,
    "executionInfo": {
     "elapsed": 560,
     "status": "ok",
     "timestamp": 1570319868664,
     "user": {
      "displayName": "JOSE ALBERTO ARANGO SÁNCHEZ",
      "photoUrl": "https://lh3.googleusercontent.com/a-/AAuE7mAlmJPVrjjJ4aUXppU8o-4tXg36OBTyqwn-TK-0HOk=s64",
      "userId": "16388542354054473882"
     },
     "user_tz": 300
    },
    "id": "E24BDuNsz721",
    "outputId": "bbbfd4a8-3b3e-4fd9-b2b1-12d2f68b1535"
   },
   "outputs": [
    {
     "data": {
      "text/plain": [
       "2"
      ]
     },
     "execution_count": 5,
     "metadata": {},
     "output_type": "execute_result"
    }
   ],
   "source": [
    "len(np.unique(df.def_pay))"
   ]
  },
  {
   "cell_type": "markdown",
   "metadata": {
    "colab_type": "text",
    "id": "PDOtN078zfnO"
   },
   "source": [
    "Muestras por clases"
   ]
  },
  {
   "cell_type": "code",
   "execution_count": 6,
   "metadata": {
    "colab": {
     "base_uri": "https://localhost:8080/",
     "height": 50
    },
    "colab_type": "code",
    "collapsed": false,
    "executionInfo": {
     "elapsed": 424,
     "status": "ok",
     "timestamp": 1570319868871,
     "user": {
      "displayName": "JOSE ALBERTO ARANGO SÁNCHEZ",
      "photoUrl": "https://lh3.googleusercontent.com/a-/AAuE7mAlmJPVrjjJ4aUXppU8o-4tXg36OBTyqwn-TK-0HOk=s64",
      "userId": "16388542354054473882"
     },
     "user_tz": 300
    },
    "id": "xehP5Cb5zhab",
    "outputId": "8f5c6724-6402-4f7e-f341-6fe2db5fbacf"
   },
   "outputs": [
    {
     "name": "stdout",
     "output_type": "stream",
     "text": [
      "Clase (1): 6636\n",
      "Clase (0): 23364\n"
     ]
    }
   ],
   "source": [
    "classes = np.unique(df.def_pay)\n",
    "unicos = data[:,-1]\n",
    "unos = np.where(unicos == 1)\n",
    "lenU =len(unos[0])\n",
    "cero = np.where(unicos == 0)\n",
    "lenC=len(cero[0])\n",
    "print(\"Clase (1):\",lenU)\n",
    "print(\"Clase (0):\",lenC)"
   ]
  },
  {
   "cell_type": "code",
   "execution_count": 7,
   "metadata": {
    "colab": {
     "base_uri": "https://localhost:8080/",
     "height": 306
    },
    "colab_type": "code",
    "collapsed": false,
    "executionInfo": {
     "elapsed": 818,
     "status": "ok",
     "timestamp": 1570319869434,
     "user": {
      "displayName": "JOSE ALBERTO ARANGO SÁNCHEZ",
      "photoUrl": "https://lh3.googleusercontent.com/a-/AAuE7mAlmJPVrjjJ4aUXppU8o-4tXg36OBTyqwn-TK-0HOk=s64",
      "userId": "16388542354054473882"
     },
     "user_tz": 300
    },
    "id": "osVavssr_MLu",
    "outputId": "ca886ef0-8a4c-40ce-9430-3fe2bd551ddb"
   },
   "outputs": [],
   "source": [
    "# The frequency of defaults\n",
    "yes = df.def_pay.sum()\n",
    "no = len(data)-yes\n",
    "\n",
    "# Percentage\n",
    "yes_perc = round(yes/len(df)*100, 1)\n",
    "no_perc = round(no/len(df)*100, 1)\n",
    "\n",
    "import sys \n",
    "plt.figure(figsize=(7,4))\n",
    "sns.set_context('notebook', font_scale=1.2)\n",
    "sns.countplot('def_pay',data=df, palette=\"Blues\")\n",
    "plt.annotate('Non-default: {}'.format(no), xy=(-0.3, 15000), xytext=(-0.3, 3000), size=12)\n",
    "plt.annotate('Default: {}'.format(yes), xy=(0.7, 15000), xytext=(0.7, 3000), size=12)\n",
    "plt.annotate(str(no_perc)+\" %\", xy=(-0.3, 15000), xytext=(-0.1, 8000), size=12)\n",
    "plt.annotate(str(yes_perc)+\" %\", xy=(0.7, 15000), xytext=(0.9, 8000), size=12)\n",
    "plt.title('COUNT OF CREDIT CARDS', size=14)\n",
    "#Removing the frame\n",
    "plt.box(False);"
   ]
  },
  {
   "cell_type": "markdown",
   "metadata": {
    "colab_type": "text",
    "id": "1RLV7mtMzvai"
   },
   "source": [
    "Cantidad de variables y su significado"
   ]
  },
  {
   "cell_type": "code",
   "execution_count": 8,
   "metadata": {
    "colab": {
     "base_uri": "https://localhost:8080/",
     "height": 521
    },
    "colab_type": "code",
    "collapsed": false,
    "executionInfo": {
     "elapsed": 729,
     "status": "ok",
     "timestamp": 1570319869648,
     "user": {
      "displayName": "JOSE ALBERTO ARANGO SÁNCHEZ",
      "photoUrl": "https://lh3.googleusercontent.com/a-/AAuE7mAlmJPVrjjJ4aUXppU8o-4tXg36OBTyqwn-TK-0HOk=s64",
      "userId": "16388542354054473882"
     },
     "user_tz": 300
    },
    "id": "ePHjQOY5zyFJ",
    "outputId": "2e49967e-1b49-4139-92a2-2ed4e64aa083"
   },
   "outputs": [
    {
     "name": "stdout",
     "output_type": "stream",
     "text": [
      "<class 'pandas.core.frame.DataFrame'>\n",
      "RangeIndex: 30000 entries, 0 to 29999\n",
      "Data columns (total 25 columns):\n",
      "ID           30000 non-null int64\n",
      "LIMIT_BAL    30000 non-null float64\n",
      "SEX          30000 non-null int64\n",
      "EDUCATION    30000 non-null int64\n",
      "MARRIAGE     30000 non-null int64\n",
      "AGE          30000 non-null int64\n",
      "PAY_1        30000 non-null int64\n",
      "PAY_2        30000 non-null int64\n",
      "PAY_3        30000 non-null int64\n",
      "PAY_4        30000 non-null int64\n",
      "PAY_5        30000 non-null int64\n",
      "PAY_6        30000 non-null int64\n",
      "BILL_AMT1    30000 non-null float64\n",
      "BILL_AMT2    30000 non-null float64\n",
      "BILL_AMT3    30000 non-null float64\n",
      "BILL_AMT4    30000 non-null float64\n",
      "BILL_AMT5    30000 non-null float64\n",
      "BILL_AMT6    30000 non-null float64\n",
      "PAY_AMT1     30000 non-null float64\n",
      "PAY_AMT2     30000 non-null float64\n",
      "PAY_AMT3     30000 non-null float64\n",
      "PAY_AMT4     30000 non-null float64\n",
      "PAY_AMT5     30000 non-null float64\n",
      "PAY_AMT6     30000 non-null float64\n",
      "def_pay      30000 non-null int64\n",
      "dtypes: float64(13), int64(12)\n",
      "memory usage: 5.7 MB\n"
     ]
    }
   ],
   "source": [
    "df.info()"
   ]
  },
  {
   "cell_type": "markdown",
   "metadata": {
    "colab_type": "text",
    "id": "Mroh0yHP9m4F"
   },
   "source": [
    "## **Feature engineering**"
   ]
  },
  {
   "cell_type": "markdown",
   "metadata": {
    "colab_type": "text",
    "id": "7KAi7nNc9rJv"
   },
   "source": [
    "Los datos ya se han codificado y limpiado. Sin embargo, algunos datos categóricos tienen categorías repetidas. Por ejemplo, la variable \"educación\" tiene tres categorías con información similar: 4: others, 5: unknown, and 6: unknown\n",
    "\n",
    "Por lo tanto  Las categorías 4: otras, 5: desconocidas y 6: desconocidas se pueden agrupar en una sola clase '4'.\n",
    "  "
   ]
  },
  {
   "cell_type": "code",
   "execution_count": 9,
   "metadata": {
    "colab": {
     "base_uri": "https://localhost:8080/",
     "height": 34
    },
    "colab_type": "code",
    "collapsed": false,
    "executionInfo": {
     "elapsed": 714,
     "status": "ok",
     "timestamp": 1570319870127,
     "user": {
      "displayName": "JOSE ALBERTO ARANGO SÁNCHEZ",
      "photoUrl": "https://lh3.googleusercontent.com/a-/AAuE7mAlmJPVrjjJ4aUXppU8o-4tXg36OBTyqwn-TK-0HOk=s64",
      "userId": "16388542354054473882"
     },
     "user_tz": 300
    },
    "id": "3Pcpcjnr9-eD",
    "outputId": "96a5bc95-e379-4461-a6fc-0a6f9742489e"
   },
   "outputs": [
    {
     "data": {
      "text/plain": [
       "array([2, 1, 3, 5, 4, 6, 0])"
      ]
     },
     "execution_count": 9,
     "metadata": {},
     "output_type": "execute_result"
    }
   ],
   "source": [
    "df['EDUCATION'].unique()"
   ]
  },
  {
   "cell_type": "code",
   "execution_count": 10,
   "metadata": {
    "colab": {
     "base_uri": "https://localhost:8080/",
     "height": 34
    },
    "colab_type": "code",
    "collapsed": false,
    "executionInfo": {
     "elapsed": 578,
     "status": "ok",
     "timestamp": 1570319870133,
     "user": {
      "displayName": "JOSE ALBERTO ARANGO SÁNCHEZ",
      "photoUrl": "https://lh3.googleusercontent.com/a-/AAuE7mAlmJPVrjjJ4aUXppU8o-4tXg36OBTyqwn-TK-0HOk=s64",
      "userId": "16388542354054473882"
     },
     "user_tz": 300
    },
    "id": "CJ-_-z_b-IA4",
    "outputId": "d231d609-308a-4b5f-8077-c00f5543b2f8"
   },
   "outputs": [
    {
     "data": {
      "text/plain": [
       "array([2, 1, 3, 4])"
      ]
     },
     "execution_count": 10,
     "metadata": {},
     "output_type": "execute_result"
    }
   ],
   "source": [
    "#Reemplazamos los valores \n",
    "\n",
    "df['EDUCATION']=np.where(df['EDUCATION'] == 5, 4, df['EDUCATION'])\n",
    "df['EDUCATION']=np.where(df['EDUCATION'] == 6, 4, df['EDUCATION'])\n",
    "df['EDUCATION']=np.where(df['EDUCATION'] == 0, 4, df['EDUCATION'])\n",
    "\n",
    "df['EDUCATION'].unique()\n",
    "\n"
   ]
  },
  {
   "cell_type": "markdown",
   "metadata": {
    "colab_type": "text",
    "id": "mncpz9Wq-gtM"
   },
   "source": [
    "la columna 'matrimonio' ​​debe tener tres categorías: 1 = casado, 2 = soltero, 3 = otros, pero contiene una categoría '0' que se unirá a la categoría '3'."
   ]
  },
  {
   "cell_type": "code",
   "execution_count": 11,
   "metadata": {
    "colab": {
     "base_uri": "https://localhost:8080/",
     "height": 34
    },
    "colab_type": "code",
    "collapsed": false,
    "executionInfo": {
     "elapsed": 528,
     "status": "ok",
     "timestamp": 1570319870424,
     "user": {
      "displayName": "JOSE ALBERTO ARANGO SÁNCHEZ",
      "photoUrl": "https://lh3.googleusercontent.com/a-/AAuE7mAlmJPVrjjJ4aUXppU8o-4tXg36OBTyqwn-TK-0HOk=s64",
      "userId": "16388542354054473882"
     },
     "user_tz": 300
    },
    "id": "41R2VETD-iW-",
    "outputId": "f15a484b-6c4a-4e8d-d3b1-7144e43a1d31"
   },
   "outputs": [
    {
     "data": {
      "text/plain": [
       "array([1, 2, 3, 0])"
      ]
     },
     "execution_count": 11,
     "metadata": {},
     "output_type": "execute_result"
    }
   ],
   "source": [
    "df['MARRIAGE'].unique()\n"
   ]
  },
  {
   "cell_type": "code",
   "execution_count": 12,
   "metadata": {
    "colab": {
     "base_uri": "https://localhost:8080/",
     "height": 34
    },
    "colab_type": "code",
    "collapsed": false,
    "executionInfo": {
     "elapsed": 604,
     "status": "ok",
     "timestamp": 1570319870658,
     "user": {
      "displayName": "JOSE ALBERTO ARANGO SÁNCHEZ",
      "photoUrl": "https://lh3.googleusercontent.com/a-/AAuE7mAlmJPVrjjJ4aUXppU8o-4tXg36OBTyqwn-TK-0HOk=s64",
      "userId": "16388542354054473882"
     },
     "user_tz": 300
    },
    "id": "DN-TomLJ-5YG",
    "outputId": "64d9d41e-6723-4380-db6d-9611efedb7c2"
   },
   "outputs": [
    {
     "data": {
      "text/plain": [
       "array([1, 2, 3])"
      ]
     },
     "execution_count": 12,
     "metadata": {},
     "output_type": "execute_result"
    }
   ],
   "source": [
    "df['MARRIAGE']=np.where(df['MARRIAGE'] == 0, 3, df['MARRIAGE'])\n",
    "df['MARRIAGE'].unique()"
   ]
  },
  {
   "cell_type": "markdown",
   "metadata": {
    "colab_type": "text",
    "id": "rxBrwqvH_4tV"
   },
   "source": [
    "# **Escala de las variables, por lo tanto debemos normalizar**\n"
   ]
  },
  {
   "cell_type": "code",
   "execution_count": 13,
   "metadata": {
    "colab": {
     "base_uri": "https://localhost:8080/",
     "height": 281
    },
    "colab_type": "code",
    "collapsed": false,
    "executionInfo": {
     "elapsed": 1864,
     "status": "ok",
     "timestamp": 1570319872245,
     "user": {
      "displayName": "JOSE ALBERTO ARANGO SÁNCHEZ",
      "photoUrl": "https://lh3.googleusercontent.com/a-/AAuE7mAlmJPVrjjJ4aUXppU8o-4tXg36OBTyqwn-TK-0HOk=s64",
      "userId": "16388542354054473882"
     },
     "user_tz": 300
    },
    "id": "nk58kn3yAGFu",
    "outputId": "76bc4a34-20f2-414a-b1b3-4e5417126422"
   },
   "outputs": [],
   "source": [
    "\n",
    "## data are distributed in a wide range (below), need to be normalizded.\n",
    "df.drop('ID', axis = 1, inplace =True) # drop column \"ID\"\n",
    "features = df.drop('def_pay', axis = 1, inplace = False)\n",
    "plt.figure(figsize=(15,3))\n",
    "ax= df.drop('def_pay', axis=1).boxplot(df.columns.name, rot=90)\n",
    "outliers = dict(markerfacecolor='b', marker='p')\n",
    "ax= features.boxplot(features.columns.name, rot=90, flierprops=outliers)\n",
    "plt.xticks(size=12)\n",
    "ax.set_ylim([-5000,100000])\n",
    "plt.box(False);\n"
   ]
  },
  {
   "cell_type": "markdown",
   "metadata": {
    "colab_type": "text",
    "id": "4bOi50qGVm1u"
   },
   "source": [
    "**Creamos la variable a predecir**"
   ]
  },
  {
   "cell_type": "code",
   "execution_count": 14,
   "metadata": {
    "colab": {},
    "colab_type": "code",
    "collapsed": true,
    "id": "lb8Uk2wRV78w"
   },
   "outputs": [],
   "source": [
    "Y = df['def_pay'].copy()\n"
   ]
  },
  {
   "cell_type": "markdown",
   "metadata": {
    "colab_type": "text",
    "id": "IvSt6kvFUdNI"
   },
   "source": [
    "# **Normalización**"
   ]
  },
  {
   "cell_type": "markdown",
   "metadata": {
    "colab_type": "text",
    "id": "GTdh1qIpUhfs"
   },
   "source": [
    "## **StandardScaler**"
   ]
  },
  {
   "cell_type": "markdown",
   "metadata": {
    "colab_type": "text",
    "id": "zbRFSk5rhbNp"
   },
   "source": [
    "The standard score of a sample x is calculated as:\n",
    "\n",
    "z = (x - u) / s\n",
    "\n",
    "La idea detrás de StandardScaler es que transformará sus datos de modo que su distribución tenga un valor medio 0 y una desviación estándar de 1.\n",
    "\n",
    "\n"
   ]
  },
  {
   "cell_type": "code",
   "execution_count": 15,
   "metadata": {
    "colab": {
     "base_uri": "https://localhost:8080/",
     "height": 649
    },
    "colab_type": "code",
    "collapsed": false,
    "executionInfo": {
     "elapsed": 6005,
     "status": "ok",
     "timestamp": 1570319879612,
     "user": {
      "displayName": "JOSE ALBERTO ARANGO SÁNCHEZ",
      "photoUrl": "https://lh3.googleusercontent.com/a-/AAuE7mAlmJPVrjjJ4aUXppU8o-4tXg36OBTyqwn-TK-0HOk=s64",
      "userId": "16388542354054473882"
     },
     "user_tz": 300
    },
    "id": "DfPezGZqEf9B",
    "outputId": "41afc0a1-8a87-4bbb-cce9-605048673db0"
   },
   "outputs": [],
   "source": [
    "  # standardization\n",
    "\n",
    "stdX = (features - features.mean()) / (features.std())    \n",
    "X = stdX\n",
    "data_st = pd.concat([Y,stdX.iloc[:,:]],axis=1)\n",
    "data_st = pd.melt(data_st,id_vars=\"def_pay\",\n",
    "                    var_name=\"features\",\n",
    "                    value_name='value')\n",
    "plt.figure(figsize=(20,10))\n",
    "sns.set_context('notebook', font_scale=1)\n",
    "sns.violinplot(y=\"value\", x=\"features\", hue=\"def_pay\", data=data_st,split=True, \n",
    "               inner=\"quart\", palette='Blues')\n",
    "plt.legend(loc=4, title= 'def_pay', facecolor='white')\n",
    "plt.ylim([-3,3])\n",
    "plt.title('STANDARDIZED FEATURES - VIOLIN PLOT', size=14)\n",
    "plt.box(False)\n",
    "plt.savefig('ImageName', format='png', dpi=200, transparent=False);"
   ]
  },
  {
   "cell_type": "markdown",
   "metadata": {
    "colab_type": "text",
    "id": "hH4NyHaTGYiS"
   },
   "source": [
    "# **Variables Normalizadas**"
   ]
  },
  {
   "cell_type": "code",
   "execution_count": 16,
   "metadata": {
    "colab": {
     "base_uri": "https://localhost:8080/",
     "height": 215
    },
    "colab_type": "code",
    "collapsed": false,
    "executionInfo": {
     "elapsed": 5628,
     "status": "ok",
     "timestamp": 1570319879613,
     "user": {
      "displayName": "JOSE ALBERTO ARANGO SÁNCHEZ",
      "photoUrl": "https://lh3.googleusercontent.com/a-/AAuE7mAlmJPVrjjJ4aUXppU8o-4tXg36OBTyqwn-TK-0HOk=s64",
      "userId": "16388542354054473882"
     },
     "user_tz": 300
    },
    "id": "yKZPLchOF7wi",
    "outputId": "bc8ace41-a232-4928-f6cd-5c854ab337a0"
   },
   "outputs": [
    {
     "data": {
      "text/html": [
       "<div>\n",
       "<style scoped>\n",
       "    .dataframe tbody tr th:only-of-type {\n",
       "        vertical-align: middle;\n",
       "    }\n",
       "\n",
       "    .dataframe tbody tr th {\n",
       "        vertical-align: top;\n",
       "    }\n",
       "\n",
       "    .dataframe thead th {\n",
       "        text-align: right;\n",
       "    }\n",
       "</style>\n",
       "<table border=\"1\" class=\"dataframe\">\n",
       "  <thead>\n",
       "    <tr style=\"text-align: right;\">\n",
       "      <th></th>\n",
       "      <th>LIMIT_BAL</th>\n",
       "      <th>SEX</th>\n",
       "      <th>EDUCATION</th>\n",
       "      <th>MARRIAGE</th>\n",
       "      <th>AGE</th>\n",
       "      <th>PAY_1</th>\n",
       "      <th>PAY_2</th>\n",
       "      <th>PAY_3</th>\n",
       "      <th>PAY_4</th>\n",
       "      <th>PAY_5</th>\n",
       "      <th>...</th>\n",
       "      <th>BILL_AMT3</th>\n",
       "      <th>BILL_AMT4</th>\n",
       "      <th>BILL_AMT5</th>\n",
       "      <th>BILL_AMT6</th>\n",
       "      <th>PAY_AMT1</th>\n",
       "      <th>PAY_AMT2</th>\n",
       "      <th>PAY_AMT3</th>\n",
       "      <th>PAY_AMT4</th>\n",
       "      <th>PAY_AMT5</th>\n",
       "      <th>PAY_AMT6</th>\n",
       "    </tr>\n",
       "  </thead>\n",
       "  <tbody>\n",
       "    <tr>\n",
       "      <th>12209</th>\n",
       "      <td>1.483770</td>\n",
       "      <td>-1.234302</td>\n",
       "      <td>0.211866</td>\n",
       "      <td>0.849116</td>\n",
       "      <td>-0.161154</td>\n",
       "      <td>-0.874977</td>\n",
       "      <td>-0.723558</td>\n",
       "      <td>-0.696652</td>\n",
       "      <td>-0.666588</td>\n",
       "      <td>-0.647554</td>\n",
       "      <td>...</td>\n",
       "      <td>-0.663599</td>\n",
       "      <td>-0.261281</td>\n",
       "      <td>-0.491066</td>\n",
       "      <td>-0.122422</td>\n",
       "      <td>0.178794</td>\n",
       "      <td>-0.213671</td>\n",
       "      <td>1.211755</td>\n",
       "      <td>0.359368</td>\n",
       "      <td>1.108671</td>\n",
       "      <td>-0.293377</td>\n",
       "    </tr>\n",
       "    <tr>\n",
       "      <th>6266</th>\n",
       "      <td>1.175479</td>\n",
       "      <td>-1.234302</td>\n",
       "      <td>0.211866</td>\n",
       "      <td>0.849116</td>\n",
       "      <td>-0.703576</td>\n",
       "      <td>0.014860</td>\n",
       "      <td>0.111734</td>\n",
       "      <td>0.138862</td>\n",
       "      <td>0.188743</td>\n",
       "      <td>0.234913</td>\n",
       "      <td>...</td>\n",
       "      <td>4.008844</td>\n",
       "      <td>4.336556</td>\n",
       "      <td>4.232527</td>\n",
       "      <td>4.411169</td>\n",
       "      <td>0.361427</td>\n",
       "      <td>0.285529</td>\n",
       "      <td>0.379073</td>\n",
       "      <td>0.362369</td>\n",
       "      <td>0.398383</td>\n",
       "      <td>0.271383</td>\n",
       "    </tr>\n",
       "    <tr>\n",
       "      <th>24959</th>\n",
       "      <td>0.558898</td>\n",
       "      <td>-1.234302</td>\n",
       "      <td>-1.131327</td>\n",
       "      <td>0.849116</td>\n",
       "      <td>-0.161154</td>\n",
       "      <td>0.014860</td>\n",
       "      <td>0.111734</td>\n",
       "      <td>1.809891</td>\n",
       "      <td>-0.666588</td>\n",
       "      <td>-0.647554</td>\n",
       "      <td>...</td>\n",
       "      <td>-0.129852</td>\n",
       "      <td>-0.524863</td>\n",
       "      <td>-0.512975</td>\n",
       "      <td>-0.533024</td>\n",
       "      <td>0.261809</td>\n",
       "      <td>-0.256378</td>\n",
       "      <td>0.242593</td>\n",
       "      <td>0.274344</td>\n",
       "      <td>-0.183226</td>\n",
       "      <td>-0.225876</td>\n",
       "    </tr>\n",
       "    <tr>\n",
       "      <th>16147</th>\n",
       "      <td>-0.211829</td>\n",
       "      <td>0.810147</td>\n",
       "      <td>1.555060</td>\n",
       "      <td>-1.068779</td>\n",
       "      <td>-0.161154</td>\n",
       "      <td>0.014860</td>\n",
       "      <td>0.111734</td>\n",
       "      <td>0.138862</td>\n",
       "      <td>0.188743</td>\n",
       "      <td>0.234913</td>\n",
       "      <td>...</td>\n",
       "      <td>1.285964</td>\n",
       "      <td>1.464680</td>\n",
       "      <td>1.085751</td>\n",
       "      <td>1.103387</td>\n",
       "      <td>0.038424</td>\n",
       "      <td>0.046823</td>\n",
       "      <td>0.011093</td>\n",
       "      <td>-0.052730</td>\n",
       "      <td>-0.052322</td>\n",
       "      <td>-0.057123</td>\n",
       "    </tr>\n",
       "    <tr>\n",
       "      <th>5810</th>\n",
       "      <td>-0.288902</td>\n",
       "      <td>0.810147</td>\n",
       "      <td>0.211866</td>\n",
       "      <td>-1.068779</td>\n",
       "      <td>-0.269638</td>\n",
       "      <td>-0.874977</td>\n",
       "      <td>-0.723558</td>\n",
       "      <td>-0.696652</td>\n",
       "      <td>-0.666588</td>\n",
       "      <td>-0.647554</td>\n",
       "      <td>...</td>\n",
       "      <td>-0.672409</td>\n",
       "      <td>-0.656274</td>\n",
       "      <td>-0.616417</td>\n",
       "      <td>-0.655803</td>\n",
       "      <td>-0.251374</td>\n",
       "      <td>-0.240406</td>\n",
       "      <td>-0.183205</td>\n",
       "      <td>-0.116562</td>\n",
       "      <td>-0.314131</td>\n",
       "      <td>-0.180875</td>\n",
       "    </tr>\n",
       "  </tbody>\n",
       "</table>\n",
       "<p>5 rows × 23 columns</p>\n",
       "</div>"
      ],
      "text/plain": [
       "       LIMIT_BAL       SEX  EDUCATION  MARRIAGE       AGE     PAY_1     PAY_2  \\\n",
       "12209   1.483770 -1.234302   0.211866  0.849116 -0.161154 -0.874977 -0.723558   \n",
       "6266    1.175479 -1.234302   0.211866  0.849116 -0.703576  0.014860  0.111734   \n",
       "24959   0.558898 -1.234302  -1.131327  0.849116 -0.161154  0.014860  0.111734   \n",
       "16147  -0.211829  0.810147   1.555060 -1.068779 -0.161154  0.014860  0.111734   \n",
       "5810   -0.288902  0.810147   0.211866 -1.068779 -0.269638 -0.874977 -0.723558   \n",
       "\n",
       "          PAY_3     PAY_4     PAY_5    ...     BILL_AMT3  BILL_AMT4  \\\n",
       "12209 -0.696652 -0.666588 -0.647554    ...     -0.663599  -0.261281   \n",
       "6266   0.138862  0.188743  0.234913    ...      4.008844   4.336556   \n",
       "24959  1.809891 -0.666588 -0.647554    ...     -0.129852  -0.524863   \n",
       "16147  0.138862  0.188743  0.234913    ...      1.285964   1.464680   \n",
       "5810  -0.696652 -0.666588 -0.647554    ...     -0.672409  -0.656274   \n",
       "\n",
       "       BILL_AMT5  BILL_AMT6  PAY_AMT1  PAY_AMT2  PAY_AMT3  PAY_AMT4  PAY_AMT5  \\\n",
       "12209  -0.491066  -0.122422  0.178794 -0.213671  1.211755  0.359368  1.108671   \n",
       "6266    4.232527   4.411169  0.361427  0.285529  0.379073  0.362369  0.398383   \n",
       "24959  -0.512975  -0.533024  0.261809 -0.256378  0.242593  0.274344 -0.183226   \n",
       "16147   1.085751   1.103387  0.038424  0.046823  0.011093 -0.052730 -0.052322   \n",
       "5810   -0.616417  -0.655803 -0.251374 -0.240406 -0.183205 -0.116562 -0.314131   \n",
       "\n",
       "       PAY_AMT6  \n",
       "12209 -0.293377  \n",
       "6266   0.271383  \n",
       "24959 -0.225876  \n",
       "16147 -0.057123  \n",
       "5810  -0.180875  \n",
       "\n",
       "[5 rows x 23 columns]"
      ]
     },
     "execution_count": 16,
     "metadata": {},
     "output_type": "execute_result"
    }
   ],
   "source": [
    "stdX.sample(5)"
   ]
  },
  {
   "cell_type": "code",
   "execution_count": 17,
   "metadata": {
    "colab": {
     "base_uri": "https://localhost:8080/",
     "height": 34
    },
    "colab_type": "code",
    "collapsed": false,
    "executionInfo": {
     "elapsed": 5456,
     "status": "ok",
     "timestamp": 1570319879614,
     "user": {
      "displayName": "JOSE ALBERTO ARANGO SÁNCHEZ",
      "photoUrl": "https://lh3.googleusercontent.com/a-/AAuE7mAlmJPVrjjJ4aUXppU8o-4tXg36OBTyqwn-TK-0HOk=s64",
      "userId": "16388542354054473882"
     },
     "user_tz": 300
    },
    "id": "lxuVGSf3G9vz",
    "outputId": "a3f8a9f8-037a-49e7-d2dc-6a2f59b03c41"
   },
   "outputs": [
    {
     "data": {
      "text/plain": [
       "(30000, 23)"
      ]
     },
     "execution_count": 17,
     "metadata": {},
     "output_type": "execute_result"
    }
   ],
   "source": [
    "X.shape"
   ]
  },
  {
   "cell_type": "markdown",
   "metadata": {
    "colab_type": "text",
    "id": "LLfGIy_-SyD5"
   },
   "source": [
    "#Guardamos las variables normalizadas"
   ]
  },
  {
   "cell_type": "code",
   "execution_count": 18,
   "metadata": {
    "colab": {},
    "colab_type": "code",
    "collapsed": true,
    "id": "DMVFuGG_S3pF"
   },
   "outputs": [],
   "source": [
    "#X.to_csv(PATH+\"featuresSTD.csv\",index=False)"
   ]
  },
  {
   "cell_type": "code",
   "execution_count": 19,
   "metadata": {
    "colab": {},
    "colab_type": "code",
    "collapsed": true,
    "id": "DtBzQZv3pe9o"
   },
   "outputs": [],
   "source": [
    "PathFeaturesSTD = '../featuresSTD.csv'\n",
    "X = pd.read_csv(PathFeaturesSTD)"
   ]
  },
  {
   "cell_type": "code",
   "execution_count": 20,
   "metadata": {
    "colab": {
     "base_uri": "https://localhost:8080/",
     "height": 34
    },
    "colab_type": "code",
    "collapsed": false,
    "executionInfo": {
     "elapsed": 3186,
     "status": "ok",
     "timestamp": 1570319880043,
     "user": {
      "displayName": "JOSE ALBERTO ARANGO SÁNCHEZ",
      "photoUrl": "https://lh3.googleusercontent.com/a-/AAuE7mAlmJPVrjjJ4aUXppU8o-4tXg36OBTyqwn-TK-0HOk=s64",
      "userId": "16388542354054473882"
     },
     "user_tz": 300
    },
    "id": "aruyQXXNp8Ak",
    "outputId": "d7a884e0-3a15-4a54-c4c1-05f392e9a4b7"
   },
   "outputs": [
    {
     "data": {
      "text/plain": [
       "(30000, 23)"
      ]
     },
     "execution_count": 20,
     "metadata": {},
     "output_type": "execute_result"
    }
   ],
   "source": [
    "X.shape"
   ]
  },
  {
   "cell_type": "code",
   "execution_count": 21,
   "metadata": {
    "colab": {
     "base_uri": "https://localhost:8080/",
     "height": 215
    },
    "colab_type": "code",
    "collapsed": false,
    "executionInfo": {
     "elapsed": 2574,
     "status": "ok",
     "timestamp": 1570319880043,
     "user": {
      "displayName": "JOSE ALBERTO ARANGO SÁNCHEZ",
      "photoUrl": "https://lh3.googleusercontent.com/a-/AAuE7mAlmJPVrjjJ4aUXppU8o-4tXg36OBTyqwn-TK-0HOk=s64",
      "userId": "16388542354054473882"
     },
     "user_tz": 300
    },
    "id": "9qcOMTEJud7_",
    "outputId": "30621fd9-90fc-4a10-98b0-617c49aa74bf"
   },
   "outputs": [
    {
     "data": {
      "text/html": [
       "<div>\n",
       "<style scoped>\n",
       "    .dataframe tbody tr th:only-of-type {\n",
       "        vertical-align: middle;\n",
       "    }\n",
       "\n",
       "    .dataframe tbody tr th {\n",
       "        vertical-align: top;\n",
       "    }\n",
       "\n",
       "    .dataframe thead th {\n",
       "        text-align: right;\n",
       "    }\n",
       "</style>\n",
       "<table border=\"1\" class=\"dataframe\">\n",
       "  <thead>\n",
       "    <tr style=\"text-align: right;\">\n",
       "      <th></th>\n",
       "      <th>LIMIT_BAL</th>\n",
       "      <th>SEX</th>\n",
       "      <th>EDUCATION</th>\n",
       "      <th>MARRIAGE</th>\n",
       "      <th>AGE</th>\n",
       "      <th>PAY_1</th>\n",
       "      <th>PAY_2</th>\n",
       "      <th>PAY_3</th>\n",
       "      <th>PAY_4</th>\n",
       "      <th>PAY_5</th>\n",
       "      <th>...</th>\n",
       "      <th>BILL_AMT3</th>\n",
       "      <th>BILL_AMT4</th>\n",
       "      <th>BILL_AMT5</th>\n",
       "      <th>BILL_AMT6</th>\n",
       "      <th>PAY_AMT1</th>\n",
       "      <th>PAY_AMT2</th>\n",
       "      <th>PAY_AMT3</th>\n",
       "      <th>PAY_AMT4</th>\n",
       "      <th>PAY_AMT5</th>\n",
       "      <th>PAY_AMT6</th>\n",
       "    </tr>\n",
       "  </thead>\n",
       "  <tbody>\n",
       "    <tr>\n",
       "      <th>0</th>\n",
       "      <td>-1.136701</td>\n",
       "      <td>0.810147</td>\n",
       "      <td>0.211866</td>\n",
       "      <td>-1.068779</td>\n",
       "      <td>-1.245999</td>\n",
       "      <td>1.794534</td>\n",
       "      <td>1.782318</td>\n",
       "      <td>-0.696652</td>\n",
       "      <td>-0.666588</td>\n",
       "      <td>-1.530021</td>\n",
       "      <td>...</td>\n",
       "      <td>-0.667982</td>\n",
       "      <td>-0.672486</td>\n",
       "      <td>-0.663047</td>\n",
       "      <td>-0.652713</td>\n",
       "      <td>-0.341936</td>\n",
       "      <td>-0.227082</td>\n",
       "      <td>-0.296796</td>\n",
       "      <td>-0.308057</td>\n",
       "      <td>-0.314131</td>\n",
       "      <td>-0.293377</td>\n",
       "    </tr>\n",
       "    <tr>\n",
       "      <th>1</th>\n",
       "      <td>-0.365974</td>\n",
       "      <td>0.810147</td>\n",
       "      <td>0.211866</td>\n",
       "      <td>0.849116</td>\n",
       "      <td>-1.029030</td>\n",
       "      <td>-0.874977</td>\n",
       "      <td>1.782318</td>\n",
       "      <td>0.138862</td>\n",
       "      <td>0.188743</td>\n",
       "      <td>0.234913</td>\n",
       "      <td>...</td>\n",
       "      <td>-0.639244</td>\n",
       "      <td>-0.621626</td>\n",
       "      <td>-0.606219</td>\n",
       "      <td>-0.597956</td>\n",
       "      <td>-0.341936</td>\n",
       "      <td>-0.213584</td>\n",
       "      <td>-0.240001</td>\n",
       "      <td>-0.244226</td>\n",
       "      <td>-0.314131</td>\n",
       "      <td>-0.180875</td>\n",
       "    </tr>\n",
       "    <tr>\n",
       "      <th>2</th>\n",
       "      <td>-0.597192</td>\n",
       "      <td>0.810147</td>\n",
       "      <td>0.211866</td>\n",
       "      <td>0.849116</td>\n",
       "      <td>-0.161154</td>\n",
       "      <td>0.014860</td>\n",
       "      <td>0.111734</td>\n",
       "      <td>0.138862</td>\n",
       "      <td>0.188743</td>\n",
       "      <td>0.234913</td>\n",
       "      <td>...</td>\n",
       "      <td>-0.482400</td>\n",
       "      <td>-0.449723</td>\n",
       "      <td>-0.417181</td>\n",
       "      <td>-0.391623</td>\n",
       "      <td>-0.250287</td>\n",
       "      <td>-0.191884</td>\n",
       "      <td>-0.240001</td>\n",
       "      <td>-0.244226</td>\n",
       "      <td>-0.248679</td>\n",
       "      <td>-0.012122</td>\n",
       "    </tr>\n",
       "    <tr>\n",
       "      <th>3</th>\n",
       "      <td>-0.905483</td>\n",
       "      <td>0.810147</td>\n",
       "      <td>0.211866</td>\n",
       "      <td>-1.068779</td>\n",
       "      <td>0.164300</td>\n",
       "      <td>0.014860</td>\n",
       "      <td>0.111734</td>\n",
       "      <td>0.138862</td>\n",
       "      <td>0.188743</td>\n",
       "      <td>0.234913</td>\n",
       "      <td>...</td>\n",
       "      <td>0.032846</td>\n",
       "      <td>-0.232369</td>\n",
       "      <td>-0.186726</td>\n",
       "      <td>-0.156576</td>\n",
       "      <td>-0.221187</td>\n",
       "      <td>-0.169358</td>\n",
       "      <td>-0.228641</td>\n",
       "      <td>-0.237842</td>\n",
       "      <td>-0.244162</td>\n",
       "      <td>-0.237126</td>\n",
       "    </tr>\n",
       "    <tr>\n",
       "      <th>4</th>\n",
       "      <td>-0.905483</td>\n",
       "      <td>-1.234302</td>\n",
       "      <td>0.211866</td>\n",
       "      <td>-1.068779</td>\n",
       "      <td>2.333990</td>\n",
       "      <td>-0.874977</td>\n",
       "      <td>0.111734</td>\n",
       "      <td>-0.696652</td>\n",
       "      <td>0.188743</td>\n",
       "      <td>0.234913</td>\n",
       "      <td>...</td>\n",
       "      <td>-0.161186</td>\n",
       "      <td>-0.346991</td>\n",
       "      <td>-0.348131</td>\n",
       "      <td>-0.331476</td>\n",
       "      <td>-0.221187</td>\n",
       "      <td>1.335012</td>\n",
       "      <td>0.271161</td>\n",
       "      <td>0.266429</td>\n",
       "      <td>-0.269034</td>\n",
       "      <td>-0.255183</td>\n",
       "    </tr>\n",
       "  </tbody>\n",
       "</table>\n",
       "<p>5 rows × 23 columns</p>\n",
       "</div>"
      ],
      "text/plain": [
       "   LIMIT_BAL       SEX  EDUCATION  MARRIAGE       AGE     PAY_1     PAY_2  \\\n",
       "0  -1.136701  0.810147   0.211866 -1.068779 -1.245999  1.794534  1.782318   \n",
       "1  -0.365974  0.810147   0.211866  0.849116 -1.029030 -0.874977  1.782318   \n",
       "2  -0.597192  0.810147   0.211866  0.849116 -0.161154  0.014860  0.111734   \n",
       "3  -0.905483  0.810147   0.211866 -1.068779  0.164300  0.014860  0.111734   \n",
       "4  -0.905483 -1.234302   0.211866 -1.068779  2.333990 -0.874977  0.111734   \n",
       "\n",
       "      PAY_3     PAY_4     PAY_5    ...     BILL_AMT3  BILL_AMT4  BILL_AMT5  \\\n",
       "0 -0.696652 -0.666588 -1.530021    ...     -0.667982  -0.672486  -0.663047   \n",
       "1  0.138862  0.188743  0.234913    ...     -0.639244  -0.621626  -0.606219   \n",
       "2  0.138862  0.188743  0.234913    ...     -0.482400  -0.449723  -0.417181   \n",
       "3  0.138862  0.188743  0.234913    ...      0.032846  -0.232369  -0.186726   \n",
       "4 -0.696652  0.188743  0.234913    ...     -0.161186  -0.346991  -0.348131   \n",
       "\n",
       "   BILL_AMT6  PAY_AMT1  PAY_AMT2  PAY_AMT3  PAY_AMT4  PAY_AMT5  PAY_AMT6  \n",
       "0  -0.652713 -0.341936 -0.227082 -0.296796 -0.308057 -0.314131 -0.293377  \n",
       "1  -0.597956 -0.341936 -0.213584 -0.240001 -0.244226 -0.314131 -0.180875  \n",
       "2  -0.391623 -0.250287 -0.191884 -0.240001 -0.244226 -0.248679 -0.012122  \n",
       "3  -0.156576 -0.221187 -0.169358 -0.228641 -0.237842 -0.244162 -0.237126  \n",
       "4  -0.331476 -0.221187  1.335012  0.271161  0.266429 -0.269034 -0.255183  \n",
       "\n",
       "[5 rows x 23 columns]"
      ]
     },
     "execution_count": 21,
     "metadata": {},
     "output_type": "execute_result"
    }
   ],
   "source": [
    "X.head()"
   ]
  },
  {
   "cell_type": "markdown",
   "metadata": {
    "colab_type": "text",
    "id": "WSpHdL0TLzPZ"
   },
   "source": [
    "# **Correlación entre variables**\n",
    "\n",
    "\n",
    "\n"
   ]
  },
  {
   "cell_type": "code",
   "execution_count": 22,
   "metadata": {
    "colab": {
     "base_uri": "https://localhost:8080/",
     "height": 483
    },
    "colab_type": "code",
    "collapsed": false,
    "executionInfo": {
     "elapsed": 2678,
     "status": "ok",
     "timestamp": 1570319881022,
     "user": {
      "displayName": "JOSE ALBERTO ARANGO SÁNCHEZ",
      "photoUrl": "https://lh3.googleusercontent.com/a-/AAuE7mAlmJPVrjjJ4aUXppU8o-4tXg36OBTyqwn-TK-0HOk=s64",
      "userId": "16388542354054473882"
     },
     "user_tz": 300
    },
    "id": "Bgrt7I4ILyom",
    "outputId": "eab00e1e-b9a3-4dfa-97d1-a16b3dda7b0b"
   },
   "outputs": [],
   "source": [
    "#  looking at correlations matrix, defined via Pearson function  \n",
    "corr = df.corr() # .corr is used to find corelation\n",
    "f,ax = plt.subplots(figsize=(8, 7))\n",
    "sns.heatmap(corr, cbar = True,  square = True, annot = False, fmt= '.1f', \n",
    "            xticklabels= True, yticklabels= True\n",
    "            ,cmap=\"coolwarm\", linewidths=.5, ax=ax)\n",
    "plt.title('CORRELATION MATRIX - HEATMAP', size=18);"
   ]
  },
  {
   "cell_type": "markdown",
   "metadata": {
    "colab_type": "text",
    "id": "A3efCELvMiL8"
   },
   "source": [
    "La única característica con una notable correlación positiva con la variable  \"Default\" es el estado de pago durante el último mes (septiembre). \n",
    "\n",
    "La correlación negativa más alta con el incumplimiento se produce con Limit_Balance, lo que indica que los clientes con un saldo límite más bajo tienen más probabilidades de incumplimiento. También se puede observar que algunas variables están altamente correlacionadas entre sí, ese es el caso del monto del estado de cuenta y el estado de reembolso en diferentes meses.\n",
    "\n",
    "\n",
    "El heatmat muestra que las características están correlacionadas entre sí (colinealidad), como PAY_0,2,3,4,5,6 y BILL_AMT1,2,3,4,5,6. En esos casos, la correlación es positiva."
   ]
  },
  {
   "cell_type": "markdown",
   "metadata": {
    "colab_type": "text",
    "id": "ZweIc5OYz0Fw"
   },
   "source": [
    "# **Tecnicas de Balanceo Usada**"
   ]
  },
  {
   "cell_type": "markdown",
   "metadata": {
    "colab_type": "text",
    "id": "1NBaSI1F2nRN"
   },
   "source": [
    "Si la base de datos esta desbalanceada,deben considerar el uso de tecnicas de submuestreo y sobremuestreo inteligente, ademas de usar validacíón ́estratificaida."
   ]
  },
  {
   "cell_type": "markdown",
   "metadata": {
    "colab_type": "text",
    "id": "w5gPXvCHcykh"
   },
   "source": [
    "## **Stratified KFold**"
   ]
  },
  {
   "cell_type": "code",
   "execution_count": 23,
   "metadata": {
    "colab": {
     "base_uri": "https://localhost:8080/",
     "height": 185
    },
    "colab_type": "code",
    "collapsed": false,
    "executionInfo": {
     "elapsed": 325,
     "status": "ok",
     "timestamp": 1570319881024,
     "user": {
      "displayName": "JOSE ALBERTO ARANGO SÁNCHEZ",
      "photoUrl": "https://lh3.googleusercontent.com/a-/AAuE7mAlmJPVrjjJ4aUXppU8o-4tXg36OBTyqwn-TK-0HOk=s64",
      "userId": "16388542354054473882"
     },
     "user_tz": 300
    },
    "id": "5VhNAzf0bwPx",
    "outputId": "dc641208-6359-446f-cc8f-0f7193708110"
   },
   "outputs": [
    {
     "name": "stdout",
     "output_type": "stream",
     "text": [
      "TRAIN: [ 2993  2995  2996 ... 29997 29998 29999] TEST: [   0    1    2 ... 3004 3005 3006]\n",
      "TRAIN: [    0     1     2 ... 29997 29998 29999] TEST: [2993 2995 2996 ... 6044 6045 6047]\n",
      "TRAIN: [    0     1     2 ... 29997 29998 29999] TEST: [5985 5988 5989 ... 9034 9035 9036]\n",
      "TRAIN: [    0     1     2 ... 29997 29998 29999] TEST: [ 8883  8886  8888 ... 12051 12052 12055]\n",
      "TRAIN: [    0     1     2 ... 29997 29998 29999] TEST: [11794 11796 11802 ... 15072 15073 15074]\n",
      "TRAIN: [    0     1     2 ... 29997 29998 29999] TEST: [14766 14770 14778 ... 18223 18224 18226]\n",
      "TRAIN: [    0     1     2 ... 29997 29998 29999] TEST: [17316 17319 17323 ... 21199 21200 21201]\n",
      "TRAIN: [    0     1     2 ... 29997 29998 29999] TEST: [20429 20437 20439 ... 24073 24074 24075]\n",
      "TRAIN: [    0     1     2 ... 29997 29998 29999] TEST: [23691 23696 23704 ... 26998 26999 27000]\n",
      "TRAIN: [    0     1     2 ... 26998 26999 27000] TEST: [27001 27002 27003 ... 29997 29998 29999]\n"
     ]
    }
   ],
   "source": [
    "from sklearn.model_selection import StratifiedKFold\n",
    "\n",
    "#Train, Validation, Test\n",
    "FOLDS = 10\n",
    "\n",
    "skf = StratifiedKFold(n_splits=FOLDS)\n",
    "for train_index, test_index in skf.split(X, Y):\n",
    "    print(\"TRAIN:\", train_index, \"TEST:\", test_index)\n",
    "  \n",
    "\n"
   ]
  },
  {
   "cell_type": "markdown",
   "metadata": {
    "colab_type": "text",
    "id": "39k-3m3_f3BK"
   },
   "source": [
    "## **Validación Booststrapping**"
   ]
  },
  {
   "cell_type": "code",
   "execution_count": 24,
   "metadata": {
    "colab": {
     "base_uri": "https://localhost:8080/",
     "height": 50
    },
    "colab_type": "code",
    "collapsed": false,
    "executionInfo": {
     "elapsed": 484,
     "status": "ok",
     "timestamp": 1570319883688,
     "user": {
      "displayName": "JOSE ALBERTO ARANGO SÁNCHEZ",
      "photoUrl": "https://lh3.googleusercontent.com/a-/AAuE7mAlmJPVrjjJ4aUXppU8o-4tXg36OBTyqwn-TK-0HOk=s64",
      "userId": "16388542354054473882"
     },
     "user_tz": 300
    },
    "id": "khqUNpMrgGgX",
    "outputId": "5da912c1-1491-45ff-b253-60bec8ed56da"
   },
   "outputs": [
    {
     "name": "stdout",
     "output_type": "stream",
     "text": [
      "X_Train (24000, 23)\n",
      "y_train (24000,)\n"
     ]
    }
   ],
   "source": [
    "from sklearn.model_selection import train_test_split\n",
    "VALID_SIZE = 0.20\n",
    "X_train, X_test, y_train, y_test = train_test_split(X,Y, test_size=VALID_SIZE, shuffle=True )\n",
    "print('X_Train', X_train.shape)\n",
    "print('y_train', y_train.shape)\n"
   ]
  },
  {
   "cell_type": "markdown",
   "metadata": {
    "colab_type": "text",
    "id": "ucRWuvml3nDE"
   },
   "source": [
    "## **Aprendizaje con balance de costo**"
   ]
  },
  {
   "cell_type": "code",
   "execution_count": 25,
   "metadata": {
    "colab": {
     "base_uri": "https://localhost:8080/",
     "height": 34
    },
    "colab_type": "code",
    "collapsed": false,
    "executionInfo": {
     "elapsed": 478,
     "status": "ok",
     "timestamp": 1570319885662,
     "user": {
      "displayName": "JOSE ALBERTO ARANGO SÁNCHEZ",
      "photoUrl": "https://lh3.googleusercontent.com/a-/AAuE7mAlmJPVrjjJ4aUXppU8o-4tXg36OBTyqwn-TK-0HOk=s64",
      "userId": "16388542354054473882"
     },
     "user_tz": 300
    },
    "id": "Z98KFR863qY5",
    "outputId": "0dcfa8a1-42fe-4cb3-8ad1-77c8db6c046a"
   },
   "outputs": [
    {
     "data": {
      "text/plain": [
       "array([0.64201335, 2.26039783])"
      ]
     },
     "execution_count": 25,
     "metadata": {},
     "output_type": "execute_result"
    }
   ],
   "source": [
    "from sklearn.utils import class_weight\n",
    "class_weights = class_weight.compute_class_weight('balanced',np.unique(Y),Y)\n",
    "class_weights\n",
    "#model.fit(X_train, y_train, class_weight=class_weights)\n"
   ]
  },
  {
   "cell_type": "markdown",
   "metadata": {
    "colab_type": "text",
    "id": "csCiM5TY2s8-"
   },
   "source": [
    "## **Stratified KFold con Class_weight** "
   ]
  },
  {
   "cell_type": "markdown",
   "metadata": {
    "colab_type": "text",
    "id": "O2Rd2NOL4rKl"
   },
   "source": [
    "### **SMOTE**"
   ]
  },
  {
   "cell_type": "code",
   "execution_count": 0,
   "metadata": {
    "colab": {
     "base_uri": "https://localhost:8080/"
    },
    "colab_type": "code",
    "collapsed": false,
    "executionInfo": {
     "elapsed": 850,
     "status": "ok",
     "timestamp": 1569255045048,
     "user": {
      "displayName": "JOSE ALBERTO ARANGO SÁNCHEZ",
      "photoUrl": "https://lh3.googleusercontent.com/a-/AAuE7mAlmJPVrjjJ4aUXppU8o-4tXg36OBTyqwn-TK-0HOk=s64",
      "userId": "16388542354054473882"
     },
     "user_tz": 300
    },
    "id": "atp_ar8Z4ypM",
    "outputId": "9407d420-cd2d-4c4f-f8d6-4cd5c3b24b92"
   },
   "outputs": [
    {
     "name": "stdout",
     "output_type": "stream",
     "text": [
      "46728\n",
      "23364\n"
     ]
    }
   ],
   "source": [
    "from imblearn.over_sampling import SMOTE\n",
    "\n",
    "\n",
    "sm = SMOTE(random_state=589, ratio = 1.0)\n",
    "X_SMOTE, y_SMOTE = sm.fit_sample(X, Y)\n",
    "print(len(y_SMOTE))\n",
    "print(y_SMOTE.sum())"
   ]
  },
  {
   "cell_type": "code",
   "execution_count": 0,
   "metadata": {
    "colab": {
     "base_uri": "https://localhost:8080/",
     "height": 35
    },
    "colab_type": "code",
    "collapsed": false,
    "executionInfo": {
     "elapsed": 456,
     "status": "ok",
     "timestamp": 1569420727519,
     "user": {
      "displayName": "JOSE ALBERTO ARANGO SÁNCHEZ",
      "photoUrl": "https://lh3.googleusercontent.com/a-/AAuE7mAlmJPVrjjJ4aUXppU8o-4tXg36OBTyqwn-TK-0HOk=s64",
      "userId": "16388542354054473882"
     },
     "user_tz": 300
    },
    "id": "7OLbcMNBwz9f",
    "outputId": "c6283915-335f-4f08-d671-9c2c3d54070d"
   },
   "outputs": [
    {
     "data": {
      "text/plain": [
       "(30000, 23)"
      ]
     },
     "execution_count": 134,
     "metadata": {
      "tags": []
     },
     "output_type": "execute_result"
    }
   ],
   "source": [
    "X.values.shape"
   ]
  },
  {
   "cell_type": "code",
   "execution_count": 0,
   "metadata": {
    "colab": {
     "base_uri": "https://localhost:8080/",
     "height": 711
    },
    "colab_type": "code",
    "collapsed": false,
    "executionInfo": {
     "elapsed": 565,
     "status": "ok",
     "timestamp": 1569421035138,
     "user": {
      "displayName": "JOSE ALBERTO ARANGO SÁNCHEZ",
      "photoUrl": "https://lh3.googleusercontent.com/a-/AAuE7mAlmJPVrjjJ4aUXppU8o-4tXg36OBTyqwn-TK-0HOk=s64",
      "userId": "16388542354054473882"
     },
     "user_tz": 300
    },
    "id": "Rgg-9ODAuUbT",
    "outputId": "fc1f8d8b-77d3-453f-8b9e-f534ab8c7025"
   },
   "outputs": [
    {
     "name": "stdout",
     "output_type": "stream",
     "text": [
      "xTRAIN: (26999, 23) yTRAIN: (26999,)\n",
      "xTEST: (3001, 23) yTEST: (3001,)\n",
      "class_weightsTrain [0.64200789 2.26046551]\n",
      "class_weightsTest [0.64206247 2.25978916]\n",
      "xTRAIN: (26999, 23) yTRAIN: (26999,)\n",
      "xTEST: (3001, 23) yTEST: (3001,)\n",
      "class_weightsTrain [0.64200789 2.26046551]\n",
      "class_weightsTest [0.64206247 2.25978916]\n",
      "xTRAIN: (26999, 23) yTRAIN: (26999,)\n",
      "xTEST: (3001, 23) yTEST: (3001,)\n",
      "class_weightsTrain [0.64200789 2.26046551]\n",
      "class_weightsTest [0.64206247 2.25978916]\n",
      "xTRAIN: (26999, 23) yTRAIN: (26999,)\n",
      "xTEST: (3001, 23) yTEST: (3001,)\n",
      "class_weightsTrain [0.64200789 2.26046551]\n",
      "class_weightsTest [0.64206247 2.25978916]\n",
      "xTRAIN: (27000, 23) yTRAIN: (27000,)\n",
      "xTEST: (3000, 23) yTEST: (3000,)\n",
      "class_weightsTrain [0.64200114 2.26054923]\n",
      "class_weightsTest [0.64212329 2.25903614]\n",
      "xTRAIN: (27000, 23) yTRAIN: (27000,)\n",
      "xTEST: (3000, 23) yTEST: (3000,)\n",
      "class_weightsTrain [0.64200114 2.26054923]\n",
      "class_weightsTest [0.64212329 2.25903614]\n",
      "xTRAIN: (27001, 23) yTRAIN: (27001,)\n",
      "xTEST: (2999, 23) yTEST: (2999,)\n",
      "class_weightsTrain [0.64202492 2.26025448]\n",
      "class_weightsTest [0.64190925 2.26168929]\n",
      "xTRAIN: (27001, 23) yTRAIN: (27001,)\n",
      "xTEST: (2999, 23) yTEST: (2999,)\n",
      "class_weightsTrain [0.64202492 2.26025448]\n",
      "class_weightsTest [0.64190925 2.26168929]\n",
      "xTRAIN: (27001, 23) yTRAIN: (27001,)\n",
      "xTEST: (2999, 23) yTEST: (2999,)\n",
      "class_weightsTrain [0.64202492 2.26025448]\n",
      "class_weightsTest [0.64190925 2.26168929]\n",
      "xTRAIN: (27001, 23) yTRAIN: (27001,)\n",
      "xTEST: (2999, 23) yTEST: (2999,)\n",
      "class_weightsTrain [0.64202492 2.26025448]\n",
      "class_weightsTest [0.64190925 2.26168929]\n"
     ]
    }
   ],
   "source": [
    "from sklearn.model_selection import StratifiedKFold\n",
    "from sklearn.utils import class_weight\n",
    "\n",
    "\n",
    "#Train, Validation, Test\n",
    "FOLDS = 10\n",
    "\n",
    "skf = StratifiedKFold(n_splits=FOLDS)\n",
    "for train_index, test_index in skf.split(X, Y):\n",
    "    X_train, X_test = X[train_index], X[test_index]\n",
    "    Y_train, Y_test = Y[train_index], Y[test_index]    \n",
    "    print(\"xTRAIN:\", X_train.shape, \"yTRAIN:\", Y_train.shape)\n",
    "    print(\"xTEST:\", X_test.shape, \"yTEST:\", Y_test.shape)\n",
    "    class_weightsTrain = class_weight.compute_class_weight('balanced',np.unique(Y_train),Y_train)\n",
    "    class_weightsTest = class_weight.compute_class_weight('balanced',np.unique(Y_test),Y_test)\n",
    "    print(\"class_weightsTrain\",(class_weightsTrain))\n",
    "    print(\"class_weightsTest\",class_weightsTest)   \n"
   ]
  },
  {
   "cell_type": "markdown",
   "metadata": {
    "colab_type": "text",
    "id": "Y_XGyVVg0PWt"
   },
   "source": [
    "# Modelos"
   ]
  },
  {
   "cell_type": "markdown",
   "metadata": {
    "colab_type": "text",
    "id": "zowcnxvPx3q7"
   },
   "source": [
    "### **Usando [GridSearchCV](https://scikit-learn.org/stable/modules/generated/sklearn.model_selection.GridSearchCV.html)**"
   ]
  },
  {
   "cell_type": "code",
   "execution_count": 0,
   "metadata": {
    "colab": {},
    "colab_type": "code",
    "collapsed": true,
    "id": "v2i6IKJ7wxvS"
   },
   "outputs": [],
   "source": [
    "from sklearn.metrics import make_scorer, accuracy_score\n",
    "from sklearn.model_selection import GridSearchCV\n",
    "from sklearn.model_selection import StratifiedKFold\n",
    "from sklearn.utils import class_weight\n",
    "\n",
    "def modelTrain(model,params,X,Y,VALID_SIZE,FOLDS):\n",
    "    skf = StratifiedKFold(n_splits=FOLDS)\n",
    "    gs = GridSearchCV(model, cv=skf, param_grid=params, return_train_score=True, n_jobs=-1)\n",
    "    X_train, X_test, Y_train, Y_test = train_test_split(X,Y, test_size=VALID_SIZE, shuffle=True)\n",
    "    class_weightsTrain = class_weight.compute_class_weight('balanced',np.unique(Y_train),Y_train)\n",
    "    gs.fit(X_train, Y_train)     \n",
    "    return gs,X_test,Y_test"
   ]
  },
  {
   "cell_type": "code",
   "execution_count": 0,
   "metadata": {
    "colab": {},
    "colab_type": "code",
    "collapsed": true,
    "id": "TVMlIlPUB5zI"
   },
   "outputs": [],
   "source": [
    "def Metrics(model,X_test,Y_test):\n",
    "\n",
    "  y_predicted = model.predict(X_test)\n",
    "  print('Accuracy: ', accuracy_score(Y_test, y_predicted), '\\n')\n",
    "  report = classification_report(Y_test, y_predicted)\n",
    "  print(\"\\nclassification report :\\n\",report )\n",
    " \n",
    "  # Matriz de confusión\n",
    "  plt.figure(figsize=(13,10))\n",
    "  plt.subplot(221)\n",
    "  sns.heatmap(confusion_matrix(Y_test, y_predicted),annot=True,fmt = \"d\",linecolor=\"k\",linewidths=3)\n",
    "  plt.title(\"Matriz de confusión\",fontsize=20)\n",
    "   \n",
    "  # Curva ROC\n",
    "  predicting_probabilites = model.predict_proba(X_test)[:,1]\n",
    "  fpr,tpr,thresholds = roc_curve(Y_test, predicting_probabilites)\n",
    "  plt.subplot(222)\n",
    "  plt.plot(fpr,tpr,label = (\"Área bajo la curva:\",auc(fpr,tpr)),color = \"r\")\n",
    "  plt.plot([1,0],[1,0],linestyle = \"dashed\",color =\"k\")\n",
    "  plt.legend(loc = \"best\")\n",
    "  plt.title(\"Curva ROC\",fontsize=20)\n",
    "  return report"
   ]
  },
  {
   "cell_type": "code",
   "execution_count": 0,
   "metadata": {
    "colab": {},
    "colab_type": "code",
    "collapsed": true,
    "id": "kTq5JDzpTq_h"
   },
   "outputs": [],
   "source": [
    "def printMetrics(result):\n",
    "  results = pd.DataFrame(result.cv_results_)\n",
    "  print(results[['mean_test_score','std_test_score','mean_train_score','std_train_score']])  \n"
   ]
  },
  {
   "cell_type": "markdown",
   "metadata": {
    "colab_type": "text",
    "id": "YuMdBXhc0WCV"
   },
   "source": [
    "## **Na ̈ıve Bayes**\n",
    "\n",
    "[Documentación](https://scikit-learn.org/stable/modules/generated/sklearn.naive_bayes.GaussianNB.html#sklearn.naive_bayes.GaussianNB)"
   ]
  },
  {
   "cell_type": "code",
   "execution_count": 0,
   "metadata": {
    "colab": {},
    "colab_type": "code",
    "collapsed": true,
    "id": "NNHxhdnU0Ysf"
   },
   "outputs": [],
   "source": [
    "from sklearn.model_selection import train_test_split\n",
    "from sklearn.naive_bayes import GaussianNB\n",
    "gnb = GaussianNB()\n",
    "VALID_SIZE = 0.20\n",
    "FOLDS = 10\n",
    "params = {}\n",
    "\n",
    "gsGaussianNB,X_test,Y_test = modelTrain(gnb,params,X,Y,VALID_SIZE,FOLDS)\n",
    "\n",
    "#GUARDAR MODELO\n",
    "#joblib.dump(gsGaussianNB, PATH+'Models/gsGaussianNB.pkl')"
   ]
  },
  {
   "cell_type": "code",
   "execution_count": 0,
   "metadata": {
    "colab": {},
    "colab_type": "code",
    "collapsed": true,
    "id": "_H9FmO9SiUbh"
   },
   "outputs": [],
   "source": [
    "#READ MODEL \n",
    "\n",
    "PATHGNBMODEL = PATH+'Models/gsGaussianNB.pkl'\n",
    "gsGaussianNB = joblib.load(PATHGNBMODEL)\n"
   ]
  },
  {
   "cell_type": "markdown",
   "metadata": {
    "colab_type": "text",
    "id": "xTqLWYah0yg2"
   },
   "source": [
    "### **Resultado Obtenidos**\n",
    "\n",
    "Recuerde que como parte de una correcta metodolog ́ıa de validacion se deben incluir, seg  ́ un sea el caso, medidas de sensibilidad, especificidad, eficiencia, matriz de confusion, error cuadratico medio, MAPE, coeficiente de determinacion, etc., Deben incluir intervalos de confianza para todas las medidas usadas."
   ]
  },
  {
   "cell_type": "code",
   "execution_count": 0,
   "metadata": {
    "colab": {
     "base_uri": "https://localhost:8080/",
     "height": 578
    },
    "colab_type": "code",
    "collapsed": false,
    "executionInfo": {
     "elapsed": 1100,
     "status": "ok",
     "timestamp": 1569471643985,
     "user": {
      "displayName": "JOSE ALBERTO ARANGO SÁNCHEZ",
      "photoUrl": "https://lh3.googleusercontent.com/a-/AAuE7mAlmJPVrjjJ4aUXppU8o-4tXg36OBTyqwn-TK-0HOk=s64",
      "userId": "16388542354054473882"
     },
     "user_tz": 300
    },
    "id": "LfsXoGszDUYZ",
    "outputId": "727dd43a-15fc-4dd6-c0c7-8ba480f74d9c"
   },
   "outputs": [
    {
     "name": "stdout",
     "output_type": "stream",
     "text": [
      "Accuracy:  0.6875 \n",
      "\n",
      "\n",
      "classification report :\n",
      "               precision    recall  f1-score   support\n",
      "\n",
      "           0       0.89      0.69      0.78      4703\n",
      "           1       0.38      0.69      0.49      1297\n",
      "\n",
      "    accuracy                           0.69      6000\n",
      "   macro avg       0.63      0.69      0.63      6000\n",
      "weighted avg       0.78      0.69      0.71      6000\n",
      "\n",
      "   mean_test_score  std_test_score  mean_train_score  std_train_score\n",
      "0         0.679875        0.041991          0.678551          0.03826\n"
     ]
    },
    {
     "data": {
      "image/png": "[encoded data removed]",
      "text/plain": [
       "<Figure size 936x720 with 3 Axes>"
      ]
     },
     "metadata": {
      "tags": []
     },
     "output_type": "display_data"
    }
   ],
   "source": [
    "metrics = Metrics(gsGaussianNB.best_estimator_,X_test,Y_test)\n",
    "printMetrics(gsGaussianNB)"
   ]
  },
  {
   "cell_type": "markdown",
   "metadata": {
    "colab_type": "text",
    "id": "DT7WapDnHEHj"
   },
   "source": [
    "**Sensibilidad** = tp / (tp + fn)\n",
    "\n",
    "\n",
    "**Especificidad**  = tn /(tn+fp)\n",
    "\n",
    "\n",
    "**eficiencia** = tp+tn/(tp+tn+fp+fn)\n",
    "\n",
    "\n",
    "**Precisión** = tp /(tp+fp)\n",
    "\n",
    "\n"
   ]
  },
  {
   "cell_type": "markdown",
   "metadata": {
    "colab_type": "text",
    "id": "xyjjRFdf0kl3"
   },
   "source": [
    "## **Random Forest**"
   ]
  },
  {
   "cell_type": "markdown",
   "metadata": {
    "colab_type": "text",
    "id": "v-899rO2lPBH"
   },
   "source": [
    "[Documentación](https://scikit-learn.org/stable/modules/generated/sklearn.ensemble.RandomForestClassifier.html)"
   ]
  },
  {
   "cell_type": "code",
   "execution_count": 0,
   "metadata": {
    "colab": {
     "base_uri": "https://localhost:8080/",
     "height": 89
    },
    "colab_type": "code",
    "collapsed": false,
    "executionInfo": {
     "elapsed": 2756585,
     "status": "ok",
     "timestamp": 1569450996221,
     "user": {
      "displayName": "JOSE ALBERTO ARANGO SÁNCHEZ",
      "photoUrl": "https://lh3.googleusercontent.com/a-/AAuE7mAlmJPVrjjJ4aUXppU8o-4tXg36OBTyqwn-TK-0HOk=s64",
      "userId": "16388542354054473882"
     },
     "user_tz": 300
    },
    "id": "c5FATjSJ0mSU",
    "outputId": "6ad84e26-098a-45d8-8ab8-c545124a9ea4"
   },
   "outputs": [
    {
     "name": "stdout",
     "output_type": "stream",
     "text": [
      "Best SCORE 0.8196666666666667\n",
      "Best ESTIMATOR {'criterion': 'entropy', 'max_depth': 8, 'max_features': 5, 'n_estimators': 50}\n"
     ]
    },
    {
     "data": {
      "text/plain": [
       "['/content/drive/My Drive/2019-1/Simulation of System and Laboratory/Final Project/Code/Models/gsRDF.pkl']"
      ]
     },
     "execution_count": 152,
     "metadata": {
      "tags": []
     },
     "output_type": "execute_result"
    }
   ],
   "source": [
    "from sklearn.ensemble import RandomForestClassifier\n",
    "\n",
    "VALID_SIZE = 0.20\n",
    "FOLDS = 10\n",
    "\n",
    "\"\"\"\n",
    "params = { \n",
    "    'n_estimators': [50,100,150,200,250,300],\n",
    "     \"max_features\": [1,2,3,4,5,6,7,8,9,10],\n",
    "     'max_depth': [1,2,3,4,5,6,7,8,9],\n",
    "    'criterion' :['gini', 'entropy']\n",
    "}\n",
    "\"\"\"\n",
    "params = { \n",
    "    'n_estimators': [10,20,30,40,50],\n",
    "     \"max_features\": [1,2,3,4,5],\n",
    "     'max_depth': [1,2,3,4,5,8,10,15,20],\n",
    "    'criterion' :['gini', 'entropy']\n",
    "}\n",
    "\n",
    "\n",
    "rfc=RandomForestClassifier()\n",
    "\n",
    "gsRDF,X_test,Y_test= modelTrain(rfc,params,X,Y,VALID_SIZE,FOLDS)\n",
    "\n",
    "print(\"Best SCORE\",gsRDF.best_score_)\n",
    "print(\"Best ESTIMATOR\", gsRDF.best_params_)\n",
    "\n",
    "\n",
    "#GUARDAR MODELO\n",
    "PATH_gsRDF_MODEL = PATH+'Models/gsRDF.pkl'\n",
    "joblib.dump(gsRDF,PATH_gsRDF_MODEL)"
   ]
  },
  {
   "cell_type": "markdown",
   "metadata": {
    "colab_type": "text",
    "id": "VnAlAlNm2j0X"
   },
   "source": [
    "### **Resultado Obtenidos**\n",
    "\n",
    "Recuerde que como parte de una correcta metodolog ́ıa de validacion se deben incluir, seg  ́ un sea el caso, medidas de sensibilidad, especificidad, eficiencia, matriz de confusion, error cuadratico medio, MAPE, coeficiente de determinacion, etc., Deben incluir intervalos de confianza para todas las medidas usadas."
   ]
  },
  {
   "cell_type": "code",
   "execution_count": 0,
   "metadata": {
    "colab": {
     "base_uri": "https://localhost:8080/",
     "height": 1000
    },
    "colab_type": "code",
    "collapsed": false,
    "executionInfo": {
     "elapsed": 1543,
     "status": "ok",
     "timestamp": 1569451094435,
     "user": {
      "displayName": "JOSE ALBERTO ARANGO SÁNCHEZ",
      "photoUrl": "https://lh3.googleusercontent.com/a-/AAuE7mAlmJPVrjjJ4aUXppU8o-4tXg36OBTyqwn-TK-0HOk=s64",
      "userId": "16388542354054473882"
     },
     "user_tz": 300
    },
    "id": "TottuB9OaLrs",
    "outputId": "ec3286e4-6e66-460a-e950-0ad68632cb7b"
   },
   "outputs": [
    {
     "name": "stdout",
     "output_type": "stream",
     "text": [
      "Accuracy:  0.8263333333333334 \n",
      "\n",
      "\n",
      "classification report :\n",
      "               precision    recall  f1-score   support\n",
      "\n",
      "           0       0.84      0.95      0.90      4697\n",
      "           1       0.69      0.36      0.48      1303\n",
      "\n",
      "    accuracy                           0.83      6000\n",
      "   macro avg       0.77      0.66      0.69      6000\n",
      "weighted avg       0.81      0.83      0.80      6000\n",
      "\n",
      "     mean_test_score  std_test_score  mean_train_score  std_train_score\n",
      "0           0.777792        0.000136          0.777792         0.000015\n",
      "1           0.777792        0.000136          0.777792         0.000015\n",
      "2           0.777792        0.000136          0.777792         0.000015\n",
      "3           0.777792        0.000136          0.777792         0.000015\n",
      "4           0.777792        0.000136          0.777792         0.000015\n",
      "5           0.778750        0.002920          0.778380         0.001759\n",
      "6           0.778083        0.000817          0.778028         0.000716\n",
      "7           0.777792        0.000136          0.777792         0.000015\n",
      "8           0.777792        0.000136          0.777792         0.000015\n",
      "9           0.777792        0.000136          0.777792         0.000015\n",
      "10          0.777792        0.000136          0.777792         0.000015\n",
      "11          0.779667        0.005639          0.779486         0.005082\n",
      "12          0.779208        0.004294          0.779134         0.004023\n",
      "13          0.777917        0.000331          0.778287         0.001494\n",
      "14          0.778042        0.000773          0.778046         0.000763\n",
      "15          0.788250        0.009095          0.787842         0.008816\n",
      "16          0.785833        0.008222          0.786088         0.008340\n",
      "17          0.786167        0.008021          0.786324         0.008221\n",
      "18          0.784208        0.007161          0.783546         0.006814\n",
      "19          0.783208        0.006204          0.783213         0.006132\n",
      "20          0.787708        0.009391          0.787685         0.008375\n",
      "21          0.793750        0.005788          0.794037         0.004062\n",
      "22          0.791250        0.008222          0.791954         0.008228\n",
      "23          0.793208        0.003826          0.793968         0.003044\n",
      "24          0.791958        0.007026          0.792426         0.006585\n",
      "25          0.778333        0.001406          0.778218         0.000913\n",
      "26          0.777792        0.000136          0.777792         0.000015\n",
      "27          0.777792        0.000136          0.777792         0.000015\n",
      "28          0.777792        0.000136          0.777792         0.000015\n",
      "29          0.777792        0.000136          0.777792         0.000015\n",
      "..               ...             ...               ...              ...\n",
      "420         0.812542        0.006450          0.897787         0.001941\n",
      "421         0.814542        0.005372          0.899426         0.002589\n",
      "422         0.817042        0.003905          0.900370         0.001070\n",
      "423         0.816250        0.005035          0.900083         0.001018\n",
      "424         0.817500        0.005591          0.900986         0.000717\n",
      "425         0.800042        0.004851          0.929028         0.002738\n",
      "426         0.806042        0.003632          0.934204         0.001783\n",
      "427         0.808250        0.004952          0.935449         0.002148\n",
      "428         0.808958        0.002014          0.936921         0.001188\n",
      "429         0.811750        0.002721          0.937449         0.002036\n",
      "430         0.809458        0.005137          0.933093         0.002617\n",
      "431         0.812792        0.004456          0.938199         0.001958\n",
      "432         0.813125        0.004445          0.939032         0.002184\n",
      "433         0.814750        0.006420          0.940583         0.001530\n",
      "434         0.813208        0.004393          0.940764         0.001283\n",
      "435         0.804083        0.006497          0.937833         0.002177\n",
      "436         0.813125        0.004992          0.942699         0.001615\n",
      "437         0.814667        0.007117          0.944648         0.001562\n",
      "438         0.814667        0.006636          0.945532         0.001540\n",
      "439         0.816083        0.006254          0.945750         0.001831\n",
      "440         0.807542        0.003714          0.941255         0.001727\n",
      "441         0.812458        0.004583          0.946417         0.001860\n",
      "442         0.813875        0.005183          0.947694         0.002138\n",
      "443         0.815583        0.006071          0.948134         0.001238\n",
      "444         0.815458        0.004515          0.949704         0.001716\n",
      "445         0.808083        0.004866          0.942194         0.002380\n",
      "446         0.815083        0.004939          0.948907         0.001648\n",
      "447         0.815417        0.006535          0.949847         0.001527\n",
      "448         0.815250        0.005380          0.951120         0.000973\n",
      "449         0.816833        0.005175          0.951491         0.001293\n",
      "\n",
      "[450 rows x 4 columns]\n"
     ]
    },
    {
     "data": {
      "image/png": "[encoded data removed]",
      "text/plain": [
       "<Figure size 936x720 with 3 Axes>"
      ]
     },
     "metadata": {
      "tags": []
     },
     "output_type": "display_data"
    }
   ],
   "source": [
    "metrics = Metrics(gsRDF.best_estimator_,X_test,Y_test)\n",
    "printMetrics(gsRDF)"
   ]
  },
  {
   "cell_type": "code",
   "execution_count": 0,
   "metadata": {
    "colab": {},
    "colab_type": "code",
    "collapsed": true,
    "id": "PczpoyizRgqO"
   },
   "outputs": [],
   "source": [
    "#READ MODEL \n",
    "\n",
    "PATHRDFMODEL = PATH+'Models/gsRDF.pkl'\n",
    "gsRDF = joblib.load(PATHRDFMODEL)"
   ]
  },
  {
   "cell_type": "markdown",
   "metadata": {
    "colab_type": "text",
    "id": "wTDOYFfg1ywx"
   },
   "source": [
    "\n",
    "\n",
    " ---\n",
    "\n",
    "\n"
   ]
  },
  {
   "cell_type": "markdown",
   "metadata": {
    "colab_type": "text",
    "id": "B3bM0UAU0aYO"
   },
   "source": [
    "## K vecinos mas cercanos"
   ]
  },
  {
   "cell_type": "markdown",
   "metadata": {
    "colab_type": "text",
    "id": "z3fYzmk0Ttaq"
   },
   "source": [
    "[Documentación](https://scikit-learn.org/stable/modules/generated/sklearn.neighbors.KNeighborsClassifier.html)"
   ]
  },
  {
   "cell_type": "code",
   "execution_count": 0,
   "metadata": {
    "colab": {
     "base_uri": "https://localhost:8080/",
     "height": 253
    },
    "colab_type": "code",
    "collapsed": false,
    "executionInfo": {
     "elapsed": 2637146,
     "status": "error",
     "timestamp": 1569474354555,
     "user": {
      "displayName": "JOSE ALBERTO ARANGO SÁNCHEZ",
      "photoUrl": "https://lh3.googleusercontent.com/a-/AAuE7mAlmJPVrjjJ4aUXppU8o-4tXg36OBTyqwn-TK-0HOk=s64",
      "userId": "16388542354054473882"
     },
     "user_tz": 300
    },
    "id": "xpKLYeBx0dy2",
    "outputId": "2d56b706-89f7-4fcf-b875-01f877012056"
   },
   "outputs": [
    {
     "name": "stdout",
     "output_type": "stream",
     "text": [
      "Best SCORE 0.8088333333333333\n"
     ]
    },
    {
     "ename": "AttributeError",
     "evalue": "ignored",
     "output_type": "error",
     "traceback": [
      "\u001b[0;31m---------------------------------------------------------------------------\u001b[0m",
      "\u001b[0;31mAttributeError\u001b[0m                            Traceback (most recent call last)",
      "\u001b[0;32m<ipython-input-55-88af886edbfe>\u001b[0m in \u001b[0;36m<module>\u001b[0;34m()\u001b[0m\n\u001b[1;32m     14\u001b[0m \u001b[0mgsKNN\u001b[0m\u001b[0;34m,\u001b[0m\u001b[0mX_test\u001b[0m\u001b[0;34m,\u001b[0m\u001b[0mY_test\u001b[0m \u001b[0;34m=\u001b[0m \u001b[0mmodelTrain\u001b[0m\u001b[0;34m(\u001b[0m\u001b[0mKNN\u001b[0m\u001b[0;34m,\u001b[0m\u001b[0mparams\u001b[0m\u001b[0;34m,\u001b[0m\u001b[0mX\u001b[0m\u001b[0;34m,\u001b[0m\u001b[0mY\u001b[0m\u001b[0;34m,\u001b[0m\u001b[0mVALID_SIZE\u001b[0m\u001b[0;34m,\u001b[0m\u001b[0mFOLDS\u001b[0m\u001b[0;34m)\u001b[0m\u001b[0;34m\u001b[0m\u001b[0;34m\u001b[0m\u001b[0m\n\u001b[1;32m     15\u001b[0m \u001b[0mprint\u001b[0m\u001b[0;34m(\u001b[0m\u001b[0;34m\"Best SCORE\"\u001b[0m\u001b[0;34m,\u001b[0m\u001b[0mgsKNN\u001b[0m\u001b[0;34m.\u001b[0m\u001b[0mbest_score_\u001b[0m\u001b[0;34m)\u001b[0m\u001b[0;34m\u001b[0m\u001b[0;34m\u001b[0m\u001b[0m\n\u001b[0;32m---> 16\u001b[0;31m \u001b[0mprint\u001b[0m\u001b[0;34m(\u001b[0m\u001b[0;34m\"Best ESTIMATOR\"\u001b[0m\u001b[0;34m,\u001b[0m \u001b[0mgsKNN\u001b[0m\u001b[0;34m.\u001b[0m\u001b[0mgsGaussianNB\u001b[0m\u001b[0;34m.\u001b[0m\u001b[0mbest_params_\u001b[0m\u001b[0;34m)\u001b[0m\u001b[0;34m\u001b[0m\u001b[0;34m\u001b[0m\u001b[0m\n\u001b[0m\u001b[1;32m     17\u001b[0m \u001b[0;34m\u001b[0m\u001b[0m\n\u001b[1;32m     18\u001b[0m \u001b[0;31m#GUARDAR MODELO\u001b[0m\u001b[0;34m\u001b[0m\u001b[0;34m\u001b[0m\u001b[0;34m\u001b[0m\u001b[0m\n",
      "\u001b[0;31mAttributeError\u001b[0m: 'GridSearchCV' object has no attribute 'gsGaussianNB'"
     ]
    }
   ],
   "source": [
    "from sklearn.neighbors import KNeighborsClassifier\n",
    "\n",
    "VALID_SIZE = 0.20\n",
    "FOLDS = 10\n",
    "params = {\n",
    "    'n_neighbors':[3,5,7,9,11],\n",
    "    'metric':['minkowski','euclidean','manhattan']\n",
    "    \n",
    "    \n",
    "}\n",
    "KNN = KNeighborsClassifier()\n",
    "\n",
    "\n",
    "gsKNN,X_test,Y_test = modelTrain(KNN,params,X,Y,VALID_SIZE,FOLDS)\n"
   ]
  },
  {
   "cell_type": "code",
   "execution_count": 0,
   "metadata": {
    "colab": {
     "base_uri": "https://localhost:8080/",
     "height": 52
    },
    "colab_type": "code",
    "collapsed": false,
    "executionInfo": {
     "elapsed": 2629,
     "status": "ok",
     "timestamp": 1569642484068,
     "user": {
      "displayName": "JOSE ALBERTO ARANGO SÁNCHEZ",
      "photoUrl": "https://lh3.googleusercontent.com/a-/AAuE7mAlmJPVrjjJ4aUXppU8o-4tXg36OBTyqwn-TK-0HOk=s64",
      "userId": "16388542354054473882"
     },
     "user_tz": 300
    },
    "id": "BNS8dpO49o9D",
    "outputId": "bde64eef-5bed-4c5c-f48a-5fe4f1d6eb41"
   },
   "outputs": [
    {
     "name": "stdout",
     "output_type": "stream",
     "text": [
      "Best SCORE 0.8088333333333333\n",
      "Best ESTIMATOR {'metric': 'minkowski', 'n_neighbors': 11}\n"
     ]
    }
   ],
   "source": [
    "#Leer MODELO\n",
    "PATH_knn_MODEL = PATH+'Models/gsKNN.pkl'\n",
    "gsKNN = joblib.load(PATH_knn_MODEL)\n",
    "\n",
    "print(\"Best SCORE\",gsKNN.best_score_)\n",
    "print(\"Best ESTIMATOR\", gsKNN.best_params_)\n",
    "\n"
   ]
  },
  {
   "cell_type": "markdown",
   "metadata": {
    "colab_type": "text",
    "id": "_kTfWZai2hjs"
   },
   "source": [
    "### **Resultado Obtenidos**\n",
    "\n",
    "Recuerde que como parte de una correcta metodolog ́ıa de validacion se deben incluir, seg  ́ un sea el caso, medidas de sensibilidad, especificidad, eficiencia, matriz de confusion, error cuadratico medio, MAPE, coeficiente de determinacion, etc., Deben incluir intervalos de confianza para todas las medidas usadas."
   ]
  },
  {
   "cell_type": "code",
   "execution_count": 0,
   "metadata": {
    "colab": {
     "base_uri": "https://localhost:8080/",
     "height": 235
    },
    "colab_type": "code",
    "collapsed": false,
    "executionInfo": {
     "elapsed": 404,
     "status": "error",
     "timestamp": 1569642305226,
     "user": {
      "displayName": "JOSE ALBERTO ARANGO SÁNCHEZ",
      "photoUrl": "https://lh3.googleusercontent.com/a-/AAuE7mAlmJPVrjjJ4aUXppU8o-4tXg36OBTyqwn-TK-0HOk=s64",
      "userId": "16388542354054473882"
     },
     "user_tz": 300
    },
    "id": "e4QxYvgAzXUa",
    "outputId": "a08f3039-b14c-4261-ad6c-b478af73ce73"
   },
   "outputs": [
    {
     "ename": "NameError",
     "evalue": "ignored",
     "output_type": "error",
     "traceback": [
      "\u001b[0;31m---------------------------------------------------------------------------\u001b[0m",
      "\u001b[0;31mNameError\u001b[0m                                 Traceback (most recent call last)",
      "\u001b[0;32m<ipython-input-2-ee1f10b0a44a>\u001b[0m in \u001b[0;36m<module>\u001b[0;34m()\u001b[0m\n\u001b[0;32m----> 1\u001b[0;31m \u001b[0mPATHgsKNNMODEL\u001b[0m \u001b[0;34m=\u001b[0m \u001b[0mPATH\u001b[0m\u001b[0;34m+\u001b[0m\u001b[0;34m'Models/gsKNN.pkl'\u001b[0m\u001b[0;34m\u001b[0m\u001b[0;34m\u001b[0m\u001b[0m\n\u001b[0m\u001b[1;32m      2\u001b[0m \u001b[0mgsKNN\u001b[0m \u001b[0;34m=\u001b[0m \u001b[0mjoblib\u001b[0m\u001b[0;34m.\u001b[0m\u001b[0mload\u001b[0m\u001b[0;34m(\u001b[0m\u001b[0mPATHgsKNNMODEL\u001b[0m\u001b[0;34m)\u001b[0m\u001b[0;34m\u001b[0m\u001b[0;34m\u001b[0m\u001b[0m\n\u001b[1;32m      3\u001b[0m \u001b[0;34m\u001b[0m\u001b[0m\n\u001b[1;32m      4\u001b[0m \u001b[0;34m\u001b[0m\u001b[0m\n\u001b[1;32m      5\u001b[0m \u001b[0mmetrics\u001b[0m \u001b[0;34m=\u001b[0m \u001b[0mMetrics\u001b[0m\u001b[0;34m(\u001b[0m\u001b[0mgsKNN\u001b[0m\u001b[0;34m.\u001b[0m\u001b[0mbest_estimator_\u001b[0m\u001b[0;34m,\u001b[0m\u001b[0mX_test\u001b[0m\u001b[0;34m,\u001b[0m\u001b[0mY_test\u001b[0m\u001b[0;34m)\u001b[0m\u001b[0;34m\u001b[0m\u001b[0;34m\u001b[0m\u001b[0m\n",
      "\u001b[0;31mNameError\u001b[0m: name 'PATH' is not defined"
     ]
    }
   ],
   "source": [
    "PATHgsKNNMODEL = PATH+'Models/gsKNN.pkl'\n",
    "gsKNN = joblib.load(PATHgsKNNMODEL)\n",
    "\n",
    "\n",
    "metrics = Metrics(gsKNN.best_estimator_,X_test,Y_test)\n",
    "printMetrics(gsKNN)"
   ]
  },
  {
   "cell_type": "markdown",
   "metadata": {
    "colab_type": "text",
    "id": "Y9qFGtIk1Y4W"
   },
   "source": [
    "\n",
    "\n",
    "---\n",
    "\n",
    "\n"
   ]
  },
  {
   "cell_type": "markdown",
   "metadata": {
    "colab_type": "text",
    "id": "qTno4pUS0hLd"
   },
   "source": [
    "## **Redes Neuronales Artificiales**"
   ]
  },
  {
   "cell_type": "code",
   "execution_count": 0,
   "metadata": {
    "colab": {},
    "colab_type": "code",
    "collapsed": true,
    "id": "qF4d1ZA-0iUu"
   },
   "outputs": [],
   "source": []
  },
  {
   "cell_type": "markdown",
   "metadata": {
    "colab_type": "text",
    "id": "Nii3Xmzs2jD-"
   },
   "source": [
    "### **Resultado Obtenidos**\n",
    "\n",
    "Recuerde que como parte de una correcta metodolog ́ıa de validacion se deben incluir, seg  ́ un sea el caso, medidas de sensibilidad, especificidad, eficiencia, matriz de confusion, error cuadratico medio, MAPE, coeficiente de determinacion, etc., Deben incluir intervalos de confianza para todas las medidas usadas."
   ]
  },
  {
   "cell_type": "markdown",
   "metadata": {
    "colab_type": "text",
    "id": "Qb3czAHO1ySX"
   },
   "source": [
    "\n",
    "\n",
    " ---\n",
    "\n",
    "\n"
   ]
  },
  {
   "cell_type": "markdown",
   "metadata": {
    "colab_type": "text",
    "id": "C_OYTytC0p_V"
   },
   "source": [
    "## **Maquinas de Soporte Vectorial con kernel lineal y con kernel RBF.**"
   ]
  },
  {
   "cell_type": "code",
   "execution_count": 0,
   "metadata": {
    "colab": {},
    "colab_type": "code",
    "collapsed": true,
    "id": "iCkptLBK0rCn"
   },
   "outputs": [],
   "source": [
    "from sklearn.svm import SVC\n",
    "\n",
    "VALID_SIZE = 0.20\n",
    "FOLDS = 10\n",
    "\n",
    "Cs = [0.001, 0.01, 0.1, 1, 10]\n",
    "gammas = [0.001, 0.01, 0.1, 1]\n",
    "kernels = ['rbf','linear']\n",
    "\n",
    "params = {'C': Cs, 'gamma' : gammas,'kernel':kernels}\n",
    "svm = SVC()\n",
    "gsSVM = modelTrain(svm,params,X,Y,VALID_SIZE,FOLDS)\n",
    "\n",
    "print(\"Best SCORE\",gsSVM.best_score_)\n",
    "print(\"Best ESTIMATOR\", gsSVM.best_params_)\n",
    "\n",
    "\n",
    "\n",
    "#GUARDAR MODELO\n",
    "PATH_svm_MODEL = PATH+'Models/gsSVM.pkl'\n",
    "joblib.dump(gsSVM,PATH_svm_MODEL)\n"
   ]
  },
  {
   "cell_type": "markdown",
   "metadata": {
    "colab_type": "text",
    "id": "jBo7N_mE2lbh"
   },
   "source": [
    "### **Resultado Obtenidos**\n",
    "\n",
    "Recuerde que como parte de una correcta metodolog ́ıa de validacion se deben incluir, seg  ́ un sea el caso, medidas de sensibilidad, especificidad, eficiencia, matriz de confusion, error cuadratico medio, MAPE, coeficiente de determinacion, etc., Deben incluir intervalos de confianza para todas las medidas usadas."
   ]
  },
  {
   "cell_type": "markdown",
   "metadata": {
    "colab_type": "text",
    "id": "u4hBzRHP1zJ2"
   },
   "source": [
    "\n",
    "\n",
    " ---\n",
    "\n",
    "\n"
   ]
  },
  {
   "cell_type": "code",
   "execution_count": 0,
   "metadata": {
    "colab": {
     "base_uri": "https://localhost:8080/",
     "height": 50
    },
    "colab_type": "code",
    "collapsed": false,
    "executionInfo": {
     "elapsed": 762,
     "status": "ok",
     "timestamp": 1570244986388,
     "user": {
      "displayName": "JOSE ALBERTO ARANGO SÁNCHEZ",
      "photoUrl": "https://lh3.googleusercontent.com/a-/AAuE7mAlmJPVrjjJ4aUXppU8o-4tXg36OBTyqwn-TK-0HOk=s64",
      "userId": "16388542354054473882"
     },
     "user_tz": 300
    },
    "id": "LARd9gqZ2hgX",
    "outputId": "757cb30b-b89a-40a5-9475-8ad870e4f9bd"
   },
   "outputs": [
    {
     "name": "stdout",
     "output_type": "stream",
     "text": [
      "Best SCORE 0.8188333333333333\n",
      "Best ESTIMATOR {'C': 1, 'gamma': 0.1, 'kernel': 'rbf'}\n"
     ]
    }
   ],
   "source": [
    "PATHMODEL = PATH+'Models/gsSVM_CSFull_rbf2y3.pkl'\n",
    "gsMODEL= joblib.load(PATHMODEL)\n",
    "\n",
    "print(\"Best SCORE\",gsMODEL.best_score_)\n",
    "print(\"Best ESTIMATOR\", gsMODEL.best_params_)\n",
    "\n",
    "#metrics = Metrics(gsMODEL.best_estimator_,X_test,Y_test)\n",
    "#printMetrics(gsMODEL)"
   ]
  },
  {
   "cell_type": "markdown",
   "metadata": {
    "colab_type": "text",
    "id": "1F1ra0pzpnFj"
   },
   "source": [
    "# **Realice un analisis individual de cada una de las caracteristicas**"
   ]
  },
  {
   "cell_type": "markdown",
   "metadata": {
    "colab_type": "text",
    "id": "QUnU86Spp3P6"
   },
   "source": [
    "Realice un analisis individual de cada una de las caracteristicas a partir de medidas de correlacion y del indice de Fisher (segun sea el caso). Identifique de acuerdo con este analisis, ¿cu  ́ ales son las caracter  ́  ́ısticas candidatas a ser eliminadas?"
   ]
  },
  {
   "cell_type": "markdown",
   "metadata": {
    "colab_type": "text",
    "id": "2zej1X8_1GUl"
   },
   "source": [
    "\n",
    "\n",
    "1. RandomForestClassifier \n",
    "\n",
    "\n",
    "Best SCORE 0.8196666666666667\n",
    "Best ESTIMATOR {'criterion': 'entropy', 'max_depth': 8, 'max_features': 5, 'n_estimators': 50}\n",
    "\n",
    "\n",
    "2. Redes Neuronales Artificiales\n",
    "\n",
    "Best SCORE 0.8197083333333334\n",
    "Best ESTIMATOR {'activation': 'logistic', 'alpha': 0.01, 'hidden_layer_sizes': 72, 'max_iter': 300, 'solver': 'adam'}\n",
    "\n",
    "3. Maquinas de Soporte Vectorial \n",
    "\n",
    "Best SCORE 0.8188333333333333\n",
    "Best ESTIMATOR {'C': 1, 'gamma': 0.1, 'kernel': 'rbf'}\n",
    "\n",
    "\n",
    "\n"
   ]
  },
  {
   "cell_type": "markdown",
   "metadata": {
    "colab_type": "text",
    "id": "PeHy24ue8uaL"
   },
   "source": [
    "### RandomForestClassifier"
   ]
  },
  {
   "cell_type": "code",
   "execution_count": 0,
   "metadata": {
    "colab": {},
    "colab_type": "code",
    "collapsed": true,
    "id": "9BNMgENz8TM6"
   },
   "outputs": [],
   "source": [
    "PATHMODEL = PATH+'Models/gsRDF.pkl'\n",
    "gsMODEL= joblib.load(PATHMODEL)\n",
    "\n",
    "print(\"Best SCORE\",gsMODEL.best_score_)\n",
    "print(\"Best ESTIMATOR\", gsMODEL.best_params_)\n",
    "\n",
    "#print('Results', gsMODEL.cv_results_)\n",
    "\n",
    "#metrics = Metrics(gsMODEL.best_estimator_,X_test,Y_test)\n",
    "#printMetrics(gsMODEL)"
   ]
  },
  {
   "cell_type": "markdown",
   "metadata": {
    "colab_type": "text",
    "id": "kq9OjmX-rZoX"
   },
   "source": [
    "## Selección de características"
   ]
  },
  {
   "cell_type": "markdown",
   "metadata": {
    "colab_type": "text",
    "id": "i-J3d030rJ63"
   },
   "source": [
    "**Realice seleccion de características por el metodo de busqueda secuencial ascendente o descendente y eval  ́ ue ́\n",
    "nuevamente en los 3 mejores modelos evaluados. Para\n",
    "realizar este punto cada grupo debe decidir la funcion ́\n",
    "criterio a usar, justificando su decision. Incluya una tabla  ́\n",
    "con los resultados, indicando el porcentaje de reduccion ́\n",
    "alcanzado y las demas medidas de desempe  ́ no. Recuerde  ̃\n",
    "incluir en el informe cual fue el criterio de selecci  ́ on ́\n",
    "usado y porque. ́**"
   ]
  },
  {
   "cell_type": "code",
   "execution_count": 26,
   "metadata": {
    "colab": {},
    "colab_type": "code",
    "collapsed": true,
    "id": "n-iv-xF4k_Vf"
   },
   "outputs": [],
   "source": [
    "from sklearn.model_selection import train_test_split\n",
    "VALID_SIZE = 0.20\n",
    "X, X_test, Y, y_test = train_test_split(X,Y, test_size=VALID_SIZE, shuffle=True )"
   ]
  },
  {
   "cell_type": "code",
   "execution_count": 27,
   "metadata": {
    "colab": {},
    "colab_type": "code",
    "collapsed": true,
    "id": "8wdye5WWrXj5"
   },
   "outputs": [],
   "source": [
    "#!pip install mlxtend\n",
    "def classification_error(y_est, y_real):\n",
    "    err = 0\n",
    "    for y_e, y_r in zip(y_est, y_real):\n",
    "\n",
    "        if y_e != y_r:\n",
    "            err += 1\n",
    "\n",
    "    return err/np.size(y_est)"
   ]
  },
  {
   "cell_type": "code",
   "execution_count": 28,
   "metadata": {
    "colab": {},
    "colab_type": "code",
    "collapsed": true,
    "id": "tiw7JPvlvHBg"
   },
   "outputs": [],
   "source": [
    "from mlxtend.feature_selection import SequentialFeatureSelector as SFS\n",
    "import time\n",
    "def select_features(modelo, n_features, fwd, fltg):\n",
    "   \n",
    "#sfs  -> forward=True,   floating=False \n",
    "#sbs  -> forward=False,   floating=False \n",
    "#sffs -> forward=True,   floating=True\n",
    "#sbfs -> forward=False,   floating=True\n",
    "\n",
    "    sfs = SFS(modelo, \n",
    "           k_features=n_features, \n",
    "           forward=fwd,\n",
    "           floating=fltg,\n",
    "           verbose=1,\n",
    "           scoring='accuracy',\n",
    "           cv=0,\n",
    "           n_jobs=-1)    \n",
    "    return sfs"
   ]
  },
  {
   "cell_type": "code",
   "execution_count": 29,
   "metadata": {
    "colab": {},
    "colab_type": "code",
    "collapsed": true,
    "id": "NRCEwlWLszuz"
   },
   "outputs": [],
   "source": [
    "def implementationSelectionFeatures(model,n_features,forward,floating):\n",
    "    #Para calcular el costo computacional\n",
    "    tiempo_i = time.time()  \n",
    "    Errores = np.ones(10)\n",
    "    j = 0\n",
    "    FOLDS = 10\n",
    "    skf = StratifiedKFold(n_splits=FOLDS)\n",
    "    \n",
    "    for train_index, test_index in skf.split(X, Y):\n",
    "        X_train, X_test = X.values[train_index], X.values[test_index]\n",
    "        y_train, y_test = Y.values[train_index], Y.values[test_index]  \n",
    "        \n",
    "        sf = select_features(model, n_features, forward, floating) \n",
    "\n",
    "        sf.fit(X_train, y_train)#Complete el código aquí\n",
    "\n",
    "        Errores[j] = 1-sf.k_score_\n",
    "\n",
    "        j+=1\n",
    "\n",
    "    print(\"\\nError de validación aplicando SFS: \" + str(np.mean(Errores)) + \" +/- \" + str(np.std(Errores)))\n",
    "\n",
    "    print(\"\\nEficiencia en validación aplicando SFS: \" + str(sf.k_score_*100) + \"%\" )\n",
    "\n",
    "    print (\"\\n\\nTiempo total de ejecución: \" + str(time.time()-tiempo_i) + \" segundos.\")\n",
    "\n",
    "    tiempo = time.time()-tiempo_i\n",
    "        \n",
    "    return np.mean(Errores),np.std(Errores),tiempo,sf.k_feature_idx_\n",
    "        #print str(ypred)\n",
    "        #print str(y_test)  \n"
   ]
  },
  {
   "cell_type": "code",
   "execution_count": 30,
   "metadata": {
    "colab": {},
    "colab_type": "code",
    "collapsed": true,
    "id": "PixidUaZgi35"
   },
   "outputs": [],
   "source": [
    "from sklearn.ensemble import RandomForestClassifier\n",
    "from sklearn.svm import SVC\n",
    "from sklearn.neural_network import MLPClassifier\n",
    "\n",
    "def getModel(nameModel):\n",
    "  model = ''  \n",
    "  if nameModel == 'RDF':\n",
    "    model = RandomForestClassifier(criterion = 'entropy', max_depth= 8, max_features= 0.21, n_estimators= 50)\n",
    "    \n",
    "  if nameModel == 'RNA':    \n",
    "    model = MLPClassifier(activation = 'logistic', alpha = 0.01, hidden_layer_sizes = 72, max_iter = 300, solver = 'adam')\n",
    "    \n",
    "  if nameModel == 'SVM':\n",
    "    model = SVC(C =  1, gamma = 0.1, kernel ='rbf')    \n",
    "  return model"
   ]
  },
  {
   "cell_type": "code",
   "execution_count": 0,
   "metadata": {
    "colab": {},
    "colab_type": "code",
    "collapsed": true,
    "id": "XLDLeBTmJXTK"
   },
   "outputs": [],
   "source": [
    "#! pip install qgrid\n",
    "df_types = pd.DataFrame({\n",
    "    'Modelo' : pd.Series(['RDF']*4),\n",
    "    '# de características seleccionadas' : pd.Series([2,3]*2),\n",
    "    'Fordward':pd.Series([True]*2+[False]*2)\n",
    "\n",
    "   })\n",
    "\n",
    "df_types"
   ]
  },
  {
   "cell_type": "markdown",
   "metadata": {
    "colab_type": "text",
    "id": "hahrL47VjQBe"
   },
   "source": [
    "# RDF FordWard True"
   ]
  },
  {
   "cell_type": "code",
   "execution_count": null,
   "metadata": {
    "colab": {
     "base_uri": "https://localhost:8080/",
     "height": 1000
    },
    "colab_type": "code",
    "collapsed": false,
    "executionInfo": {
     "elapsed": 11300502,
     "status": "ok",
     "timestamp": 1570331342704,
     "user": {
      "displayName": "JOSE ALBERTO ARANGO SÁNCHEZ",
      "photoUrl": "https://lh3.googleusercontent.com/a-/AAuE7mAlmJPVrjjJ4aUXppU8o-4tXg36OBTyqwn-TK-0HOk=s64",
      "userId": "16388542354054473882"
     },
     "user_tz": 300
    },
    "id": "HmTnIIAbZTzN",
    "outputId": "89ade54b-17b9-4475-f3ef-f538e7e879b1"
   },
   "outputs": [
    {
     "name": "stderr",
     "output_type": "stream",
     "text": [
      "[Parallel(n_jobs=-1)]: Using backend LokyBackend with 96 concurrent workers.\n",
      "[Parallel(n_jobs=-1)]: Done  23 out of  23 | elapsed:  1.2min finished\n",
      "Features: 1/2[Parallel(n_jobs=-1)]: Using backend LokyBackend with 96 concurrent workers.\n",
      "[Parallel(n_jobs=-1)]: Done  15 out of  22 | elapsed:  2.6min remaining:  1.2min\n",
      "[Parallel(n_jobs=-1)]: Done  22 out of  22 | elapsed:  2.7min finished\n",
      "Features: 2/2[Parallel(n_jobs=-1)]: Using backend LokyBackend with 96 concurrent workers.\n",
      "[Parallel(n_jobs=-1)]: Done  23 out of  23 | elapsed:  1.1min finished\n",
      "Features: 1/2[Parallel(n_jobs=-1)]: Using backend LokyBackend with 96 concurrent workers.\n",
      "[Parallel(n_jobs=-1)]: Done  15 out of  22 | elapsed:  2.5min remaining:  1.2min\n",
      "[Parallel(n_jobs=-1)]: Done  22 out of  22 | elapsed:  2.7min finished\n",
      "Features: 2/2[Parallel(n_jobs=-1)]: Using backend LokyBackend with 96 concurrent workers.\n",
      "[Parallel(n_jobs=-1)]: Done  23 out of  23 | elapsed:  1.2min finished\n",
      "Features: 1/2[Parallel(n_jobs=-1)]: Using backend LokyBackend with 96 concurrent workers.\n",
      "[Parallel(n_jobs=-1)]: Done  15 out of  22 | elapsed:  2.5min remaining:  1.2min\n",
      "[Parallel(n_jobs=-1)]: Done  22 out of  22 | elapsed:  2.7min finished\n",
      "Features: 2/2[Parallel(n_jobs=-1)]: Using backend LokyBackend with 96 concurrent workers.\n",
      "[Parallel(n_jobs=-1)]: Done  23 out of  23 | elapsed:   51.3s finished\n",
      "Features: 1/2[Parallel(n_jobs=-1)]: Using backend LokyBackend with 96 concurrent workers.\n",
      "[Parallel(n_jobs=-1)]: Done  15 out of  22 | elapsed:  2.5min remaining:  1.2min\n",
      "[Parallel(n_jobs=-1)]: Done  22 out of  22 | elapsed:  2.7min finished\n",
      "Features: 2/2[Parallel(n_jobs=-1)]: Using backend LokyBackend with 96 concurrent workers.\n",
      "[Parallel(n_jobs=-1)]: Done  23 out of  23 | elapsed:  1.1min finished\n",
      "Features: 1/2[Parallel(n_jobs=-1)]: Using backend LokyBackend with 96 concurrent workers.\n",
      "[Parallel(n_jobs=-1)]: Done  15 out of  22 | elapsed:  2.5min remaining:  1.2min\n",
      "[Parallel(n_jobs=-1)]: Done  22 out of  22 | elapsed:  2.6min finished\n",
      "Features: 2/2[Parallel(n_jobs=-1)]: Using backend LokyBackend with 96 concurrent workers.\n",
      "[Parallel(n_jobs=-1)]: Done  23 out of  23 | elapsed:   53.6s finished\n",
      "Features: 1/2[Parallel(n_jobs=-1)]: Using backend LokyBackend with 96 concurrent workers.\n",
      "[Parallel(n_jobs=-1)]: Done  15 out of  22 | elapsed:  2.5min remaining:  1.2min\n",
      "[Parallel(n_jobs=-1)]: Done  22 out of  22 | elapsed:  2.6min finished\n",
      "Features: 2/2[Parallel(n_jobs=-1)]: Using backend LokyBackend with 96 concurrent workers.\n",
      "[Parallel(n_jobs=-1)]: Done  23 out of  23 | elapsed:  1.0min finished\n",
      "Features: 1/2[Parallel(n_jobs=-1)]: Using backend LokyBackend with 96 concurrent workers.\n",
      "[Parallel(n_jobs=-1)]: Done  15 out of  22 | elapsed:  2.4min remaining:  1.1min\n",
      "[Parallel(n_jobs=-1)]: Done  22 out of  22 | elapsed:  2.6min finished\n",
      "Features: 2/2[Parallel(n_jobs=-1)]: Using backend LokyBackend with 96 concurrent workers.\n",
      "[Parallel(n_jobs=-1)]: Done  23 out of  23 | elapsed:   57.7s finished\n",
      "Features: 1/2[Parallel(n_jobs=-1)]: Using backend LokyBackend with 96 concurrent workers.\n",
      "[Parallel(n_jobs=-1)]: Done  15 out of  22 | elapsed:  2.6min remaining:  1.2min\n",
      "[Parallel(n_jobs=-1)]: Done  22 out of  22 | elapsed:  2.7min finished\n",
      "Features: 2/2[Parallel(n_jobs=-1)]: Using backend LokyBackend with 96 concurrent workers.\n",
      "[Parallel(n_jobs=-1)]: Done  23 out of  23 | elapsed:  1.1min finished\n",
      "Features: 1/2[Parallel(n_jobs=-1)]: Using backend LokyBackend with 96 concurrent workers.\n",
      "[Parallel(n_jobs=-1)]: Done  15 out of  22 | elapsed:  3.5min remaining:  1.6min\n",
      "[Parallel(n_jobs=-1)]: Done  22 out of  22 | elapsed:  3.7min finished\n",
      "Features: 2/2[Parallel(n_jobs=-1)]: Using backend LokyBackend with 96 concurrent workers.\n",
      "[Parallel(n_jobs=-1)]: Done  23 out of  23 | elapsed:  1.1min finished\n",
      "Features: 1/2[Parallel(n_jobs=-1)]: Using backend LokyBackend with 96 concurrent workers.\n",
      "[Parallel(n_jobs=-1)]: Done  15 out of  22 | elapsed:  3.4min remaining:  1.6min\n",
      "[Parallel(n_jobs=-1)]: Done  22 out of  22 | elapsed:  3.5min finished\n",
      "Features: 2/2[Parallel(n_jobs=-1)]: Using backend LokyBackend with 96 concurrent workers.\n"
     ]
    },
    {
     "name": "stdout",
     "output_type": "stream",
     "text": [
      "\n",
      "Error de validación aplicando SFS: 0.18005093358199137 +/- 0.0005639023913690484\n",
      "\n",
      "Eficiencia en validación aplicando SFS: 81.9730568029258%\n",
      "\n",
      "\n",
      "Tiempo total de ejecución: 2339.163477420807 segundos.\n",
      "N-FEATURES:  2\n",
      "Indices  (5, 6)\n"
     ]
    },
    {
     "name": "stderr",
     "output_type": "stream",
     "text": [
      "[Parallel(n_jobs=-1)]: Done  23 out of  23 | elapsed:  1.1min finished\n",
      "Features: 1/3[Parallel(n_jobs=-1)]: Using backend LokyBackend with 96 concurrent workers.\n",
      "[Parallel(n_jobs=-1)]: Done  15 out of  22 | elapsed:  2.6min remaining:  1.2min\n",
      "[Parallel(n_jobs=-1)]: Done  22 out of  22 | elapsed:  2.7min finished\n",
      "Features: 2/3[Parallel(n_jobs=-1)]: Using backend LokyBackend with 96 concurrent workers.\n",
      "[Parallel(n_jobs=-1)]: Done   6 out of  21 | elapsed:  2.7min remaining:  6.7min\n",
      "[Parallel(n_jobs=-1)]: Done  21 out of  21 | elapsed:  3.1min finished\n",
      "Features: 3/3[Parallel(n_jobs=-1)]: Using backend LokyBackend with 96 concurrent workers.\n",
      "[Parallel(n_jobs=-1)]: Done  23 out of  23 | elapsed:  1.0min finished\n",
      "Features: 1/3[Parallel(n_jobs=-1)]: Using backend LokyBackend with 96 concurrent workers.\n",
      "[Parallel(n_jobs=-1)]: Done  15 out of  22 | elapsed:  2.5min remaining:  1.2min\n",
      "[Parallel(n_jobs=-1)]: Done  22 out of  22 | elapsed:  2.8min finished\n",
      "Features: 2/3[Parallel(n_jobs=-1)]: Using backend LokyBackend with 96 concurrent workers.\n",
      "[Parallel(n_jobs=-1)]: Done   6 out of  21 | elapsed:  2.5min remaining:  6.2min\n",
      "[Parallel(n_jobs=-1)]: Done  21 out of  21 | elapsed:  3.1min finished\n",
      "Features: 3/3[Parallel(n_jobs=-1)]: Using backend LokyBackend with 96 concurrent workers.\n",
      "[Parallel(n_jobs=-1)]: Done  23 out of  23 | elapsed:  1.0min finished\n",
      "Features: 1/3[Parallel(n_jobs=-1)]: Using backend LokyBackend with 96 concurrent workers.\n",
      "[Parallel(n_jobs=-1)]: Done  15 out of  22 | elapsed:  2.4min remaining:  1.1min\n",
      "[Parallel(n_jobs=-1)]: Done  22 out of  22 | elapsed:  2.6min finished\n",
      "Features: 2/3[Parallel(n_jobs=-1)]: Using backend LokyBackend with 96 concurrent workers.\n",
      "[Parallel(n_jobs=-1)]: Done   6 out of  21 | elapsed:  2.5min remaining:  6.2min\n",
      "[Parallel(n_jobs=-1)]: Done  21 out of  21 | elapsed:  3.0min finished\n",
      "Features: 3/3[Parallel(n_jobs=-1)]: Using backend LokyBackend with 96 concurrent workers.\n",
      "[Parallel(n_jobs=-1)]: Done  23 out of  23 | elapsed:  1.2min finished\n",
      "Features: 1/3[Parallel(n_jobs=-1)]: Using backend LokyBackend with 96 concurrent workers.\n",
      "[Parallel(n_jobs=-1)]: Done  15 out of  22 | elapsed:  2.5min remaining:  1.2min\n",
      "[Parallel(n_jobs=-1)]: Done  22 out of  22 | elapsed:  2.7min finished\n",
      "Features: 2/3[Parallel(n_jobs=-1)]: Using backend LokyBackend with 96 concurrent workers.\n",
      "[Parallel(n_jobs=-1)]: Done   6 out of  21 | elapsed:  2.6min remaining:  6.6min\n",
      "[Parallel(n_jobs=-1)]: Done  21 out of  21 | elapsed:  3.1min finished\n",
      "Features: 3/3[Parallel(n_jobs=-1)]: Using backend LokyBackend with 96 concurrent workers.\n",
      "[Parallel(n_jobs=-1)]: Done  23 out of  23 | elapsed:  1.0min finished\n",
      "Features: 1/3[Parallel(n_jobs=-1)]: Using backend LokyBackend with 96 concurrent workers.\n",
      "[Parallel(n_jobs=-1)]: Done  15 out of  22 | elapsed:  2.5min remaining:  1.2min\n",
      "[Parallel(n_jobs=-1)]: Done  22 out of  22 | elapsed:  2.6min finished\n",
      "Features: 2/3[Parallel(n_jobs=-1)]: Using backend LokyBackend with 96 concurrent workers.\n",
      "[Parallel(n_jobs=-1)]: Done   6 out of  21 | elapsed:  3.0min remaining:  7.6min\n",
      "[Parallel(n_jobs=-1)]: Done  21 out of  21 | elapsed:  3.4min finished\n",
      "Features: 3/3[Parallel(n_jobs=-1)]: Using backend LokyBackend with 96 concurrent workers.\n",
      "[Parallel(n_jobs=-1)]: Done  23 out of  23 | elapsed:   58.5s finished\n",
      "Features: 1/3[Parallel(n_jobs=-1)]: Using backend LokyBackend with 96 concurrent workers.\n",
      "[Parallel(n_jobs=-1)]: Done  15 out of  22 | elapsed:  2.6min remaining:  1.2min\n",
      "[Parallel(n_jobs=-1)]: Done  22 out of  22 | elapsed:  2.8min finished\n",
      "Features: 2/3[Parallel(n_jobs=-1)]: Using backend LokyBackend with 96 concurrent workers.\n",
      "[Parallel(n_jobs=-1)]: Done   6 out of  21 | elapsed:  2.8min remaining:  7.0min\n",
      "[Parallel(n_jobs=-1)]: Done  21 out of  21 | elapsed:  3.2min finished\n",
      "Features: 3/3[Parallel(n_jobs=-1)]: Using backend LokyBackend with 96 concurrent workers.\n",
      "[Parallel(n_jobs=-1)]: Done  23 out of  23 | elapsed:   56.5s finished\n",
      "Features: 1/3[Parallel(n_jobs=-1)]: Using backend LokyBackend with 96 concurrent workers.\n",
      "[Parallel(n_jobs=-1)]: Done  15 out of  22 | elapsed:  2.5min remaining:  1.2min\n",
      "[Parallel(n_jobs=-1)]: Done  22 out of  22 | elapsed:  2.7min finished\n",
      "Features: 2/3[Parallel(n_jobs=-1)]: Using backend LokyBackend with 96 concurrent workers.\n",
      "[Parallel(n_jobs=-1)]: Done   6 out of  21 | elapsed:  2.5min remaining:  6.3min\n",
      "[Parallel(n_jobs=-1)]: Done  21 out of  21 | elapsed:  3.0min finished\n",
      "Features: 3/3[Parallel(n_jobs=-1)]: Using backend LokyBackend with 96 concurrent workers.\n",
      "[Parallel(n_jobs=-1)]: Done  23 out of  23 | elapsed:  1.1min finished\n",
      "Features: 1/3[Parallel(n_jobs=-1)]: Using backend LokyBackend with 96 concurrent workers.\n",
      "[Parallel(n_jobs=-1)]: Done  15 out of  22 | elapsed:  2.5min remaining:  1.2min\n",
      "[Parallel(n_jobs=-1)]: Done  22 out of  22 | elapsed:  2.6min finished\n",
      "Features: 2/3[Parallel(n_jobs=-1)]: Using backend LokyBackend with 96 concurrent workers.\n",
      "[Parallel(n_jobs=-1)]: Done   6 out of  21 | elapsed:  3.1min remaining:  7.7min\n",
      "[Parallel(n_jobs=-1)]: Done  21 out of  21 | elapsed:  3.4min finished\n",
      "Features: 3/3[Parallel(n_jobs=-1)]: Using backend LokyBackend with 96 concurrent workers.\n",
      "[Parallel(n_jobs=-1)]: Done  23 out of  23 | elapsed:  1.0min finished\n",
      "Features: 1/3[Parallel(n_jobs=-1)]: Using backend LokyBackend with 96 concurrent workers.\n",
      "[Parallel(n_jobs=-1)]: Done  15 out of  22 | elapsed:  3.4min remaining:  1.6min\n",
      "[Parallel(n_jobs=-1)]: Done  22 out of  22 | elapsed:  3.7min finished\n",
      "Features: 2/3[Parallel(n_jobs=-1)]: Using backend LokyBackend with 96 concurrent workers.\n",
      "[Parallel(n_jobs=-1)]: Done   6 out of  21 | elapsed:  3.1min remaining:  7.7min\n",
      "[Parallel(n_jobs=-1)]: Done  21 out of  21 | elapsed:  3.9min finished\n",
      "Features: 3/3[Parallel(n_jobs=-1)]: Using backend LokyBackend with 96 concurrent workers.\n",
      "[Parallel(n_jobs=-1)]: Done  23 out of  23 | elapsed:  1.2min finished\n",
      "Features: 1/3[Parallel(n_jobs=-1)]: Using backend LokyBackend with 96 concurrent workers.\n",
      "[Parallel(n_jobs=-1)]: Done  15 out of  22 | elapsed:  3.5min remaining:  1.6min\n",
      "[Parallel(n_jobs=-1)]: Done  22 out of  22 | elapsed:  3.8min finished\n",
      "Features: 2/3[Parallel(n_jobs=-1)]: Using backend LokyBackend with 96 concurrent workers.\n",
      "[Parallel(n_jobs=-1)]: Done   6 out of  21 | elapsed:  4.4min remaining: 11.0min\n",
      "[Parallel(n_jobs=-1)]: Done  21 out of  21 | elapsed:  4.8min finished\n",
      "Features: 3/3"
     ]
    },
    {
     "name": "stdout",
     "output_type": "stream",
     "text": [
      "\n",
      "Error de validación aplicando SFS: 0.17935648549341038 +/- 0.0006088325907603029\n",
      "\n",
      "Eficiencia en validación aplicando SFS: 81.98231563353548%\n",
      "\n",
      "\n",
      "Tiempo total de ejecución: 4410.043001651764 segundos.\n",
      "N-FEATURES:  3\n",
      "Indices  (5, 6, 9)\n"
     ]
    },
    {
     "name": "stderr",
     "output_type": "stream",
     "text": [
      "[Parallel(n_jobs=-1)]: Using backend LokyBackend with 96 concurrent workers.\n",
      "[Parallel(n_jobs=-1)]: Done  23 out of  23 | elapsed:  7.7min finished\n",
      "Features: 22/2[Parallel(n_jobs=-1)]: Using backend LokyBackend with 96 concurrent workers.\n",
      "[Parallel(n_jobs=-1)]: Done  15 out of  22 | elapsed:  5.8min remaining:  2.7min\n",
      "[Parallel(n_jobs=-1)]: Done  22 out of  22 | elapsed:  6.2min finished\n",
      "Features: 21/2[Parallel(n_jobs=-1)]: Using backend LokyBackend with 96 concurrent workers.\n",
      "[Parallel(n_jobs=-1)]: Done   6 out of  21 | elapsed:  5.7min remaining: 14.2min\n",
      "[Parallel(n_jobs=-1)]: Done  21 out of  21 | elapsed:  6.4min finished\n",
      "Features: 20/2[Parallel(n_jobs=-1)]: Using backend LokyBackend with 96 concurrent workers.\n",
      "[Parallel(n_jobs=-1)]: Done  18 out of  20 | elapsed:  5.7min remaining:   38.0s\n",
      "[Parallel(n_jobs=-1)]: Done  20 out of  20 | elapsed:  5.8min finished\n",
      "Features: 19/2[Parallel(n_jobs=-1)]: Using backend LokyBackend with 96 concurrent workers.\n",
      "[Parallel(n_jobs=-1)]: Done   8 out of  19 | elapsed:  4.8min remaining:  6.7min\n",
      "[Parallel(n_jobs=-1)]: Done  19 out of  19 | elapsed:  5.3min finished\n",
      "Features: 18/2[Parallel(n_jobs=-1)]: Using backend LokyBackend with 96 concurrent workers.\n",
      "[Parallel(n_jobs=-1)]: Done  18 out of  18 | elapsed:  5.2min finished\n",
      "Features: 17/2[Parallel(n_jobs=-1)]: Using backend LokyBackend with 96 concurrent workers.\n",
      "[Parallel(n_jobs=-1)]: Done   6 out of  17 | elapsed:  4.1min remaining:  7.6min\n",
      "[Parallel(n_jobs=-1)]: Done  17 out of  17 | elapsed:  4.8min finished\n",
      "Features: 16/2[Parallel(n_jobs=-1)]: Using backend LokyBackend with 96 concurrent workers.\n",
      "[Parallel(n_jobs=-1)]: Done  12 out of  16 | elapsed:  4.1min remaining:  1.4min\n",
      "[Parallel(n_jobs=-1)]: Done  16 out of  16 | elapsed:  4.3min finished\n",
      "Features: 15/2[Parallel(n_jobs=-1)]: Using backend LokyBackend with 96 concurrent workers.\n",
      "[Parallel(n_jobs=-1)]: Done  15 out of  15 | elapsed:  3.4min finished\n",
      "Features: 14/2[Parallel(n_jobs=-1)]: Using backend LokyBackend with 96 concurrent workers.\n",
      "[Parallel(n_jobs=-1)]: Done   3 out of  14 | elapsed:  2.5min remaining:  9.3min\n",
      "[Parallel(n_jobs=-1)]: Done  14 out of  14 | elapsed:  2.9min finished\n",
      "Features: 13/2[Parallel(n_jobs=-1)]: Using backend LokyBackend with 96 concurrent workers.\n",
      "[Parallel(n_jobs=-1)]: Done   4 out of  13 | elapsed:  2.7min remaining:  6.0min\n",
      "[Parallel(n_jobs=-1)]: Done  13 out of  13 | elapsed:  2.8min finished\n",
      "Features: 12/2[Parallel(n_jobs=-1)]: Using backend LokyBackend with 96 concurrent workers.\n",
      "[Parallel(n_jobs=-1)]: Done   3 out of  12 | elapsed:  2.4min remaining:  7.1min\n",
      "[Parallel(n_jobs=-1)]: Done  12 out of  12 | elapsed:  2.5min finished\n",
      "Features: 11/2[Parallel(n_jobs=-1)]: Using backend LokyBackend with 96 concurrent workers.\n",
      "[Parallel(n_jobs=-1)]: Done  11 out of  11 | elapsed:  2.5min finished\n",
      "Features: 10/2[Parallel(n_jobs=-1)]: Using backend LokyBackend with 96 concurrent workers.\n",
      "[Parallel(n_jobs=-1)]: Done   6 out of  10 | elapsed:  1.9min remaining:  1.3min\n",
      "[Parallel(n_jobs=-1)]: Done  10 out of  10 | elapsed:  2.1min finished\n",
      "Features: 9/2[Parallel(n_jobs=-1)]: Using backend LokyBackend with 96 concurrent workers.\n",
      "[Parallel(n_jobs=-1)]: Done   9 out of   9 | elapsed:  1.5min finished\n",
      "Features: 8/2[Parallel(n_jobs=-1)]: Using backend LokyBackend with 96 concurrent workers.\n",
      "[Parallel(n_jobs=-1)]: Done   6 out of   8 | elapsed:  1.3min remaining:   26.9s\n",
      "[Parallel(n_jobs=-1)]: Done   8 out of   8 | elapsed:  1.4min finished\n",
      "Features: 7/2[Parallel(n_jobs=-1)]: Using backend LokyBackend with 96 concurrent workers.\n",
      "[Parallel(n_jobs=-1)]: Done   7 out of   7 | elapsed:  1.1min finished\n",
      "Features: 6/2[Parallel(n_jobs=-1)]: Using backend LokyBackend with 96 concurrent workers.\n",
      "[Parallel(n_jobs=-1)]: Done   4 out of   6 | elapsed:   57.7s remaining:   28.8s\n",
      "[Parallel(n_jobs=-1)]: Done   6 out of   6 | elapsed:  1.0min finished\n",
      "Features: 5/2[Parallel(n_jobs=-1)]: Using backend LokyBackend with 96 concurrent workers.\n",
      "[Parallel(n_jobs=-1)]: Done   5 out of   5 | elapsed:   58.8s finished\n",
      "Features: 4/2[Parallel(n_jobs=-1)]: Using backend LokyBackend with 96 concurrent workers.\n",
      "[Parallel(n_jobs=-1)]: Done   4 out of   4 | elapsed:   34.8s finished\n",
      "Features: 3/2[Parallel(n_jobs=-1)]: Using backend LokyBackend with 96 concurrent workers.\n",
      "[Parallel(n_jobs=-1)]: Done   3 out of   3 | elapsed:   27.7s finished\n",
      "Features: 2/2[Parallel(n_jobs=-1)]: Using backend LokyBackend with 96 concurrent workers.\n"
     ]
    }
   ],
   "source": [
    "erroresA = []\n",
    "stdsA  = []\n",
    "tiemposA = []\n",
    "k_feature_idx_A = []\n",
    "\n",
    "\n",
    "import pandas as pd\n",
    "#import qgrid\n",
    "df_types = pd.DataFrame({\n",
    "    'Modelo' : pd.Series(['RNA']*4),\n",
    "    '# de características seleccionadas' : pd.Series([2,3]*2),\n",
    "    'Fordward':pd.Series([True]*2+[False]*2)\n",
    "\n",
    "   })\n",
    "df_types.set_index(['Modelo','# de características seleccionadas','Fordward'], inplace=True)\n",
    "\n",
    "for i in df_types.index:  \n",
    "  \n",
    "  \n",
    "  model = getModel(str(i[0]))\n",
    "  tiempos,errores,stds,k_feature_idx_ = implementationSelectionFeatures(model,int(i[1]),i[2],False)\n",
    "  \n",
    "  erroresA.append(errores)\n",
    "  stdsA.append(stds)\n",
    "  tiemposA.append(tiempos)\n",
    "  k_feature_idx_A.append(k_feature_idx_)\n",
    "  \n",
    "  \n",
    "  \n",
    "  print('N-FEATURES: ', str(i[1]))\n",
    "  print(\"Indices \",k_feature_idx_)\n",
    "  \n",
    "df_types[\"Error de validación\"] = \"\"\n",
    "df_types[\"IC(std)\"] = \"\"\n",
    "df_types[\"Tiempo de ejecución\"] = \"\"  \n",
    "df_types[\"Indices de caracteristicas\"] = \"\"\n",
    "  \n",
    "  \n",
    "df_types[\"Error de validación\"][i] = errores\n",
    "df_types[\"IC(std)\"][i]= stds\n",
    "df_types[\"Tiempo de ejecución\"][i] = tiempos\n",
    "df_types[\"Indices de caracteristicas\"][i] = k_feature_idx_  \n",
    "  \n",
    "  \n",
    "  #df_types.sort_index(inplace=True)\n",
    "#qgrid_widget = qgrid.show_grid(df_types, show_toolbar=False)\n",
    "#qgrid_widget\n",
    "#qgrid_widget.get_changed_df()"
   ]
  },
  {
   "cell_type": "markdown",
   "metadata": {
    "colab_type": "text",
    "id": "UaQrlu76MDKz"
   },
   "source": [
    "## Forward FALSE"
   ]
  },
  {
   "cell_type": "code",
   "execution_count": 0,
   "metadata": {
    "colab": {
     "base_uri": "https://localhost:8080/",
     "height": 1000
    },
    "colab_type": "code",
    "collapsed": false,
    "executionInfo": {
     "elapsed": 14429586,
     "status": "ok",
     "timestamp": 1570348215867,
     "user": {
      "displayName": "JOSE ALBERTO ARANGO SÁNCHEZ",
      "photoUrl": "https://lh3.googleusercontent.com/a-/AAuE7mAlmJPVrjjJ4aUXppU8o-4tXg36OBTyqwn-TK-0HOk=s64",
      "userId": "16388542354054473882"
     },
     "user_tz": 300
    },
    "id": "R7W4ME7dL929",
    "outputId": "495901da-4c68-45ac-b4e4-98b033a1c6e7"
   },
   "outputs": [
    {
     "name": "stderr",
     "output_type": "stream",
     "text": [
      "[Parallel(n_jobs=1)]: Using backend SequentialBackend with 1 concurrent workers.\n",
      "[Parallel(n_jobs=1)]: Done  23 out of  23 | elapsed:   53.1s finished\n",
      "Features: 22/10[Parallel(n_jobs=1)]: Using backend SequentialBackend with 1 concurrent workers.\n",
      "[Parallel(n_jobs=1)]: Done  22 out of  22 | elapsed:   52.6s finished\n",
      "Features: 21/10[Parallel(n_jobs=1)]: Using backend SequentialBackend with 1 concurrent workers.\n",
      "[Parallel(n_jobs=1)]: Done  21 out of  21 | elapsed:   47.8s finished\n",
      "Features: 20/10[Parallel(n_jobs=1)]: Using backend SequentialBackend with 1 concurrent workers.\n",
      "[Parallel(n_jobs=1)]: Done  20 out of  20 | elapsed:   36.9s finished\n",
      "Features: 19/10[Parallel(n_jobs=1)]: Using backend SequentialBackend with 1 concurrent workers.\n",
      "[Parallel(n_jobs=1)]: Done  19 out of  19 | elapsed:   34.5s finished\n",
      "Features: 18/10[Parallel(n_jobs=1)]: Using backend SequentialBackend with 1 concurrent workers.\n",
      "[Parallel(n_jobs=1)]: Done  18 out of  18 | elapsed:   30.8s finished\n",
      "Features: 17/10[Parallel(n_jobs=1)]: Using backend SequentialBackend with 1 concurrent workers.\n",
      "[Parallel(n_jobs=1)]: Done  17 out of  17 | elapsed:   30.1s finished\n",
      "Features: 16/10[Parallel(n_jobs=1)]: Using backend SequentialBackend with 1 concurrent workers.\n",
      "[Parallel(n_jobs=1)]: Done  16 out of  16 | elapsed:   29.2s finished\n",
      "Features: 15/10[Parallel(n_jobs=1)]: Using backend SequentialBackend with 1 concurrent workers.\n",
      "[Parallel(n_jobs=1)]: Done  15 out of  15 | elapsed:   20.8s finished\n",
      "Features: 14/10[Parallel(n_jobs=1)]: Using backend SequentialBackend with 1 concurrent workers.\n",
      "[Parallel(n_jobs=1)]: Done  14 out of  14 | elapsed:   20.1s finished\n",
      "Features: 13/10[Parallel(n_jobs=1)]: Using backend SequentialBackend with 1 concurrent workers.\n",
      "[Parallel(n_jobs=1)]: Using backend SequentialBackend with 1 concurrent workers.\n",
      "[Parallel(n_jobs=1)]: Done  12 out of  12 | elapsed:   18.1s finished\n",
      "Features: 11/10[Parallel(n_jobs=1)]: Using backend SequentialBackend with 1 concurrent workers.\n",
      "[Parallel(n_jobs=1)]: Done  11 out of  11 | elapsed:   15.5s finished\n",
      "Features: 10/10[Parallel(n_jobs=1)]: Using backend SequentialBackend with 1 concurrent workers.\n",
      "[Parallel(n_jobs=1)]: Done  23 out of  23 | elapsed:   52.6s finished\n",
      "Features: 22/10[Parallel(n_jobs=1)]: Using backend SequentialBackend with 1 concurrent workers.\n",
      "[Parallel(n_jobs=1)]: Done  22 out of  22 | elapsed:   52.0s finished\n",
      "Features: 21/10[Parallel(n_jobs=1)]: Using backend SequentialBackend with 1 concurrent workers.\n",
      "[Parallel(n_jobs=1)]: Done  21 out of  21 | elapsed:   47.4s finished\n",
      "Features: 20/10[Parallel(n_jobs=1)]: Using backend SequentialBackend with 1 concurrent workers.\n",
      "[Parallel(n_jobs=1)]: Done  20 out of  20 | elapsed:   36.6s finished\n",
      "Features: 19/10[Parallel(n_jobs=1)]: Using backend SequentialBackend with 1 concurrent workers.\n",
      "[Parallel(n_jobs=1)]: Done  19 out of  19 | elapsed:   36.2s finished\n",
      "Features: 18/10[Parallel(n_jobs=1)]: Using backend SequentialBackend with 1 concurrent workers.\n",
      "[Parallel(n_jobs=1)]: Done  18 out of  18 | elapsed:   35.6s finished\n",
      "Features: 17/10[Parallel(n_jobs=1)]: Using backend SequentialBackend with 1 concurrent workers.\n",
      "[Parallel(n_jobs=1)]: Done  17 out of  17 | elapsed:   34.4s finished\n",
      "Features: 16/10[Parallel(n_jobs=1)]: Using backend SequentialBackend with 1 concurrent workers.\n",
      "[Parallel(n_jobs=1)]: Done  16 out of  16 | elapsed:   30.7s finished\n",
      "Features: 15/10[Parallel(n_jobs=1)]: Using backend SequentialBackend with 1 concurrent workers.\n",
      "[Parallel(n_jobs=1)]: Done  15 out of  15 | elapsed:   20.3s finished\n",
      "Features: 14/10[Parallel(n_jobs=1)]: Using backend SequentialBackend with 1 concurrent workers.\n",
      "[Parallel(n_jobs=1)]: Done  14 out of  14 | elapsed:   20.0s finished\n",
      "Features: 13/10[Parallel(n_jobs=1)]: Using backend SequentialBackend with 1 concurrent workers.\n",
      "[Parallel(n_jobs=1)]: Done  13 out of  13 | elapsed:   19.5s finished\n",
      "Features: 12/10[Parallel(n_jobs=1)]: Using backend SequentialBackend with 1 concurrent workers.\n",
      "[Parallel(n_jobs=1)]: Done  12 out of  12 | elapsed:   18.7s finished\n",
      "Features: 11/10[Parallel(n_jobs=1)]: Using backend SequentialBackend with 1 concurrent workers.\n",
      "[Parallel(n_jobs=1)]: Done  11 out of  11 | elapsed:   16.4s finished\n",
      "Features: 10/10[Parallel(n_jobs=1)]: Using backend SequentialBackend with 1 concurrent workers.\n",
      "[Parallel(n_jobs=1)]: Done  23 out of  23 | elapsed:   53.1s finished\n",
      "Features: 22/10[Parallel(n_jobs=1)]: Using backend SequentialBackend with 1 concurrent workers.\n",
      "[Parallel(n_jobs=1)]: Done  22 out of  22 | elapsed:   52.3s finished\n",
      "Features: 21/10[Parallel(n_jobs=1)]: Using backend SequentialBackend with 1 concurrent workers.\n",
      "[Parallel(n_jobs=1)]: Done  21 out of  21 | elapsed:   47.6s finished\n",
      "Features: 20/10[Parallel(n_jobs=1)]: Using backend SequentialBackend with 1 concurrent workers.\n",
      "[Parallel(n_jobs=1)]: Done  20 out of  20 | elapsed:   36.8s finished\n",
      "Features: 19/10[Parallel(n_jobs=1)]: Using backend SequentialBackend with 1 concurrent workers.\n",
      "[Parallel(n_jobs=1)]: Done  19 out of  19 | elapsed:   34.6s finished\n",
      "Features: 18/10[Parallel(n_jobs=1)]: Using backend SequentialBackend with 1 concurrent workers.\n",
      "[Parallel(n_jobs=1)]: Done  18 out of  18 | elapsed:   33.9s finished\n",
      "Features: 17/10[Parallel(n_jobs=1)]: Using backend SequentialBackend with 1 concurrent workers.\n",
      "[Parallel(n_jobs=1)]: Done  17 out of  17 | elapsed:   30.1s finished\n",
      "Features: 16/10[Parallel(n_jobs=1)]: Using backend SequentialBackend with 1 concurrent workers.\n",
      "[Parallel(n_jobs=1)]: Done  16 out of  16 | elapsed:   29.6s finished\n",
      "Features: 15/10[Parallel(n_jobs=1)]: Using backend SequentialBackend with 1 concurrent workers.\n",
      "[Parallel(n_jobs=1)]: Done  15 out of  15 | elapsed:   19.9s finished\n",
      "Features: 14/10[Parallel(n_jobs=1)]: Using backend SequentialBackend with 1 concurrent workers.\n",
      "[Parallel(n_jobs=1)]: Done  14 out of  14 | elapsed:   19.4s finished\n",
      "Features: 13/10[Parallel(n_jobs=1)]: Using backend SequentialBackend with 1 concurrent workers.\n",
      "[Parallel(n_jobs=1)]: Done  13 out of  13 | elapsed:   16.8s finished\n",
      "Features: 12/10[Parallel(n_jobs=1)]: Using backend SequentialBackend with 1 concurrent workers.\n",
      "[Parallel(n_jobs=1)]: Done  12 out of  12 | elapsed:   14.3s finished\n",
      "Features: 11/10[Parallel(n_jobs=1)]: Using backend SequentialBackend with 1 concurrent workers.\n",
      "[Parallel(n_jobs=1)]: Done  11 out of  11 | elapsed:   12.7s finished\n",
      "Features: 10/10[Parallel(n_jobs=1)]: Using backend SequentialBackend with 1 concurrent workers.\n",
      "[Parallel(n_jobs=1)]: Done  23 out of  23 | elapsed:   53.1s finished\n",
      "Features: 22/10[Parallel(n_jobs=1)]: Using backend SequentialBackend with 1 concurrent workers.\n",
      "[Parallel(n_jobs=1)]: Done  22 out of  22 | elapsed:   48.1s finished\n",
      "Features: 21/10[Parallel(n_jobs=1)]: Using backend SequentialBackend with 1 concurrent workers.\n",
      "[Parallel(n_jobs=1)]: Done  21 out of  21 | elapsed:   45.1s finished\n",
      "Features: 20/10[Parallel(n_jobs=1)]: Using backend SequentialBackend with 1 concurrent workers.\n",
      "[Parallel(n_jobs=1)]: Done  20 out of  20 | elapsed:   34.7s finished\n",
      "Features: 19/10[Parallel(n_jobs=1)]: Using backend SequentialBackend with 1 concurrent workers.\n",
      "[Parallel(n_jobs=1)]: Done  19 out of  19 | elapsed:   34.2s finished\n",
      "Features: 18/10[Parallel(n_jobs=1)]: Using backend SequentialBackend with 1 concurrent workers.\n",
      "[Parallel(n_jobs=1)]: Done  18 out of  18 | elapsed:   30.8s finished\n",
      "Features: 17/10[Parallel(n_jobs=1)]: Using backend SequentialBackend with 1 concurrent workers.\n",
      "[Parallel(n_jobs=1)]: Done  17 out of  17 | elapsed:   30.2s finished\n",
      "Features: 16/10[Parallel(n_jobs=1)]: Using backend SequentialBackend with 1 concurrent workers.\n",
      "[Parallel(n_jobs=1)]: Done  16 out of  16 | elapsed:   29.9s finished\n",
      "Features: 15/10[Parallel(n_jobs=1)]: Using backend SequentialBackend with 1 concurrent workers.\n",
      "[Parallel(n_jobs=1)]: Done  15 out of  15 | elapsed:   20.0s finished\n",
      "Features: 14/10[Parallel(n_jobs=1)]: Using backend SequentialBackend with 1 concurrent workers.\n",
      "[Parallel(n_jobs=1)]: Done  14 out of  14 | elapsed:   17.4s finished\n",
      "Features: 13/10[Parallel(n_jobs=1)]: Using backend SequentialBackend with 1 concurrent workers.\n",
      "[Parallel(n_jobs=1)]: Done  13 out of  13 | elapsed:   15.8s finished\n",
      "Features: 12/10[Parallel(n_jobs=1)]: Using backend SequentialBackend with 1 concurrent workers.\n",
      "[Parallel(n_jobs=1)]: Done  12 out of  12 | elapsed:   14.1s finished\n",
      "Features: 11/10[Parallel(n_jobs=1)]: Using backend SequentialBackend with 1 concurrent workers.\n",
      "[Parallel(n_jobs=1)]: Done  11 out of  11 | elapsed:   13.6s finished\n",
      "Features: 10/10[Parallel(n_jobs=1)]: Using backend SequentialBackend with 1 concurrent workers.\n",
      "[Parallel(n_jobs=1)]: Done  23 out of  23 | elapsed:   52.6s finished\n",
      "Features: 22/10[Parallel(n_jobs=1)]: Using backend SequentialBackend with 1 concurrent workers.\n",
      "[Parallel(n_jobs=1)]: Done  22 out of  22 | elapsed:   50.1s finished\n",
      "Features: 21/10[Parallel(n_jobs=1)]: Using backend SequentialBackend with 1 concurrent workers.\n",
      "[Parallel(n_jobs=1)]: Done  21 out of  21 | elapsed:   48.7s finished\n",
      "Features: 20/10[Parallel(n_jobs=1)]: Using backend SequentialBackend with 1 concurrent workers.\n",
      "[Parallel(n_jobs=1)]: Done  20 out of  20 | elapsed:   37.7s finished\n",
      "Features: 19/10[Parallel(n_jobs=1)]: Using backend SequentialBackend with 1 concurrent workers.\n",
      "[Parallel(n_jobs=1)]: Done  19 out of  19 | elapsed:   34.1s finished\n",
      "Features: 18/10[Parallel(n_jobs=1)]: Using backend SequentialBackend with 1 concurrent workers.\n",
      "[Parallel(n_jobs=1)]: Done  18 out of  18 | elapsed:   33.6s finished\n",
      "Features: 17/10[Parallel(n_jobs=1)]: Using backend SequentialBackend with 1 concurrent workers.\n",
      "[Parallel(n_jobs=1)]: Done  17 out of  17 | elapsed:   30.0s finished\n",
      "Features: 16/10[Parallel(n_jobs=1)]: Using backend SequentialBackend with 1 concurrent workers.\n",
      "[Parallel(n_jobs=1)]: Done  16 out of  16 | elapsed:   26.7s finished\n",
      "Features: 15/10[Parallel(n_jobs=1)]: Using backend SequentialBackend with 1 concurrent workers.\n",
      "[Parallel(n_jobs=1)]: Done  15 out of  15 | elapsed:   19.0s finished\n",
      "Features: 14/10[Parallel(n_jobs=1)]: Using backend SequentialBackend with 1 concurrent workers.\n",
      "[Parallel(n_jobs=1)]: Done  14 out of  14 | elapsed:   18.2s finished\n",
      "Features: 13/10[Parallel(n_jobs=1)]: Using backend SequentialBackend with 1 concurrent workers.\n",
      "[Parallel(n_jobs=1)]: Done  13 out of  13 | elapsed:   15.8s finished\n",
      "Features: 12/10[Parallel(n_jobs=1)]: Using backend SequentialBackend with 1 concurrent workers.\n",
      "[Parallel(n_jobs=1)]: Done  12 out of  12 | elapsed:   15.3s finished\n",
      "Features: 11/10[Parallel(n_jobs=1)]: Using backend SequentialBackend with 1 concurrent workers.\n",
      "[Parallel(n_jobs=1)]: Done  11 out of  11 | elapsed:   13.5s finished\n",
      "Features: 10/10[Parallel(n_jobs=1)]: Using backend SequentialBackend with 1 concurrent workers.\n",
      "[Parallel(n_jobs=1)]: Done  23 out of  23 | elapsed:   52.9s finished\n",
      "Features: 22/10[Parallel(n_jobs=1)]: Using backend SequentialBackend with 1 concurrent workers.\n",
      "[Parallel(n_jobs=1)]: Done  22 out of  22 | elapsed:   51.6s finished\n",
      "Features: 21/10[Parallel(n_jobs=1)]: Using backend SequentialBackend with 1 concurrent workers.\n",
      "[Parallel(n_jobs=1)]: Done  21 out of  21 | elapsed:   50.7s finished\n",
      "Features: 20/10[Parallel(n_jobs=1)]: Using backend SequentialBackend with 1 concurrent workers.\n",
      "[Parallel(n_jobs=1)]: Done  20 out of  20 | elapsed:   39.2s finished\n",
      "Features: 19/10[Parallel(n_jobs=1)]: Using backend SequentialBackend with 1 concurrent workers.\n",
      "[Parallel(n_jobs=1)]: Done  19 out of  19 | elapsed:   38.8s finished\n",
      "Features: 18/10[Parallel(n_jobs=1)]: Using backend SequentialBackend with 1 concurrent workers.\n",
      "[Parallel(n_jobs=1)]: Done  18 out of  18 | elapsed:   36.4s finished\n",
      "Features: 17/10[Parallel(n_jobs=1)]: Using backend SequentialBackend with 1 concurrent workers.\n",
      "[Parallel(n_jobs=1)]: Done  17 out of  17 | elapsed:   35.3s finished\n",
      "Features: 16/10[Parallel(n_jobs=1)]: Using backend SequentialBackend with 1 concurrent workers.\n",
      "[Parallel(n_jobs=1)]: Done  16 out of  16 | elapsed:   31.9s finished\n",
      "Features: 15/10[Parallel(n_jobs=1)]: Using backend SequentialBackend with 1 concurrent workers.\n",
      "[Parallel(n_jobs=1)]: Done  15 out of  15 | elapsed:   21.2s finished\n",
      "Features: 14/10[Parallel(n_jobs=1)]: Using backend SequentialBackend with 1 concurrent workers.\n",
      "[Parallel(n_jobs=1)]: Done  14 out of  14 | elapsed:   20.6s finished\n",
      "Features: 13/10[Parallel(n_jobs=1)]: Using backend SequentialBackend with 1 concurrent workers.\n",
      "[Parallel(n_jobs=1)]: Done  13 out of  13 | elapsed:   20.1s finished\n",
      "Features: 12/10[Parallel(n_jobs=1)]: Using backend SequentialBackend with 1 concurrent workers.\n",
      "[Parallel(n_jobs=1)]: Done  12 out of  12 | elapsed:   19.7s finished\n",
      "Features: 11/10[Parallel(n_jobs=1)]: Using backend SequentialBackend with 1 concurrent workers.\n",
      "[Parallel(n_jobs=1)]: Done  11 out of  11 | elapsed:   17.3s finished\n",
      "Features: 10/10[Parallel(n_jobs=1)]: Using backend SequentialBackend with 1 concurrent workers.\n",
      "[Parallel(n_jobs=1)]: Done  23 out of  23 | elapsed:   52.9s finished\n",
      "Features: 22/10[Parallel(n_jobs=1)]: Using backend SequentialBackend with 1 concurrent workers.\n",
      "[Parallel(n_jobs=1)]: Done  22 out of  22 | elapsed:   52.4s finished\n",
      "Features: 21/10[Parallel(n_jobs=1)]: Using backend SequentialBackend with 1 concurrent workers.\n",
      "[Parallel(n_jobs=1)]: Done  21 out of  21 | elapsed:   47.7s finished\n",
      "Features: 20/10[Parallel(n_jobs=1)]: Using backend SequentialBackend with 1 concurrent workers.\n",
      "[Parallel(n_jobs=1)]: Done  20 out of  20 | elapsed:   33.6s finished\n",
      "Features: 19/10[Parallel(n_jobs=1)]: Using backend SequentialBackend with 1 concurrent workers.\n",
      "[Parallel(n_jobs=1)]: Done  19 out of  19 | elapsed:   32.9s finished\n",
      "Features: 18/10[Parallel(n_jobs=1)]: Using backend SequentialBackend with 1 concurrent workers.\n",
      "[Parallel(n_jobs=1)]: Done  18 out of  18 | elapsed:   32.6s finished\n",
      "Features: 17/10[Parallel(n_jobs=1)]: Using backend SequentialBackend with 1 concurrent workers.\n",
      "[Parallel(n_jobs=1)]: Done  17 out of  17 | elapsed:   31.8s finished\n",
      "Features: 16/10[Parallel(n_jobs=1)]: Using backend SequentialBackend with 1 concurrent workers.\n",
      "[Parallel(n_jobs=1)]: Done  16 out of  16 | elapsed:   29.7s finished\n",
      "Features: 15/10[Parallel(n_jobs=1)]: Using backend SequentialBackend with 1 concurrent workers.\n",
      "[Parallel(n_jobs=1)]: Done  15 out of  15 | elapsed:   21.2s finished\n",
      "Features: 14/10[Parallel(n_jobs=1)]: Using backend SequentialBackend with 1 concurrent workers.\n",
      "[Parallel(n_jobs=1)]: Done  14 out of  14 | elapsed:   18.4s finished\n",
      "Features: 13/10[Parallel(n_jobs=1)]: Using backend SequentialBackend with 1 concurrent workers.\n",
      "[Parallel(n_jobs=1)]: Done  13 out of  13 | elapsed:   16.2s finished\n",
      "Features: 12/10[Parallel(n_jobs=1)]: Using backend SequentialBackend with 1 concurrent workers.\n",
      "[Parallel(n_jobs=1)]: Done  12 out of  12 | elapsed:   15.7s finished\n",
      "Features: 11/10[Parallel(n_jobs=1)]: Using backend SequentialBackend with 1 concurrent workers.\n",
      "[Parallel(n_jobs=1)]: Done  11 out of  11 | elapsed:   14.2s finished\n",
      "Features: 10/10[Parallel(n_jobs=1)]: Using backend SequentialBackend with 1 concurrent workers.\n",
      "[Parallel(n_jobs=1)]: Done  23 out of  23 | elapsed:   52.8s finished\n",
      "Features: 22/10[Parallel(n_jobs=1)]: Using backend SequentialBackend with 1 concurrent workers.\n",
      "[Parallel(n_jobs=1)]: Done  22 out of  22 | elapsed:   49.4s finished\n",
      "Features: 21/10[Parallel(n_jobs=1)]: Using backend SequentialBackend with 1 concurrent workers.\n",
      "[Parallel(n_jobs=1)]: Done  21 out of  21 | elapsed:   49.0s finished\n",
      "Features: 20/10[Parallel(n_jobs=1)]: Using backend SequentialBackend with 1 concurrent workers.\n",
      "[Parallel(n_jobs=1)]: Done  20 out of  20 | elapsed:   37.9s finished\n",
      "Features: 19/10[Parallel(n_jobs=1)]: Using backend SequentialBackend with 1 concurrent workers.\n",
      "[Parallel(n_jobs=1)]: Done  19 out of  19 | elapsed:   36.5s finished\n",
      "Features: 18/10[Parallel(n_jobs=1)]: Using backend SequentialBackend with 1 concurrent workers.\n",
      "[Parallel(n_jobs=1)]: Done  18 out of  18 | elapsed:   32.9s finished\n",
      "Features: 17/10[Parallel(n_jobs=1)]: Using backend SequentialBackend with 1 concurrent workers.\n",
      "[Parallel(n_jobs=1)]: Done  17 out of  17 | elapsed:   29.4s finished\n",
      "Features: 16/10[Parallel(n_jobs=1)]: Using backend SequentialBackend with 1 concurrent workers.\n",
      "[Parallel(n_jobs=1)]: Done  16 out of  16 | elapsed:   29.0s finished\n",
      "Features: 15/10[Parallel(n_jobs=1)]: Using backend SequentialBackend with 1 concurrent workers.\n",
      "[Parallel(n_jobs=1)]: Done  15 out of  15 | elapsed:   19.2s finished\n",
      "Features: 14/10[Parallel(n_jobs=1)]: Using backend SequentialBackend with 1 concurrent workers.\n",
      "[Parallel(n_jobs=1)]: Done  14 out of  14 | elapsed:   18.7s finished\n",
      "Features: 13/10[Parallel(n_jobs=1)]: Using backend SequentialBackend with 1 concurrent workers.\n",
      "[Parallel(n_jobs=1)]: Done  13 out of  13 | elapsed:   17.2s finished\n",
      "Features: 12/10[Parallel(n_jobs=1)]: Using backend SequentialBackend with 1 concurrent workers.\n",
      "[Parallel(n_jobs=1)]: Done  12 out of  12 | elapsed:   16.8s finished\n",
      "Features: 11/10[Parallel(n_jobs=1)]: Using backend SequentialBackend with 1 concurrent workers.\n",
      "[Parallel(n_jobs=1)]: Done  11 out of  11 | elapsed:   16.4s finished\n",
      "Features: 10/10[Parallel(n_jobs=1)]: Using backend SequentialBackend with 1 concurrent workers.\n",
      "[Parallel(n_jobs=1)]: Done  23 out of  23 | elapsed:   52.3s finished\n",
      "Features: 22/10[Parallel(n_jobs=1)]: Using backend SequentialBackend with 1 concurrent workers.\n",
      "[Parallel(n_jobs=1)]: Done  22 out of  22 | elapsed:   48.0s finished\n",
      "Features: 21/10[Parallel(n_jobs=1)]: Using backend SequentialBackend with 1 concurrent workers.\n",
      "[Parallel(n_jobs=1)]: Done  21 out of  21 | elapsed:   47.4s finished\n",
      "Features: 20/10[Parallel(n_jobs=1)]: Using backend SequentialBackend with 1 concurrent workers.\n",
      "[Parallel(n_jobs=1)]: Done  20 out of  20 | elapsed:   35.9s finished\n",
      "Features: 19/10[Parallel(n_jobs=1)]: Using backend SequentialBackend with 1 concurrent workers.\n",
      "[Parallel(n_jobs=1)]: Done  19 out of  19 | elapsed:   35.7s finished\n",
      "Features: 18/10[Parallel(n_jobs=1)]: Using backend SequentialBackend with 1 concurrent workers.\n",
      "[Parallel(n_jobs=1)]: Done  18 out of  18 | elapsed:   34.8s finished\n",
      "Features: 17/10[Parallel(n_jobs=1)]: Using backend SequentialBackend with 1 concurrent workers.\n",
      "[Parallel(n_jobs=1)]: Done  17 out of  17 | elapsed:   31.1s finished\n",
      "Features: 16/10[Parallel(n_jobs=1)]: Using backend SequentialBackend with 1 concurrent workers.\n",
      "[Parallel(n_jobs=1)]: Done  16 out of  16 | elapsed:   28.8s finished\n",
      "Features: 15/10[Parallel(n_jobs=1)]: Using backend SequentialBackend with 1 concurrent workers.\n",
      "[Parallel(n_jobs=1)]: Done  15 out of  15 | elapsed:   18.3s finished\n",
      "Features: 14/10[Parallel(n_jobs=1)]: Using backend SequentialBackend with 1 concurrent workers.\n",
      "[Parallel(n_jobs=1)]: Done  14 out of  14 | elapsed:   17.8s finished\n",
      "Features: 13/10[Parallel(n_jobs=1)]: Using backend SequentialBackend with 1 concurrent workers.\n",
      "[Parallel(n_jobs=1)]: Done  13 out of  13 | elapsed:   17.5s finished\n",
      "Features: 12/10[Parallel(n_jobs=1)]: Using backend SequentialBackend with 1 concurrent workers.\n",
      "[Parallel(n_jobs=1)]: Done  12 out of  12 | elapsed:   16.9s finished\n",
      "Features: 11/10[Parallel(n_jobs=1)]: Using backend SequentialBackend with 1 concurrent workers.\n",
      "[Parallel(n_jobs=1)]: Done  11 out of  11 | elapsed:   15.4s finished\n",
      "Features: 10/10[Parallel(n_jobs=1)]: Using backend SequentialBackend with 1 concurrent workers.\n",
      "[Parallel(n_jobs=1)]: Done  23 out of  23 | elapsed:   52.3s finished\n",
      "Features: 22/10[Parallel(n_jobs=1)]: Using backend SequentialBackend with 1 concurrent workers.\n",
      "[Parallel(n_jobs=1)]: Done  22 out of  22 | elapsed:   49.5s finished\n",
      "Features: 21/10[Parallel(n_jobs=1)]: Using backend SequentialBackend with 1 concurrent workers.\n",
      "[Parallel(n_jobs=1)]: Done  21 out of  21 | elapsed:   49.0s finished\n",
      "Features: 20/10[Parallel(n_jobs=1)]: Using backend SequentialBackend with 1 concurrent workers.\n",
      "[Parallel(n_jobs=1)]: Done  20 out of  20 | elapsed:   34.7s finished\n",
      "Features: 19/10[Parallel(n_jobs=1)]: Using backend SequentialBackend with 1 concurrent workers.\n",
      "[Parallel(n_jobs=1)]: Done  19 out of  19 | elapsed:   34.5s finished\n",
      "Features: 18/10[Parallel(n_jobs=1)]: Using backend SequentialBackend with 1 concurrent workers.\n",
      "[Parallel(n_jobs=1)]: Done  18 out of  18 | elapsed:   32.0s finished\n",
      "Features: 17/10[Parallel(n_jobs=1)]: Using backend SequentialBackend with 1 concurrent workers.\n",
      "[Parallel(n_jobs=1)]: Done  17 out of  17 | elapsed:   28.2s finished\n",
      "Features: 16/10[Parallel(n_jobs=1)]: Using backend SequentialBackend with 1 concurrent workers.\n",
      "[Parallel(n_jobs=1)]: Done  16 out of  16 | elapsed:   27.9s finished\n",
      "Features: 15/10[Parallel(n_jobs=1)]: Using backend SequentialBackend with 1 concurrent workers.\n",
      "[Parallel(n_jobs=1)]: Done  15 out of  15 | elapsed:   18.5s finished\n",
      "Features: 14/10[Parallel(n_jobs=1)]: Using backend SequentialBackend with 1 concurrent workers.\n",
      "[Parallel(n_jobs=1)]: Done  14 out of  14 | elapsed:   18.0s finished\n",
      "Features: 13/10[Parallel(n_jobs=1)]: Using backend SequentialBackend with 1 concurrent workers.\n",
      "[Parallel(n_jobs=1)]: Done  13 out of  13 | elapsed:   17.6s finished\n",
      "Features: 12/10[Parallel(n_jobs=1)]: Using backend SequentialBackend with 1 concurrent workers.\n",
      "[Parallel(n_jobs=1)]: Done  12 out of  12 | elapsed:   15.2s finished\n",
      "Features: 11/10[Parallel(n_jobs=1)]: Using backend SequentialBackend with 1 concurrent workers.\n",
      "[Parallel(n_jobs=1)]: Done  11 out of  11 | elapsed:   12.7s finished\n",
      "Features: 10/10"
     ]
    },
    {
     "name": "stdout",
     "output_type": "stream",
     "text": [
      "\n",
      "Error de validación aplicando SFS: 0.16409259694635558 +/- 0.0007446169326007176\n",
      "\n",
      "Eficiencia en validación aplicando SFS: 83.68594046571917%\n",
      "\n",
      "\n",
      "Tiempo total de ejecución: 4066.7652242183685 segundos.\n",
      "N-FEATURES:  10\n",
      "Indices  (0, 4, 5, 6, 7, 12, 15, 17, 21, 22)\n"
     ]
    },
    {
     "name": "stderr",
     "output_type": "stream",
     "text": [
      "[Parallel(n_jobs=1)]: Using backend SequentialBackend with 1 concurrent workers.\n",
      "[Parallel(n_jobs=1)]: Done  23 out of  23 | elapsed:   52.6s finished\n",
      "Features: 22/13[Parallel(n_jobs=1)]: Using backend SequentialBackend with 1 concurrent workers.\n",
      "[Parallel(n_jobs=1)]: Done  22 out of  22 | elapsed:   50.9s finished\n",
      "Features: 21/13[Parallel(n_jobs=1)]: Using backend SequentialBackend with 1 concurrent workers.\n",
      "[Parallel(n_jobs=1)]: Done  21 out of  21 | elapsed:   47.9s finished\n",
      "Features: 20/13[Parallel(n_jobs=1)]: Using backend SequentialBackend with 1 concurrent workers.\n",
      "[Parallel(n_jobs=1)]: Done  20 out of  20 | elapsed:   34.1s finished\n",
      "Features: 19/13[Parallel(n_jobs=1)]: Using backend SequentialBackend with 1 concurrent workers.\n",
      "[Parallel(n_jobs=1)]: Done  19 out of  19 | elapsed:   30.8s finished\n",
      "Features: 18/13[Parallel(n_jobs=1)]: Using backend SequentialBackend with 1 concurrent workers.\n",
      "[Parallel(n_jobs=1)]: Done  18 out of  18 | elapsed:   30.2s finished\n",
      "Features: 17/13[Parallel(n_jobs=1)]: Using backend SequentialBackend with 1 concurrent workers.\n",
      "[Parallel(n_jobs=1)]: Done  17 out of  17 | elapsed:   29.6s finished\n",
      "Features: 16/13[Parallel(n_jobs=1)]: Using backend SequentialBackend with 1 concurrent workers.\n",
      "[Parallel(n_jobs=1)]: Done  16 out of  16 | elapsed:   29.1s finished\n",
      "Features: 15/13[Parallel(n_jobs=1)]: Using backend SequentialBackend with 1 concurrent workers.\n",
      "[Parallel(n_jobs=1)]: Done  15 out of  15 | elapsed:   18.5s finished\n",
      "Features: 14/13[Parallel(n_jobs=1)]: Using backend SequentialBackend with 1 concurrent workers.\n",
      "[Parallel(n_jobs=1)]: Done  14 out of  14 | elapsed:   18.0s finished\n",
      "Features: 13/13[Parallel(n_jobs=1)]: Using backend SequentialBackend with 1 concurrent workers.\n",
      "[Parallel(n_jobs=1)]: Done  23 out of  23 | elapsed:   52.4s finished\n",
      "Features: 22/13[Parallel(n_jobs=1)]: Using backend SequentialBackend with 1 concurrent workers.\n",
      "[Parallel(n_jobs=1)]: Done  22 out of  22 | elapsed:   51.8s finished\n",
      "Features: 21/13[Parallel(n_jobs=1)]: Using backend SequentialBackend with 1 concurrent workers.\n",
      "[Parallel(n_jobs=1)]: Done  21 out of  21 | elapsed:   48.7s finished\n",
      "Features: 20/13[Parallel(n_jobs=1)]: Using backend SequentialBackend with 1 concurrent workers.\n",
      "[Parallel(n_jobs=1)]: Done  20 out of  20 | elapsed:   35.8s finished\n",
      "Features: 19/13[Parallel(n_jobs=1)]: Using backend SequentialBackend with 1 concurrent workers.\n",
      "[Parallel(n_jobs=1)]: Done  19 out of  19 | elapsed:   32.1s finished\n",
      "Features: 18/13[Parallel(n_jobs=1)]: Using backend SequentialBackend with 1 concurrent workers.\n",
      "[Parallel(n_jobs=1)]: Done  18 out of  18 | elapsed:   31.7s finished\n",
      "Features: 17/13[Parallel(n_jobs=1)]: Using backend SequentialBackend with 1 concurrent workers.\n",
      "[Parallel(n_jobs=1)]: Done  17 out of  17 | elapsed:   28.0s finished\n",
      "Features: 16/13[Parallel(n_jobs=1)]: Using backend SequentialBackend with 1 concurrent workers.\n",
      "[Parallel(n_jobs=1)]: Done  16 out of  16 | elapsed:   27.5s finished\n",
      "Features: 15/13[Parallel(n_jobs=1)]: Using backend SequentialBackend with 1 concurrent workers.\n",
      "[Parallel(n_jobs=1)]: Done  15 out of  15 | elapsed:   19.3s finished\n",
      "Features: 14/13[Parallel(n_jobs=1)]: Using backend SequentialBackend with 1 concurrent workers.\n",
      "[Parallel(n_jobs=1)]: Done  14 out of  14 | elapsed:   18.8s finished\n",
      "Features: 13/13[Parallel(n_jobs=1)]: Using backend SequentialBackend with 1 concurrent workers.\n",
      "[Parallel(n_jobs=1)]: Done  23 out of  23 | elapsed:   52.4s finished\n",
      "Features: 22/13[Parallel(n_jobs=1)]: Using backend SequentialBackend with 1 concurrent workers.\n",
      "[Parallel(n_jobs=1)]: Done  22 out of  22 | elapsed:   49.5s finished\n",
      "Features: 21/13[Parallel(n_jobs=1)]: Using backend SequentialBackend with 1 concurrent workers.\n",
      "[Parallel(n_jobs=1)]: Done  21 out of  21 | elapsed:   46.7s finished\n",
      "Features: 20/13[Parallel(n_jobs=1)]: Using backend SequentialBackend with 1 concurrent workers.\n",
      "[Parallel(n_jobs=1)]: Done  20 out of  20 | elapsed:   36.2s finished\n",
      "Features: 19/13[Parallel(n_jobs=1)]: Using backend SequentialBackend with 1 concurrent workers.\n",
      "[Parallel(n_jobs=1)]: Done  19 out of  19 | elapsed:   32.5s finished\n",
      "Features: 18/13[Parallel(n_jobs=1)]: Using backend SequentialBackend with 1 concurrent workers.\n",
      "[Parallel(n_jobs=1)]: Done  18 out of  18 | elapsed:   32.0s finished\n",
      "Features: 17/13[Parallel(n_jobs=1)]: Using backend SequentialBackend with 1 concurrent workers.\n",
      "[Parallel(n_jobs=1)]: Done  17 out of  17 | elapsed:   31.4s finished\n",
      "Features: 16/13[Parallel(n_jobs=1)]: Using backend SequentialBackend with 1 concurrent workers.\n",
      "[Parallel(n_jobs=1)]: Done  16 out of  16 | elapsed:   29.0s finished\n",
      "Features: 15/13[Parallel(n_jobs=1)]: Using backend SequentialBackend with 1 concurrent workers.\n",
      "[Parallel(n_jobs=1)]: Done  15 out of  15 | elapsed:   19.3s finished\n",
      "Features: 14/13[Parallel(n_jobs=1)]: Using backend SequentialBackend with 1 concurrent workers.\n",
      "[Parallel(n_jobs=1)]: Done  14 out of  14 | elapsed:   18.9s finished\n",
      "Features: 13/13[Parallel(n_jobs=1)]: Using backend SequentialBackend with 1 concurrent workers.\n",
      "[Parallel(n_jobs=1)]: Done  23 out of  23 | elapsed:   52.4s finished\n",
      "Features: 22/13[Parallel(n_jobs=1)]: Using backend SequentialBackend with 1 concurrent workers.\n",
      "[Parallel(n_jobs=1)]: Done  22 out of  22 | elapsed:   49.5s finished\n",
      "Features: 21/13[Parallel(n_jobs=1)]: Using backend SequentialBackend with 1 concurrent workers.\n",
      "[Parallel(n_jobs=1)]: Done  21 out of  21 | elapsed:   48.9s finished\n",
      "Features: 20/13[Parallel(n_jobs=1)]: Using backend SequentialBackend with 1 concurrent workers.\n",
      "[Parallel(n_jobs=1)]: Done  20 out of  20 | elapsed:   35.9s finished\n",
      "Features: 19/13[Parallel(n_jobs=1)]: Using backend SequentialBackend with 1 concurrent workers.\n",
      "[Parallel(n_jobs=1)]: Done  19 out of  19 | elapsed:   35.1s finished\n",
      "Features: 18/13[Parallel(n_jobs=1)]: Using backend SequentialBackend with 1 concurrent workers.\n",
      "[Parallel(n_jobs=1)]: Done  18 out of  18 | elapsed:   35.0s finished\n",
      "Features: 17/13[Parallel(n_jobs=1)]: Using backend SequentialBackend with 1 concurrent workers.\n",
      "[Parallel(n_jobs=1)]: Done  17 out of  17 | elapsed:   31.3s finished\n",
      "Features: 16/13[Parallel(n_jobs=1)]: Using backend SequentialBackend with 1 concurrent workers.\n",
      "[Parallel(n_jobs=1)]: Done  16 out of  16 | elapsed:   27.5s finished\n",
      "Features: 15/13[Parallel(n_jobs=1)]: Using backend SequentialBackend with 1 concurrent workers.\n",
      "[Parallel(n_jobs=1)]: Done  15 out of  15 | elapsed:   19.4s finished\n",
      "Features: 14/13[Parallel(n_jobs=1)]: Using backend SequentialBackend with 1 concurrent workers.\n",
      "[Parallel(n_jobs=1)]: Done  14 out of  14 | elapsed:   19.1s finished\n",
      "Features: 13/13[Parallel(n_jobs=1)]: Using backend SequentialBackend with 1 concurrent workers.\n",
      "[Parallel(n_jobs=1)]: Done  23 out of  23 | elapsed:   52.4s finished\n",
      "Features: 22/13[Parallel(n_jobs=1)]: Using backend SequentialBackend with 1 concurrent workers.\n",
      "[Parallel(n_jobs=1)]: Done  22 out of  22 | elapsed:   51.9s finished\n",
      "Features: 21/13[Parallel(n_jobs=1)]: Using backend SequentialBackend with 1 concurrent workers.\n",
      "[Parallel(n_jobs=1)]: Done  21 out of  21 | elapsed:   51.1s finished\n",
      "Features: 20/13[Parallel(n_jobs=1)]: Using backend SequentialBackend with 1 concurrent workers.\n",
      "[Parallel(n_jobs=1)]: Done  20 out of  20 | elapsed:   36.7s finished\n",
      "Features: 19/13[Parallel(n_jobs=1)]: Using backend SequentialBackend with 1 concurrent workers.\n",
      "[Parallel(n_jobs=1)]: Done  19 out of  19 | elapsed:   35.5s finished\n",
      "Features: 18/13[Parallel(n_jobs=1)]: Using backend SequentialBackend with 1 concurrent workers.\n",
      "[Parallel(n_jobs=1)]: Done  18 out of  18 | elapsed:   33.1s finished\n",
      "Features: 17/13[Parallel(n_jobs=1)]: Using backend SequentialBackend with 1 concurrent workers.\n",
      "[Parallel(n_jobs=1)]: Done  17 out of  17 | elapsed:   30.7s finished\n",
      "Features: 16/13[Parallel(n_jobs=1)]: Using backend SequentialBackend with 1 concurrent workers.\n",
      "[Parallel(n_jobs=1)]: Done  16 out of  16 | elapsed:   28.8s finished\n",
      "Features: 15/13[Parallel(n_jobs=1)]: Using backend SequentialBackend with 1 concurrent workers.\n",
      "[Parallel(n_jobs=1)]: Done  15 out of  15 | elapsed:   18.3s finished\n",
      "Features: 14/13[Parallel(n_jobs=1)]: Using backend SequentialBackend with 1 concurrent workers.\n",
      "[Parallel(n_jobs=1)]: Done  14 out of  14 | elapsed:   17.8s finished\n",
      "Features: 13/13[Parallel(n_jobs=1)]: Using backend SequentialBackend with 1 concurrent workers.\n",
      "[Parallel(n_jobs=1)]: Done  23 out of  23 | elapsed:   52.4s finished\n",
      "Features: 22/13[Parallel(n_jobs=1)]: Using backend SequentialBackend with 1 concurrent workers.\n",
      "[Parallel(n_jobs=1)]: Done  22 out of  22 | elapsed:   49.6s finished\n",
      "Features: 21/13[Parallel(n_jobs=1)]: Using backend SequentialBackend with 1 concurrent workers.\n",
      "[Parallel(n_jobs=1)]: Done  21 out of  21 | elapsed:   48.9s finished\n",
      "Features: 20/13[Parallel(n_jobs=1)]: Using backend SequentialBackend with 1 concurrent workers.\n",
      "[Parallel(n_jobs=1)]: Done  20 out of  20 | elapsed:   35.8s finished\n",
      "Features: 19/13[Parallel(n_jobs=1)]: Using backend SequentialBackend with 1 concurrent workers.\n",
      "[Parallel(n_jobs=1)]: Done  19 out of  19 | elapsed:   33.4s finished\n",
      "Features: 18/13[Parallel(n_jobs=1)]: Using backend SequentialBackend with 1 concurrent workers.\n",
      "[Parallel(n_jobs=1)]: Done  18 out of  18 | elapsed:   33.1s finished\n",
      "Features: 17/13[Parallel(n_jobs=1)]: Using backend SequentialBackend with 1 concurrent workers.\n",
      "[Parallel(n_jobs=1)]: Done  17 out of  17 | elapsed:   32.6s finished\n",
      "Features: 16/13[Parallel(n_jobs=1)]: Using backend SequentialBackend with 1 concurrent workers.\n",
      "[Parallel(n_jobs=1)]: Done  16 out of  16 | elapsed:   29.0s finished\n",
      "Features: 15/13[Parallel(n_jobs=1)]: Using backend SequentialBackend with 1 concurrent workers.\n",
      "[Parallel(n_jobs=1)]: Done  15 out of  15 | elapsed:   18.6s finished\n",
      "Features: 14/13[Parallel(n_jobs=1)]: Using backend SequentialBackend with 1 concurrent workers.\n",
      "[Parallel(n_jobs=1)]: Done  14 out of  14 | elapsed:   18.2s finished\n",
      "Features: 13/13[Parallel(n_jobs=1)]: Using backend SequentialBackend with 1 concurrent workers.\n",
      "[Parallel(n_jobs=1)]: Done  23 out of  23 | elapsed:   52.4s finished\n",
      "Features: 22/13[Parallel(n_jobs=1)]: Using backend SequentialBackend with 1 concurrent workers.\n",
      "[Parallel(n_jobs=1)]: Done  22 out of  22 | elapsed:   48.0s finished\n",
      "Features: 21/13[Parallel(n_jobs=1)]: Using backend SequentialBackend with 1 concurrent workers.\n",
      "[Parallel(n_jobs=1)]: Done  21 out of  21 | elapsed:   47.2s finished\n",
      "Features: 20/13[Parallel(n_jobs=1)]: Using backend SequentialBackend with 1 concurrent workers.\n",
      "[Parallel(n_jobs=1)]: Done  20 out of  20 | elapsed:   33.3s finished\n",
      "Features: 19/13[Parallel(n_jobs=1)]: Using backend SequentialBackend with 1 concurrent workers.\n",
      "[Parallel(n_jobs=1)]: Done  19 out of  19 | elapsed:   32.9s finished\n",
      "Features: 18/13[Parallel(n_jobs=1)]: Using backend SequentialBackend with 1 concurrent workers.\n",
      "[Parallel(n_jobs=1)]: Done  18 out of  18 | elapsed:   32.2s finished\n",
      "Features: 17/13[Parallel(n_jobs=1)]: Using backend SequentialBackend with 1 concurrent workers.\n",
      "[Parallel(n_jobs=1)]: Done  17 out of  17 | elapsed:   31.2s finished\n",
      "Features: 16/13[Parallel(n_jobs=1)]: Using backend SequentialBackend with 1 concurrent workers.\n",
      "[Parallel(n_jobs=1)]: Done  16 out of  16 | elapsed:   29.1s finished\n",
      "Features: 15/13[Parallel(n_jobs=1)]: Using backend SequentialBackend with 1 concurrent workers.\n",
      "[Parallel(n_jobs=1)]: Done  15 out of  15 | elapsed:   20.3s finished\n",
      "Features: 14/13[Parallel(n_jobs=1)]: Using backend SequentialBackend with 1 concurrent workers.\n",
      "[Parallel(n_jobs=1)]: Done  14 out of  14 | elapsed:   18.0s finished\n",
      "Features: 13/13[Parallel(n_jobs=1)]: Using backend SequentialBackend with 1 concurrent workers.\n",
      "[Parallel(n_jobs=1)]: Done  23 out of  23 | elapsed:   52.5s finished\n",
      "Features: 22/13[Parallel(n_jobs=1)]: Using backend SequentialBackend with 1 concurrent workers.\n",
      "[Parallel(n_jobs=1)]: Done  22 out of  22 | elapsed:   48.0s finished\n",
      "Features: 21/13[Parallel(n_jobs=1)]: Using backend SequentialBackend with 1 concurrent workers.\n",
      "[Parallel(n_jobs=1)]: Done  21 out of  21 | elapsed:   43.3s finished\n",
      "Features: 20/13[Parallel(n_jobs=1)]: Using backend SequentialBackend with 1 concurrent workers.\n",
      "[Parallel(n_jobs=1)]: Done  20 out of  20 | elapsed:   32.0s finished\n",
      "Features: 19/13[Parallel(n_jobs=1)]: Using backend SequentialBackend with 1 concurrent workers.\n",
      "[Parallel(n_jobs=1)]: Done  19 out of  19 | elapsed:   29.8s finished\n",
      "Features: 18/13[Parallel(n_jobs=1)]: Using backend SequentialBackend with 1 concurrent workers.\n",
      "[Parallel(n_jobs=1)]: Done  18 out of  18 | elapsed:   26.1s finished\n",
      "Features: 17/13[Parallel(n_jobs=1)]: Using backend SequentialBackend with 1 concurrent workers.\n",
      "[Parallel(n_jobs=1)]: Done  17 out of  17 | elapsed:   25.9s finished\n",
      "Features: 16/13[Parallel(n_jobs=1)]: Using backend SequentialBackend with 1 concurrent workers.\n",
      "[Parallel(n_jobs=1)]: Done  16 out of  16 | elapsed:   23.1s finished\n",
      "Features: 15/13[Parallel(n_jobs=1)]: Using backend SequentialBackend with 1 concurrent workers.\n",
      "[Parallel(n_jobs=1)]: Done  15 out of  15 | elapsed:   16.5s finished\n",
      "Features: 14/13[Parallel(n_jobs=1)]: Using backend SequentialBackend with 1 concurrent workers.\n",
      "[Parallel(n_jobs=1)]: Done  14 out of  14 | elapsed:   14.0s finished\n",
      "Features: 13/13[Parallel(n_jobs=1)]: Using backend SequentialBackend with 1 concurrent workers.\n",
      "[Parallel(n_jobs=1)]: Done  23 out of  23 | elapsed:   52.2s finished\n",
      "Features: 22/13[Parallel(n_jobs=1)]: Using backend SequentialBackend with 1 concurrent workers.\n",
      "[Parallel(n_jobs=1)]: Done  22 out of  22 | elapsed:   49.3s finished\n",
      "Features: 21/13[Parallel(n_jobs=1)]: Using backend SequentialBackend with 1 concurrent workers.\n",
      "[Parallel(n_jobs=1)]: Done  21 out of  21 | elapsed:   46.5s finished\n",
      "Features: 20/13[Parallel(n_jobs=1)]: Using backend SequentialBackend with 1 concurrent workers.\n",
      "[Parallel(n_jobs=1)]: Done  20 out of  20 | elapsed:   35.4s finished\n",
      "Features: 19/13[Parallel(n_jobs=1)]: Using backend SequentialBackend with 1 concurrent workers.\n",
      "[Parallel(n_jobs=1)]: Done  19 out of  19 | elapsed:   31.8s finished\n",
      "Features: 18/13[Parallel(n_jobs=1)]: Using backend SequentialBackend with 1 concurrent workers.\n",
      "[Parallel(n_jobs=1)]: Done  18 out of  18 | elapsed:   31.2s finished\n",
      "Features: 17/13[Parallel(n_jobs=1)]: Using backend SequentialBackend with 1 concurrent workers.\n",
      "[Parallel(n_jobs=1)]: Done  17 out of  17 | elapsed:   30.6s finished\n",
      "Features: 16/13[Parallel(n_jobs=1)]: Using backend SequentialBackend with 1 concurrent workers.\n",
      "[Parallel(n_jobs=1)]: Done  16 out of  16 | elapsed:   27.1s finished\n",
      "Features: 15/13[Parallel(n_jobs=1)]: Using backend SequentialBackend with 1 concurrent workers.\n",
      "[Parallel(n_jobs=1)]: Done  15 out of  15 | elapsed:   19.2s finished\n",
      "Features: 14/13[Parallel(n_jobs=1)]: Using backend SequentialBackend with 1 concurrent workers.\n",
      "[Parallel(n_jobs=1)]: Done  14 out of  14 | elapsed:   18.6s finished\n",
      "Features: 13/13[Parallel(n_jobs=1)]: Using backend SequentialBackend with 1 concurrent workers.\n",
      "[Parallel(n_jobs=1)]: Done  23 out of  23 | elapsed:   52.8s finished\n",
      "Features: 22/13[Parallel(n_jobs=1)]: Using backend SequentialBackend with 1 concurrent workers.\n",
      "[Parallel(n_jobs=1)]: Done  22 out of  22 | elapsed:   47.8s finished\n",
      "Features: 21/13[Parallel(n_jobs=1)]: Using backend SequentialBackend with 1 concurrent workers.\n",
      "[Parallel(n_jobs=1)]: Done  21 out of  21 | elapsed:   46.8s finished\n",
      "Features: 20/13[Parallel(n_jobs=1)]: Using backend SequentialBackend with 1 concurrent workers.\n",
      "[Parallel(n_jobs=1)]: Done  20 out of  20 | elapsed:   33.4s finished\n",
      "Features: 19/13[Parallel(n_jobs=1)]: Using backend SequentialBackend with 1 concurrent workers.\n",
      "[Parallel(n_jobs=1)]: Done  19 out of  19 | elapsed:   33.1s finished\n",
      "Features: 18/13[Parallel(n_jobs=1)]: Using backend SequentialBackend with 1 concurrent workers.\n",
      "[Parallel(n_jobs=1)]: Done  18 out of  18 | elapsed:   29.4s finished\n",
      "Features: 17/13[Parallel(n_jobs=1)]: Using backend SequentialBackend with 1 concurrent workers.\n",
      "[Parallel(n_jobs=1)]: Done  17 out of  17 | elapsed:   26.1s finished\n",
      "Features: 16/13[Parallel(n_jobs=1)]: Using backend SequentialBackend with 1 concurrent workers.\n",
      "[Parallel(n_jobs=1)]: Done  16 out of  16 | elapsed:   25.5s finished\n",
      "Features: 15/13[Parallel(n_jobs=1)]: Using backend SequentialBackend with 1 concurrent workers.\n",
      "[Parallel(n_jobs=1)]: Done  15 out of  15 | elapsed:   16.8s finished\n",
      "Features: 14/13[Parallel(n_jobs=1)]: Using backend SequentialBackend with 1 concurrent workers.\n",
      "[Parallel(n_jobs=1)]: Done  14 out of  14 | elapsed:   16.5s finished\n",
      "Features: 13/13"
     ]
    },
    {
     "name": "stdout",
     "output_type": "stream",
     "text": [
      "\n",
      "Error de validación aplicando SFS: 0.1638796305534023 +/- 0.0008080936955376138\n",
      "\n",
      "Eficiencia en validación aplicando SFS: 83.6674228044998%\n",
      "\n",
      "\n",
      "Tiempo total de ejecución: 3446.6446278095245 segundos.\n",
      "N-FEATURES:  13\n",
      "Indices  (0, 3, 4, 5, 6, 7, 8, 13, 16, 17, 18, 21, 22)\n"
     ]
    },
    {
     "name": "stderr",
     "output_type": "stream",
     "text": [
      "[Parallel(n_jobs=1)]: Using backend SequentialBackend with 1 concurrent workers.\n",
      "[Parallel(n_jobs=1)]: Done  23 out of  23 | elapsed:   52.7s finished\n",
      "Features: 22/15[Parallel(n_jobs=1)]: Using backend SequentialBackend with 1 concurrent workers.\n",
      "[Parallel(n_jobs=1)]: Done  22 out of  22 | elapsed:   52.0s finished\n",
      "Features: 21/15[Parallel(n_jobs=1)]: Using backend SequentialBackend with 1 concurrent workers.\n",
      "[Parallel(n_jobs=1)]: Done  21 out of  21 | elapsed:   47.5s finished\n",
      "Features: 20/15[Parallel(n_jobs=1)]: Using backend SequentialBackend with 1 concurrent workers.\n",
      "[Parallel(n_jobs=1)]: Done  20 out of  20 | elapsed:   36.7s finished\n",
      "Features: 19/15[Parallel(n_jobs=1)]: Using backend SequentialBackend with 1 concurrent workers.\n",
      "[Parallel(n_jobs=1)]: Done  19 out of  19 | elapsed:   36.2s finished\n",
      "Features: 18/15[Parallel(n_jobs=1)]: Using backend SequentialBackend with 1 concurrent workers.\n",
      "[Parallel(n_jobs=1)]: Done  18 out of  18 | elapsed:   35.0s finished\n",
      "Features: 17/15[Parallel(n_jobs=1)]: Using backend SequentialBackend with 1 concurrent workers.\n",
      "[Parallel(n_jobs=1)]: Done  17 out of  17 | elapsed:   34.4s finished\n",
      "Features: 16/15[Parallel(n_jobs=1)]: Using backend SequentialBackend with 1 concurrent workers.\n",
      "[Parallel(n_jobs=1)]: Done  16 out of  16 | elapsed:   30.7s finished\n",
      "Features: 15/15[Parallel(n_jobs=1)]: Using backend SequentialBackend with 1 concurrent workers.\n",
      "[Parallel(n_jobs=1)]: Done  23 out of  23 | elapsed:   52.3s finished\n",
      "Features: 22/15[Parallel(n_jobs=1)]: Using backend SequentialBackend with 1 concurrent workers.\n",
      "[Parallel(n_jobs=1)]: Done  22 out of  22 | elapsed:   52.1s finished\n",
      "Features: 21/15[Parallel(n_jobs=1)]: Using backend SequentialBackend with 1 concurrent workers.\n",
      "[Parallel(n_jobs=1)]: Done  21 out of  21 | elapsed:   50.7s finished\n",
      "Features: 20/15[Parallel(n_jobs=1)]: Using backend SequentialBackend with 1 concurrent workers.\n",
      "[Parallel(n_jobs=1)]: Done  20 out of  20 | elapsed:   37.1s finished\n",
      "Features: 19/15[Parallel(n_jobs=1)]: Using backend SequentialBackend with 1 concurrent workers.\n",
      "[Parallel(n_jobs=1)]: Done  19 out of  19 | elapsed:   33.9s finished\n",
      "Features: 18/15[Parallel(n_jobs=1)]: Using backend SequentialBackend with 1 concurrent workers.\n",
      "[Parallel(n_jobs=1)]: Done  18 out of  18 | elapsed:   29.8s finished\n",
      "Features: 17/15[Parallel(n_jobs=1)]: Using backend SequentialBackend with 1 concurrent workers.\n",
      "[Parallel(n_jobs=1)]: Done  17 out of  17 | elapsed:   26.3s finished\n",
      "Features: 16/15[Parallel(n_jobs=1)]: Using backend SequentialBackend with 1 concurrent workers.\n",
      "[Parallel(n_jobs=1)]: Done  16 out of  16 | elapsed:   22.4s finished\n",
      "Features: 15/15[Parallel(n_jobs=1)]: Using backend SequentialBackend with 1 concurrent workers.\n",
      "[Parallel(n_jobs=1)]: Done  23 out of  23 | elapsed:   55.6s finished\n",
      "Features: 22/15[Parallel(n_jobs=1)]: Using backend SequentialBackend with 1 concurrent workers.\n",
      "[Parallel(n_jobs=1)]: Done  22 out of  22 | elapsed:   55.1s finished\n",
      "Features: 21/15[Parallel(n_jobs=1)]: Using backend SequentialBackend with 1 concurrent workers.\n",
      "[Parallel(n_jobs=1)]: Done  21 out of  21 | elapsed:   50.6s finished\n",
      "Features: 20/15[Parallel(n_jobs=1)]: Using backend SequentialBackend with 1 concurrent workers.\n",
      "[Parallel(n_jobs=1)]: Done  20 out of  20 | elapsed:   37.4s finished\n",
      "Features: 19/15[Parallel(n_jobs=1)]: Using backend SequentialBackend with 1 concurrent workers.\n",
      "[Parallel(n_jobs=1)]: Done  19 out of  19 | elapsed:   34.5s finished\n",
      "Features: 18/15[Parallel(n_jobs=1)]: Using backend SequentialBackend with 1 concurrent workers.\n",
      "[Parallel(n_jobs=1)]: Done  18 out of  18 | elapsed:   33.6s finished\n",
      "Features: 17/15[Parallel(n_jobs=1)]: Using backend SequentialBackend with 1 concurrent workers.\n",
      "[Parallel(n_jobs=1)]: Done  17 out of  17 | elapsed:   33.2s finished\n",
      "Features: 16/15[Parallel(n_jobs=1)]: Using backend SequentialBackend with 1 concurrent workers.\n",
      "[Parallel(n_jobs=1)]: Done  16 out of  16 | elapsed:   32.6s finished\n",
      "Features: 15/15[Parallel(n_jobs=1)]: Using backend SequentialBackend with 1 concurrent workers.\n",
      "[Parallel(n_jobs=1)]: Done  23 out of  23 | elapsed:   54.7s finished\n",
      "Features: 22/15[Parallel(n_jobs=1)]: Using backend SequentialBackend with 1 concurrent workers.\n",
      "[Parallel(n_jobs=1)]: Done  22 out of  22 | elapsed:   50.0s finished\n",
      "Features: 21/15[Parallel(n_jobs=1)]: Using backend SequentialBackend with 1 concurrent workers.\n",
      "[Parallel(n_jobs=1)]: Done  21 out of  21 | elapsed:   48.2s finished\n",
      "Features: 20/15[Parallel(n_jobs=1)]: Using backend SequentialBackend with 1 concurrent workers.\n",
      "[Parallel(n_jobs=1)]: Done  20 out of  20 | elapsed:   36.7s finished\n",
      "Features: 19/15[Parallel(n_jobs=1)]: Using backend SequentialBackend with 1 concurrent workers.\n",
      "[Parallel(n_jobs=1)]: Done  19 out of  19 | elapsed:   33.1s finished\n",
      "Features: 18/15[Parallel(n_jobs=1)]: Using backend SequentialBackend with 1 concurrent workers.\n",
      "[Parallel(n_jobs=1)]: Done  18 out of  18 | elapsed:   29.4s finished\n",
      "Features: 17/15[Parallel(n_jobs=1)]: Using backend SequentialBackend with 1 concurrent workers.\n",
      "[Parallel(n_jobs=1)]: Done  17 out of  17 | elapsed:   28.8s finished\n",
      "Features: 16/15[Parallel(n_jobs=1)]: Using backend SequentialBackend with 1 concurrent workers.\n",
      "[Parallel(n_jobs=1)]: Done  16 out of  16 | elapsed:   28.4s finished\n",
      "Features: 15/15[Parallel(n_jobs=1)]: Using backend SequentialBackend with 1 concurrent workers.\n",
      "[Parallel(n_jobs=1)]: Done  23 out of  23 | elapsed:   52.6s finished\n",
      "Features: 22/15[Parallel(n_jobs=1)]: Using backend SequentialBackend with 1 concurrent workers.\n",
      "[Parallel(n_jobs=1)]: Done  22 out of  22 | elapsed:   51.7s finished\n",
      "Features: 21/15[Parallel(n_jobs=1)]: Using backend SequentialBackend with 1 concurrent workers.\n",
      "[Parallel(n_jobs=1)]: Done  21 out of  21 | elapsed:   47.6s finished\n",
      "Features: 20/15[Parallel(n_jobs=1)]: Using backend SequentialBackend with 1 concurrent workers.\n",
      "[Parallel(n_jobs=1)]: Done  20 out of  20 | elapsed:   35.0s finished\n",
      "Features: 19/15[Parallel(n_jobs=1)]: Using backend SequentialBackend with 1 concurrent workers.\n",
      "[Parallel(n_jobs=1)]: Done  19 out of  19 | elapsed:   31.4s finished\n",
      "Features: 18/15[Parallel(n_jobs=1)]: Using backend SequentialBackend with 1 concurrent workers.\n",
      "[Parallel(n_jobs=1)]: Done  18 out of  18 | elapsed:   30.8s finished\n",
      "Features: 17/15[Parallel(n_jobs=1)]: Using backend SequentialBackend with 1 concurrent workers.\n",
      "[Parallel(n_jobs=1)]: Done  17 out of  17 | elapsed:   28.7s finished\n",
      "Features: 16/15[Parallel(n_jobs=1)]: Using backend SequentialBackend with 1 concurrent workers.\n",
      "[Parallel(n_jobs=1)]: Done  16 out of  16 | elapsed:   28.2s finished\n",
      "Features: 15/15[Parallel(n_jobs=1)]: Using backend SequentialBackend with 1 concurrent workers.\n",
      "[Parallel(n_jobs=1)]: Done  23 out of  23 | elapsed:   52.6s finished\n",
      "Features: 22/15[Parallel(n_jobs=1)]: Using backend SequentialBackend with 1 concurrent workers.\n",
      "[Parallel(n_jobs=1)]: Done  22 out of  22 | elapsed:   47.9s finished\n",
      "Features: 21/15[Parallel(n_jobs=1)]: Using backend SequentialBackend with 1 concurrent workers.\n",
      "[Parallel(n_jobs=1)]: Done  21 out of  21 | elapsed:   43.7s finished\n",
      "Features: 20/15[Parallel(n_jobs=1)]: Using backend SequentialBackend with 1 concurrent workers.\n",
      "[Parallel(n_jobs=1)]: Done  20 out of  20 | elapsed:   30.4s finished\n",
      "Features: 19/15[Parallel(n_jobs=1)]: Using backend SequentialBackend with 1 concurrent workers.\n",
      "[Parallel(n_jobs=1)]: Done  19 out of  19 | elapsed:   30.2s finished\n",
      "Features: 18/15[Parallel(n_jobs=1)]: Using backend SequentialBackend with 1 concurrent workers.\n",
      "[Parallel(n_jobs=1)]: Done  18 out of  18 | elapsed:   28.0s finished\n",
      "Features: 17/15[Parallel(n_jobs=1)]: Using backend SequentialBackend with 1 concurrent workers.\n",
      "[Parallel(n_jobs=1)]: Done  17 out of  17 | elapsed:   26.7s finished\n",
      "Features: 16/15[Parallel(n_jobs=1)]: Using backend SequentialBackend with 1 concurrent workers.\n",
      "[Parallel(n_jobs=1)]: Done  16 out of  16 | elapsed:   26.2s finished\n",
      "Features: 15/15[Parallel(n_jobs=1)]: Using backend SequentialBackend with 1 concurrent workers.\n",
      "[Parallel(n_jobs=1)]: Done  23 out of  23 | elapsed:   52.7s finished\n",
      "Features: 22/15[Parallel(n_jobs=1)]: Using backend SequentialBackend with 1 concurrent workers.\n",
      "[Parallel(n_jobs=1)]: Done  22 out of  22 | elapsed:   51.7s finished\n",
      "Features: 21/15[Parallel(n_jobs=1)]: Using backend SequentialBackend with 1 concurrent workers.\n",
      "[Parallel(n_jobs=1)]: Done  21 out of  21 | elapsed:   51.4s finished\n",
      "Features: 20/15[Parallel(n_jobs=1)]: Using backend SequentialBackend with 1 concurrent workers.\n",
      "[Parallel(n_jobs=1)]: Done  20 out of  20 | elapsed:   39.6s finished\n",
      "Features: 19/15[Parallel(n_jobs=1)]: Using backend SequentialBackend with 1 concurrent workers.\n",
      "[Parallel(n_jobs=1)]: Done  19 out of  19 | elapsed:   36.1s finished\n",
      "Features: 18/15[Parallel(n_jobs=1)]: Using backend SequentialBackend with 1 concurrent workers.\n",
      "[Parallel(n_jobs=1)]: Done  18 out of  18 | elapsed:   35.4s finished\n",
      "Features: 17/15[Parallel(n_jobs=1)]: Using backend SequentialBackend with 1 concurrent workers.\n",
      "[Parallel(n_jobs=1)]: Done  17 out of  17 | elapsed:   33.3s finished\n",
      "Features: 16/15[Parallel(n_jobs=1)]: Using backend SequentialBackend with 1 concurrent workers.\n",
      "[Parallel(n_jobs=1)]: Done  16 out of  16 | elapsed:   32.9s finished\n",
      "Features: 15/15[Parallel(n_jobs=1)]: Using backend SequentialBackend with 1 concurrent workers.\n",
      "[Parallel(n_jobs=1)]: Done  23 out of  23 | elapsed:   52.5s finished\n",
      "Features: 22/15[Parallel(n_jobs=1)]: Using backend SequentialBackend with 1 concurrent workers.\n",
      "[Parallel(n_jobs=1)]: Done  22 out of  22 | elapsed:   49.5s finished\n",
      "Features: 21/15[Parallel(n_jobs=1)]: Using backend SequentialBackend with 1 concurrent workers.\n",
      "[Parallel(n_jobs=1)]: Done  21 out of  21 | elapsed:   45.2s finished\n",
      "Features: 20/15[Parallel(n_jobs=1)]: Using backend SequentialBackend with 1 concurrent workers.\n",
      "[Parallel(n_jobs=1)]: Done  20 out of  20 | elapsed:   34.2s finished\n",
      "Features: 19/15[Parallel(n_jobs=1)]: Using backend SequentialBackend with 1 concurrent workers.\n",
      "[Parallel(n_jobs=1)]: Done  19 out of  19 | elapsed:   33.6s finished\n",
      "Features: 18/15[Parallel(n_jobs=1)]: Using backend SequentialBackend with 1 concurrent workers.\n",
      "[Parallel(n_jobs=1)]: Done  18 out of  18 | elapsed:   33.1s finished\n",
      "Features: 17/15[Parallel(n_jobs=1)]: Using backend SequentialBackend with 1 concurrent workers.\n",
      "[Parallel(n_jobs=1)]: Done  17 out of  17 | elapsed:   32.5s finished\n",
      "Features: 16/15[Parallel(n_jobs=1)]: Using backend SequentialBackend with 1 concurrent workers.\n",
      "[Parallel(n_jobs=1)]: Done  16 out of  16 | elapsed:   29.0s finished\n",
      "Features: 15/15[Parallel(n_jobs=1)]: Using backend SequentialBackend with 1 concurrent workers.\n",
      "[Parallel(n_jobs=1)]: Done  23 out of  23 | elapsed:   53.8s finished\n",
      "Features: 22/15[Parallel(n_jobs=1)]: Using backend SequentialBackend with 1 concurrent workers.\n",
      "[Parallel(n_jobs=1)]: Done  22 out of  22 | elapsed:   51.7s finished\n",
      "Features: 21/15[Parallel(n_jobs=1)]: Using backend SequentialBackend with 1 concurrent workers.\n",
      "[Parallel(n_jobs=1)]: Done  21 out of  21 | elapsed:   50.6s finished\n",
      "Features: 20/15[Parallel(n_jobs=1)]: Using backend SequentialBackend with 1 concurrent workers.\n",
      "[Parallel(n_jobs=1)]: Done  20 out of  20 | elapsed:   39.8s finished\n",
      "Features: 19/15[Parallel(n_jobs=1)]: Using backend SequentialBackend with 1 concurrent workers.\n",
      "[Parallel(n_jobs=1)]: Done  19 out of  19 | elapsed:   39.1s finished\n",
      "Features: 18/15[Parallel(n_jobs=1)]: Using backend SequentialBackend with 1 concurrent workers.\n",
      "[Parallel(n_jobs=1)]: Done  18 out of  18 | elapsed:   35.8s finished\n",
      "Features: 17/15[Parallel(n_jobs=1)]: Using backend SequentialBackend with 1 concurrent workers.\n",
      "[Parallel(n_jobs=1)]: Done  17 out of  17 | elapsed:   34.1s finished\n",
      "Features: 16/15[Parallel(n_jobs=1)]: Using backend SequentialBackend with 1 concurrent workers.\n",
      "[Parallel(n_jobs=1)]: Done  16 out of  16 | elapsed:   29.7s finished\n",
      "Features: 15/15[Parallel(n_jobs=1)]: Using backend SequentialBackend with 1 concurrent workers.\n",
      "[Parallel(n_jobs=1)]: Done  23 out of  23 | elapsed:   54.6s finished\n",
      "Features: 22/15[Parallel(n_jobs=1)]: Using backend SequentialBackend with 1 concurrent workers.\n",
      "[Parallel(n_jobs=1)]: Done  22 out of  22 | elapsed:   50.2s finished\n",
      "Features: 21/15[Parallel(n_jobs=1)]: Using backend SequentialBackend with 1 concurrent workers.\n",
      "[Parallel(n_jobs=1)]: Done  21 out of  21 | elapsed:   47.6s finished\n",
      "Features: 20/15[Parallel(n_jobs=1)]: Using backend SequentialBackend with 1 concurrent workers.\n",
      "[Parallel(n_jobs=1)]: Done  20 out of  20 | elapsed:   35.4s finished\n",
      "Features: 19/15[Parallel(n_jobs=1)]: Using backend SequentialBackend with 1 concurrent workers.\n",
      "[Parallel(n_jobs=1)]: Done  19 out of  19 | elapsed:   30.7s finished\n",
      "Features: 18/15[Parallel(n_jobs=1)]: Using backend SequentialBackend with 1 concurrent workers.\n",
      "[Parallel(n_jobs=1)]: Done  18 out of  18 | elapsed:   30.6s finished\n",
      "Features: 17/15[Parallel(n_jobs=1)]: Using backend SequentialBackend with 1 concurrent workers.\n",
      "[Parallel(n_jobs=1)]: Done  17 out of  17 | elapsed:   30.2s finished\n",
      "Features: 16/15[Parallel(n_jobs=1)]: Using backend SequentialBackend with 1 concurrent workers.\n",
      "[Parallel(n_jobs=1)]: Done  16 out of  16 | elapsed:   25.9s finished\n",
      "Features: 15/15"
     ]
    },
    {
     "name": "stdout",
     "output_type": "stream",
     "text": [
      "\n",
      "Error de validación aplicando SFS: 0.16171294759410285 +/- 0.0009065566143092568\n",
      "\n",
      "Eficiencia en validación aplicando SFS: 83.80167584834035%\n",
      "\n",
      "\n",
      "Tiempo total de ejecución: 3169.7816207408905 segundos.\n",
      "N-FEATURES:  15\n",
      "Indices  (0, 3, 4, 5, 6, 7, 9, 10, 12, 14, 15, 17, 18, 19, 22)\n"
     ]
    },
    {
     "name": "stderr",
     "output_type": "stream",
     "text": [
      "[Parallel(n_jobs=1)]: Using backend SequentialBackend with 1 concurrent workers.\n",
      "[Parallel(n_jobs=1)]: Done  23 out of  23 | elapsed:   55.1s finished\n",
      "Features: 22/18[Parallel(n_jobs=1)]: Using backend SequentialBackend with 1 concurrent workers.\n",
      "[Parallel(n_jobs=1)]: Done  22 out of  22 | elapsed:   51.0s finished\n",
      "Features: 21/18[Parallel(n_jobs=1)]: Using backend SequentialBackend with 1 concurrent workers.\n",
      "[Parallel(n_jobs=1)]: Done  21 out of  21 | elapsed:   45.3s finished\n",
      "Features: 20/18[Parallel(n_jobs=1)]: Using backend SequentialBackend with 1 concurrent workers.\n",
      "[Parallel(n_jobs=1)]: Done  20 out of  20 | elapsed:   35.0s finished\n",
      "Features: 19/18[Parallel(n_jobs=1)]: Using backend SequentialBackend with 1 concurrent workers.\n",
      "[Parallel(n_jobs=1)]: Done  19 out of  19 | elapsed:   31.4s finished\n",
      "Features: 18/18[Parallel(n_jobs=1)]: Using backend SequentialBackend with 1 concurrent workers.\n",
      "[Parallel(n_jobs=1)]: Done  23 out of  23 | elapsed:   52.6s finished\n",
      "Features: 22/18[Parallel(n_jobs=1)]: Using backend SequentialBackend with 1 concurrent workers.\n",
      "[Parallel(n_jobs=1)]: Done  22 out of  22 | elapsed:   47.5s finished\n",
      "Features: 21/18[Parallel(n_jobs=1)]: Using backend SequentialBackend with 1 concurrent workers.\n",
      "[Parallel(n_jobs=1)]: Done  21 out of  21 | elapsed:   46.8s finished\n",
      "Features: 20/18[Parallel(n_jobs=1)]: Using backend SequentialBackend with 1 concurrent workers.\n",
      "[Parallel(n_jobs=1)]: Done  20 out of  20 | elapsed:   34.7s finished\n",
      "Features: 19/18[Parallel(n_jobs=1)]: Using backend SequentialBackend with 1 concurrent workers.\n",
      "[Parallel(n_jobs=1)]: Done  19 out of  19 | elapsed:   34.1s finished\n",
      "Features: 18/18[Parallel(n_jobs=1)]: Using backend SequentialBackend with 1 concurrent workers.\n",
      "[Parallel(n_jobs=1)]: Done  23 out of  23 | elapsed:   52.9s finished\n",
      "Features: 22/18[Parallel(n_jobs=1)]: Using backend SequentialBackend with 1 concurrent workers.\n",
      "[Parallel(n_jobs=1)]: Done  22 out of  22 | elapsed:   51.8s finished\n",
      "Features: 21/18[Parallel(n_jobs=1)]: Using backend SequentialBackend with 1 concurrent workers.\n",
      "[Parallel(n_jobs=1)]: Done  21 out of  21 | elapsed:   51.6s finished\n",
      "Features: 20/18[Parallel(n_jobs=1)]: Using backend SequentialBackend with 1 concurrent workers.\n",
      "[Parallel(n_jobs=1)]: Done  20 out of  20 | elapsed:   36.5s finished\n",
      "Features: 19/18[Parallel(n_jobs=1)]: Using backend SequentialBackend with 1 concurrent workers.\n",
      "[Parallel(n_jobs=1)]: Done  19 out of  19 | elapsed:   34.4s finished\n",
      "Features: 18/18[Parallel(n_jobs=1)]: Using backend SequentialBackend with 1 concurrent workers.\n",
      "[Parallel(n_jobs=1)]: Done  23 out of  23 | elapsed:   52.9s finished\n",
      "Features: 22/18[Parallel(n_jobs=1)]: Using backend SequentialBackend with 1 concurrent workers.\n",
      "[Parallel(n_jobs=1)]: Done  22 out of  22 | elapsed:   48.2s finished\n",
      "Features: 21/18[Parallel(n_jobs=1)]: Using backend SequentialBackend with 1 concurrent workers.\n",
      "[Parallel(n_jobs=1)]: Done  21 out of  21 | elapsed:   45.1s finished\n",
      "Features: 20/18[Parallel(n_jobs=1)]: Using backend SequentialBackend with 1 concurrent workers.\n",
      "[Parallel(n_jobs=1)]: Done  20 out of  20 | elapsed:   34.3s finished\n",
      "Features: 19/18[Parallel(n_jobs=1)]: Using backend SequentialBackend with 1 concurrent workers.\n",
      "[Parallel(n_jobs=1)]: Done  19 out of  19 | elapsed:   34.0s finished\n",
      "Features: 18/18[Parallel(n_jobs=1)]: Using backend SequentialBackend with 1 concurrent workers.\n",
      "[Parallel(n_jobs=1)]: Done  23 out of  23 | elapsed:   52.9s finished\n",
      "Features: 22/18[Parallel(n_jobs=1)]: Using backend SequentialBackend with 1 concurrent workers.\n",
      "[Parallel(n_jobs=1)]: Done  22 out of  22 | elapsed:   48.2s finished\n",
      "Features: 21/18[Parallel(n_jobs=1)]: Using backend SequentialBackend with 1 concurrent workers.\n",
      "[Parallel(n_jobs=1)]: Done  21 out of  21 | elapsed:   43.9s finished\n",
      "Features: 20/18[Parallel(n_jobs=1)]: Using backend SequentialBackend with 1 concurrent workers.\n",
      "[Parallel(n_jobs=1)]: Done  20 out of  20 | elapsed:   33.9s finished\n",
      "Features: 19/18[Parallel(n_jobs=1)]: Using backend SequentialBackend with 1 concurrent workers.\n",
      "[Parallel(n_jobs=1)]: Done  19 out of  19 | elapsed:   33.2s finished\n",
      "Features: 18/18[Parallel(n_jobs=1)]: Using backend SequentialBackend with 1 concurrent workers.\n",
      "[Parallel(n_jobs=1)]: Done  23 out of  23 | elapsed:   53.0s finished\n",
      "Features: 22/18[Parallel(n_jobs=1)]: Using backend SequentialBackend with 1 concurrent workers.\n",
      "[Parallel(n_jobs=1)]: Done  22 out of  22 | elapsed:   50.2s finished\n",
      "Features: 21/18[Parallel(n_jobs=1)]: Using backend SequentialBackend with 1 concurrent workers.\n",
      "[Parallel(n_jobs=1)]: Done  21 out of  21 | elapsed:   48.3s finished\n",
      "Features: 20/18[Parallel(n_jobs=1)]: Using backend SequentialBackend with 1 concurrent workers.\n",
      "[Parallel(n_jobs=1)]: Done  20 out of  20 | elapsed:   37.4s finished\n",
      "Features: 19/18[Parallel(n_jobs=1)]: Using backend SequentialBackend with 1 concurrent workers.\n",
      "[Parallel(n_jobs=1)]: Done  19 out of  19 | elapsed:   35.2s finished\n",
      "Features: 18/18[Parallel(n_jobs=1)]: Using backend SequentialBackend with 1 concurrent workers.\n",
      "[Parallel(n_jobs=1)]: Done  23 out of  23 | elapsed:   53.0s finished\n",
      "Features: 22/18[Parallel(n_jobs=1)]: Using backend SequentialBackend with 1 concurrent workers.\n",
      "[Parallel(n_jobs=1)]: Done  22 out of  22 | elapsed:   52.3s finished\n",
      "Features: 21/18[Parallel(n_jobs=1)]: Using backend SequentialBackend with 1 concurrent workers.\n",
      "[Parallel(n_jobs=1)]: Done  21 out of  21 | elapsed:   51.5s finished\n",
      "Features: 20/18[Parallel(n_jobs=1)]: Using backend SequentialBackend with 1 concurrent workers.\n",
      "[Parallel(n_jobs=1)]: Done  20 out of  20 | elapsed:   39.6s finished\n",
      "Features: 19/18[Parallel(n_jobs=1)]: Using backend SequentialBackend with 1 concurrent workers.\n",
      "[Parallel(n_jobs=1)]: Done  19 out of  19 | elapsed:   36.1s finished\n",
      "Features: 18/18[Parallel(n_jobs=1)]: Using backend SequentialBackend with 1 concurrent workers.\n",
      "[Parallel(n_jobs=1)]: Done  23 out of  23 | elapsed:   52.8s finished\n",
      "Features: 22/18[Parallel(n_jobs=1)]: Using backend SequentialBackend with 1 concurrent workers.\n",
      "[Parallel(n_jobs=1)]: Done  22 out of  22 | elapsed:   52.0s finished\n",
      "Features: 21/18[Parallel(n_jobs=1)]: Using backend SequentialBackend with 1 concurrent workers.\n",
      "[Parallel(n_jobs=1)]: Done  21 out of  21 | elapsed:   49.1s finished\n",
      "Features: 20/18[Parallel(n_jobs=1)]: Using backend SequentialBackend with 1 concurrent workers.\n",
      "[Parallel(n_jobs=1)]: Done  20 out of  20 | elapsed:   36.1s finished\n",
      "Features: 19/18[Parallel(n_jobs=1)]: Using backend SequentialBackend with 1 concurrent workers.\n",
      "[Parallel(n_jobs=1)]: Done  19 out of  19 | elapsed:   35.5s finished\n",
      "Features: 18/18[Parallel(n_jobs=1)]: Using backend SequentialBackend with 1 concurrent workers.\n",
      "[Parallel(n_jobs=1)]: Done  23 out of  23 | elapsed:   52.8s finished\n",
      "Features: 22/18[Parallel(n_jobs=1)]: Using backend SequentialBackend with 1 concurrent workers.\n",
      "[Parallel(n_jobs=1)]: Done  22 out of  22 | elapsed:   48.0s finished\n",
      "Features: 21/18[Parallel(n_jobs=1)]: Using backend SequentialBackend with 1 concurrent workers.\n",
      "[Parallel(n_jobs=1)]: Done  21 out of  21 | elapsed:   47.7s finished\n",
      "Features: 20/18[Parallel(n_jobs=1)]: Using backend SequentialBackend with 1 concurrent workers.\n",
      "[Parallel(n_jobs=1)]: Done  20 out of  20 | elapsed:   36.3s finished\n",
      "Features: 19/18[Parallel(n_jobs=1)]: Using backend SequentialBackend with 1 concurrent workers.\n",
      "[Parallel(n_jobs=1)]: Done  19 out of  19 | elapsed:   32.7s finished\n",
      "Features: 18/18[Parallel(n_jobs=1)]: Using backend SequentialBackend with 1 concurrent workers.\n",
      "[Parallel(n_jobs=1)]: Done  23 out of  23 | elapsed:   52.8s finished\n",
      "Features: 22/18[Parallel(n_jobs=1)]: Using backend SequentialBackend with 1 concurrent workers.\n",
      "[Parallel(n_jobs=1)]: Done  22 out of  22 | elapsed:   50.2s finished\n",
      "Features: 21/18[Parallel(n_jobs=1)]: Using backend SequentialBackend with 1 concurrent workers.\n",
      "[Parallel(n_jobs=1)]: Done  21 out of  21 | elapsed:   45.5s finished\n",
      "Features: 20/18[Parallel(n_jobs=1)]: Using backend SequentialBackend with 1 concurrent workers.\n",
      "[Parallel(n_jobs=1)]: Done  20 out of  20 | elapsed:   31.7s finished\n",
      "Features: 19/18[Parallel(n_jobs=1)]: Using backend SequentialBackend with 1 concurrent workers.\n",
      "[Parallel(n_jobs=1)]: Done  19 out of  19 | elapsed:   28.3s finished\n",
      "Features: 18/18"
     ]
    },
    {
     "name": "stdout",
     "output_type": "stream",
     "text": [
      "\n",
      "Error de validación aplicando SFS: 0.16182867933280579 +/- 0.0008278362347835474\n",
      "\n",
      "Eficiencia en validación aplicando SFS: 83.79241701773066%\n",
      "\n",
      "\n",
      "Tiempo total de ejecución: 2218.775693655014 segundos.\n",
      "N-FEATURES:  18\n",
      "Indices  (0, 1, 2, 3, 4, 5, 6, 8, 9, 10, 12, 15, 16, 17, 18, 19, 20, 22)\n"
     ]
    },
    {
     "name": "stderr",
     "output_type": "stream",
     "text": [
      "[Parallel(n_jobs=1)]: Using backend SequentialBackend with 1 concurrent workers.\n",
      "[Parallel(n_jobs=1)]: Done  23 out of  23 | elapsed:   52.8s finished\n",
      "Features: 22/20[Parallel(n_jobs=1)]: Using backend SequentialBackend with 1 concurrent workers.\n",
      "[Parallel(n_jobs=1)]: Done  22 out of  22 | elapsed:   50.2s finished\n",
      "Features: 21/20[Parallel(n_jobs=1)]: Using backend SequentialBackend with 1 concurrent workers.\n",
      "[Parallel(n_jobs=1)]: Done  21 out of  21 | elapsed:   45.4s finished\n",
      "Features: 20/20[Parallel(n_jobs=1)]: Using backend SequentialBackend with 1 concurrent workers.\n",
      "[Parallel(n_jobs=1)]: Done  23 out of  23 | elapsed:   52.9s finished\n",
      "Features: 22/20[Parallel(n_jobs=1)]: Using backend SequentialBackend with 1 concurrent workers.\n",
      "[Parallel(n_jobs=1)]: Done  22 out of  22 | elapsed:   48.3s finished\n",
      "Features: 21/20[Parallel(n_jobs=1)]: Using backend SequentialBackend with 1 concurrent workers.\n",
      "[Parallel(n_jobs=1)]: Done  21 out of  21 | elapsed:   43.6s finished\n",
      "Features: 20/20[Parallel(n_jobs=1)]: Using backend SequentialBackend with 1 concurrent workers.\n",
      "[Parallel(n_jobs=1)]: Done  23 out of  23 | elapsed:   52.9s finished\n",
      "Features: 22/20[Parallel(n_jobs=1)]: Using backend SequentialBackend with 1 concurrent workers.\n",
      "[Parallel(n_jobs=1)]: Done  22 out of  22 | elapsed:   49.9s finished\n",
      "Features: 21/20[Parallel(n_jobs=1)]: Using backend SequentialBackend with 1 concurrent workers.\n",
      "[Parallel(n_jobs=1)]: Done  21 out of  21 | elapsed:   49.0s finished\n",
      "Features: 20/20[Parallel(n_jobs=1)]: Using backend SequentialBackend with 1 concurrent workers.\n",
      "[Parallel(n_jobs=1)]: Done  23 out of  23 | elapsed:   52.6s finished\n",
      "Features: 22/20[Parallel(n_jobs=1)]: Using backend SequentialBackend with 1 concurrent workers.\n",
      "[Parallel(n_jobs=1)]: Done  22 out of  22 | elapsed:   47.9s finished\n",
      "Features: 21/20[Parallel(n_jobs=1)]: Using backend SequentialBackend with 1 concurrent workers.\n",
      "[Parallel(n_jobs=1)]: Done  21 out of  21 | elapsed:   46.3s finished\n",
      "Features: 20/20[Parallel(n_jobs=1)]: Using backend SequentialBackend with 1 concurrent workers.\n",
      "[Parallel(n_jobs=1)]: Done  23 out of  23 | elapsed:   52.8s finished\n",
      "Features: 22/20[Parallel(n_jobs=1)]: Using backend SequentialBackend with 1 concurrent workers.\n",
      "[Parallel(n_jobs=1)]: Done  22 out of  22 | elapsed:   52.0s finished\n",
      "Features: 21/20[Parallel(n_jobs=1)]: Using backend SequentialBackend with 1 concurrent workers.\n",
      "[Parallel(n_jobs=1)]: Done  21 out of  21 | elapsed:   47.2s finished\n",
      "Features: 20/20[Parallel(n_jobs=1)]: Using backend SequentialBackend with 1 concurrent workers.\n",
      "[Parallel(n_jobs=1)]: Done  23 out of  23 | elapsed:   52.7s finished\n",
      "Features: 22/20[Parallel(n_jobs=1)]: Using backend SequentialBackend with 1 concurrent workers.\n",
      "[Parallel(n_jobs=1)]: Done  22 out of  22 | elapsed:   50.0s finished\n",
      "Features: 21/20[Parallel(n_jobs=1)]: Using backend SequentialBackend with 1 concurrent workers.\n",
      "[Parallel(n_jobs=1)]: Done  21 out of  21 | elapsed:   49.2s finished\n",
      "Features: 20/20[Parallel(n_jobs=1)]: Using backend SequentialBackend with 1 concurrent workers.\n",
      "[Parallel(n_jobs=1)]: Done  23 out of  23 | elapsed:   53.0s finished\n",
      "Features: 22/20[Parallel(n_jobs=1)]: Using backend SequentialBackend with 1 concurrent workers.\n",
      "[Parallel(n_jobs=1)]: Done  22 out of  22 | elapsed:   51.9s finished\n",
      "Features: 21/20[Parallel(n_jobs=1)]: Using backend SequentialBackend with 1 concurrent workers.\n",
      "[Parallel(n_jobs=1)]: Done  21 out of  21 | elapsed:   47.6s finished\n",
      "Features: 20/20[Parallel(n_jobs=1)]: Using backend SequentialBackend with 1 concurrent workers.\n",
      "[Parallel(n_jobs=1)]: Done  23 out of  23 | elapsed:   52.6s finished\n",
      "Features: 22/20[Parallel(n_jobs=1)]: Using backend SequentialBackend with 1 concurrent workers.\n",
      "[Parallel(n_jobs=1)]: Done  22 out of  22 | elapsed:   52.2s finished\n",
      "Features: 21/20[Parallel(n_jobs=1)]: Using backend SequentialBackend with 1 concurrent workers.\n",
      "[Parallel(n_jobs=1)]: Done  21 out of  21 | elapsed:   47.0s finished\n",
      "Features: 20/20[Parallel(n_jobs=1)]: Using backend SequentialBackend with 1 concurrent workers.\n",
      "[Parallel(n_jobs=1)]: Done  23 out of  23 | elapsed:   52.8s finished\n",
      "Features: 22/20[Parallel(n_jobs=1)]: Using backend SequentialBackend with 1 concurrent workers.\n",
      "[Parallel(n_jobs=1)]: Done  22 out of  22 | elapsed:   50.0s finished\n",
      "Features: 21/20[Parallel(n_jobs=1)]: Using backend SequentialBackend with 1 concurrent workers.\n",
      "[Parallel(n_jobs=1)]: Done  21 out of  21 | elapsed:   49.1s finished\n",
      "Features: 20/20[Parallel(n_jobs=1)]: Using backend SequentialBackend with 1 concurrent workers.\n",
      "[Parallel(n_jobs=1)]: Done  23 out of  23 | elapsed:   53.0s finished\n",
      "Features: 22/20[Parallel(n_jobs=1)]: Using backend SequentialBackend with 1 concurrent workers.\n",
      "[Parallel(n_jobs=1)]: Done  22 out of  22 | elapsed:   49.9s finished\n",
      "Features: 21/20[Parallel(n_jobs=1)]: Using backend SequentialBackend with 1 concurrent workers.\n",
      "[Parallel(n_jobs=1)]: Done  21 out of  21 | elapsed:   49.0s finished\n",
      "Features: 20/20"
     ]
    },
    {
     "name": "stdout",
     "output_type": "stream",
     "text": [
      "\n",
      "Error de validación aplicando SFS: 0.16050460825727425 +/- 0.0009176311800740575\n",
      "\n",
      "Eficiencia en validación aplicando SFS: 83.96833479931485%\n",
      "\n",
      "\n",
      "Tiempo total de ejecución: 1527.016391992569 segundos.\n",
      "N-FEATURES:  20\n",
      "Indices  (0, 1, 4, 5, 6, 7, 8, 9, 10, 11, 12, 13, 14, 15, 16, 18, 19, 20, 21, 22)\n"
     ]
    },
    {
     "data": {
      "text/html": [
       "<div>\n",
       "<style scoped>\n",
       "    .dataframe tbody tr th:only-of-type {\n",
       "        vertical-align: middle;\n",
       "    }\n",
       "\n",
       "    .dataframe tbody tr th {\n",
       "        vertical-align: top;\n",
       "    }\n",
       "\n",
       "    .dataframe thead th {\n",
       "        text-align: right;\n",
       "    }\n",
       "</style>\n",
       "<table border=\"1\" class=\"dataframe\">\n",
       "  <thead>\n",
       "    <tr style=\"text-align: right;\">\n",
       "      <th></th>\n",
       "      <th></th>\n",
       "      <th></th>\n",
       "      <th>Error de validación</th>\n",
       "      <th>IC(std)</th>\n",
       "      <th>Tiempo de ejecución</th>\n",
       "      <th>Indices de caracteristicas</th>\n",
       "    </tr>\n",
       "    <tr>\n",
       "      <th>Modelo</th>\n",
       "      <th># de características seleccionadas</th>\n",
       "      <th>Fordward</th>\n",
       "      <th></th>\n",
       "      <th></th>\n",
       "      <th></th>\n",
       "      <th></th>\n",
       "    </tr>\n",
       "  </thead>\n",
       "  <tbody>\n",
       "    <tr>\n",
       "      <th rowspan=\"5\" valign=\"top\">RDF</th>\n",
       "      <th>10</th>\n",
       "      <th>False</th>\n",
       "      <td></td>\n",
       "      <td></td>\n",
       "      <td></td>\n",
       "      <td></td>\n",
       "    </tr>\n",
       "    <tr>\n",
       "      <th>13</th>\n",
       "      <th>False</th>\n",
       "      <td></td>\n",
       "      <td></td>\n",
       "      <td></td>\n",
       "      <td></td>\n",
       "    </tr>\n",
       "    <tr>\n",
       "      <th>15</th>\n",
       "      <th>False</th>\n",
       "      <td></td>\n",
       "      <td></td>\n",
       "      <td></td>\n",
       "      <td></td>\n",
       "    </tr>\n",
       "    <tr>\n",
       "      <th>18</th>\n",
       "      <th>False</th>\n",
       "      <td></td>\n",
       "      <td></td>\n",
       "      <td></td>\n",
       "      <td></td>\n",
       "    </tr>\n",
       "    <tr>\n",
       "      <th>20</th>\n",
       "      <th>False</th>\n",
       "      <td>0.000917631</td>\n",
       "      <td>1527.02</td>\n",
       "      <td>0.160505</td>\n",
       "      <td>(0, 1, 4, 5, 6, 7, 8, 9, 10, 11, 12, 13, 14, 1...</td>\n",
       "    </tr>\n",
       "  </tbody>\n",
       "</table>\n",
       "</div>"
      ],
      "text/plain": [
       "                                                   Error de validación  ...                         Indices de caracteristicas\n",
       "Modelo # de características seleccionadas Fordward                      ...                                                   \n",
       "RDF    10                                 False                         ...                                                   \n",
       "       13                                 False                         ...                                                   \n",
       "       15                                 False                         ...                                                   \n",
       "       18                                 False                         ...                                                   \n",
       "       20                                 False            0.000917631  ...  (0, 1, 4, 5, 6, 7, 8, 9, 10, 11, 12, 13, 14, 1...\n",
       "\n",
       "[5 rows x 4 columns]"
      ]
     },
     "execution_count": 42,
     "metadata": {
      "tags": []
     },
     "output_type": "execute_result"
    }
   ],
   "source": [
    "erroresA = []\n",
    "stdsA  = []\n",
    "tiemposA = []\n",
    "k_feature_idx_A = []\n",
    "\n",
    "\n",
    "import pandas as pd\n",
    "import qgrid\n",
    "df_types = pd.DataFrame({\n",
    "    'Modelo' : pd.Series(['RDF']*5),\n",
    "    '# de características seleccionadas' : pd.Series([10,13,15,18,20]*1),\n",
    "    'Fordward':pd.Series([False]*5)\n",
    "\n",
    "   })\n",
    "df_types.set_index(['Modelo','# de características seleccionadas','Fordward'], inplace=True)\n",
    "\n",
    "for i in df_types.index:  \n",
    "  \n",
    "  \n",
    "  model = getModel(str(i[0]))\n",
    "  tiempos,errores,stds,k_feature_idx_ = implementationSelectionFeatures(model,int(i[1]),i[2],False)\n",
    "  \n",
    "  erroresA.append(errores)\n",
    "  stdsA.append(stds)\n",
    "  tiemposA.append(tiempos)\n",
    "  k_feature_idx_A.append(k_feature_idx_)\n",
    "  \n",
    "  \n",
    "  \n",
    "  print('N-FEATURES: ', str(i[1]))\n",
    "  print(\"Indices \",k_feature_idx_)\n",
    "  \n",
    "  df_types[\"Error de validación\"] = \"\"\n",
    "  df_types[\"IC(std)\"] = \"\"\n",
    "  df_types[\"Tiempo de ejecución\"] = \"\"  \n",
    "  df_types[\"Indices de caracteristicas\"] = \"\"\n",
    "  \n",
    "  \n",
    "  df_types[\"Error de validación\"][i] = errores\n",
    "  df_types[\"IC(std)\"][i]= stds\n",
    "  df_types[\"Tiempo de ejecución\"][i] = tiempos\n",
    "  df_types[\"Indices de caracteristicas\"][i] = k_feature_idx_  \n",
    "  \n",
    "  \n",
    "  #df_types.sort_index(inplace=True)\n",
    "qgrid_widget = qgrid.show_grid(df_types, show_toolbar=False)\n",
    "qgrid_widget\n",
    "qgrid_widget.get_changed_df()"
   ]
  },
  {
   "cell_type": "markdown",
   "metadata": {
    "colab_type": "text",
    "id": "i6-LpWXAAuZ1"
   },
   "source": [
    "# BORRAR\n",
    "\n",
    "N-FEATURES:  10.0\n",
    "Error de validación aplicando SFS: 0.16599537037037038 +/- 0.0008122988302187612\n",
    "\n",
    "Eficiencia en validación aplicando SFS: 83.30092592592592%\n",
    "\n",
    "\n",
    "Tiempo total de ejecución: 1491.7369768619537 segundos.\n",
    "\n",
    "Indices  (0, 4, 5, 6, 9, 10, 11, 17, 18, 19)\n",
    "\n",
    "\n",
    "### N-FEATURES:  13.0\n",
    "\n",
    "\n",
    "Error de validación aplicando SFS: 0.16572685185185188 +/- 0.0007490992533423338\n",
    "\n",
    "Eficiencia en validación aplicando SFS: 83.54166666666667%\n",
    "\n",
    "\n",
    "Tiempo total de ejecución: 1893.8843281269073 segundos.\n",
    "\n",
    "\n",
    "Indices  (0, 1, 3, 4, 5, 6, 7, 9, 11, 14, 17, 21, 22)\n",
    "\n",
    "### N-FEATURES:  15.0\n",
    "\n",
    "\n",
    "Error de validación aplicando SFS: 0.16369907407407408 +/- 0.0006535653247724112\n",
    "\n",
    "Eficiencia en validación aplicando SFS: 83.63888888888889%\n",
    "\n",
    "\n",
    "Tiempo total de ejecución: 2234.4290492534637 segundos.\n",
    "\n",
    "Indices  (0, 4, 5, 6, 8, 9, 10, 11, 13, 16, 17, 18, 19, 21, 22)\n",
    "\n",
    "### N-FEATURES:  18.0\n",
    "\n",
    "\n",
    "Error de validación aplicando SFS: 0.16331481481481483 +/- 0.0008003235799646781\n",
    "\n",
    "Eficiencia en validación aplicando SFS: 83.7037037037037%\n",
    "\n",
    "\n",
    "Tiempo total de ejecución: 2627.5704872608185 segundos.\n",
    "\n",
    "Indices  (0, 4, 5, 6, 7, 8, 9, 10, 11, 12, 13, 14, 15, 16, 18, 19, 20, 22)\n",
    "\n",
    "### N-FEATURES:  20.0\n",
    "\n",
    "\n",
    "Error de validación aplicando SFS: 0.16293518518518518 +/- 0.0011574444438518655\n",
    "\n",
    "Eficiencia en validación aplicando SFS: 83.73611111111111%\n",
    "\n",
    "\n",
    "Tiempo total de ejecución: 2715.630776166916 segundos.\n",
    "Indices  (0, 2, 3, 4, 5, 6, 7, 9, 10, 11, 12, 13, 15, 16, 17, 18, 19, 20, 21, 22)\n",
    "\n"
   ]
  },
  {
   "cell_type": "markdown",
   "metadata": {
    "colab_type": "text",
    "id": "1kfL7wcx4a3j"
   },
   "source": [
    "## Evaluación del modelo con menos características\n"
   ]
  },
  {
   "cell_type": "code",
   "execution_count": 0,
   "metadata": {
    "colab": {},
    "colab_type": "code",
    "collapsed": true,
    "id": "9QtELJ5V6gmz"
   },
   "outputs": [],
   "source": [
    "# SACAR EL X_TEST Y X_TRAIN , Y_TRAIN Y Y_TEST de los indices de las variables mas importantes\n",
    "\n",
    "#X_test,y_test\n",
    "\n",
    "#X,Y"
   ]
  },
  {
   "cell_type": "code",
   "execution_count": 0,
   "metadata": {
    "colab": {},
    "colab_type": "code",
    "collapsed": true,
    "id": "leeMEbV64aNd"
   },
   "outputs": [],
   "source": [
    "from sklearn.ensemble import RandomForestClassifier\n",
    "\n",
    "FOLDS = 10\n",
    "\n",
    "params = { \n",
    "    'n_estimators': [50],\n",
    "     \"max_features\": [0.21],\n",
    "     'max_depth': [8],\n",
    "    'criterion' :['entropy']\n",
    "}\n",
    "\n",
    "rfc=RandomForestClassifier()\n",
    "\n",
    "gsRDF,X_test,Y_test= modelTrain(rfc,params,X,Y,VALID_SIZE,FOLDS)\n",
    "\n",
    "print(\"Best SCORE\",gsRDF.best_score_)\n",
    "print(\"Best ESTIMATOR\", gsRDF.best_params_)\n",
    "\n",
    "#GUARDAR MODELO\n",
    "\n",
    "PATH_gsRDF_MODEL = PATH+'Models/Best Models Seleccion y Extraccion Carateristicas/RDF.pkl'\n",
    "joblib.dump(gsRDF,PATH_gsRDF_MODEL)\n",
    "\n",
    "\n",
    "metrics = Metrics(gsRDF.best_estimator_,X_test,y_test)\n",
    "printMetrics(gsRDF)\n"
   ]
  },
  {
   "cell_type": "markdown",
   "metadata": {
    "colab_type": "text",
    "id": "22xWTfOgjYce"
   },
   "source": [
    "# RNA"
   ]
  },
  {
   "cell_type": "code",
   "execution_count": 0,
   "metadata": {
    "colab": {},
    "colab_type": "code",
    "collapsed": true,
    "id": "GcoJYY08jaFK"
   },
   "outputs": [],
   "source": [
    "erroresA = []\n",
    "stdsA  = []\n",
    "tiemposA = []\n",
    "k_feature_idx_A = []\n",
    "\n",
    "\n",
    "import pandas as pd\n",
    "import qgrid\n",
    "df_types = pd.DataFrame({\n",
    "    'Modelo' : pd.Series(['RNA']*10),\n",
    "    '# de características seleccionadas' : pd.Series([10,13,15,18,20]*2),\n",
    "    'Fordward':pd.Series([True]*5+[False]*5)\n",
    "\n",
    "   })\n",
    "df_types.set_index(['Modelo','# de características seleccionadas','Fordward'], inplace=True)\n",
    "\n",
    "for i in df_types.index:  \n",
    " \n",
    " \n",
    "  model = getModel(str(i[0]))\n",
    "  tiempos,errores,stds,k_feature_idx_ = implementationSelectionFeatures(model,int(i[1]),i[2],False)\n",
    " \n",
    "  erroresA.append(errores)\n",
    "  stdsA.append(stds)\n",
    "  tiemposA.append(tiempos)\n",
    "  k_feature_idx_A.append(k_feature_idx_)\n",
    " \n",
    " \n",
    " \n",
    "  print('N-FEATURES: ', str(i[1]))\n",
    "  print(\"Indices \",k_feature_idx_)\n",
    " \n",
    "  df_types[\"Error de validación\"] = \"\"\n",
    "  df_types[\"IC(std)\"] = \"\"\n",
    "  df_types[\"Tiempo de ejecución\"] = \"\"  \n",
    "  df_types[\"Indices de caracteristicas\"] = \"\"\n",
    " \n",
    " \n",
    "  df_types[\"Error de validación\"][i] = errores\n",
    "  df_types[\"IC(std)\"][i]= stds\n",
    "  df_types[\"Tiempo de ejecución\"][i] = tiempos\n",
    "  df_types[\"Indices de caracteristicas\"][i] = k_feature_idx_  \n",
    " \n",
    " \n",
    "  #df_types.sort_index(inplace=True)\n",
    "qgrid_widget = qgrid.show_grid(df_types, show_toolbar=False)\n",
    "qgrid_widget\n",
    "qgrid_widget.get_changed_df()\n"
   ]
  },
  {
   "cell_type": "markdown",
   "metadata": {
    "colab_type": "text",
    "id": "Fa_dfNqgjaps"
   },
   "source": [
    "# SVM"
   ]
  },
  {
   "cell_type": "code",
   "execution_count": 0,
   "metadata": {
    "colab": {},
    "colab_type": "code",
    "collapsed": true,
    "id": "kqDIdaC8jcAM"
   },
   "outputs": [],
   "source": [
    "erroresA = []\n",
    "stdsA  = []\n",
    "tiemposA = []\n",
    "k_feature_idx_A = []\n",
    "\n",
    "\n",
    "import pandas as pd\n",
    "import qgrid\n",
    "df_types = pd.DataFrame({\n",
    "    'Modelo' : pd.Series(['SVM']*10),\n",
    "    '# de características seleccionadas' : pd.Series([10,13,15,18,20]*2),\n",
    "    'Fordward':pd.Series([True]*5+[False]*5)\n",
    "\n",
    "   })\n",
    "df_types.set_index(['Modelo','# de características seleccionadas','Fordward'], inplace=True)\n",
    "\n",
    "for i in df_types.index:  \n",
    " \n",
    " \n",
    "  model = getModel(str(i[0]))\n",
    "  tiempos,errores,stds,k_feature_idx_ = implementationSelectionFeatures(model,int(i[1]),i[2],False)\n",
    " \n",
    "  erroresA.append(errores)\n",
    "  stdsA.append(stds)\n",
    "  tiemposA.append(tiempos)\n",
    "  k_feature_idx_A.append(k_feature_idx_)\n",
    " \n",
    " \n",
    " \n",
    "  print('N-FEATURES: ', str(i[1]))\n",
    "  print(\"Indices \",k_feature_idx_)\n",
    " \n",
    "  df_types[\"Error de validación\"] = \"\"\n",
    "  df_types[\"IC(std)\"] = \"\"\n",
    "  df_types[\"Tiempo de ejecución\"] = \"\"  \n",
    "  df_types[\"Indices de caracteristicas\"] = \"\"\n",
    " \n",
    " \n",
    "  df_types[\"Error de validación\"][i] = errores\n",
    "  df_types[\"IC(std)\"][i]= stds\n",
    "  df_types[\"Tiempo de ejecución\"][i] = tiempos\n",
    "  df_types[\"Indices de caracteristicas\"][i] = k_feature_idx_  \n",
    " \n",
    " \n",
    "  #df_types.sort_index(inplace=True)\n",
    "qgrid_widget = qgrid.show_grid(df_types, show_toolbar=False)\n",
    "qgrid_widget\n",
    "qgrid_widget.get_changed_df()\n"
   ]
  }
 ],
 "metadata": {
  "colab": {
   "collapsed_sections": [
    "O2Rd2NOL4rKl",
    "Y_XGyVVg0PWt",
    "YuMdBXhc0WCV",
    "xyjjRFdf0kl3",
    "VnAlAlNm2j0X",
    "B3bM0UAU0aYO",
    "qTno4pUS0hLd",
    "C_OYTytC0p_V",
    "PeHy24ue8uaL",
    "i6-LpWXAAuZ1",
    "1kfL7wcx4a3j"
   ],
   "name": "Selecció-RDF.ipynb",
   "provenance": [],
   "toc_visible": true
  },
  "kernelspec": {
   "display_name": "Python 3",
   "language": "python",
   "name": "python3"
  },
  "language_info": {
   "codemirror_mode": {
    "name": "ipython",
    "version": 3
   },
   "file_extension": ".py",
   "mimetype": "text/x-python",
   "name": "python",
   "nbconvert_exporter": "python",
   "pygments_lexer": "ipython3",
   "version": "3.5.6"
  }
 },
 "nbformat": 4,
 "nbformat_minor": 1
}

{
 "cells": [
  {
   "cell_type": "markdown",
   "metadata": {
    "colab_type": "text",
    "id": "view-in-github"
   },
   "source": [
    "<a href=\"https://colab.research.google.com/github/josearangos/Default-of-credit-card-client/blob/master/P2_Experiments_KNN.ipynb\" target=\"_parent\"><img src=\"https://colab.research.google.com/assets/colab-badge.svg\" alt=\"Open In Colab\"/></a>"
   ]
  },
  {
   "cell_type": "markdown",
   "metadata": {
    "colab_type": "text",
    "id": "fDegjWVq4oBv"
   },
   "source": [
    "**Kaggle** \n",
    "\n",
    "kernel con normalización https://www.kaggle.com/selener/prediction-of-credit-card-default\n",
    "\n",
    "\n",
    "\n",
    "kernels: https://www.kaggle.com/lucabasa/credit-card-default-a-very-pedagogical-notebook\n",
    "\n",
    "\n",
    "\n",
    "Sobre Matrix de confusion y selección de variables \n",
    "https://www.kaggle.com/gpreda/default-of-credit-card-clients-predictive-models\n"
   ]
  },
  {
   "cell_type": "markdown",
   "metadata": {
    "colab_type": "text",
    "id": "ZW-ElaqSyWwR"
   },
   "source": [
    "# **Experimentos**\n",
    "\n",
    "Incluya una sesion dentro de su informe con el nombre Experimentos, en la cual describa la metodología de validacion usada y la base de datos que est  ́ a usandó para llevar a cabo el proyecto, incluyendo la fuente de la base de datos como referencia, el numero de muestras,variables, etc. Si su problema es de clasificacion, indique cuantas clases contiene la basa de datos y cu  ́ antas muestras por clase. Si la base de datos esta desbalanceada,deben considerar el uso de tecnicas de submuestreo y sobremuestreo inteligente, ademas de usar validacíón ́estratificaida."
   ]
  },
  {
   "cell_type": "code",
   "execution_count": 4,
   "metadata": {
    "colab": {},
    "colab_type": "code",
    "id": "IscFLpvPx2DW"
   },
   "outputs": [],
   "source": [
    "from pandas import DataFrame, read_csv\n",
    "import pickle\n",
    "from sklearn.externals import joblib #Guardar modelos una vez entrenados\n",
    "import numpy as np\n",
    "import matplotlib.pyplot as plt\n",
    "import pandas as pd \n",
    "import seaborn as sns\n",
    "from sklearn.metrics import classification_report,confusion_matrix,accuracy_score,roc_curve,auc\n",
    "\n",
    "\n",
    "#PATH = '/content/drive/My Drive/2019-1/Simulation of System and Laboratory/Final Project/Code/'"
   ]
  },
  {
   "cell_type": "code",
   "execution_count": 5,
   "metadata": {
    "colab": {},
    "colab_type": "code",
    "id": "7TgS3vrgyKSM"
   },
   "outputs": [],
   "source": [
    "file = '../UCI_Credit_Card.csv'\n",
    "df = pd.read_csv(file)"
   ]
  },
  {
   "cell_type": "markdown",
   "metadata": {
    "colab_type": "text",
    "id": "KsgD5gSAzLF8"
   },
   "source": [
    "# Sobre la base de datos"
   ]
  },
  {
   "cell_type": "code",
   "execution_count": 6,
   "metadata": {
    "colab": {
     "base_uri": "https://localhost:8080/",
     "height": 222
    },
    "colab_type": "code",
    "id": "LBCWrKxY5mny",
    "outputId": "570724b3-0199-441e-ca00-ccfd7b9e33d2"
   },
   "outputs": [
    {
     "data": {
      "text/html": [
       "<div>\n",
       "<style scoped>\n",
       "    .dataframe tbody tr th:only-of-type {\n",
       "        vertical-align: middle;\n",
       "    }\n",
       "\n",
       "    .dataframe tbody tr th {\n",
       "        vertical-align: top;\n",
       "    }\n",
       "\n",
       "    .dataframe thead th {\n",
       "        text-align: right;\n",
       "    }\n",
       "</style>\n",
       "<table border=\"1\" class=\"dataframe\">\n",
       "  <thead>\n",
       "    <tr style=\"text-align: right;\">\n",
       "      <th></th>\n",
       "      <th>ID</th>\n",
       "      <th>LIMIT_BAL</th>\n",
       "      <th>SEX</th>\n",
       "      <th>EDUCATION</th>\n",
       "      <th>MARRIAGE</th>\n",
       "      <th>AGE</th>\n",
       "      <th>PAY_0</th>\n",
       "      <th>PAY_2</th>\n",
       "      <th>PAY_3</th>\n",
       "      <th>PAY_4</th>\n",
       "      <th>...</th>\n",
       "      <th>BILL_AMT4</th>\n",
       "      <th>BILL_AMT5</th>\n",
       "      <th>BILL_AMT6</th>\n",
       "      <th>PAY_AMT1</th>\n",
       "      <th>PAY_AMT2</th>\n",
       "      <th>PAY_AMT3</th>\n",
       "      <th>PAY_AMT4</th>\n",
       "      <th>PAY_AMT5</th>\n",
       "      <th>PAY_AMT6</th>\n",
       "      <th>default.payment.next.month</th>\n",
       "    </tr>\n",
       "  </thead>\n",
       "  <tbody>\n",
       "    <tr>\n",
       "      <td>5115</td>\n",
       "      <td>5116</td>\n",
       "      <td>20000.0</td>\n",
       "      <td>1</td>\n",
       "      <td>2</td>\n",
       "      <td>2</td>\n",
       "      <td>31</td>\n",
       "      <td>5</td>\n",
       "      <td>4</td>\n",
       "      <td>3</td>\n",
       "      <td>4</td>\n",
       "      <td>...</td>\n",
       "      <td>20182.0</td>\n",
       "      <td>19836.0</td>\n",
       "      <td>11998.0</td>\n",
       "      <td>0.0</td>\n",
       "      <td>549.0</td>\n",
       "      <td>0.0</td>\n",
       "      <td>0.0</td>\n",
       "      <td>0.0</td>\n",
       "      <td>0.0</td>\n",
       "      <td>0</td>\n",
       "    </tr>\n",
       "    <tr>\n",
       "      <td>15354</td>\n",
       "      <td>15355</td>\n",
       "      <td>160000.0</td>\n",
       "      <td>2</td>\n",
       "      <td>1</td>\n",
       "      <td>1</td>\n",
       "      <td>33</td>\n",
       "      <td>-1</td>\n",
       "      <td>-1</td>\n",
       "      <td>-1</td>\n",
       "      <td>-1</td>\n",
       "      <td>...</td>\n",
       "      <td>2144.0</td>\n",
       "      <td>5816.0</td>\n",
       "      <td>2144.0</td>\n",
       "      <td>20415.0</td>\n",
       "      <td>2141.0</td>\n",
       "      <td>2144.0</td>\n",
       "      <td>5816.0</td>\n",
       "      <td>2144.0</td>\n",
       "      <td>1456.0</td>\n",
       "      <td>0</td>\n",
       "    </tr>\n",
       "    <tr>\n",
       "      <td>9908</td>\n",
       "      <td>9909</td>\n",
       "      <td>360000.0</td>\n",
       "      <td>2</td>\n",
       "      <td>2</td>\n",
       "      <td>1</td>\n",
       "      <td>35</td>\n",
       "      <td>1</td>\n",
       "      <td>-2</td>\n",
       "      <td>-2</td>\n",
       "      <td>-1</td>\n",
       "      <td>...</td>\n",
       "      <td>3602.0</td>\n",
       "      <td>1197.0</td>\n",
       "      <td>0.0</td>\n",
       "      <td>0.0</td>\n",
       "      <td>0.0</td>\n",
       "      <td>3602.0</td>\n",
       "      <td>1197.0</td>\n",
       "      <td>0.0</td>\n",
       "      <td>474.0</td>\n",
       "      <td>0</td>\n",
       "    </tr>\n",
       "    <tr>\n",
       "      <td>19006</td>\n",
       "      <td>19007</td>\n",
       "      <td>120000.0</td>\n",
       "      <td>2</td>\n",
       "      <td>2</td>\n",
       "      <td>2</td>\n",
       "      <td>30</td>\n",
       "      <td>-2</td>\n",
       "      <td>-2</td>\n",
       "      <td>-2</td>\n",
       "      <td>-2</td>\n",
       "      <td>...</td>\n",
       "      <td>416.0</td>\n",
       "      <td>270.0</td>\n",
       "      <td>0.0</td>\n",
       "      <td>14770.0</td>\n",
       "      <td>7832.0</td>\n",
       "      <td>416.0</td>\n",
       "      <td>270.0</td>\n",
       "      <td>0.0</td>\n",
       "      <td>0.0</td>\n",
       "      <td>0</td>\n",
       "    </tr>\n",
       "    <tr>\n",
       "      <td>15861</td>\n",
       "      <td>15862</td>\n",
       "      <td>30000.0</td>\n",
       "      <td>2</td>\n",
       "      <td>2</td>\n",
       "      <td>2</td>\n",
       "      <td>29</td>\n",
       "      <td>2</td>\n",
       "      <td>2</td>\n",
       "      <td>2</td>\n",
       "      <td>0</td>\n",
       "      <td>...</td>\n",
       "      <td>16557.0</td>\n",
       "      <td>16857.0</td>\n",
       "      <td>18121.0</td>\n",
       "      <td>3211.0</td>\n",
       "      <td>0.0</td>\n",
       "      <td>1275.0</td>\n",
       "      <td>575.0</td>\n",
       "      <td>1539.0</td>\n",
       "      <td>700.0</td>\n",
       "      <td>1</td>\n",
       "    </tr>\n",
       "  </tbody>\n",
       "</table>\n",
       "<p>5 rows × 25 columns</p>\n",
       "</div>"
      ],
      "text/plain": [
       "          ID  LIMIT_BAL  SEX  EDUCATION  MARRIAGE  AGE  PAY_0  PAY_2  PAY_3  \\\n",
       "5115    5116    20000.0    1          2         2   31      5      4      3   \n",
       "15354  15355   160000.0    2          1         1   33     -1     -1     -1   \n",
       "9908    9909   360000.0    2          2         1   35      1     -2     -2   \n",
       "19006  19007   120000.0    2          2         2   30     -2     -2     -2   \n",
       "15861  15862    30000.0    2          2         2   29      2      2      2   \n",
       "\n",
       "       PAY_4  ...  BILL_AMT4  BILL_AMT5  BILL_AMT6  PAY_AMT1  PAY_AMT2  \\\n",
       "5115       4  ...    20182.0    19836.0    11998.0       0.0     549.0   \n",
       "15354     -1  ...     2144.0     5816.0     2144.0   20415.0    2141.0   \n",
       "9908      -1  ...     3602.0     1197.0        0.0       0.0       0.0   \n",
       "19006     -2  ...      416.0      270.0        0.0   14770.0    7832.0   \n",
       "15861      0  ...    16557.0    16857.0    18121.0    3211.0       0.0   \n",
       "\n",
       "       PAY_AMT3  PAY_AMT4  PAY_AMT5  PAY_AMT6  default.payment.next.month  \n",
       "5115        0.0       0.0       0.0       0.0                           0  \n",
       "15354    2144.0    5816.0    2144.0    1456.0                           0  \n",
       "9908     3602.0    1197.0       0.0     474.0                           0  \n",
       "19006     416.0     270.0       0.0       0.0                           0  \n",
       "15861    1275.0     575.0    1539.0     700.0                           1  \n",
       "\n",
       "[5 rows x 25 columns]"
      ]
     },
     "execution_count": 6,
     "metadata": {},
     "output_type": "execute_result"
    }
   ],
   "source": [
    "df.sample(5)"
   ]
  },
  {
   "cell_type": "markdown",
   "metadata": {
    "colab_type": "text",
    "id": "XMBYYL4f8Yu7"
   },
   "source": [
    "## **Variables**\n",
    "**SEX: Gender**\n",
    "1 = male \n",
    "2 = female\n",
    "\n",
    "**EDUCATION:**\n",
    "\n",
    "1 = graduate school \n",
    "2 = university \n",
    "3 = high school \n",
    "4 = others \n",
    "5 = unknown \n",
    "6 = unknown\n",
    "\n",
    "\n",
    "\n",
    "\n",
    "\n",
    "\n",
    "**MARRIAGE**: Marital status\n",
    "1 = married\n",
    "2 = single\n",
    "3 = others\n",
    "\n",
    "\n",
    "\n",
    "**PAY_0,2,3,4,5,6: **Repayment status in September 2005, August 2005, July 2005, June 2005, May 2005, April 2005 (respectivey)\n",
    "\n",
    "-2= no consumption\n",
    "-1= pay duly\n",
    "1 = payment delay for one month\n",
    "2 = payment delay for two months\n",
    "... \n",
    "8 = payment delay for eight months\n",
    "9 = payment delay for nine months and above\n"
   ]
  },
  {
   "cell_type": "markdown",
   "metadata": {
    "colab_type": "text",
    "id": "K5ljewd6zTmK"
   },
   "source": [
    "**Cantidad de muestras**"
   ]
  },
  {
   "cell_type": "code",
   "execution_count": 7,
   "metadata": {
    "colab": {
     "base_uri": "https://localhost:8080/",
     "height": 35
    },
    "colab_type": "code",
    "id": "VcGQnEfDzg4f",
    "outputId": "a7864d29-c693-4b19-f563-3a32c0c8fcc2"
   },
   "outputs": [
    {
     "data": {
      "text/plain": [
       "(30000, 25)"
      ]
     },
     "execution_count": 7,
     "metadata": {},
     "output_type": "execute_result"
    }
   ],
   "source": [
    "df = df.rename(columns={'default.payment.next.month': 'def_pay', \n",
    "                        'PAY_0': 'PAY_1'})\n",
    "data = df.values\n",
    "data.shape"
   ]
  },
  {
   "cell_type": "markdown",
   "metadata": {
    "colab_type": "text",
    "id": "vWb3jtW8z5xJ"
   },
   "source": [
    "Cantidad de clases"
   ]
  },
  {
   "cell_type": "code",
   "execution_count": 8,
   "metadata": {
    "colab": {
     "base_uri": "https://localhost:8080/",
     "height": 35
    },
    "colab_type": "code",
    "id": "E24BDuNsz721",
    "outputId": "1bb8c1ca-2859-4758-c234-e68663955f1a"
   },
   "outputs": [
    {
     "data": {
      "text/plain": [
       "2"
      ]
     },
     "execution_count": 8,
     "metadata": {},
     "output_type": "execute_result"
    }
   ],
   "source": [
    "len(np.unique(df.def_pay))"
   ]
  },
  {
   "cell_type": "markdown",
   "metadata": {
    "colab_type": "text",
    "id": "PDOtN078zfnO"
   },
   "source": [
    "Muestras por clases"
   ]
  },
  {
   "cell_type": "code",
   "execution_count": 9,
   "metadata": {
    "colab": {
     "base_uri": "https://localhost:8080/",
     "height": 52
    },
    "colab_type": "code",
    "id": "xehP5Cb5zhab",
    "outputId": "6522b9cc-1497-4ad4-a4f8-8b780a8d01cc"
   },
   "outputs": [
    {
     "name": "stdout",
     "output_type": "stream",
     "text": [
      "Clase (1): 6636\n",
      "Clase (0): 23364\n"
     ]
    }
   ],
   "source": [
    "classes = np.unique(df.def_pay)\n",
    "unicos = data[:,-1]\n",
    "unos = np.where(unicos == 1)\n",
    "lenU =len(unos[0])\n",
    "cero = np.where(unicos == 0)\n",
    "lenC=len(cero[0])\n",
    "print(\"Clase (1):\",lenU)\n",
    "print(\"Clase (0):\",lenC)"
   ]
  },
  {
   "cell_type": "code",
   "execution_count": 10,
   "metadata": {
    "colab": {
     "base_uri": "https://localhost:8080/",
     "height": 306
    },
    "colab_type": "code",
    "id": "osVavssr_MLu",
    "outputId": "63c7c709-a474-43b4-82a6-5d031528d5b4"
   },
   "outputs": [
    {
     "data": {
      "image/png": "[encoded data removed]",
      "text/plain": [
       "<Figure size 504x288 with 1 Axes>"
      ]
     },
     "metadata": {},
     "output_type": "display_data"
    }
   ],
   "source": [
    "# The frequency of defaults\n",
    "yes = df.def_pay.sum()\n",
    "no = len(data)-yes\n",
    "\n",
    "# Percentage\n",
    "yes_perc = round(yes/len(df)*100, 1)\n",
    "no_perc = round(no/len(df)*100, 1)\n",
    "\n",
    "import sys \n",
    "plt.figure(figsize=(7,4))\n",
    "sns.set_context('notebook', font_scale=1.2)\n",
    "sns.countplot('def_pay',data=df, palette=\"Blues\")\n",
    "plt.annotate('Non-default: {}'.format(no), xy=(-0.3, 15000), xytext=(-0.3, 3000), size=12)\n",
    "plt.annotate('Default: {}'.format(yes), xy=(0.7, 15000), xytext=(0.7, 3000), size=12)\n",
    "plt.annotate(str(no_perc)+\" %\", xy=(-0.3, 15000), xytext=(-0.1, 8000), size=12)\n",
    "plt.annotate(str(yes_perc)+\" %\", xy=(0.7, 15000), xytext=(0.9, 8000), size=12)\n",
    "plt.title('COUNT OF CREDIT CARDS', size=14)\n",
    "#Removing the frame\n",
    "plt.box(False);"
   ]
  },
  {
   "cell_type": "markdown",
   "metadata": {
    "colab_type": "text",
    "id": "1RLV7mtMzvai"
   },
   "source": [
    "Cantidad de variables y su significado"
   ]
  },
  {
   "cell_type": "code",
   "execution_count": 11,
   "metadata": {
    "colab": {
     "base_uri": "https://localhost:8080/",
     "height": 527
    },
    "colab_type": "code",
    "id": "ePHjQOY5zyFJ",
    "outputId": "48337f26-5d09-4603-8cc4-a2659de3f0b2"
   },
   "outputs": [
    {
     "name": "stdout",
     "output_type": "stream",
     "text": [
      "<class 'pandas.core.frame.DataFrame'>\n",
      "RangeIndex: 30000 entries, 0 to 29999\n",
      "Data columns (total 25 columns):\n",
      "ID           30000 non-null int64\n",
      "LIMIT_BAL    30000 non-null float64\n",
      "SEX          30000 non-null int64\n",
      "EDUCATION    30000 non-null int64\n",
      "MARRIAGE     30000 non-null int64\n",
      "AGE          30000 non-null int64\n",
      "PAY_1        30000 non-null int64\n",
      "PAY_2        30000 non-null int64\n",
      "PAY_3        30000 non-null int64\n",
      "PAY_4        30000 non-null int64\n",
      "PAY_5        30000 non-null int64\n",
      "PAY_6        30000 non-null int64\n",
      "BILL_AMT1    30000 non-null float64\n",
      "BILL_AMT2    30000 non-null float64\n",
      "BILL_AMT3    30000 non-null float64\n",
      "BILL_AMT4    30000 non-null float64\n",
      "BILL_AMT5    30000 non-null float64\n",
      "BILL_AMT6    30000 non-null float64\n",
      "PAY_AMT1     30000 non-null float64\n",
      "PAY_AMT2     30000 non-null float64\n",
      "PAY_AMT3     30000 non-null float64\n",
      "PAY_AMT4     30000 non-null float64\n",
      "PAY_AMT5     30000 non-null float64\n",
      "PAY_AMT6     30000 non-null float64\n",
      "def_pay      30000 non-null int64\n",
      "dtypes: float64(13), int64(12)\n",
      "memory usage: 5.7 MB\n"
     ]
    }
   ],
   "source": [
    "df.info()"
   ]
  },
  {
   "cell_type": "markdown",
   "metadata": {
    "colab_type": "text",
    "id": "Mroh0yHP9m4F"
   },
   "source": [
    "## **Feature engineering**"
   ]
  },
  {
   "cell_type": "markdown",
   "metadata": {
    "colab_type": "text",
    "id": "7KAi7nNc9rJv"
   },
   "source": [
    "Los datos ya se han codificado y limpiado. Sin embargo, algunos datos categóricos tienen categorías repetidas. Por ejemplo, la variable \"educación\" tiene tres categorías con información similar: 4: others, 5: unknown, and 6: unknown\n",
    "\n",
    "Por lo tanto  Las categorías 4: otras, 5: desconocidas y 6: desconocidas se pueden agrupar en una sola clase '4'.\n",
    "  "
   ]
  },
  {
   "cell_type": "code",
   "execution_count": 12,
   "metadata": {
    "colab": {
     "base_uri": "https://localhost:8080/",
     "height": 35
    },
    "colab_type": "code",
    "id": "3Pcpcjnr9-eD",
    "outputId": "e26c8988-111c-42eb-89ac-9af42ae6f56e"
   },
   "outputs": [
    {
     "data": {
      "text/plain": [
       "array([2, 1, 3, 5, 4, 6, 0])"
      ]
     },
     "execution_count": 12,
     "metadata": {},
     "output_type": "execute_result"
    }
   ],
   "source": [
    "df['EDUCATION'].unique()"
   ]
  },
  {
   "cell_type": "code",
   "execution_count": 13,
   "metadata": {
    "colab": {
     "base_uri": "https://localhost:8080/",
     "height": 35
    },
    "colab_type": "code",
    "id": "CJ-_-z_b-IA4",
    "outputId": "ae6028c6-51a9-4dcc-de0d-2c75fe13211c"
   },
   "outputs": [
    {
     "data": {
      "text/plain": [
       "array([2, 1, 3, 4])"
      ]
     },
     "execution_count": 13,
     "metadata": {},
     "output_type": "execute_result"
    }
   ],
   "source": [
    "#Reemplazamos los valores \n",
    "\n",
    "df['EDUCATION']=np.where(df['EDUCATION'] == 5, 4, df['EDUCATION'])\n",
    "df['EDUCATION']=np.where(df['EDUCATION'] == 6, 4, df['EDUCATION'])\n",
    "df['EDUCATION']=np.where(df['EDUCATION'] == 0, 4, df['EDUCATION'])\n",
    "\n",
    "df['EDUCATION'].unique()\n",
    "\n"
   ]
  },
  {
   "cell_type": "markdown",
   "metadata": {
    "colab_type": "text",
    "id": "mncpz9Wq-gtM"
   },
   "source": [
    "la columna 'matrimonio' ​​debe tener tres categorías: 1 = casado, 2 = soltero, 3 = otros, pero contiene una categoría '0' que se unirá a la categoría '3'."
   ]
  },
  {
   "cell_type": "code",
   "execution_count": 14,
   "metadata": {
    "colab": {
     "base_uri": "https://localhost:8080/",
     "height": 35
    },
    "colab_type": "code",
    "id": "41R2VETD-iW-",
    "outputId": "ff417576-0099-47f7-e64b-ef2d81d7003c"
   },
   "outputs": [
    {
     "data": {
      "text/plain": [
       "array([1, 2, 3, 0])"
      ]
     },
     "execution_count": 14,
     "metadata": {},
     "output_type": "execute_result"
    }
   ],
   "source": [
    "df['MARRIAGE'].unique()\n"
   ]
  },
  {
   "cell_type": "code",
   "execution_count": 15,
   "metadata": {
    "colab": {
     "base_uri": "https://localhost:8080/",
     "height": 35
    },
    "colab_type": "code",
    "id": "DN-TomLJ-5YG",
    "outputId": "3e257ed5-137b-45be-e600-2756d17b3e68"
   },
   "outputs": [
    {
     "data": {
      "text/plain": [
       "array([1, 2, 3])"
      ]
     },
     "execution_count": 15,
     "metadata": {},
     "output_type": "execute_result"
    }
   ],
   "source": [
    "df['MARRIAGE']=np.where(df['MARRIAGE'] == 0, 3, df['MARRIAGE'])\n",
    "df['MARRIAGE'].unique()"
   ]
  },
  {
   "cell_type": "markdown",
   "metadata": {
    "colab_type": "text",
    "id": "rxBrwqvH_4tV"
   },
   "source": [
    "# **Escala de las variables, por lo tanto debemos normalizar**\n"
   ]
  },
  {
   "cell_type": "code",
   "execution_count": 16,
   "metadata": {
    "colab": {
     "base_uri": "https://localhost:8080/",
     "height": 301
    },
    "colab_type": "code",
    "id": "nk58kn3yAGFu",
    "outputId": "6a45d39e-cf43-45cd-99e1-5651f5918b68"
   },
   "outputs": [
    {
     "data": {
      "image/png": "[encoded data removed]",
      "text/plain": [
       "<Figure size 1080x216 with 1 Axes>"
      ]
     },
     "metadata": {},
     "output_type": "display_data"
    }
   ],
   "source": [
    "\n",
    "## data are distributed in a wide range (below), need to be normalizded.\n",
    "df.drop('ID', axis = 1, inplace =True) # drop column \"ID\"\n",
    "features = df.drop('def_pay', axis = 1, inplace = False)\n",
    "plt.figure(figsize=(15,3))\n",
    "ax= df.drop('def_pay', axis=1).boxplot(df.columns.name, rot=90)\n",
    "outliers = dict(markerfacecolor='b', marker='p')\n",
    "ax= features.boxplot(features.columns.name, rot=90, flierprops=outliers)\n",
    "plt.xticks(size=12)\n",
    "ax.set_ylim([-5000,100000])\n",
    "plt.box(False);\n"
   ]
  },
  {
   "cell_type": "markdown",
   "metadata": {
    "colab_type": "text",
    "id": "4bOi50qGVm1u"
   },
   "source": [
    "**Creamos la variable a predecir**"
   ]
  },
  {
   "cell_type": "code",
   "execution_count": 17,
   "metadata": {
    "colab": {},
    "colab_type": "code",
    "id": "lb8Uk2wRV78w"
   },
   "outputs": [],
   "source": [
    "Y = df['def_pay'].copy()\n"
   ]
  },
  {
   "cell_type": "markdown",
   "metadata": {
    "colab_type": "text",
    "id": "IvSt6kvFUdNI"
   },
   "source": [
    "# **Normalización**"
   ]
  },
  {
   "cell_type": "markdown",
   "metadata": {
    "colab_type": "text",
    "id": "GTdh1qIpUhfs"
   },
   "source": [
    "## **StandardScaler**"
   ]
  },
  {
   "cell_type": "markdown",
   "metadata": {
    "colab_type": "text",
    "id": "zbRFSk5rhbNp"
   },
   "source": [
    "The standard score of a sample x is calculated as:\n",
    "\n",
    "z = (x - u) / s\n",
    "\n",
    "La idea detrás de StandardScaler es que transformará sus datos de modo que su distribución tenga un valor medio 0 y una desviación estándar de 1.\n",
    "\n",
    "\n"
   ]
  },
  {
   "cell_type": "code",
   "execution_count": 18,
   "metadata": {
    "colab": {
     "base_uri": "https://localhost:8080/",
     "height": 649
    },
    "colab_type": "code",
    "id": "DfPezGZqEf9B",
    "outputId": "d5ad8cd5-3940-4a13-8adf-3f1be9158d45"
   },
   "outputs": [
    {
     "data": {
      "image/png": "[encoded data removed]",
      "text/plain": [
       "<Figure size 1440x720 with 1 Axes>"
      ]
     },
     "metadata": {},
     "output_type": "display_data"
    }
   ],
   "source": [
    "  # standardization\n",
    "\n",
    "stdX = (features - features.mean()) / (features.std())    \n",
    "X = stdX\n",
    "data_st = pd.concat([Y,stdX.iloc[:,:]],axis=1)\n",
    "data_st = pd.melt(data_st,id_vars=\"def_pay\",\n",
    "                    var_name=\"features\",\n",
    "                    value_name='value')\n",
    "plt.figure(figsize=(20,10))\n",
    "sns.set_context('notebook', font_scale=1)\n",
    "sns.violinplot(y=\"value\", x=\"features\", hue=\"def_pay\", data=data_st,split=True, \n",
    "               inner=\"quart\", palette='Blues')\n",
    "plt.legend(loc=4, title= 'def_pay', facecolor='white')\n",
    "plt.ylim([-3,3])\n",
    "plt.title('STANDARDIZED FEATURES - VIOLIN PLOT', size=14)\n",
    "plt.box(False)\n",
    "plt.savefig('ImageName', format='png', dpi=200, transparent=False);"
   ]
  },
  {
   "cell_type": "markdown",
   "metadata": {
    "colab_type": "text",
    "id": "hH4NyHaTGYiS"
   },
   "source": [
    "# **Variables Normalizadas**"
   ]
  },
  {
   "cell_type": "code",
   "execution_count": 19,
   "metadata": {
    "colab": {
     "base_uri": "https://localhost:8080/",
     "height": 222
    },
    "colab_type": "code",
    "id": "yKZPLchOF7wi",
    "outputId": "dd72bd10-f020-4a9b-d946-2695a97551fd"
   },
   "outputs": [
    {
     "data": {
      "text/html": [
       "<div>\n",
       "<style scoped>\n",
       "    .dataframe tbody tr th:only-of-type {\n",
       "        vertical-align: middle;\n",
       "    }\n",
       "\n",
       "    .dataframe tbody tr th {\n",
       "        vertical-align: top;\n",
       "    }\n",
       "\n",
       "    .dataframe thead th {\n",
       "        text-align: right;\n",
       "    }\n",
       "</style>\n",
       "<table border=\"1\" class=\"dataframe\">\n",
       "  <thead>\n",
       "    <tr style=\"text-align: right;\">\n",
       "      <th></th>\n",
       "      <th>LIMIT_BAL</th>\n",
       "      <th>SEX</th>\n",
       "      <th>EDUCATION</th>\n",
       "      <th>MARRIAGE</th>\n",
       "      <th>AGE</th>\n",
       "      <th>PAY_1</th>\n",
       "      <th>PAY_2</th>\n",
       "      <th>PAY_3</th>\n",
       "      <th>PAY_4</th>\n",
       "      <th>PAY_5</th>\n",
       "      <th>...</th>\n",
       "      <th>BILL_AMT3</th>\n",
       "      <th>BILL_AMT4</th>\n",
       "      <th>BILL_AMT5</th>\n",
       "      <th>BILL_AMT6</th>\n",
       "      <th>PAY_AMT1</th>\n",
       "      <th>PAY_AMT2</th>\n",
       "      <th>PAY_AMT3</th>\n",
       "      <th>PAY_AMT4</th>\n",
       "      <th>PAY_AMT5</th>\n",
       "      <th>PAY_AMT6</th>\n",
       "    </tr>\n",
       "  </thead>\n",
       "  <tbody>\n",
       "    <tr>\n",
       "      <td>10011</td>\n",
       "      <td>-0.905483</td>\n",
       "      <td>-1.234302</td>\n",
       "      <td>0.211866</td>\n",
       "      <td>0.849116</td>\n",
       "      <td>-0.703576</td>\n",
       "      <td>-1.764813</td>\n",
       "      <td>-1.558850</td>\n",
       "      <td>-1.532166</td>\n",
       "      <td>-1.521918</td>\n",
       "      <td>-1.530021</td>\n",
       "      <td>...</td>\n",
       "      <td>-0.408960</td>\n",
       "      <td>-0.294577</td>\n",
       "      <td>-0.187647</td>\n",
       "      <td>-0.177616</td>\n",
       "      <td>-0.100438</td>\n",
       "      <td>-0.256985</td>\n",
       "      <td>0.043978</td>\n",
       "      <td>0.011102</td>\n",
       "      <td>-0.314131</td>\n",
       "      <td>-0.180875</td>\n",
       "    </tr>\n",
       "    <tr>\n",
       "      <td>17847</td>\n",
       "      <td>0.635970</td>\n",
       "      <td>-1.234302</td>\n",
       "      <td>0.211866</td>\n",
       "      <td>0.849116</td>\n",
       "      <td>-1.029030</td>\n",
       "      <td>0.014860</td>\n",
       "      <td>0.111734</td>\n",
       "      <td>0.138862</td>\n",
       "      <td>0.188743</td>\n",
       "      <td>0.234913</td>\n",
       "      <td>...</td>\n",
       "      <td>1.012249</td>\n",
       "      <td>1.078144</td>\n",
       "      <td>1.149175</td>\n",
       "      <td>1.163719</td>\n",
       "      <td>-0.110400</td>\n",
       "      <td>-0.080429</td>\n",
       "      <td>-0.077622</td>\n",
       "      <td>-0.078454</td>\n",
       "      <td>-0.063972</td>\n",
       "      <td>-0.078217</td>\n",
       "    </tr>\n",
       "    <tr>\n",
       "      <td>965</td>\n",
       "      <td>2.562787</td>\n",
       "      <td>-1.234302</td>\n",
       "      <td>-1.131327</td>\n",
       "      <td>-1.068779</td>\n",
       "      <td>0.055815</td>\n",
       "      <td>0.014860</td>\n",
       "      <td>0.111734</td>\n",
       "      <td>0.138862</td>\n",
       "      <td>0.188743</td>\n",
       "      <td>0.234913</td>\n",
       "      <td>...</td>\n",
       "      <td>3.529185</td>\n",
       "      <td>3.804604</td>\n",
       "      <td>3.854138</td>\n",
       "      <td>3.825047</td>\n",
       "      <td>0.865977</td>\n",
       "      <td>0.612166</td>\n",
       "      <td>0.840254</td>\n",
       "      <td>0.331346</td>\n",
       "      <td>0.669224</td>\n",
       "      <td>0.269245</td>\n",
       "    </tr>\n",
       "    <tr>\n",
       "      <td>10469</td>\n",
       "      <td>-0.674265</td>\n",
       "      <td>0.810147</td>\n",
       "      <td>1.555060</td>\n",
       "      <td>0.849116</td>\n",
       "      <td>2.008537</td>\n",
       "      <td>0.014860</td>\n",
       "      <td>-0.723558</td>\n",
       "      <td>-0.696652</td>\n",
       "      <td>0.188743</td>\n",
       "      <td>0.234913</td>\n",
       "      <td>...</td>\n",
       "      <td>-0.608385</td>\n",
       "      <td>-0.596040</td>\n",
       "      <td>-0.577715</td>\n",
       "      <td>-0.555373</td>\n",
       "      <td>-0.248899</td>\n",
       "      <td>-0.047705</td>\n",
       "      <td>-0.278395</td>\n",
       "      <td>-0.276142</td>\n",
       "      <td>-0.268314</td>\n",
       "      <td>-0.265252</td>\n",
       "    </tr>\n",
       "    <tr>\n",
       "      <td>17497</td>\n",
       "      <td>-0.134756</td>\n",
       "      <td>0.810147</td>\n",
       "      <td>0.211866</td>\n",
       "      <td>0.849116</td>\n",
       "      <td>-0.812061</td>\n",
       "      <td>-0.874977</td>\n",
       "      <td>-0.723558</td>\n",
       "      <td>-0.696652</td>\n",
       "      <td>-0.666588</td>\n",
       "      <td>-0.647554</td>\n",
       "      <td>...</td>\n",
       "      <td>-0.673217</td>\n",
       "      <td>-0.667419</td>\n",
       "      <td>-0.652323</td>\n",
       "      <td>-0.647239</td>\n",
       "      <td>-0.322254</td>\n",
       "      <td>-0.242836</td>\n",
       "      <td>-0.278281</td>\n",
       "      <td>-0.266439</td>\n",
       "      <td>-0.314131</td>\n",
       "      <td>-0.275039</td>\n",
       "    </tr>\n",
       "  </tbody>\n",
       "</table>\n",
       "<p>5 rows × 23 columns</p>\n",
       "</div>"
      ],
      "text/plain": [
       "       LIMIT_BAL       SEX  EDUCATION  MARRIAGE       AGE     PAY_1     PAY_2  \\\n",
       "10011  -0.905483 -1.234302   0.211866  0.849116 -0.703576 -1.764813 -1.558850   \n",
       "17847   0.635970 -1.234302   0.211866  0.849116 -1.029030  0.014860  0.111734   \n",
       "965     2.562787 -1.234302  -1.131327 -1.068779  0.055815  0.014860  0.111734   \n",
       "10469  -0.674265  0.810147   1.555060  0.849116  2.008537  0.014860 -0.723558   \n",
       "17497  -0.134756  0.810147   0.211866  0.849116 -0.812061 -0.874977 -0.723558   \n",
       "\n",
       "          PAY_3     PAY_4     PAY_5  ...  BILL_AMT3  BILL_AMT4  BILL_AMT5  \\\n",
       "10011 -1.532166 -1.521918 -1.530021  ...  -0.408960  -0.294577  -0.187647   \n",
       "17847  0.138862  0.188743  0.234913  ...   1.012249   1.078144   1.149175   \n",
       "965    0.138862  0.188743  0.234913  ...   3.529185   3.804604   3.854138   \n",
       "10469 -0.696652  0.188743  0.234913  ...  -0.608385  -0.596040  -0.577715   \n",
       "17497 -0.696652 -0.666588 -0.647554  ...  -0.673217  -0.667419  -0.652323   \n",
       "\n",
       "       BILL_AMT6  PAY_AMT1  PAY_AMT2  PAY_AMT3  PAY_AMT4  PAY_AMT5  PAY_AMT6  \n",
       "10011  -0.177616 -0.100438 -0.256985  0.043978  0.011102 -0.314131 -0.180875  \n",
       "17847   1.163719 -0.110400 -0.080429 -0.077622 -0.078454 -0.063972 -0.078217  \n",
       "965     3.825047  0.865977  0.612166  0.840254  0.331346  0.669224  0.269245  \n",
       "10469  -0.555373 -0.248899 -0.047705 -0.278395 -0.276142 -0.268314 -0.265252  \n",
       "17497  -0.647239 -0.322254 -0.242836 -0.278281 -0.266439 -0.314131 -0.275039  \n",
       "\n",
       "[5 rows x 23 columns]"
      ]
     },
     "execution_count": 19,
     "metadata": {},
     "output_type": "execute_result"
    }
   ],
   "source": [
    "stdX.sample(5)"
   ]
  },
  {
   "cell_type": "code",
   "execution_count": 20,
   "metadata": {
    "colab": {
     "base_uri": "https://localhost:8080/",
     "height": 35
    },
    "colab_type": "code",
    "id": "lxuVGSf3G9vz",
    "outputId": "442e2a28-2479-4dd2-97ab-d06ce2d36eab"
   },
   "outputs": [
    {
     "data": {
      "text/plain": [
       "(30000, 23)"
      ]
     },
     "execution_count": 20,
     "metadata": {},
     "output_type": "execute_result"
    }
   ],
   "source": [
    "X.shape"
   ]
  },
  {
   "cell_type": "markdown",
   "metadata": {
    "colab_type": "text",
    "id": "LLfGIy_-SyD5"
   },
   "source": [
    "#Guardamos las variables normalizadas"
   ]
  },
  {
   "cell_type": "code",
   "execution_count": 21,
   "metadata": {
    "colab": {},
    "colab_type": "code",
    "id": "DMVFuGG_S3pF"
   },
   "outputs": [],
   "source": [
    "#X.to_csv(PATH+\"featuresSTD.csv\",index=False)"
   ]
  },
  {
   "cell_type": "code",
   "execution_count": 22,
   "metadata": {
    "colab": {},
    "colab_type": "code",
    "id": "DtBzQZv3pe9o"
   },
   "outputs": [],
   "source": [
    "PathFeaturesSTD = '../featuresSTD.csv'\n",
    "X = pd.read_csv(PathFeaturesSTD)"
   ]
  },
  {
   "cell_type": "code",
   "execution_count": 23,
   "metadata": {
    "colab": {
     "base_uri": "https://localhost:8080/",
     "height": 35
    },
    "colab_type": "code",
    "id": "aruyQXXNp8Ak",
    "outputId": "7a4cc70b-2a8f-4983-8198-73f33cc3c637"
   },
   "outputs": [
    {
     "data": {
      "text/plain": [
       "(30000, 23)"
      ]
     },
     "execution_count": 23,
     "metadata": {},
     "output_type": "execute_result"
    }
   ],
   "source": [
    "X.shape"
   ]
  },
  {
   "cell_type": "code",
   "execution_count": 24,
   "metadata": {
    "colab": {
     "base_uri": "https://localhost:8080/",
     "height": 222
    },
    "colab_type": "code",
    "id": "9qcOMTEJud7_",
    "outputId": "2441ed16-219e-4b14-8fd7-5847840fd60c"
   },
   "outputs": [
    {
     "data": {
      "text/html": [
       "<div>\n",
       "<style scoped>\n",
       "    .dataframe tbody tr th:only-of-type {\n",
       "        vertical-align: middle;\n",
       "    }\n",
       "\n",
       "    .dataframe tbody tr th {\n",
       "        vertical-align: top;\n",
       "    }\n",
       "\n",
       "    .dataframe thead th {\n",
       "        text-align: right;\n",
       "    }\n",
       "</style>\n",
       "<table border=\"1\" class=\"dataframe\">\n",
       "  <thead>\n",
       "    <tr style=\"text-align: right;\">\n",
       "      <th></th>\n",
       "      <th>LIMIT_BAL</th>\n",
       "      <th>SEX</th>\n",
       "      <th>EDUCATION</th>\n",
       "      <th>MARRIAGE</th>\n",
       "      <th>AGE</th>\n",
       "      <th>PAY_1</th>\n",
       "      <th>PAY_2</th>\n",
       "      <th>PAY_3</th>\n",
       "      <th>PAY_4</th>\n",
       "      <th>PAY_5</th>\n",
       "      <th>...</th>\n",
       "      <th>BILL_AMT3</th>\n",
       "      <th>BILL_AMT4</th>\n",
       "      <th>BILL_AMT5</th>\n",
       "      <th>BILL_AMT6</th>\n",
       "      <th>PAY_AMT1</th>\n",
       "      <th>PAY_AMT2</th>\n",
       "      <th>PAY_AMT3</th>\n",
       "      <th>PAY_AMT4</th>\n",
       "      <th>PAY_AMT5</th>\n",
       "      <th>PAY_AMT6</th>\n",
       "    </tr>\n",
       "  </thead>\n",
       "  <tbody>\n",
       "    <tr>\n",
       "      <td>0</td>\n",
       "      <td>-1.136701</td>\n",
       "      <td>0.810147</td>\n",
       "      <td>0.211866</td>\n",
       "      <td>-1.068779</td>\n",
       "      <td>-1.245999</td>\n",
       "      <td>1.794534</td>\n",
       "      <td>1.782318</td>\n",
       "      <td>-0.696652</td>\n",
       "      <td>-0.666588</td>\n",
       "      <td>-1.530021</td>\n",
       "      <td>...</td>\n",
       "      <td>-0.667982</td>\n",
       "      <td>-0.672486</td>\n",
       "      <td>-0.663047</td>\n",
       "      <td>-0.652713</td>\n",
       "      <td>-0.341936</td>\n",
       "      <td>-0.227082</td>\n",
       "      <td>-0.296796</td>\n",
       "      <td>-0.308057</td>\n",
       "      <td>-0.314131</td>\n",
       "      <td>-0.293377</td>\n",
       "    </tr>\n",
       "    <tr>\n",
       "      <td>1</td>\n",
       "      <td>-0.365974</td>\n",
       "      <td>0.810147</td>\n",
       "      <td>0.211866</td>\n",
       "      <td>0.849116</td>\n",
       "      <td>-1.029030</td>\n",
       "      <td>-0.874977</td>\n",
       "      <td>1.782318</td>\n",
       "      <td>0.138862</td>\n",
       "      <td>0.188743</td>\n",
       "      <td>0.234913</td>\n",
       "      <td>...</td>\n",
       "      <td>-0.639244</td>\n",
       "      <td>-0.621626</td>\n",
       "      <td>-0.606219</td>\n",
       "      <td>-0.597956</td>\n",
       "      <td>-0.341936</td>\n",
       "      <td>-0.213584</td>\n",
       "      <td>-0.240001</td>\n",
       "      <td>-0.244226</td>\n",
       "      <td>-0.314131</td>\n",
       "      <td>-0.180875</td>\n",
       "    </tr>\n",
       "    <tr>\n",
       "      <td>2</td>\n",
       "      <td>-0.597192</td>\n",
       "      <td>0.810147</td>\n",
       "      <td>0.211866</td>\n",
       "      <td>0.849116</td>\n",
       "      <td>-0.161154</td>\n",
       "      <td>0.014860</td>\n",
       "      <td>0.111734</td>\n",
       "      <td>0.138862</td>\n",
       "      <td>0.188743</td>\n",
       "      <td>0.234913</td>\n",
       "      <td>...</td>\n",
       "      <td>-0.482400</td>\n",
       "      <td>-0.449723</td>\n",
       "      <td>-0.417181</td>\n",
       "      <td>-0.391623</td>\n",
       "      <td>-0.250287</td>\n",
       "      <td>-0.191884</td>\n",
       "      <td>-0.240001</td>\n",
       "      <td>-0.244226</td>\n",
       "      <td>-0.248679</td>\n",
       "      <td>-0.012122</td>\n",
       "    </tr>\n",
       "    <tr>\n",
       "      <td>3</td>\n",
       "      <td>-0.905483</td>\n",
       "      <td>0.810147</td>\n",
       "      <td>0.211866</td>\n",
       "      <td>-1.068779</td>\n",
       "      <td>0.164300</td>\n",
       "      <td>0.014860</td>\n",
       "      <td>0.111734</td>\n",
       "      <td>0.138862</td>\n",
       "      <td>0.188743</td>\n",
       "      <td>0.234913</td>\n",
       "      <td>...</td>\n",
       "      <td>0.032846</td>\n",
       "      <td>-0.232369</td>\n",
       "      <td>-0.186726</td>\n",
       "      <td>-0.156576</td>\n",
       "      <td>-0.221187</td>\n",
       "      <td>-0.169358</td>\n",
       "      <td>-0.228641</td>\n",
       "      <td>-0.237842</td>\n",
       "      <td>-0.244162</td>\n",
       "      <td>-0.237126</td>\n",
       "    </tr>\n",
       "    <tr>\n",
       "      <td>4</td>\n",
       "      <td>-0.905483</td>\n",
       "      <td>-1.234302</td>\n",
       "      <td>0.211866</td>\n",
       "      <td>-1.068779</td>\n",
       "      <td>2.333990</td>\n",
       "      <td>-0.874977</td>\n",
       "      <td>0.111734</td>\n",
       "      <td>-0.696652</td>\n",
       "      <td>0.188743</td>\n",
       "      <td>0.234913</td>\n",
       "      <td>...</td>\n",
       "      <td>-0.161186</td>\n",
       "      <td>-0.346991</td>\n",
       "      <td>-0.348131</td>\n",
       "      <td>-0.331476</td>\n",
       "      <td>-0.221187</td>\n",
       "      <td>1.335012</td>\n",
       "      <td>0.271161</td>\n",
       "      <td>0.266429</td>\n",
       "      <td>-0.269034</td>\n",
       "      <td>-0.255183</td>\n",
       "    </tr>\n",
       "  </tbody>\n",
       "</table>\n",
       "<p>5 rows × 23 columns</p>\n",
       "</div>"
      ],
      "text/plain": [
       "   LIMIT_BAL       SEX  EDUCATION  MARRIAGE       AGE     PAY_1     PAY_2  \\\n",
       "0  -1.136701  0.810147   0.211866 -1.068779 -1.245999  1.794534  1.782318   \n",
       "1  -0.365974  0.810147   0.211866  0.849116 -1.029030 -0.874977  1.782318   \n",
       "2  -0.597192  0.810147   0.211866  0.849116 -0.161154  0.014860  0.111734   \n",
       "3  -0.905483  0.810147   0.211866 -1.068779  0.164300  0.014860  0.111734   \n",
       "4  -0.905483 -1.234302   0.211866 -1.068779  2.333990 -0.874977  0.111734   \n",
       "\n",
       "      PAY_3     PAY_4     PAY_5  ...  BILL_AMT3  BILL_AMT4  BILL_AMT5  \\\n",
       "0 -0.696652 -0.666588 -1.530021  ...  -0.667982  -0.672486  -0.663047   \n",
       "1  0.138862  0.188743  0.234913  ...  -0.639244  -0.621626  -0.606219   \n",
       "2  0.138862  0.188743  0.234913  ...  -0.482400  -0.449723  -0.417181   \n",
       "3  0.138862  0.188743  0.234913  ...   0.032846  -0.232369  -0.186726   \n",
       "4 -0.696652  0.188743  0.234913  ...  -0.161186  -0.346991  -0.348131   \n",
       "\n",
       "   BILL_AMT6  PAY_AMT1  PAY_AMT2  PAY_AMT3  PAY_AMT4  PAY_AMT5  PAY_AMT6  \n",
       "0  -0.652713 -0.341936 -0.227082 -0.296796 -0.308057 -0.314131 -0.293377  \n",
       "1  -0.597956 -0.341936 -0.213584 -0.240001 -0.244226 -0.314131 -0.180875  \n",
       "2  -0.391623 -0.250287 -0.191884 -0.240001 -0.244226 -0.248679 -0.012122  \n",
       "3  -0.156576 -0.221187 -0.169358 -0.228641 -0.237842 -0.244162 -0.237126  \n",
       "4  -0.331476 -0.221187  1.335012  0.271161  0.266429 -0.269034 -0.255183  \n",
       "\n",
       "[5 rows x 23 columns]"
      ]
     },
     "execution_count": 24,
     "metadata": {},
     "output_type": "execute_result"
    }
   ],
   "source": [
    "X.head()"
   ]
  },
  {
   "cell_type": "markdown",
   "metadata": {
    "colab_type": "text",
    "id": "WSpHdL0TLzPZ"
   },
   "source": [
    "# **Correlación entre variables**\n",
    "\n",
    "\n",
    "\n"
   ]
  },
  {
   "cell_type": "code",
   "execution_count": 25,
   "metadata": {
    "colab": {
     "base_uri": "https://localhost:8080/",
     "height": 483
    },
    "colab_type": "code",
    "id": "Bgrt7I4ILyom",
    "outputId": "5c77c210-f6ce-4c2a-a965-1d57ab8db1eb"
   },
   "outputs": [
    {
     "data": {
      "image/png": "[encoded data removed]",
      "text/plain": [
       "<Figure size 576x504 with 2 Axes>"
      ]
     },
     "metadata": {},
     "output_type": "display_data"
    }
   ],
   "source": [
    "#  looking at correlations matrix, defined via Pearson function  \n",
    "corr = df.corr() # .corr is used to find corelation\n",
    "f,ax = plt.subplots(figsize=(8, 7))\n",
    "sns.heatmap(corr, cbar = True,  square = True, annot = False, fmt= '.1f', \n",
    "            xticklabels= True, yticklabels= True\n",
    "            ,cmap=\"coolwarm\", linewidths=.5, ax=ax)\n",
    "plt.title('CORRELATION MATRIX - HEATMAP', size=18);"
   ]
  },
  {
   "cell_type": "markdown",
   "metadata": {
    "colab_type": "text",
    "id": "A3efCELvMiL8"
   },
   "source": [
    "La única característica con una notable correlación positiva con la variable  \"Default\" es el estado de pago durante el último mes (septiembre). \n",
    "\n",
    "La correlación negativa más alta con el incumplimiento se produce con Limit_Balance, lo que indica que los clientes con un saldo límite más bajo tienen más probabilidades de incumplimiento. También se puede observar que algunas variables están altamente correlacionadas entre sí, ese es el caso del monto del estado de cuenta y el estado de reembolso en diferentes meses.\n",
    "\n",
    "\n",
    "El heatmat muestra que las características están correlacionadas entre sí (colinealidad), como PAY_0,2,3,4,5,6 y BILL_AMT1,2,3,4,5,6. En esos casos, la correlación es positiva."
   ]
  },
  {
   "cell_type": "markdown",
   "metadata": {
    "colab_type": "text",
    "id": "ZweIc5OYz0Fw"
   },
   "source": [
    "# **Tecnicas de Balanceo Usada**"
   ]
  },
  {
   "cell_type": "markdown",
   "metadata": {
    "colab_type": "text",
    "id": "1NBaSI1F2nRN"
   },
   "source": [
    "Si la base de datos esta desbalanceada,deben considerar el uso de tecnicas de submuestreo y sobremuestreo inteligente, ademas de usar validacíón ́estratificaida."
   ]
  },
  {
   "cell_type": "markdown",
   "metadata": {
    "colab_type": "text",
    "id": "w5gPXvCHcykh"
   },
   "source": [
    "## **Stratified KFold**"
   ]
  },
  {
   "cell_type": "code",
   "execution_count": 26,
   "metadata": {
    "colab": {
     "base_uri": "https://localhost:8080/",
     "height": 191
    },
    "colab_type": "code",
    "id": "5VhNAzf0bwPx",
    "outputId": "77e878e6-85ba-434d-c58f-4e79228f06b6"
   },
   "outputs": [
    {
     "name": "stdout",
     "output_type": "stream",
     "text": [
      "TRAIN: [ 2993  2995  2996 ... 29997 29998 29999] TEST: [   0    1    2 ... 3004 3005 3006]\n",
      "TRAIN: [    0     1     2 ... 29997 29998 29999] TEST: [2993 2995 2996 ... 6044 6045 6047]\n",
      "TRAIN: [    0     1     2 ... 29997 29998 29999] TEST: [5985 5988 5989 ... 9034 9035 9036]\n",
      "TRAIN: [    0     1     2 ... 29997 29998 29999] TEST: [ 8883  8886  8888 ... 12051 12052 12055]\n",
      "TRAIN: [    0     1     2 ... 29997 29998 29999] TEST: [11794 11796 11802 ... 15072 15073 15074]\n",
      "TRAIN: [    0     1     2 ... 29997 29998 29999] TEST: [14766 14770 14778 ... 18223 18224 18226]\n",
      "TRAIN: [    0     1     2 ... 29997 29998 29999] TEST: [17316 17319 17323 ... 21199 21200 21201]\n",
      "TRAIN: [    0     1     2 ... 29997 29998 29999] TEST: [20429 20437 20439 ... 24073 24074 24075]\n",
      "TRAIN: [    0     1     2 ... 29997 29998 29999] TEST: [23691 23696 23704 ... 26998 26999 27000]\n",
      "TRAIN: [    0     1     2 ... 26998 26999 27000] TEST: [27001 27002 27003 ... 29997 29998 29999]\n"
     ]
    }
   ],
   "source": [
    "from sklearn.model_selection import StratifiedKFold\n",
    "\n",
    "#Train, Validation, Test\n",
    "FOLDS = 10\n",
    "\n",
    "skf = StratifiedKFold(n_splits=FOLDS)\n",
    "for train_index, test_index in skf.split(X, Y):\n",
    "    print(\"TRAIN:\", train_index, \"TEST:\", test_index)\n",
    "  \n",
    "\n"
   ]
  },
  {
   "cell_type": "markdown",
   "metadata": {
    "colab_type": "text",
    "id": "39k-3m3_f3BK"
   },
   "source": [
    "## **Validación Booststrapping**"
   ]
  },
  {
   "cell_type": "code",
   "execution_count": 27,
   "metadata": {
    "colab": {
     "base_uri": "https://localhost:8080/",
     "height": 52
    },
    "colab_type": "code",
    "id": "khqUNpMrgGgX",
    "outputId": "8a0f4562-3f05-47d7-8ca4-03dc6ac4d8a4"
   },
   "outputs": [
    {
     "name": "stdout",
     "output_type": "stream",
     "text": [
      "X_Train (24000, 23)\n",
      "y_train (24000,)\n"
     ]
    }
   ],
   "source": [
    "from sklearn.model_selection import train_test_split\n",
    "VALID_SIZE = 0.20\n",
    "X_train, X_test, y_train, y_test = train_test_split(X,Y, test_size=VALID_SIZE, shuffle=True )\n",
    "print('X_Train', X_train.shape)\n",
    "print('y_train', y_train.shape)\n"
   ]
  },
  {
   "cell_type": "markdown",
   "metadata": {
    "colab_type": "text",
    "id": "ucRWuvml3nDE"
   },
   "source": [
    "## **Aprendizaje con balance de costo**"
   ]
  },
  {
   "cell_type": "code",
   "execution_count": 0,
   "metadata": {
    "colab": {
     "base_uri": "https://localhost:8080/",
     "height": 35
    },
    "colab_type": "code",
    "id": "Z98KFR863qY5",
    "outputId": "095077e8-abc9-45d4-db52-f0ddc8d998d6"
   },
   "outputs": [
    {
     "data": {
      "text/plain": [
       "array([0.64201335, 2.26039783])"
      ]
     },
     "execution_count": 19,
     "metadata": {
      "tags": []
     },
     "output_type": "execute_result"
    }
   ],
   "source": [
    "from sklearn.utils import class_weight\n",
    "class_weights = class_weight.compute_class_weight('balanced',np.unique(Y),Y)\n",
    "class_weights\n",
    "#model.fit(X_train, y_train, class_weight=class_weights)\n"
   ]
  },
  {
   "cell_type": "markdown",
   "metadata": {
    "colab_type": "text",
    "id": "csCiM5TY2s8-"
   },
   "source": [
    "## **Stratified KFold con Class_weight** "
   ]
  },
  {
   "cell_type": "markdown",
   "metadata": {
    "colab_type": "text",
    "id": "O2Rd2NOL4rKl"
   },
   "source": [
    "### **SMOTE**"
   ]
  },
  {
   "cell_type": "code",
   "execution_count": 0,
   "metadata": {
    "colab": {
     "base_uri": "https://localhost:8080/"
    },
    "colab_type": "code",
    "id": "atp_ar8Z4ypM",
    "outputId": "9407d420-cd2d-4c4f-f8d6-4cd5c3b24b92"
   },
   "outputs": [
    {
     "name": "stdout",
     "output_type": "stream",
     "text": [
      "46728\n",
      "23364\n"
     ]
    }
   ],
   "source": [
    "from imblearn.over_sampling import SMOTE\n",
    "\n",
    "\n",
    "sm = SMOTE(random_state=589, ratio = 1.0)\n",
    "X_SMOTE, y_SMOTE = sm.fit_sample(X, Y)\n",
    "print(len(y_SMOTE))\n",
    "print(y_SMOTE.sum())"
   ]
  },
  {
   "cell_type": "code",
   "execution_count": 0,
   "metadata": {
    "colab": {
     "base_uri": "https://localhost:8080/",
     "height": 35
    },
    "colab_type": "code",
    "id": "7OLbcMNBwz9f",
    "outputId": "c6283915-335f-4f08-d671-9c2c3d54070d"
   },
   "outputs": [
    {
     "data": {
      "text/plain": [
       "(30000, 23)"
      ]
     },
     "execution_count": 134,
     "metadata": {
      "tags": []
     },
     "output_type": "execute_result"
    }
   ],
   "source": [
    "X.values.shape"
   ]
  },
  {
   "cell_type": "code",
   "execution_count": 0,
   "metadata": {
    "colab": {
     "base_uri": "https://localhost:8080/",
     "height": 711
    },
    "colab_type": "code",
    "id": "Rgg-9ODAuUbT",
    "outputId": "fc1f8d8b-77d3-453f-8b9e-f534ab8c7025"
   },
   "outputs": [
    {
     "name": "stdout",
     "output_type": "stream",
     "text": [
      "xTRAIN: (26999, 23) yTRAIN: (26999,)\n",
      "xTEST: (3001, 23) yTEST: (3001,)\n",
      "class_weightsTrain [0.64200789 2.26046551]\n",
      "class_weightsTest [0.64206247 2.25978916]\n",
      "xTRAIN: (26999, 23) yTRAIN: (26999,)\n",
      "xTEST: (3001, 23) yTEST: (3001,)\n",
      "class_weightsTrain [0.64200789 2.26046551]\n",
      "class_weightsTest [0.64206247 2.25978916]\n",
      "xTRAIN: (26999, 23) yTRAIN: (26999,)\n",
      "xTEST: (3001, 23) yTEST: (3001,)\n",
      "class_weightsTrain [0.64200789 2.26046551]\n",
      "class_weightsTest [0.64206247 2.25978916]\n",
      "xTRAIN: (26999, 23) yTRAIN: (26999,)\n",
      "xTEST: (3001, 23) yTEST: (3001,)\n",
      "class_weightsTrain [0.64200789 2.26046551]\n",
      "class_weightsTest [0.64206247 2.25978916]\n",
      "xTRAIN: (27000, 23) yTRAIN: (27000,)\n",
      "xTEST: (3000, 23) yTEST: (3000,)\n",
      "class_weightsTrain [0.64200114 2.26054923]\n",
      "class_weightsTest [0.64212329 2.25903614]\n",
      "xTRAIN: (27000, 23) yTRAIN: (27000,)\n",
      "xTEST: (3000, 23) yTEST: (3000,)\n",
      "class_weightsTrain [0.64200114 2.26054923]\n",
      "class_weightsTest [0.64212329 2.25903614]\n",
      "xTRAIN: (27001, 23) yTRAIN: (27001,)\n",
      "xTEST: (2999, 23) yTEST: (2999,)\n",
      "class_weightsTrain [0.64202492 2.26025448]\n",
      "class_weightsTest [0.64190925 2.26168929]\n",
      "xTRAIN: (27001, 23) yTRAIN: (27001,)\n",
      "xTEST: (2999, 23) yTEST: (2999,)\n",
      "class_weightsTrain [0.64202492 2.26025448]\n",
      "class_weightsTest [0.64190925 2.26168929]\n",
      "xTRAIN: (27001, 23) yTRAIN: (27001,)\n",
      "xTEST: (2999, 23) yTEST: (2999,)\n",
      "class_weightsTrain [0.64202492 2.26025448]\n",
      "class_weightsTest [0.64190925 2.26168929]\n",
      "xTRAIN: (27001, 23) yTRAIN: (27001,)\n",
      "xTEST: (2999, 23) yTEST: (2999,)\n",
      "class_weightsTrain [0.64202492 2.26025448]\n",
      "class_weightsTest [0.64190925 2.26168929]\n"
     ]
    }
   ],
   "source": [
    "from sklearn.model_selection import StratifiedKFold\n",
    "from sklearn.utils import class_weight\n",
    "\n",
    "\n",
    "#Train, Validation, Test\n",
    "FOLDS = 10\n",
    "\n",
    "skf = StratifiedKFold(n_splits=FOLDS)\n",
    "for train_index, test_index in skf.split(X, Y):\n",
    "    X_train, X_test = X[train_index], X[test_index]\n",
    "    Y_train, Y_test = Y[train_index], Y[test_index]    \n",
    "    print(\"xTRAIN:\", X_train.shape, \"yTRAIN:\", Y_train.shape)\n",
    "    print(\"xTEST:\", X_test.shape, \"yTEST:\", Y_test.shape)\n",
    "    class_weightsTrain = class_weight.compute_class_weight('balanced',np.unique(Y_train),Y_train)\n",
    "    class_weightsTest = class_weight.compute_class_weight('balanced',np.unique(Y_test),Y_test)\n",
    "    print(\"class_weightsTrain\",(class_weightsTrain))\n",
    "    print(\"class_weightsTest\",class_weightsTest)   \n"
   ]
  },
  {
   "cell_type": "markdown",
   "metadata": {
    "colab_type": "text",
    "id": "Y_XGyVVg0PWt"
   },
   "source": [
    "# Modelos"
   ]
  },
  {
   "cell_type": "markdown",
   "metadata": {
    "colab_type": "text",
    "id": "zowcnxvPx3q7"
   },
   "source": [
    "### **Usando [GridSearchCV](https://scikit-learn.org/stable/modules/generated/sklearn.model_selection.GridSearchCV.html)**"
   ]
  },
  {
   "cell_type": "code",
   "execution_count": 28,
   "metadata": {
    "colab": {},
    "colab_type": "code",
    "id": "v2i6IKJ7wxvS"
   },
   "outputs": [],
   "source": [
    "from sklearn.metrics import make_scorer, accuracy_score\n",
    "from sklearn.model_selection import GridSearchCV\n",
    "from sklearn.model_selection import StratifiedKFold\n",
    "from sklearn.utils import class_weight\n",
    "\n",
    "def modelTrain(model,params,X,Y,VALID_SIZE,FOLDS):\n",
    "    skf = StratifiedKFold(n_splits=FOLDS)\n",
    "    gs = GridSearchCV(model, cv=skf, param_grid=params, return_train_score=True, n_jobs=-1)\n",
    "    X_train, X_test, Y_train, Y_test = train_test_split(X,Y, test_size=VALID_SIZE, shuffle=True)\n",
    "    class_weightsTrain = class_weight.compute_class_weight('balanced',np.unique(Y_train),Y_train)\n",
    "    gs.fit(X_train, Y_train)     \n",
    "    return gs,X_test,Y_test"
   ]
  },
  {
   "cell_type": "code",
   "execution_count": 29,
   "metadata": {
    "colab": {},
    "colab_type": "code",
    "id": "TVMlIlPUB5zI"
   },
   "outputs": [],
   "source": [
    "def Metrics(model,X_test,Y_test):\n",
    "\n",
    "  y_predicted = model.predict(X_test)\n",
    "  print('Accuracy: ', accuracy_score(Y_test, y_predicted), '\\n')\n",
    "  report = classification_report(Y_test, y_predicted)\n",
    "  print(\"\\nclassification report :\\n\",report )\n",
    " \n",
    "  # Matriz de confusión\n",
    "  plt.figure(figsize=(13,10))\n",
    "  plt.subplot(221)\n",
    "  sns.heatmap(confusion_matrix(Y_test, y_predicted),annot=True,fmt = \"d\",linecolor=\"k\",linewidths=3)\n",
    "  plt.title(\"Matriz de confusión\",fontsize=20)\n",
    "   \n",
    "  # Curva ROC\n",
    "  predicting_probabilites = model.predict_proba(X_test)[:,1]\n",
    "  fpr,tpr,thresholds = roc_curve(Y_test, predicting_probabilites)\n",
    "  plt.subplot(222)\n",
    "  plt.plot(fpr,tpr,label = (\"Área bajo la curva:\",auc(fpr,tpr)),color = \"r\")\n",
    "  plt.plot([1,0],[1,0],linestyle = \"dashed\",color =\"k\")\n",
    "  plt.legend(loc = \"best\")\n",
    "  plt.title(\"Curva ROC\",fontsize=20)\n",
    "  return report"
   ]
  },
  {
   "cell_type": "code",
   "execution_count": 30,
   "metadata": {
    "colab": {},
    "colab_type": "code",
    "id": "kTq5JDzpTq_h"
   },
   "outputs": [],
   "source": [
    "def printMetrics(result):\n",
    "  results = pd.DataFrame(result.cv_results_)\n",
    "  print(results[['mean_test_score','std_test_score','mean_train_score','std_train_score']])  \n"
   ]
  },
  {
   "cell_type": "markdown",
   "metadata": {
    "colab_type": "text",
    "id": "YuMdBXhc0WCV"
   },
   "source": [
    "## **Na ̈ıve Bayes**\n",
    "\n",
    "[Documentación](https://scikit-learn.org/stable/modules/generated/sklearn.naive_bayes.GaussianNB.html#sklearn.naive_bayes.GaussianNB)"
   ]
  },
  {
   "cell_type": "code",
   "execution_count": 0,
   "metadata": {
    "colab": {},
    "colab_type": "code",
    "id": "NNHxhdnU0Ysf"
   },
   "outputs": [],
   "source": [
    "from sklearn.model_selection import train_test_split\n",
    "from sklearn.naive_bayes import GaussianNB\n",
    "gnb = GaussianNB()\n",
    "VALID_SIZE = 0.20\n",
    "FOLDS = 10\n",
    "params = {}\n",
    "\n",
    "gsGaussianNB,X_test,Y_test = modelTrain(gnb,params,X,Y,VALID_SIZE,FOLDS)\n",
    "\n",
    "#GUARDAR MODELO\n",
    "#joblib.dump(gsGaussianNB, PATH+'Models/gsGaussianNB.pkl')"
   ]
  },
  {
   "cell_type": "code",
   "execution_count": 0,
   "metadata": {
    "colab": {},
    "colab_type": "code",
    "id": "_H9FmO9SiUbh"
   },
   "outputs": [],
   "source": [
    "#READ MODEL \n",
    "\n",
    "PATHGNBMODEL = PATH+'Models/gsGaussianNB.pkl'\n",
    "gsGaussianNB = joblib.load(PATHGNBMODEL)\n"
   ]
  },
  {
   "cell_type": "markdown",
   "metadata": {
    "colab_type": "text",
    "id": "xTqLWYah0yg2"
   },
   "source": [
    "### **Resultado Obtenidos**\n",
    "\n",
    "Recuerde que como parte de una correcta metodolog ́ıa de validacion se deben incluir, seg  ́ un sea el caso, medidas de sensibilidad, especificidad, eficiencia, matriz de confusion, error cuadratico medio, MAPE, coeficiente de determinacion, etc., Deben incluir intervalos de confianza para todas las medidas usadas."
   ]
  },
  {
   "cell_type": "code",
   "execution_count": 54,
   "metadata": {
    "colab": {
     "base_uri": "https://localhost:8080/",
     "height": 578
    },
    "colab_type": "code",
    "id": "LfsXoGszDUYZ",
    "outputId": "727dd43a-15fc-4dd6-c0c7-8ba480f74d9c"
   },
   "outputs": [
    {
     "name": "stdout",
     "output_type": "stream",
     "text": [
      "Accuracy:  0.6875 \n",
      "\n",
      "\n",
      "classification report :\n",
      "               precision    recall  f1-score   support\n",
      "\n",
      "           0       0.89      0.69      0.78      4703\n",
      "           1       0.38      0.69      0.49      1297\n",
      "\n",
      "    accuracy                           0.69      6000\n",
      "   macro avg       0.63      0.69      0.63      6000\n",
      "weighted avg       0.78      0.69      0.71      6000\n",
      "\n",
      "   mean_test_score  std_test_score  mean_train_score  std_train_score\n",
      "0         0.679875        0.041991          0.678551          0.03826\n"
     ]
    },
    {
     "data": {
      "image/png": "[encoded data removed]",
      "text/plain": [
       "<Figure size 936x720 with 3 Axes>"
      ]
     },
     "metadata": {
      "tags": []
     },
     "output_type": "display_data"
    }
   ],
   "source": [
    "metrics = Metrics(gsGaussianNB.best_estimator_,X_test,Y_test)\n",
    "printMetrics(gsGaussianNB)"
   ]
  },
  {
   "cell_type": "markdown",
   "metadata": {
    "colab_type": "text",
    "id": "DT7WapDnHEHj"
   },
   "source": [
    "**Sensibilidad** = tp / (tp + fn)\n",
    "\n",
    "\n",
    "**Especificidad**  = tn /(tn+fp)\n",
    "\n",
    "\n",
    "**eficiencia** = tp+tn/(tp+tn+fp+fn)\n",
    "\n",
    "\n",
    "**Precisión** = tp /(tp+fp)\n",
    "\n",
    "\n"
   ]
  },
  {
   "cell_type": "markdown",
   "metadata": {
    "colab_type": "text",
    "id": "xyjjRFdf0kl3"
   },
   "source": [
    "## **Random Forest**"
   ]
  },
  {
   "cell_type": "markdown",
   "metadata": {
    "colab_type": "text",
    "id": "v-899rO2lPBH"
   },
   "source": [
    "[Documentación](https://scikit-learn.org/stable/modules/generated/sklearn.ensemble.RandomForestClassifier.html)"
   ]
  },
  {
   "cell_type": "code",
   "execution_count": 0,
   "metadata": {
    "colab": {
     "base_uri": "https://localhost:8080/",
     "height": 89
    },
    "colab_type": "code",
    "id": "c5FATjSJ0mSU",
    "outputId": "6ad84e26-098a-45d8-8ab8-c545124a9ea4"
   },
   "outputs": [
    {
     "name": "stdout",
     "output_type": "stream",
     "text": [
      "Best SCORE 0.8196666666666667\n",
      "Best ESTIMATOR {'criterion': 'entropy', 'max_depth': 8, 'max_features': 5, 'n_estimators': 50}\n"
     ]
    },
    {
     "data": {
      "text/plain": [
       "['/content/drive/My Drive/2019-1/Simulation of System and Laboratory/Final Project/Code/Models/gsRDF.pkl']"
      ]
     },
     "execution_count": 152,
     "metadata": {
      "tags": []
     },
     "output_type": "execute_result"
    }
   ],
   "source": [
    "from sklearn.ensemble import RandomForestClassifier\n",
    "\n",
    "VALID_SIZE = 0.20\n",
    "FOLDS = 10\n",
    "\n",
    "\"\"\"\n",
    "params = { \n",
    "    'n_estimators': [50,100,150,200,250,300],\n",
    "     \"max_features\": [1,2,3,4,5,6,7,8,9,10],\n",
    "     'max_depth': [1,2,3,4,5,6,7,8,9],\n",
    "    'criterion' :['gini', 'entropy']\n",
    "}\n",
    "\"\"\"\n",
    "params = { \n",
    "    'n_estimators': [10,20,30,40,50],\n",
    "     \"max_features\": [1,2,3,4,5],\n",
    "     'max_depth': [1,2,3,4,5,8,10,15,20],\n",
    "    'criterion' :['gini', 'entropy']\n",
    "}\n",
    "\n",
    "\n",
    "rfc=RandomForestClassifier()\n",
    "\n",
    "gsRDF,X_test,Y_test= modelTrain(rfc,params,X,Y,VALID_SIZE,FOLDS)\n",
    "\n",
    "print(\"Best SCORE\",gsRDF.best_score_)\n",
    "print(\"Best ESTIMATOR\", gsRDF.best_params_)\n",
    "\n",
    "\n",
    "#GUARDAR MODELO\n",
    "PATH_gsRDF_MODEL = PATH+'Models/gsRDF.pkl'\n",
    "joblib.dump(gsRDF,PATH_gsRDF_MODEL)"
   ]
  },
  {
   "cell_type": "markdown",
   "metadata": {
    "colab_type": "text",
    "id": "VnAlAlNm2j0X"
   },
   "source": [
    "### **Resultado Obtenidos**\n",
    "\n",
    "Recuerde que como parte de una correcta metodolog ́ıa de validacion se deben incluir, seg  ́ un sea el caso, medidas de sensibilidad, especificidad, eficiencia, matriz de confusion, error cuadratico medio, MAPE, coeficiente de determinacion, etc., Deben incluir intervalos de confianza para todas las medidas usadas."
   ]
  },
  {
   "cell_type": "code",
   "execution_count": 0,
   "metadata": {
    "colab": {
     "base_uri": "https://localhost:8080/",
     "height": 1000
    },
    "colab_type": "code",
    "id": "TottuB9OaLrs",
    "outputId": "ec3286e4-6e66-460a-e950-0ad68632cb7b"
   },
   "outputs": [
    {
     "name": "stdout",
     "output_type": "stream",
     "text": [
      "Accuracy:  0.8263333333333334 \n",
      "\n",
      "\n",
      "classification report :\n",
      "               precision    recall  f1-score   support\n",
      "\n",
      "           0       0.84      0.95      0.90      4697\n",
      "           1       0.69      0.36      0.48      1303\n",
      "\n",
      "    accuracy                           0.83      6000\n",
      "   macro avg       0.77      0.66      0.69      6000\n",
      "weighted avg       0.81      0.83      0.80      6000\n",
      "\n",
      "     mean_test_score  std_test_score  mean_train_score  std_train_score\n",
      "0           0.777792        0.000136          0.777792         0.000015\n",
      "1           0.777792        0.000136          0.777792         0.000015\n",
      "2           0.777792        0.000136          0.777792         0.000015\n",
      "3           0.777792        0.000136          0.777792         0.000015\n",
      "4           0.777792        0.000136          0.777792         0.000015\n",
      "5           0.778750        0.002920          0.778380         0.001759\n",
      "6           0.778083        0.000817          0.778028         0.000716\n",
      "7           0.777792        0.000136          0.777792         0.000015\n",
      "8           0.777792        0.000136          0.777792         0.000015\n",
      "9           0.777792        0.000136          0.777792         0.000015\n",
      "10          0.777792        0.000136          0.777792         0.000015\n",
      "11          0.779667        0.005639          0.779486         0.005082\n",
      "12          0.779208        0.004294          0.779134         0.004023\n",
      "13          0.777917        0.000331          0.778287         0.001494\n",
      "14          0.778042        0.000773          0.778046         0.000763\n",
      "15          0.788250        0.009095          0.787842         0.008816\n",
      "16          0.785833        0.008222          0.786088         0.008340\n",
      "17          0.786167        0.008021          0.786324         0.008221\n",
      "18          0.784208        0.007161          0.783546         0.006814\n",
      "19          0.783208        0.006204          0.783213         0.006132\n",
      "20          0.787708        0.009391          0.787685         0.008375\n",
      "21          0.793750        0.005788          0.794037         0.004062\n",
      "22          0.791250        0.008222          0.791954         0.008228\n",
      "23          0.793208        0.003826          0.793968         0.003044\n",
      "24          0.791958        0.007026          0.792426         0.006585\n",
      "25          0.778333        0.001406          0.778218         0.000913\n",
      "26          0.777792        0.000136          0.777792         0.000015\n",
      "27          0.777792        0.000136          0.777792         0.000015\n",
      "28          0.777792        0.000136          0.777792         0.000015\n",
      "29          0.777792        0.000136          0.777792         0.000015\n",
      "..               ...             ...               ...              ...\n",
      "420         0.812542        0.006450          0.897787         0.001941\n",
      "421         0.814542        0.005372          0.899426         0.002589\n",
      "422         0.817042        0.003905          0.900370         0.001070\n",
      "423         0.816250        0.005035          0.900083         0.001018\n",
      "424         0.817500        0.005591          0.900986         0.000717\n",
      "425         0.800042        0.004851          0.929028         0.002738\n",
      "426         0.806042        0.003632          0.934204         0.001783\n",
      "427         0.808250        0.004952          0.935449         0.002148\n",
      "428         0.808958        0.002014          0.936921         0.001188\n",
      "429         0.811750        0.002721          0.937449         0.002036\n",
      "430         0.809458        0.005137          0.933093         0.002617\n",
      "431         0.812792        0.004456          0.938199         0.001958\n",
      "432         0.813125        0.004445          0.939032         0.002184\n",
      "433         0.814750        0.006420          0.940583         0.001530\n",
      "434         0.813208        0.004393          0.940764         0.001283\n",
      "435         0.804083        0.006497          0.937833         0.002177\n",
      "436         0.813125        0.004992          0.942699         0.001615\n",
      "437         0.814667        0.007117          0.944648         0.001562\n",
      "438         0.814667        0.006636          0.945532         0.001540\n",
      "439         0.816083        0.006254          0.945750         0.001831\n",
      "440         0.807542        0.003714          0.941255         0.001727\n",
      "441         0.812458        0.004583          0.946417         0.001860\n",
      "442         0.813875        0.005183          0.947694         0.002138\n",
      "443         0.815583        0.006071          0.948134         0.001238\n",
      "444         0.815458        0.004515          0.949704         0.001716\n",
      "445         0.808083        0.004866          0.942194         0.002380\n",
      "446         0.815083        0.004939          0.948907         0.001648\n",
      "447         0.815417        0.006535          0.949847         0.001527\n",
      "448         0.815250        0.005380          0.951120         0.000973\n",
      "449         0.816833        0.005175          0.951491         0.001293\n",
      "\n",
      "[450 rows x 4 columns]\n"
     ]
    },
    {
     "data": {
      "image/png": "[encoded data removed]",
      "text/plain": [
       "<Figure size 936x720 with 3 Axes>"
      ]
     },
     "metadata": {
      "tags": []
     },
     "output_type": "display_data"
    }
   ],
   "source": [
    "metrics = Metrics(gsRDF.best_estimator_,X_test,Y_test)\n",
    "printMetrics(gsRDF)"
   ]
  },
  {
   "cell_type": "code",
   "execution_count": 0,
   "metadata": {
    "colab": {},
    "colab_type": "code",
    "id": "PczpoyizRgqO"
   },
   "outputs": [],
   "source": [
    "#READ MODEL \n",
    "\n",
    "PATHRDFMODEL = PATH+'Models/gsRDF.pkl'\n",
    "gsRDF = joblib.load(PATHRDFMODEL)"
   ]
  },
  {
   "cell_type": "markdown",
   "metadata": {
    "colab_type": "text",
    "id": "wTDOYFfg1ywx"
   },
   "source": [
    "\n",
    "\n",
    " ---\n",
    "\n",
    "\n"
   ]
  },
  {
   "cell_type": "markdown",
   "metadata": {
    "colab_type": "text",
    "id": "B3bM0UAU0aYO"
   },
   "source": [
    "## K vecinos mas cercanos"
   ]
  },
  {
   "cell_type": "markdown",
   "metadata": {
    "colab_type": "text",
    "id": "z3fYzmk0Ttaq"
   },
   "source": [
    "[Documentación](https://scikit-learn.org/stable/modules/generated/sklearn.neighbors.KNeighborsClassifier.html)"
   ]
  },
  {
   "cell_type": "code",
   "execution_count": 55,
   "metadata": {
    "colab": {
     "base_uri": "https://localhost:8080/",
     "height": 253
    },
    "colab_type": "code",
    "id": "xpKLYeBx0dy2",
    "outputId": "2d56b706-89f7-4fcf-b875-01f877012056"
   },
   "outputs": [
    {
     "name": "stdout",
     "output_type": "stream",
     "text": [
      "Best SCORE 0.8088333333333333\n"
     ]
    },
    {
     "ename": "AttributeError",
     "evalue": "ignored",
     "output_type": "error",
     "traceback": [
      "\u001b[0;31m---------------------------------------------------------------------------\u001b[0m",
      "\u001b[0;31mAttributeError\u001b[0m                            Traceback (most recent call last)",
      "\u001b[0;32m<ipython-input-55-88af886edbfe>\u001b[0m in \u001b[0;36m<module>\u001b[0;34m()\u001b[0m\n\u001b[1;32m     14\u001b[0m \u001b[0mgsKNN\u001b[0m\u001b[0;34m,\u001b[0m\u001b[0mX_test\u001b[0m\u001b[0;34m,\u001b[0m\u001b[0mY_test\u001b[0m \u001b[0;34m=\u001b[0m \u001b[0mmodelTrain\u001b[0m\u001b[0;34m(\u001b[0m\u001b[0mKNN\u001b[0m\u001b[0;34m,\u001b[0m\u001b[0mparams\u001b[0m\u001b[0;34m,\u001b[0m\u001b[0mX\u001b[0m\u001b[0;34m,\u001b[0m\u001b[0mY\u001b[0m\u001b[0;34m,\u001b[0m\u001b[0mVALID_SIZE\u001b[0m\u001b[0;34m,\u001b[0m\u001b[0mFOLDS\u001b[0m\u001b[0;34m)\u001b[0m\u001b[0;34m\u001b[0m\u001b[0;34m\u001b[0m\u001b[0m\n\u001b[1;32m     15\u001b[0m \u001b[0mprint\u001b[0m\u001b[0;34m(\u001b[0m\u001b[0;34m\"Best SCORE\"\u001b[0m\u001b[0;34m,\u001b[0m\u001b[0mgsKNN\u001b[0m\u001b[0;34m.\u001b[0m\u001b[0mbest_score_\u001b[0m\u001b[0;34m)\u001b[0m\u001b[0;34m\u001b[0m\u001b[0;34m\u001b[0m\u001b[0m\n\u001b[0;32m---> 16\u001b[0;31m \u001b[0mprint\u001b[0m\u001b[0;34m(\u001b[0m\u001b[0;34m\"Best ESTIMATOR\"\u001b[0m\u001b[0;34m,\u001b[0m \u001b[0mgsKNN\u001b[0m\u001b[0;34m.\u001b[0m\u001b[0mgsGaussianNB\u001b[0m\u001b[0;34m.\u001b[0m\u001b[0mbest_params_\u001b[0m\u001b[0;34m)\u001b[0m\u001b[0;34m\u001b[0m\u001b[0;34m\u001b[0m\u001b[0m\n\u001b[0m\u001b[1;32m     17\u001b[0m \u001b[0;34m\u001b[0m\u001b[0m\n\u001b[1;32m     18\u001b[0m \u001b[0;31m#GUARDAR MODELO\u001b[0m\u001b[0;34m\u001b[0m\u001b[0;34m\u001b[0m\u001b[0;34m\u001b[0m\u001b[0m\n",
      "\u001b[0;31mAttributeError\u001b[0m: 'GridSearchCV' object has no attribute 'gsGaussianNB'"
     ]
    }
   ],
   "source": [
    "from sklearn.neighbors import KNeighborsClassifier\n",
    "\n",
    "VALID_SIZE = 0.20\n",
    "FOLDS = 10\n",
    "params = {\n",
    "    'n_neighbors':[3,5,7,9,11],\n",
    "    'metric':['minkowski','euclidean','manhattan']\n",
    "    \n",
    "    \n",
    "}\n",
    "KNN = KNeighborsClassifier()\n",
    "\n",
    "\n",
    "gsKNN,X_test,Y_test = modelTrain(KNN,params,X,Y,VALID_SIZE,FOLDS)\n"
   ]
  },
  {
   "cell_type": "code",
   "execution_count": 56,
   "metadata": {
    "colab": {
     "base_uri": "https://localhost:8080/",
     "height": 89
    },
    "colab_type": "code",
    "id": "BNS8dpO49o9D",
    "outputId": "75cf076c-ea1b-4ba0-a872-4258b87bcbda"
   },
   "outputs": [
    {
     "name": "stdout",
     "output_type": "stream",
     "text": [
      "Best SCORE 0.8088333333333333\n",
      "Best ESTIMATOR {'metric': 'minkowski', 'n_neighbors': 11}\n"
     ]
    },
    {
     "data": {
      "text/plain": [
       "['/content/drive/My Drive/2019-1/Simulation of System and Laboratory/Final Project/Code/Models/gsKNN.pkl']"
      ]
     },
     "execution_count": 56,
     "metadata": {
      "tags": []
     },
     "output_type": "execute_result"
    }
   ],
   "source": [
    "print(\"Best SCORE\",gsKNN.best_score_)\n",
    "print(\"Best ESTIMATOR\", gsKNN.best_params_)\n",
    "\n",
    "#GUARDAR MODELO\n",
    "PATH_knn_MODEL = PATH+'Models/gsKNN.pkl'\n",
    "joblib.dump(gsKNN,PATH_knn_MODEL)"
   ]
  },
  {
   "cell_type": "markdown",
   "metadata": {
    "colab_type": "text",
    "id": "_kTfWZai2hjs"
   },
   "source": [
    "### **Resultado Obtenidos**\n",
    "\n",
    "Recuerde que como parte de una correcta metodolog ́ıa de validacion se deben incluir, seg  ́ un sea el caso, medidas de sensibilidad, especificidad, eficiencia, matriz de confusion, error cuadratico medio, MAPE, coeficiente de determinacion, etc., Deben incluir intervalos de confianza para todas las medidas usadas."
   ]
  },
  {
   "cell_type": "code",
   "execution_count": 57,
   "metadata": {
    "colab": {
     "base_uri": "https://localhost:8080/",
     "height": 821
    },
    "colab_type": "code",
    "id": "e4QxYvgAzXUa",
    "outputId": "3548a9ea-344e-42ac-f8e1-7bd4b297c2f8"
   },
   "outputs": [
    {
     "name": "stdout",
     "output_type": "stream",
     "text": [
      "Accuracy:  0.8053333333333333 \n",
      "\n",
      "\n",
      "classification report :\n",
      "               precision    recall  f1-score   support\n",
      "\n",
      "           0       0.83      0.94      0.88      4667\n",
      "           1       0.61      0.34      0.43      1333\n",
      "\n",
      "    accuracy                           0.81      6000\n",
      "   macro avg       0.72      0.64      0.66      6000\n",
      "weighted avg       0.78      0.81      0.78      6000\n",
      "\n",
      "    mean_test_score  std_test_score  mean_train_score  std_train_score\n",
      "0          0.777458        0.004741          0.866523         0.000795\n",
      "1          0.792167        0.005404          0.845153         0.001155\n",
      "2          0.800167        0.005639          0.835903         0.000803\n",
      "3          0.806500        0.005417          0.831162         0.001041\n",
      "4          0.808833        0.007486          0.827880         0.001473\n",
      "5          0.777458        0.004741          0.866523         0.000795\n",
      "6          0.792167        0.005404          0.845153         0.001155\n",
      "7          0.800167        0.005639          0.835903         0.000803\n",
      "8          0.806500        0.005417          0.831162         0.001041\n",
      "9          0.808833        0.007486          0.827880         0.001473\n",
      "10         0.775417        0.006399          0.866333         0.000919\n",
      "11         0.791167        0.004929          0.843981         0.000681\n",
      "12         0.799375        0.006273          0.835134         0.000856\n",
      "13         0.804542        0.005145          0.830241         0.000764\n",
      "14         0.805833        0.005425          0.827176         0.001079\n"
     ]
    },
    {
     "data": {
      "image/png": "[encoded data removed]",
      "text/plain": [
       "<Figure size 936x720 with 3 Axes>"
      ]
     },
     "metadata": {
      "tags": []
     },
     "output_type": "display_data"
    }
   ],
   "source": [
    "metrics = Metrics(gsKNN.best_estimator_,X_test,Y_test)\n",
    "printMetrics(gsKNN)"
   ]
  },
  {
   "cell_type": "markdown",
   "metadata": {
    "colab_type": "text",
    "id": "Y9qFGtIk1Y4W"
   },
   "source": [
    "\n",
    "\n",
    "---\n",
    "\n",
    "\n"
   ]
  },
  {
   "cell_type": "markdown",
   "metadata": {
    "colab_type": "text",
    "id": "qTno4pUS0hLd"
   },
   "source": [
    "## **Redes Neuronales Artificiales**"
   ]
  },
  {
   "cell_type": "code",
   "execution_count": 0,
   "metadata": {
    "colab": {},
    "colab_type": "code",
    "id": "qF4d1ZA-0iUu"
   },
   "outputs": [],
   "source": []
  },
  {
   "cell_type": "markdown",
   "metadata": {
    "colab_type": "text",
    "id": "Nii3Xmzs2jD-"
   },
   "source": [
    "### **Resultado Obtenidos**\n",
    "\n",
    "Recuerde que como parte de una correcta metodolog ́ıa de validacion se deben incluir, seg  ́ un sea el caso, medidas de sensibilidad, especificidad, eficiencia, matriz de confusion, error cuadratico medio, MAPE, coeficiente de determinacion, etc., Deben incluir intervalos de confianza para todas las medidas usadas."
   ]
  },
  {
   "cell_type": "markdown",
   "metadata": {
    "colab_type": "text",
    "id": "Qb3czAHO1ySX"
   },
   "source": [
    "\n",
    "\n",
    " ---\n",
    "\n",
    "\n"
   ]
  },
  {
   "cell_type": "markdown",
   "metadata": {
    "colab_type": "text",
    "id": "C_OYTytC0p_V"
   },
   "source": [
    "## **Maquinas de Soporte Vectorial con kernel lineal y con kernel RBF.**"
   ]
  },
  {
   "cell_type": "code",
   "execution_count": 0,
   "metadata": {
    "colab": {},
    "colab_type": "code",
    "id": "iCkptLBK0rCn"
   },
   "outputs": [],
   "source": [
    "from sklearn.svm import SVC\n",
    "\n",
    "VALID_SIZE = 0.20\n",
    "FOLDS = 10\n",
    "\n",
    "Cs = [0.001, 0.01, 0.1, 1, 10]\n",
    "gammas = [0.001, 0.01, 0.1, 1]\n",
    "kernels = ['rbf','linear']\n",
    "\n",
    "params = {'C': Cs, 'gamma' : gammas,'kernel':kernels}\n",
    "svm = SVC()\n",
    "gsSVM = modelTrain(svm,params,X,Y,VALID_SIZE,FOLDS)\n",
    "\n",
    "print(\"Best SCORE\",gsSVM.best_score_)\n",
    "print(\"Best ESTIMATOR\", gsSVM.best_params_)\n",
    "\n",
    "\n",
    "\n",
    "#GUARDAR MODELO\n",
    "PATH_svm_MODEL = PATH+'Models/gsSVM.pkl'\n",
    "joblib.dump(gsSVM,PATH_svm_MODEL)\n"
   ]
  },
  {
   "cell_type": "markdown",
   "metadata": {
    "colab_type": "text",
    "id": "jBo7N_mE2lbh"
   },
   "source": [
    "### **Resultado Obtenidos**\n",
    "\n",
    "Recuerde que como parte de una correcta metodolog ́ıa de validacion se deben incluir, seg  ́ un sea el caso, medidas de sensibilidad, especificidad, eficiencia, matriz de confusion, error cuadratico medio, MAPE, coeficiente de determinacion, etc., Deben incluir intervalos de confianza para todas las medidas usadas."
   ]
  },
  {
   "cell_type": "markdown",
   "metadata": {
    "colab_type": "text",
    "id": "u4hBzRHP1zJ2"
   },
   "source": [
    "\n",
    "\n",
    " ---\n",
    "\n",
    "\n"
   ]
  }
 ],
 "metadata": {
  "colab": {
   "collapsed_sections": [
    "w5gPXvCHcykh",
    "39k-3m3_f3BK",
    "ucRWuvml3nDE",
    "O2Rd2NOL4rKl",
    "qTno4pUS0hLd",
    "C_OYTytC0p_V"
   ],
   "include_colab_link": true,
   "name": "P2- Experiments-KNN.ipynb",
   "provenance": [],
   "toc_visible": true
  },
  "kernelspec": {
   "display_name": "Python 3",
   "language": "python",
   "name": "python3"
  },
  "language_info": {
   "codemirror_mode": {
    "name": "ipython",
    "version": 3
   },
   "file_extension": ".py",
   "mimetype": "text/x-python",
   "name": "python",
   "nbconvert_exporter": "python",
   "pygments_lexer": "ipython3",
   "version": "3.6.5"
  }
 },
 "nbformat": 4,
 "nbformat_minor": 1
}

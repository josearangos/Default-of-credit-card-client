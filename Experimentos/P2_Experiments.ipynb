{
 "cells": [
  {
   "cell_type": "markdown",
   "metadata": {
    "colab_type": "text",
    "id": "view-in-github"
   },
   "source": [
    "<a href=\"https://colab.research.google.com/github/josearangos/Default-of-credit-card-client/blob/master/P2_Experiments.ipynb\" target=\"_parent\"><img src=\"https://colab.research.google.com/assets/colab-badge.svg\" alt=\"Open In Colab\"/></a>"
   ]
  },
  {
   "cell_type": "markdown",
   "metadata": {
    "colab_type": "text",
    "id": "fDegjWVq4oBv"
   },
   "source": [
    "**Kaggle** \n",
    "\n",
    "kernel con normalización https://www.kaggle.com/selener/prediction-of-credit-card-default\n",
    "\n",
    "\n",
    "\n",
    "kernels: https://www.kaggle.com/lucabasa/credit-card-default-a-very-pedagogical-notebook\n",
    "\n",
    "\n",
    "\n",
    "Sobre Matrix de confusion y selección de variables \n",
    "https://www.kaggle.com/gpreda/default-of-credit-card-clients-predictive-models\n"
   ]
  },
  {
   "cell_type": "markdown",
   "metadata": {
    "colab_type": "text",
    "id": "ZW-ElaqSyWwR"
   },
   "source": [
    "# **Experimentos**\n",
    "\n",
    "Incluya una sesion dentro de su informe con el nombre Experimentos, en la cual describa la metodología de validacion usada y la base de datos que est  ́ a usandó para llevar a cabo el proyecto, incluyendo la fuente de la base de datos como referencia, el numero de muestras,variables, etc. Si su problema es de clasificacion, indique cuantas clases contiene la basa de datos y cu  ́ antas muestras por clase. Si la base de datos esta desbalanceada,deben considerar el uso de tecnicas de submuestreo y sobremuestreo inteligente, ademas de usar validacíón ́estratificaida."
   ]
  },
  {
   "cell_type": "code",
   "execution_count": 2,
   "metadata": {
    "colab": {},
    "colab_type": "code",
    "id": "IscFLpvPx2DW"
   },
   "outputs": [],
   "source": [
    "from pandas import DataFrame, read_csv\n",
    "import pickle\n",
    "from sklearn.externals import joblib #Guardar modelos una vez entrenados\n",
    "import numpy as np\n",
    "import matplotlib.pyplot as plt\n",
    "import pandas as pd \n",
    "import seaborn as sns\n",
    "from sklearn.metrics import classification_report,confusion_matrix,accuracy_score,roc_curve,auc\n",
    "\n",
    "\n",
    "#PATH = '/content/drive/My Drive/2019-1/Simulation of System and Laboratory/Final Project/Code/'"
   ]
  },
  {
   "cell_type": "code",
   "execution_count": 3,
   "metadata": {
    "colab": {},
    "colab_type": "code",
    "id": "7TgS3vrgyKSM"
   },
   "outputs": [],
   "source": [
    "#file = PATH+'UCI_Credit_Card.csv'\n",
    "file = 'UCI_Credit_Card.csv'\n",
    "df = pd.read_csv(file)"
   ]
  },
  {
   "cell_type": "markdown",
   "metadata": {
    "colab_type": "text",
    "id": "KsgD5gSAzLF8"
   },
   "source": [
    "# Sobre la base de datos"
   ]
  },
  {
   "cell_type": "code",
   "execution_count": 4,
   "metadata": {
    "colab": {
     "base_uri": "https://localhost:8080/",
     "height": 222
    },
    "colab_type": "code",
    "id": "LBCWrKxY5mny",
    "outputId": "8c5129cc-c08e-45e8-a7eb-c2bb5253d5b4"
   },
   "outputs": [
    {
     "data": {
      "text/html": [
       "<div>\n",
       "<style scoped>\n",
       "    .dataframe tbody tr th:only-of-type {\n",
       "        vertical-align: middle;\n",
       "    }\n",
       "\n",
       "    .dataframe tbody tr th {\n",
       "        vertical-align: top;\n",
       "    }\n",
       "\n",
       "    .dataframe thead th {\n",
       "        text-align: right;\n",
       "    }\n",
       "</style>\n",
       "<table border=\"1\" class=\"dataframe\">\n",
       "  <thead>\n",
       "    <tr style=\"text-align: right;\">\n",
       "      <th></th>\n",
       "      <th>ID</th>\n",
       "      <th>LIMIT_BAL</th>\n",
       "      <th>SEX</th>\n",
       "      <th>EDUCATION</th>\n",
       "      <th>MARRIAGE</th>\n",
       "      <th>AGE</th>\n",
       "      <th>PAY_0</th>\n",
       "      <th>PAY_2</th>\n",
       "      <th>PAY_3</th>\n",
       "      <th>PAY_4</th>\n",
       "      <th>...</th>\n",
       "      <th>BILL_AMT4</th>\n",
       "      <th>BILL_AMT5</th>\n",
       "      <th>BILL_AMT6</th>\n",
       "      <th>PAY_AMT1</th>\n",
       "      <th>PAY_AMT2</th>\n",
       "      <th>PAY_AMT3</th>\n",
       "      <th>PAY_AMT4</th>\n",
       "      <th>PAY_AMT5</th>\n",
       "      <th>PAY_AMT6</th>\n",
       "      <th>default.payment.next.month</th>\n",
       "    </tr>\n",
       "  </thead>\n",
       "  <tbody>\n",
       "    <tr>\n",
       "      <th>15311</th>\n",
       "      <td>15312</td>\n",
       "      <td>240000.0</td>\n",
       "      <td>2</td>\n",
       "      <td>3</td>\n",
       "      <td>2</td>\n",
       "      <td>37</td>\n",
       "      <td>1</td>\n",
       "      <td>-2</td>\n",
       "      <td>-1</td>\n",
       "      <td>-1</td>\n",
       "      <td>...</td>\n",
       "      <td>2500.0</td>\n",
       "      <td>580.0</td>\n",
       "      <td>490.0</td>\n",
       "      <td>0.0</td>\n",
       "      <td>2489.0</td>\n",
       "      <td>2500.0</td>\n",
       "      <td>580.0</td>\n",
       "      <td>490.0</td>\n",
       "      <td>177.0</td>\n",
       "      <td>0</td>\n",
       "    </tr>\n",
       "    <tr>\n",
       "      <th>26572</th>\n",
       "      <td>26573</td>\n",
       "      <td>90000.0</td>\n",
       "      <td>2</td>\n",
       "      <td>3</td>\n",
       "      <td>1</td>\n",
       "      <td>55</td>\n",
       "      <td>0</td>\n",
       "      <td>0</td>\n",
       "      <td>0</td>\n",
       "      <td>0</td>\n",
       "      <td>...</td>\n",
       "      <td>35447.0</td>\n",
       "      <td>33465.0</td>\n",
       "      <td>31680.0</td>\n",
       "      <td>2000.0</td>\n",
       "      <td>2000.0</td>\n",
       "      <td>2000.0</td>\n",
       "      <td>1400.0</td>\n",
       "      <td>1400.0</td>\n",
       "      <td>1712.0</td>\n",
       "      <td>0</td>\n",
       "    </tr>\n",
       "    <tr>\n",
       "      <th>11835</th>\n",
       "      <td>11836</td>\n",
       "      <td>280000.0</td>\n",
       "      <td>1</td>\n",
       "      <td>2</td>\n",
       "      <td>1</td>\n",
       "      <td>36</td>\n",
       "      <td>0</td>\n",
       "      <td>0</td>\n",
       "      <td>-2</td>\n",
       "      <td>-2</td>\n",
       "      <td>...</td>\n",
       "      <td>0.0</td>\n",
       "      <td>0.0</td>\n",
       "      <td>0.0</td>\n",
       "      <td>0.0</td>\n",
       "      <td>0.0</td>\n",
       "      <td>0.0</td>\n",
       "      <td>0.0</td>\n",
       "      <td>0.0</td>\n",
       "      <td>0.0</td>\n",
       "      <td>0</td>\n",
       "    </tr>\n",
       "    <tr>\n",
       "      <th>7928</th>\n",
       "      <td>7929</td>\n",
       "      <td>200000.0</td>\n",
       "      <td>2</td>\n",
       "      <td>1</td>\n",
       "      <td>2</td>\n",
       "      <td>29</td>\n",
       "      <td>-1</td>\n",
       "      <td>-1</td>\n",
       "      <td>-1</td>\n",
       "      <td>-1</td>\n",
       "      <td>...</td>\n",
       "      <td>0.0</td>\n",
       "      <td>0.0</td>\n",
       "      <td>5162.0</td>\n",
       "      <td>0.0</td>\n",
       "      <td>65.0</td>\n",
       "      <td>0.0</td>\n",
       "      <td>0.0</td>\n",
       "      <td>5162.0</td>\n",
       "      <td>0.0</td>\n",
       "      <td>1</td>\n",
       "    </tr>\n",
       "    <tr>\n",
       "      <th>28849</th>\n",
       "      <td>28850</td>\n",
       "      <td>180000.0</td>\n",
       "      <td>2</td>\n",
       "      <td>2</td>\n",
       "      <td>2</td>\n",
       "      <td>38</td>\n",
       "      <td>0</td>\n",
       "      <td>0</td>\n",
       "      <td>0</td>\n",
       "      <td>0</td>\n",
       "      <td>...</td>\n",
       "      <td>26805.0</td>\n",
       "      <td>8992.0</td>\n",
       "      <td>10906.0</td>\n",
       "      <td>2000.0</td>\n",
       "      <td>2000.0</td>\n",
       "      <td>2000.0</td>\n",
       "      <td>1000.0</td>\n",
       "      <td>2000.0</td>\n",
       "      <td>2000.0</td>\n",
       "      <td>0</td>\n",
       "    </tr>\n",
       "  </tbody>\n",
       "</table>\n",
       "<p>5 rows × 25 columns</p>\n",
       "</div>"
      ],
      "text/plain": [
       "          ID  LIMIT_BAL  SEX  EDUCATION  MARRIAGE  AGE  PAY_0  PAY_2  PAY_3  \\\n",
       "15311  15312   240000.0    2          3         2   37      1     -2     -1   \n",
       "26572  26573    90000.0    2          3         1   55      0      0      0   \n",
       "11835  11836   280000.0    1          2         1   36      0      0     -2   \n",
       "7928    7929   200000.0    2          1         2   29     -1     -1     -1   \n",
       "28849  28850   180000.0    2          2         2   38      0      0      0   \n",
       "\n",
       "       PAY_4             ...              BILL_AMT4  BILL_AMT5  BILL_AMT6  \\\n",
       "15311     -1             ...                 2500.0      580.0      490.0   \n",
       "26572      0             ...                35447.0    33465.0    31680.0   \n",
       "11835     -2             ...                    0.0        0.0        0.0   \n",
       "7928      -1             ...                    0.0        0.0     5162.0   \n",
       "28849      0             ...                26805.0     8992.0    10906.0   \n",
       "\n",
       "       PAY_AMT1  PAY_AMT2  PAY_AMT3  PAY_AMT4  PAY_AMT5  PAY_AMT6  \\\n",
       "15311       0.0    2489.0    2500.0     580.0     490.0     177.0   \n",
       "26572    2000.0    2000.0    2000.0    1400.0    1400.0    1712.0   \n",
       "11835       0.0       0.0       0.0       0.0       0.0       0.0   \n",
       "7928        0.0      65.0       0.0       0.0    5162.0       0.0   \n",
       "28849    2000.0    2000.0    2000.0    1000.0    2000.0    2000.0   \n",
       "\n",
       "       default.payment.next.month  \n",
       "15311                           0  \n",
       "26572                           0  \n",
       "11835                           0  \n",
       "7928                            1  \n",
       "28849                           0  \n",
       "\n",
       "[5 rows x 25 columns]"
      ]
     },
     "execution_count": 4,
     "metadata": {},
     "output_type": "execute_result"
    }
   ],
   "source": [
    "df.sample(5)"
   ]
  },
  {
   "cell_type": "markdown",
   "metadata": {
    "colab_type": "text",
    "id": "XMBYYL4f8Yu7"
   },
   "source": [
    "## **Variables**\n",
    "**SEX: Gender**\n",
    "1 = male \n",
    "2 = female\n",
    "\n",
    "**EDUCATION:**\n",
    "\n",
    "1 = graduate school \n",
    "2 = university \n",
    "3 = high school \n",
    "4 = others \n",
    "5 = unknown \n",
    "6 = unknown\n",
    "\n",
    "\n",
    "\n",
    "\n",
    "\n",
    "\n",
    "**MARRIAGE**: Marital status\n",
    "1 = married\n",
    "2 = single\n",
    "3 = others\n",
    "\n",
    "\n",
    "\n",
    "**PAY_0,2,3,4,5,6: **Repayment status in September 2005, August 2005, July 2005, June 2005, May 2005, April 2005 (respectivey)\n",
    "\n",
    "-2= no consumption\n",
    "-1= pay duly\n",
    "1 = payment delay for one month\n",
    "2 = payment delay for two months\n",
    "... \n",
    "8 = payment delay for eight months\n",
    "9 = payment delay for nine months and above\n"
   ]
  },
  {
   "cell_type": "markdown",
   "metadata": {
    "colab_type": "text",
    "id": "K5ljewd6zTmK"
   },
   "source": [
    "**Cantidad de muestras**"
   ]
  },
  {
   "cell_type": "code",
   "execution_count": 5,
   "metadata": {
    "colab": {
     "base_uri": "https://localhost:8080/",
     "height": 35
    },
    "colab_type": "code",
    "id": "VcGQnEfDzg4f",
    "outputId": "101a6be5-ca99-4426-ce42-2908e7820215"
   },
   "outputs": [
    {
     "data": {
      "text/plain": [
       "(30000, 25)"
      ]
     },
     "execution_count": 5,
     "metadata": {},
     "output_type": "execute_result"
    }
   ],
   "source": [
    "df = df.rename(columns={'default.payment.next.month': 'def_pay', \n",
    "                        'PAY_0': 'PAY_1'})\n",
    "data = df.values\n",
    "data.shape"
   ]
  },
  {
   "cell_type": "markdown",
   "metadata": {
    "colab_type": "text",
    "id": "vWb3jtW8z5xJ"
   },
   "source": [
    "Cantidad de clases"
   ]
  },
  {
   "cell_type": "code",
   "execution_count": 6,
   "metadata": {
    "colab": {
     "base_uri": "https://localhost:8080/",
     "height": 34
    },
    "colab_type": "code",
    "id": "E24BDuNsz721",
    "outputId": "85de2ad1-502e-4abc-9024-b7ae1ead786e"
   },
   "outputs": [
    {
     "data": {
      "text/plain": [
       "2"
      ]
     },
     "execution_count": 6,
     "metadata": {},
     "output_type": "execute_result"
    }
   ],
   "source": [
    "len(np.unique(df.def_pay))"
   ]
  },
  {
   "cell_type": "markdown",
   "metadata": {
    "colab_type": "text",
    "id": "PDOtN078zfnO"
   },
   "source": [
    "Muestras por clases"
   ]
  },
  {
   "cell_type": "code",
   "execution_count": 7,
   "metadata": {
    "colab": {
     "base_uri": "https://localhost:8080/",
     "height": 52
    },
    "colab_type": "code",
    "id": "xehP5Cb5zhab",
    "outputId": "2c6899f7-6de8-4c0d-d888-f2924e1f712e"
   },
   "outputs": [
    {
     "name": "stdout",
     "output_type": "stream",
     "text": [
      "Clase (1): 6636\n",
      "Clase (0): 23364\n"
     ]
    }
   ],
   "source": [
    "classes = np.unique(df.def_pay)\n",
    "unicos = data[:,-1]\n",
    "unos = np.where(unicos == 1)\n",
    "lenU =len(unos[0])\n",
    "cero = np.where(unicos == 0)\n",
    "lenC=len(cero[0])\n",
    "print(\"Clase (1):\",lenU)\n",
    "print(\"Clase (0):\",lenC)"
   ]
  },
  {
   "cell_type": "code",
   "execution_count": 8,
   "metadata": {
    "colab": {
     "base_uri": "https://localhost:8080/",
     "height": 306
    },
    "colab_type": "code",
    "id": "osVavssr_MLu",
    "outputId": "9f4a68b5-617d-446a-a2ac-17d1ae27bd60"
   },
   "outputs": [
    {
     "data": {
      "image/png": "[encoded data removed]",
      "text/plain": [
       "<Figure size 504x288 with 1 Axes>"
      ]
     },
     "metadata": {},
     "output_type": "display_data"
    }
   ],
   "source": [
    "# The frequency of defaults\n",
    "yes = df.def_pay.sum()\n",
    "no = len(data)-yes\n",
    "\n",
    "# Percentage\n",
    "yes_perc = round(yes/len(df)*100, 1)\n",
    "no_perc = round(no/len(df)*100, 1)\n",
    "\n",
    "import sys \n",
    "plt.figure(figsize=(7,4))\n",
    "sns.set_context('notebook', font_scale=1.2)\n",
    "sns.countplot('def_pay',data=df, palette=\"Blues\")\n",
    "plt.annotate('Non-default: {}'.format(no), xy=(-0.3, 15000), xytext=(-0.3, 3000), size=12)\n",
    "plt.annotate('Default: {}'.format(yes), xy=(0.7, 15000), xytext=(0.7, 3000), size=12)\n",
    "plt.annotate(str(no_perc)+\" %\", xy=(-0.3, 15000), xytext=(-0.1, 8000), size=12)\n",
    "plt.annotate(str(yes_perc)+\" %\", xy=(0.7, 15000), xytext=(0.9, 8000), size=12)\n",
    "plt.title('COUNT OF CREDIT CARDS', size=14)\n",
    "#Removing the frame\n",
    "plt.box(False);"
   ]
  },
  {
   "cell_type": "markdown",
   "metadata": {
    "colab_type": "text",
    "id": "1RLV7mtMzvai"
   },
   "source": [
    "Cantidad de variables y su significado"
   ]
  },
  {
   "cell_type": "code",
   "execution_count": 9,
   "metadata": {
    "colab": {
     "base_uri": "https://localhost:8080/",
     "height": 527
    },
    "colab_type": "code",
    "id": "ePHjQOY5zyFJ",
    "outputId": "48337f26-5d09-4603-8cc4-a2659de3f0b2"
   },
   "outputs": [
    {
     "name": "stdout",
     "output_type": "stream",
     "text": [
      "<class 'pandas.core.frame.DataFrame'>\n",
      "RangeIndex: 30000 entries, 0 to 29999\n",
      "Data columns (total 25 columns):\n",
      "ID           30000 non-null int64\n",
      "LIMIT_BAL    30000 non-null float64\n",
      "SEX          30000 non-null int64\n",
      "EDUCATION    30000 non-null int64\n",
      "MARRIAGE     30000 non-null int64\n",
      "AGE          30000 non-null int64\n",
      "PAY_1        30000 non-null int64\n",
      "PAY_2        30000 non-null int64\n",
      "PAY_3        30000 non-null int64\n",
      "PAY_4        30000 non-null int64\n",
      "PAY_5        30000 non-null int64\n",
      "PAY_6        30000 non-null int64\n",
      "BILL_AMT1    30000 non-null float64\n",
      "BILL_AMT2    30000 non-null float64\n",
      "BILL_AMT3    30000 non-null float64\n",
      "BILL_AMT4    30000 non-null float64\n",
      "BILL_AMT5    30000 non-null float64\n",
      "BILL_AMT6    30000 non-null float64\n",
      "PAY_AMT1     30000 non-null float64\n",
      "PAY_AMT2     30000 non-null float64\n",
      "PAY_AMT3     30000 non-null float64\n",
      "PAY_AMT4     30000 non-null float64\n",
      "PAY_AMT5     30000 non-null float64\n",
      "PAY_AMT6     30000 non-null float64\n",
      "def_pay      30000 non-null int64\n",
      "dtypes: float64(13), int64(12)\n",
      "memory usage: 5.7 MB\n"
     ]
    }
   ],
   "source": [
    "df.info()"
   ]
  },
  {
   "cell_type": "markdown",
   "metadata": {
    "colab_type": "text",
    "id": "Mroh0yHP9m4F"
   },
   "source": [
    "## **Feature engineering**"
   ]
  },
  {
   "cell_type": "markdown",
   "metadata": {
    "colab_type": "text",
    "id": "7KAi7nNc9rJv"
   },
   "source": [
    "Los datos ya se han codificado y limpiado. Sin embargo, algunos datos categóricos tienen categorías repetidas. Por ejemplo, la variable \"educación\" tiene tres categorías con información similar: 4: others, 5: unknown, and 6: unknown\n",
    "\n",
    "Por lo tanto  Las categorías 4: otras, 5: desconocidas y 6: desconocidas se pueden agrupar en una sola clase '4'.\n",
    "  "
   ]
  },
  {
   "cell_type": "code",
   "execution_count": 10,
   "metadata": {
    "colab": {
     "base_uri": "https://localhost:8080/",
     "height": 34
    },
    "colab_type": "code",
    "id": "3Pcpcjnr9-eD",
    "outputId": "a1c748d0-c161-4dff-aeca-76f8474ab888"
   },
   "outputs": [
    {
     "data": {
      "text/plain": [
       "array([2, 1, 3, 5, 4, 6, 0])"
      ]
     },
     "execution_count": 10,
     "metadata": {},
     "output_type": "execute_result"
    }
   ],
   "source": [
    "df['EDUCATION'].unique()"
   ]
  },
  {
   "cell_type": "code",
   "execution_count": 11,
   "metadata": {
    "colab": {
     "base_uri": "https://localhost:8080/",
     "height": 34
    },
    "colab_type": "code",
    "id": "CJ-_-z_b-IA4",
    "outputId": "48abfb41-cc01-45f9-9f6c-68739ec5e5fc"
   },
   "outputs": [
    {
     "data": {
      "text/plain": [
       "array([2, 1, 3, 4])"
      ]
     },
     "execution_count": 11,
     "metadata": {},
     "output_type": "execute_result"
    }
   ],
   "source": [
    "#Reemplazamos los valores \n",
    "\n",
    "df['EDUCATION']=np.where(df['EDUCATION'] == 5, 4, df['EDUCATION'])\n",
    "df['EDUCATION']=np.where(df['EDUCATION'] == 6, 4, df['EDUCATION'])\n",
    "df['EDUCATION']=np.where(df['EDUCATION'] == 0, 4, df['EDUCATION'])\n",
    "\n",
    "df['EDUCATION'].unique()\n",
    "\n"
   ]
  },
  {
   "cell_type": "markdown",
   "metadata": {
    "colab_type": "text",
    "id": "mncpz9Wq-gtM"
   },
   "source": [
    "la columna 'matrimonio' ​​debe tener tres categorías: 1 = casado, 2 = soltero, 3 = otros, pero contiene una categoría '0' que se unirá a la categoría '3'."
   ]
  },
  {
   "cell_type": "code",
   "execution_count": 12,
   "metadata": {
    "colab": {
     "base_uri": "https://localhost:8080/",
     "height": 34
    },
    "colab_type": "code",
    "id": "41R2VETD-iW-",
    "outputId": "4c198647-e5c0-4852-cf2f-8b58f7b84f9d"
   },
   "outputs": [
    {
     "data": {
      "text/plain": [
       "array([1, 2, 3, 0])"
      ]
     },
     "execution_count": 12,
     "metadata": {},
     "output_type": "execute_result"
    }
   ],
   "source": [
    "df['MARRIAGE'].unique()\n"
   ]
  },
  {
   "cell_type": "code",
   "execution_count": 13,
   "metadata": {
    "colab": {
     "base_uri": "https://localhost:8080/",
     "height": 34
    },
    "colab_type": "code",
    "id": "DN-TomLJ-5YG",
    "outputId": "94462656-4a00-4713-ba9c-986e234edc75"
   },
   "outputs": [
    {
     "data": {
      "text/plain": [
       "array([1, 2, 3])"
      ]
     },
     "execution_count": 13,
     "metadata": {},
     "output_type": "execute_result"
    }
   ],
   "source": [
    "df['MARRIAGE']=np.where(df['MARRIAGE'] == 0, 3, df['MARRIAGE'])\n",
    "df['MARRIAGE'].unique()"
   ]
  },
  {
   "cell_type": "markdown",
   "metadata": {
    "colab_type": "text",
    "id": "rxBrwqvH_4tV"
   },
   "source": [
    "# **Escala de las variables, por lo tanto debemos normalizar**\n"
   ]
  },
  {
   "cell_type": "code",
   "execution_count": 14,
   "metadata": {
    "colab": {
     "base_uri": "https://localhost:8080/",
     "height": 281
    },
    "colab_type": "code",
    "id": "nk58kn3yAGFu",
    "outputId": "27525345-7c26-4a74-c7a4-fcf781ce8847"
   },
   "outputs": [
    {
     "data": {
      "image/png": "[encoded data removed]",
      "text/plain": [
       "<Figure size 1080x216 with 1 Axes>"
      ]
     },
     "metadata": {},
     "output_type": "display_data"
    }
   ],
   "source": [
    "\n",
    "## data are distributed in a wide range (below), need to be normalizded.\n",
    "df.drop('ID', axis = 1, inplace =True) # drop column \"ID\"\n",
    "features = df.drop('def_pay', axis = 1, inplace = False)\n",
    "plt.figure(figsize=(15,3))\n",
    "ax= df.drop('def_pay', axis=1).boxplot(df.columns.name, rot=90)\n",
    "outliers = dict(markerfacecolor='b', marker='p')\n",
    "ax= features.boxplot(features.columns.name, rot=90, flierprops=outliers)\n",
    "plt.xticks(size=12)\n",
    "ax.set_ylim([-5000,100000])\n",
    "plt.box(False);\n"
   ]
  },
  {
   "cell_type": "markdown",
   "metadata": {
    "colab_type": "text",
    "id": "4bOi50qGVm1u"
   },
   "source": [
    "**Creamos la variable a predecir**"
   ]
  },
  {
   "cell_type": "code",
   "execution_count": 15,
   "metadata": {
    "colab": {},
    "colab_type": "code",
    "id": "lb8Uk2wRV78w"
   },
   "outputs": [],
   "source": [
    "Y = df['def_pay'].copy()\n"
   ]
  },
  {
   "cell_type": "markdown",
   "metadata": {
    "colab_type": "text",
    "id": "IvSt6kvFUdNI"
   },
   "source": [
    "# **Normalización**"
   ]
  },
  {
   "cell_type": "markdown",
   "metadata": {
    "colab_type": "text",
    "id": "GTdh1qIpUhfs"
   },
   "source": [
    "## **StandardScaler**"
   ]
  },
  {
   "cell_type": "markdown",
   "metadata": {
    "colab_type": "text",
    "id": "zbRFSk5rhbNp"
   },
   "source": [
    "The standard score of a sample x is calculated as:\n",
    "\n",
    "z = (x - u) / s\n",
    "\n",
    "La idea detrás de StandardScaler es que transformará sus datos de modo que su distribución tenga un valor medio 0 y una desviación estándar de 1.\n",
    "\n",
    "\n"
   ]
  },
  {
   "cell_type": "code",
   "execution_count": 16,
   "metadata": {
    "colab": {
     "base_uri": "https://localhost:8080/",
     "height": 629
    },
    "colab_type": "code",
    "id": "DfPezGZqEf9B",
    "outputId": "e2b5050f-ab50-41ba-f039-9d6d2cd51938"
   },
   "outputs": [
    {
     "data": {
      "image/png": "[encoded data removed]",
      "text/plain": [
       "<Figure size 1440x720 with 1 Axes>"
      ]
     },
     "metadata": {},
     "output_type": "display_data"
    }
   ],
   "source": [
    "  # standardization\n",
    "\n",
    "stdX = (features - features.mean()) / (features.std())    \n",
    "X = stdX\n",
    "data_st = pd.concat([Y,stdX.iloc[:,:]],axis=1)\n",
    "data_st = pd.melt(data_st,id_vars=\"def_pay\",\n",
    "                    var_name=\"features\",\n",
    "                    value_name='value')\n",
    "plt.figure(figsize=(20,10))\n",
    "sns.set_context('notebook', font_scale=1)\n",
    "sns.violinplot(y=\"value\", x=\"features\", hue=\"def_pay\", data=data_st,split=True, \n",
    "               inner=\"quart\", palette='Blues')\n",
    "plt.legend(loc=4, title= 'def_pay', facecolor='white')\n",
    "plt.ylim([-3,3])\n",
    "plt.title('STANDARDIZED FEATURES - VIOLIN PLOT', size=14)\n",
    "plt.box(False)\n",
    "plt.savefig('ImageName', format='png', dpi=200, transparent=False);"
   ]
  },
  {
   "cell_type": "markdown",
   "metadata": {
    "colab_type": "text",
    "id": "hH4NyHaTGYiS"
   },
   "source": [
    "# **Variables Normalizadas**"
   ]
  },
  {
   "cell_type": "code",
   "execution_count": 18,
   "metadata": {
    "colab": {
     "base_uri": "https://localhost:8080/",
     "height": 224
    },
    "colab_type": "code",
    "id": "yKZPLchOF7wi",
    "outputId": "c66e6944-9fc3-48d3-be8d-808e2b37ebb3"
   },
   "outputs": [
    {
     "data": {
      "text/html": [
       "<div>\n",
       "<style scoped>\n",
       "    .dataframe tbody tr th:only-of-type {\n",
       "        vertical-align: middle;\n",
       "    }\n",
       "\n",
       "    .dataframe tbody tr th {\n",
       "        vertical-align: top;\n",
       "    }\n",
       "\n",
       "    .dataframe thead th {\n",
       "        text-align: right;\n",
       "    }\n",
       "</style>\n",
       "<table border=\"1\" class=\"dataframe\">\n",
       "  <thead>\n",
       "    <tr style=\"text-align: right;\">\n",
       "      <th></th>\n",
       "      <th>LIMIT_BAL</th>\n",
       "      <th>SEX</th>\n",
       "      <th>EDUCATION</th>\n",
       "      <th>MARRIAGE</th>\n",
       "      <th>AGE</th>\n",
       "      <th>PAY_1</th>\n",
       "      <th>PAY_2</th>\n",
       "      <th>PAY_3</th>\n",
       "      <th>PAY_4</th>\n",
       "      <th>PAY_5</th>\n",
       "      <th>...</th>\n",
       "      <th>BILL_AMT3</th>\n",
       "      <th>BILL_AMT4</th>\n",
       "      <th>BILL_AMT5</th>\n",
       "      <th>BILL_AMT6</th>\n",
       "      <th>PAY_AMT1</th>\n",
       "      <th>PAY_AMT2</th>\n",
       "      <th>PAY_AMT3</th>\n",
       "      <th>PAY_AMT4</th>\n",
       "      <th>PAY_AMT5</th>\n",
       "      <th>PAY_AMT6</th>\n",
       "    </tr>\n",
       "  </thead>\n",
       "  <tbody>\n",
       "    <tr>\n",
       "      <th>26692</th>\n",
       "      <td>0.250607</td>\n",
       "      <td>-1.234302</td>\n",
       "      <td>-1.131327</td>\n",
       "      <td>0.849116</td>\n",
       "      <td>-0.920545</td>\n",
       "      <td>-0.874977</td>\n",
       "      <td>-0.723558</td>\n",
       "      <td>-0.696652</td>\n",
       "      <td>0.188743</td>\n",
       "      <td>0.234913</td>\n",
       "      <td>...</td>\n",
       "      <td>-0.562704</td>\n",
       "      <td>-0.510951</td>\n",
       "      <td>-0.547220</td>\n",
       "      <td>-0.557136</td>\n",
       "      <td>-0.123259</td>\n",
       "      <td>0.089790</td>\n",
       "      <td>0.043978</td>\n",
       "      <td>-0.308057</td>\n",
       "      <td>-0.183226</td>\n",
       "      <td>-0.012122</td>\n",
       "    </tr>\n",
       "    <tr>\n",
       "      <th>17408</th>\n",
       "      <td>-0.905483</td>\n",
       "      <td>0.810147</td>\n",
       "      <td>0.211866</td>\n",
       "      <td>-1.068779</td>\n",
       "      <td>0.381269</td>\n",
       "      <td>0.014860</td>\n",
       "      <td>0.111734</td>\n",
       "      <td>0.138862</td>\n",
       "      <td>0.188743</td>\n",
       "      <td>0.234913</td>\n",
       "      <td>...</td>\n",
       "      <td>-0.214827</td>\n",
       "      <td>-0.177809</td>\n",
       "      <td>-0.128516</td>\n",
       "      <td>-0.287382</td>\n",
       "      <td>-0.251555</td>\n",
       "      <td>-0.170183</td>\n",
       "      <td>-0.240001</td>\n",
       "      <td>-0.240140</td>\n",
       "      <td>-0.244817</td>\n",
       "      <td>-0.277064</td>\n",
       "    </tr>\n",
       "    <tr>\n",
       "      <th>2488</th>\n",
       "      <td>-0.443047</td>\n",
       "      <td>0.810147</td>\n",
       "      <td>0.211866</td>\n",
       "      <td>-1.068779</td>\n",
       "      <td>-0.269638</td>\n",
       "      <td>1.794534</td>\n",
       "      <td>1.782318</td>\n",
       "      <td>1.809891</td>\n",
       "      <td>1.899404</td>\n",
       "      <td>1.999846</td>\n",
       "      <td>...</td>\n",
       "      <td>0.887100</td>\n",
       "      <td>1.075843</td>\n",
       "      <td>1.129405</td>\n",
       "      <td>1.167228</td>\n",
       "      <td>-0.020019</td>\n",
       "      <td>-0.256985</td>\n",
       "      <td>0.146210</td>\n",
       "      <td>-0.308057</td>\n",
       "      <td>-0.024308</td>\n",
       "      <td>-0.076080</td>\n",
       "    </tr>\n",
       "    <tr>\n",
       "      <th>18685</th>\n",
       "      <td>0.481825</td>\n",
       "      <td>0.810147</td>\n",
       "      <td>0.211866</td>\n",
       "      <td>0.849116</td>\n",
       "      <td>-0.812061</td>\n",
       "      <td>0.014860</td>\n",
       "      <td>0.111734</td>\n",
       "      <td>0.138862</td>\n",
       "      <td>0.188743</td>\n",
       "      <td>0.234913</td>\n",
       "      <td>...</td>\n",
       "      <td>-0.149405</td>\n",
       "      <td>-0.075264</td>\n",
       "      <td>-0.046917</td>\n",
       "      <td>0.267089</td>\n",
       "      <td>-0.251374</td>\n",
       "      <td>-0.050092</td>\n",
       "      <td>-0.126409</td>\n",
       "      <td>-0.110689</td>\n",
       "      <td>0.825459</td>\n",
       "      <td>-0.012122</td>\n",
       "    </tr>\n",
       "    <tr>\n",
       "      <th>6410</th>\n",
       "      <td>0.327680</td>\n",
       "      <td>0.810147</td>\n",
       "      <td>-1.131327</td>\n",
       "      <td>-1.068779</td>\n",
       "      <td>0.815207</td>\n",
       "      <td>-1.764813</td>\n",
       "      <td>-0.723558</td>\n",
       "      <td>-0.696652</td>\n",
       "      <td>-0.666588</td>\n",
       "      <td>-1.530021</td>\n",
       "      <td>...</td>\n",
       "      <td>-0.646944</td>\n",
       "      <td>-0.672486</td>\n",
       "      <td>-0.663047</td>\n",
       "      <td>-0.652713</td>\n",
       "      <td>-0.282709</td>\n",
       "      <td>-0.163760</td>\n",
       "      <td>-0.296796</td>\n",
       "      <td>-0.308057</td>\n",
       "      <td>-0.314131</td>\n",
       "      <td>-0.293377</td>\n",
       "    </tr>\n",
       "  </tbody>\n",
       "</table>\n",
       "<p>5 rows × 23 columns</p>\n",
       "</div>"
      ],
      "text/plain": [
       "       LIMIT_BAL       SEX  EDUCATION  MARRIAGE       AGE     PAY_1     PAY_2  \\\n",
       "26692   0.250607 -1.234302  -1.131327  0.849116 -0.920545 -0.874977 -0.723558   \n",
       "17408  -0.905483  0.810147   0.211866 -1.068779  0.381269  0.014860  0.111734   \n",
       "2488   -0.443047  0.810147   0.211866 -1.068779 -0.269638  1.794534  1.782318   \n",
       "18685   0.481825  0.810147   0.211866  0.849116 -0.812061  0.014860  0.111734   \n",
       "6410    0.327680  0.810147  -1.131327 -1.068779  0.815207 -1.764813 -0.723558   \n",
       "\n",
       "          PAY_3     PAY_4     PAY_5    ...     BILL_AMT3  BILL_AMT4  \\\n",
       "26692 -0.696652  0.188743  0.234913    ...     -0.562704  -0.510951   \n",
       "17408  0.138862  0.188743  0.234913    ...     -0.214827  -0.177809   \n",
       "2488   1.809891  1.899404  1.999846    ...      0.887100   1.075843   \n",
       "18685  0.138862  0.188743  0.234913    ...     -0.149405  -0.075264   \n",
       "6410  -0.696652 -0.666588 -1.530021    ...     -0.646944  -0.672486   \n",
       "\n",
       "       BILL_AMT5  BILL_AMT6  PAY_AMT1  PAY_AMT2  PAY_AMT3  PAY_AMT4  PAY_AMT5  \\\n",
       "26692  -0.547220  -0.557136 -0.123259  0.089790  0.043978 -0.308057 -0.183226   \n",
       "17408  -0.128516  -0.287382 -0.251555 -0.170183 -0.240001 -0.240140 -0.244817   \n",
       "2488    1.129405   1.167228 -0.020019 -0.256985  0.146210 -0.308057 -0.024308   \n",
       "18685  -0.046917   0.267089 -0.251374 -0.050092 -0.126409 -0.110689  0.825459   \n",
       "6410   -0.663047  -0.652713 -0.282709 -0.163760 -0.296796 -0.308057 -0.314131   \n",
       "\n",
       "       PAY_AMT6  \n",
       "26692 -0.012122  \n",
       "17408 -0.277064  \n",
       "2488  -0.076080  \n",
       "18685 -0.012122  \n",
       "6410  -0.293377  \n",
       "\n",
       "[5 rows x 23 columns]"
      ]
     },
     "execution_count": 18,
     "metadata": {},
     "output_type": "execute_result"
    }
   ],
   "source": [
    "stdX.sample(5)"
   ]
  },
  {
   "cell_type": "code",
   "execution_count": 19,
   "metadata": {
    "colab": {
     "base_uri": "https://localhost:8080/",
     "height": 35
    },
    "colab_type": "code",
    "id": "lxuVGSf3G9vz",
    "outputId": "2c678dfa-56d1-439b-a631-002a5041780d"
   },
   "outputs": [
    {
     "data": {
      "text/plain": [
       "(30000, 23)"
      ]
     },
     "execution_count": 19,
     "metadata": {},
     "output_type": "execute_result"
    }
   ],
   "source": [
    "X.shape"
   ]
  },
  {
   "cell_type": "markdown",
   "metadata": {
    "colab_type": "text",
    "id": "LLfGIy_-SyD5"
   },
   "source": [
    "#Guardamos las variables normalizadas"
   ]
  },
  {
   "cell_type": "code",
   "execution_count": 20,
   "metadata": {
    "colab": {},
    "colab_type": "code",
    "id": "DMVFuGG_S3pF"
   },
   "outputs": [],
   "source": [
    "#X.to_csv(PATH+\"featuresSTD.csv\",index=False)"
   ]
  },
  {
   "cell_type": "code",
   "execution_count": 22,
   "metadata": {
    "colab": {},
    "colab_type": "code",
    "id": "DtBzQZv3pe9o"
   },
   "outputs": [],
   "source": [
    "#PathFeaturesSTD = PATH+'featuresSTD.csv'\n",
    "PathFeaturesSTD = 'featuresSTD.csv'\n",
    "\n",
    "X = pd.read_csv(PathFeaturesSTD)"
   ]
  },
  {
   "cell_type": "code",
   "execution_count": 23,
   "metadata": {
    "colab": {
     "base_uri": "https://localhost:8080/",
     "height": 35
    },
    "colab_type": "code",
    "id": "aruyQXXNp8Ak",
    "outputId": "2d138ed3-62bf-4cab-fcbd-6e5b00fc57da"
   },
   "outputs": [
    {
     "data": {
      "text/plain": [
       "(30000, 23)"
      ]
     },
     "execution_count": 23,
     "metadata": {},
     "output_type": "execute_result"
    }
   ],
   "source": [
    "X.shape"
   ]
  },
  {
   "cell_type": "code",
   "execution_count": 25,
   "metadata": {
    "colab": {
     "base_uri": "https://localhost:8080/",
     "height": 222
    },
    "colab_type": "code",
    "id": "9qcOMTEJud7_",
    "outputId": "cf1c73df-6ba4-42c3-fb1b-0032f8a54134"
   },
   "outputs": [
    {
     "data": {
      "text/html": [
       "<div>\n",
       "<style scoped>\n",
       "    .dataframe tbody tr th:only-of-type {\n",
       "        vertical-align: middle;\n",
       "    }\n",
       "\n",
       "    .dataframe tbody tr th {\n",
       "        vertical-align: top;\n",
       "    }\n",
       "\n",
       "    .dataframe thead th {\n",
       "        text-align: right;\n",
       "    }\n",
       "</style>\n",
       "<table border=\"1\" class=\"dataframe\">\n",
       "  <thead>\n",
       "    <tr style=\"text-align: right;\">\n",
       "      <th></th>\n",
       "      <th>LIMIT_BAL</th>\n",
       "      <th>SEX</th>\n",
       "      <th>EDUCATION</th>\n",
       "      <th>MARRIAGE</th>\n",
       "      <th>AGE</th>\n",
       "      <th>PAY_1</th>\n",
       "      <th>PAY_2</th>\n",
       "      <th>PAY_3</th>\n",
       "      <th>PAY_4</th>\n",
       "      <th>PAY_5</th>\n",
       "      <th>...</th>\n",
       "      <th>BILL_AMT3</th>\n",
       "      <th>BILL_AMT4</th>\n",
       "      <th>BILL_AMT5</th>\n",
       "      <th>BILL_AMT6</th>\n",
       "      <th>PAY_AMT1</th>\n",
       "      <th>PAY_AMT2</th>\n",
       "      <th>PAY_AMT3</th>\n",
       "      <th>PAY_AMT4</th>\n",
       "      <th>PAY_AMT5</th>\n",
       "      <th>PAY_AMT6</th>\n",
       "    </tr>\n",
       "  </thead>\n",
       "  <tbody>\n",
       "    <tr>\n",
       "      <th>0</th>\n",
       "      <td>-1.136701</td>\n",
       "      <td>0.810147</td>\n",
       "      <td>0.211866</td>\n",
       "      <td>-1.068779</td>\n",
       "      <td>-1.245999</td>\n",
       "      <td>1.794534</td>\n",
       "      <td>1.782318</td>\n",
       "      <td>-0.696652</td>\n",
       "      <td>-0.666588</td>\n",
       "      <td>-1.530021</td>\n",
       "      <td>...</td>\n",
       "      <td>-0.667982</td>\n",
       "      <td>-0.672486</td>\n",
       "      <td>-0.663047</td>\n",
       "      <td>-0.652713</td>\n",
       "      <td>-0.341936</td>\n",
       "      <td>-0.227082</td>\n",
       "      <td>-0.296796</td>\n",
       "      <td>-0.308057</td>\n",
       "      <td>-0.314131</td>\n",
       "      <td>-0.293377</td>\n",
       "    </tr>\n",
       "    <tr>\n",
       "      <th>1</th>\n",
       "      <td>-0.365974</td>\n",
       "      <td>0.810147</td>\n",
       "      <td>0.211866</td>\n",
       "      <td>0.849116</td>\n",
       "      <td>-1.029030</td>\n",
       "      <td>-0.874977</td>\n",
       "      <td>1.782318</td>\n",
       "      <td>0.138862</td>\n",
       "      <td>0.188743</td>\n",
       "      <td>0.234913</td>\n",
       "      <td>...</td>\n",
       "      <td>-0.639244</td>\n",
       "      <td>-0.621626</td>\n",
       "      <td>-0.606219</td>\n",
       "      <td>-0.597956</td>\n",
       "      <td>-0.341936</td>\n",
       "      <td>-0.213584</td>\n",
       "      <td>-0.240001</td>\n",
       "      <td>-0.244226</td>\n",
       "      <td>-0.314131</td>\n",
       "      <td>-0.180875</td>\n",
       "    </tr>\n",
       "    <tr>\n",
       "      <th>2</th>\n",
       "      <td>-0.597192</td>\n",
       "      <td>0.810147</td>\n",
       "      <td>0.211866</td>\n",
       "      <td>0.849116</td>\n",
       "      <td>-0.161154</td>\n",
       "      <td>0.014860</td>\n",
       "      <td>0.111734</td>\n",
       "      <td>0.138862</td>\n",
       "      <td>0.188743</td>\n",
       "      <td>0.234913</td>\n",
       "      <td>...</td>\n",
       "      <td>-0.482400</td>\n",
       "      <td>-0.449723</td>\n",
       "      <td>-0.417181</td>\n",
       "      <td>-0.391623</td>\n",
       "      <td>-0.250287</td>\n",
       "      <td>-0.191884</td>\n",
       "      <td>-0.240001</td>\n",
       "      <td>-0.244226</td>\n",
       "      <td>-0.248679</td>\n",
       "      <td>-0.012122</td>\n",
       "    </tr>\n",
       "    <tr>\n",
       "      <th>3</th>\n",
       "      <td>-0.905483</td>\n",
       "      <td>0.810147</td>\n",
       "      <td>0.211866</td>\n",
       "      <td>-1.068779</td>\n",
       "      <td>0.164300</td>\n",
       "      <td>0.014860</td>\n",
       "      <td>0.111734</td>\n",
       "      <td>0.138862</td>\n",
       "      <td>0.188743</td>\n",
       "      <td>0.234913</td>\n",
       "      <td>...</td>\n",
       "      <td>0.032846</td>\n",
       "      <td>-0.232369</td>\n",
       "      <td>-0.186726</td>\n",
       "      <td>-0.156576</td>\n",
       "      <td>-0.221187</td>\n",
       "      <td>-0.169358</td>\n",
       "      <td>-0.228641</td>\n",
       "      <td>-0.237842</td>\n",
       "      <td>-0.244162</td>\n",
       "      <td>-0.237126</td>\n",
       "    </tr>\n",
       "    <tr>\n",
       "      <th>4</th>\n",
       "      <td>-0.905483</td>\n",
       "      <td>-1.234302</td>\n",
       "      <td>0.211866</td>\n",
       "      <td>-1.068779</td>\n",
       "      <td>2.333990</td>\n",
       "      <td>-0.874977</td>\n",
       "      <td>0.111734</td>\n",
       "      <td>-0.696652</td>\n",
       "      <td>0.188743</td>\n",
       "      <td>0.234913</td>\n",
       "      <td>...</td>\n",
       "      <td>-0.161186</td>\n",
       "      <td>-0.346991</td>\n",
       "      <td>-0.348131</td>\n",
       "      <td>-0.331476</td>\n",
       "      <td>-0.221187</td>\n",
       "      <td>1.335012</td>\n",
       "      <td>0.271161</td>\n",
       "      <td>0.266429</td>\n",
       "      <td>-0.269034</td>\n",
       "      <td>-0.255183</td>\n",
       "    </tr>\n",
       "  </tbody>\n",
       "</table>\n",
       "<p>5 rows × 23 columns</p>\n",
       "</div>"
      ],
      "text/plain": [
       "   LIMIT_BAL       SEX  EDUCATION  MARRIAGE       AGE     PAY_1     PAY_2  \\\n",
       "0  -1.136701  0.810147   0.211866 -1.068779 -1.245999  1.794534  1.782318   \n",
       "1  -0.365974  0.810147   0.211866  0.849116 -1.029030 -0.874977  1.782318   \n",
       "2  -0.597192  0.810147   0.211866  0.849116 -0.161154  0.014860  0.111734   \n",
       "3  -0.905483  0.810147   0.211866 -1.068779  0.164300  0.014860  0.111734   \n",
       "4  -0.905483 -1.234302   0.211866 -1.068779  2.333990 -0.874977  0.111734   \n",
       "\n",
       "      PAY_3     PAY_4     PAY_5    ...     BILL_AMT3  BILL_AMT4  BILL_AMT5  \\\n",
       "0 -0.696652 -0.666588 -1.530021    ...     -0.667982  -0.672486  -0.663047   \n",
       "1  0.138862  0.188743  0.234913    ...     -0.639244  -0.621626  -0.606219   \n",
       "2  0.138862  0.188743  0.234913    ...     -0.482400  -0.449723  -0.417181   \n",
       "3  0.138862  0.188743  0.234913    ...      0.032846  -0.232369  -0.186726   \n",
       "4 -0.696652  0.188743  0.234913    ...     -0.161186  -0.346991  -0.348131   \n",
       "\n",
       "   BILL_AMT6  PAY_AMT1  PAY_AMT2  PAY_AMT3  PAY_AMT4  PAY_AMT5  PAY_AMT6  \n",
       "0  -0.652713 -0.341936 -0.227082 -0.296796 -0.308057 -0.314131 -0.293377  \n",
       "1  -0.597956 -0.341936 -0.213584 -0.240001 -0.244226 -0.314131 -0.180875  \n",
       "2  -0.391623 -0.250287 -0.191884 -0.240001 -0.244226 -0.248679 -0.012122  \n",
       "3  -0.156576 -0.221187 -0.169358 -0.228641 -0.237842 -0.244162 -0.237126  \n",
       "4  -0.331476 -0.221187  1.335012  0.271161  0.266429 -0.269034 -0.255183  \n",
       "\n",
       "[5 rows x 23 columns]"
      ]
     },
     "execution_count": 25,
     "metadata": {},
     "output_type": "execute_result"
    }
   ],
   "source": [
    "X.head()"
   ]
  },
  {
   "cell_type": "markdown",
   "metadata": {
    "colab_type": "text",
    "id": "WSpHdL0TLzPZ"
   },
   "source": [
    "# **Correlación entre variables**\n",
    "\n",
    "\n",
    "\n"
   ]
  },
  {
   "cell_type": "code",
   "execution_count": 26,
   "metadata": {
    "colab": {
     "base_uri": "https://localhost:8080/",
     "height": 483
    },
    "colab_type": "code",
    "id": "Bgrt7I4ILyom",
    "outputId": "c09b4902-214d-4c7a-f269-ae89daea57ee"
   },
   "outputs": [
    {
     "data": {
      "image/png": "[encoded data removed]",
      "text/plain": [
       "<Figure size 576x504 with 2 Axes>"
      ]
     },
     "metadata": {},
     "output_type": "display_data"
    }
   ],
   "source": [
    "#  looking at correlations matrix, defined via Pearson function  \n",
    "corr = df.corr() # .corr is used to find corelation\n",
    "f,ax = plt.subplots(figsize=(8, 7))\n",
    "sns.heatmap(corr, cbar = True,  square = True, annot = False, fmt= '.1f', \n",
    "            xticklabels= True, yticklabels= True\n",
    "            ,cmap=\"coolwarm\", linewidths=.5, ax=ax)\n",
    "plt.title('CORRELATION MATRIX - HEATMAP', size=18);"
   ]
  },
  {
   "cell_type": "markdown",
   "metadata": {
    "colab_type": "text",
    "id": "A3efCELvMiL8"
   },
   "source": [
    "La única característica con una notable correlación positiva con la variable  \"Default\" es el estado de pago durante el último mes (septiembre). \n",
    "\n",
    "La correlación negativa más alta con el incumplimiento se produce con Limit_Balance, lo que indica que los clientes con un saldo límite más bajo tienen más probabilidades de incumplimiento. También se puede observar que algunas variables están altamente correlacionadas entre sí, ese es el caso del monto del estado de cuenta y el estado de reembolso en diferentes meses.\n",
    "\n",
    "\n",
    "El heatmat muestra que las características están correlacionadas entre sí (colinealidad), como PAY_0,2,3,4,5,6 y BILL_AMT1,2,3,4,5,6. En esos casos, la correlación es positiva."
   ]
  },
  {
   "cell_type": "markdown",
   "metadata": {
    "colab_type": "text",
    "id": "ZweIc5OYz0Fw"
   },
   "source": [
    "# **Tecnicas de Balanceo Usada**"
   ]
  },
  {
   "cell_type": "markdown",
   "metadata": {
    "colab_type": "text",
    "id": "1NBaSI1F2nRN"
   },
   "source": [
    "Si la base de datos esta desbalanceada,deben considerar el uso de tecnicas de submuestreo y sobremuestreo inteligente, ademas de usar validacíón ́estratificaida."
   ]
  },
  {
   "cell_type": "markdown",
   "metadata": {
    "colab_type": "text",
    "id": "w5gPXvCHcykh"
   },
   "source": [
    "## **Stratified KFold**"
   ]
  },
  {
   "cell_type": "code",
   "execution_count": 27,
   "metadata": {
    "colab": {
     "base_uri": "https://localhost:8080/",
     "height": 191
    },
    "colab_type": "code",
    "id": "5VhNAzf0bwPx",
    "outputId": "5add12a7-417d-4961-fc13-3b4cf8476ed1"
   },
   "outputs": [
    {
     "name": "stdout",
     "output_type": "stream",
     "text": [
      "TRAIN: [ 2993  2995  2996 ... 29997 29998 29999] TEST: [   0    1    2 ... 3004 3005 3006]\n",
      "TRAIN: [    0     1     2 ... 29997 29998 29999] TEST: [2993 2995 2996 ... 6044 6045 6047]\n",
      "TRAIN: [    0     1     2 ... 29997 29998 29999] TEST: [5985 5988 5989 ... 9034 9035 9036]\n",
      "TRAIN: [    0     1     2 ... 29997 29998 29999] TEST: [ 8883  8886  8888 ... 12051 12052 12055]\n",
      "TRAIN: [    0     1     2 ... 29997 29998 29999] TEST: [11794 11796 11802 ... 15072 15073 15074]\n",
      "TRAIN: [    0     1     2 ... 29997 29998 29999] TEST: [14766 14770 14778 ... 18223 18224 18226]\n",
      "TRAIN: [    0     1     2 ... 29997 29998 29999] TEST: [17316 17319 17323 ... 21199 21200 21201]\n",
      "TRAIN: [    0     1     2 ... 29997 29998 29999] TEST: [20429 20437 20439 ... 24073 24074 24075]\n",
      "TRAIN: [    0     1     2 ... 29997 29998 29999] TEST: [23691 23696 23704 ... 26998 26999 27000]\n",
      "TRAIN: [    0     1     2 ... 26998 26999 27000] TEST: [27001 27002 27003 ... 29997 29998 29999]\n"
     ]
    }
   ],
   "source": [
    "from sklearn.model_selection import StratifiedKFold\n",
    "\n",
    "#Train, Validation, Test\n",
    "FOLDS = 10\n",
    "\n",
    "skf = StratifiedKFold(n_splits=FOLDS)\n",
    "for train_index, test_index in skf.split(X, Y):\n",
    "    print(\"TRAIN:\", train_index, \"TEST:\", test_index)\n",
    "  \n",
    "\n"
   ]
  },
  {
   "cell_type": "markdown",
   "metadata": {
    "colab_type": "text",
    "id": "39k-3m3_f3BK"
   },
   "source": [
    "## **Validación Booststrapping**"
   ]
  },
  {
   "cell_type": "code",
   "execution_count": 28,
   "metadata": {
    "colab": {
     "base_uri": "https://localhost:8080/",
     "height": 52
    },
    "colab_type": "code",
    "id": "khqUNpMrgGgX",
    "outputId": "8a0f4562-3f05-47d7-8ca4-03dc6ac4d8a4"
   },
   "outputs": [
    {
     "name": "stdout",
     "output_type": "stream",
     "text": [
      "X_Train (24000, 23)\n",
      "y_train (24000,)\n"
     ]
    }
   ],
   "source": [
    "from sklearn.model_selection import train_test_split\n",
    "VALID_SIZE = 0.20\n",
    "X_train, X_test, y_train, y_test = train_test_split(X,Y, test_size=VALID_SIZE, shuffle=True )\n",
    "print('X_Train', X_train.shape)\n",
    "print('y_train', y_train.shape)\n"
   ]
  },
  {
   "cell_type": "markdown",
   "metadata": {
    "colab_type": "text",
    "id": "ucRWuvml3nDE"
   },
   "source": [
    "## **Aprendizaje con balance de costo**"
   ]
  },
  {
   "cell_type": "code",
   "execution_count": 29,
   "metadata": {
    "colab": {
     "base_uri": "https://localhost:8080/",
     "height": 35
    },
    "colab_type": "code",
    "id": "Z98KFR863qY5",
    "outputId": "095077e8-abc9-45d4-db52-f0ddc8d998d6"
   },
   "outputs": [
    {
     "data": {
      "text/plain": [
       "array([0.64201335, 2.26039783])"
      ]
     },
     "execution_count": 29,
     "metadata": {},
     "output_type": "execute_result"
    }
   ],
   "source": [
    "from sklearn.utils import class_weight\n",
    "class_weights = class_weight.compute_class_weight('balanced',np.unique(Y),Y)\n",
    "class_weights\n",
    "#model.fit(X_train, y_train, class_weight=class_weights)\n"
   ]
  },
  {
   "cell_type": "markdown",
   "metadata": {
    "colab_type": "text",
    "id": "csCiM5TY2s8-"
   },
   "source": [
    "## **Stratified KFold con Class_weight** "
   ]
  },
  {
   "cell_type": "markdown",
   "metadata": {
    "colab_type": "text",
    "id": "O2Rd2NOL4rKl"
   },
   "source": [
    "### **SMOTE**"
   ]
  },
  {
   "cell_type": "code",
   "execution_count": 0,
   "metadata": {
    "colab": {
     "base_uri": "https://localhost:8080/"
    },
    "colab_type": "code",
    "id": "atp_ar8Z4ypM",
    "outputId": "9407d420-cd2d-4c4f-f8d6-4cd5c3b24b92"
   },
   "outputs": [
    {
     "name": "stdout",
     "output_type": "stream",
     "text": [
      "46728\n",
      "23364\n"
     ]
    }
   ],
   "source": [
    "from imblearn.over_sampling import SMOTE\n",
    "\n",
    "\n",
    "sm = SMOTE(random_state=589, ratio = 1.0)\n",
    "X_SMOTE, y_SMOTE = sm.fit_sample(X, Y)\n",
    "print(len(y_SMOTE))\n",
    "print(y_SMOTE.sum())"
   ]
  },
  {
   "cell_type": "code",
   "execution_count": 30,
   "metadata": {
    "colab": {
     "base_uri": "https://localhost:8080/",
     "height": 35
    },
    "colab_type": "code",
    "id": "7OLbcMNBwz9f",
    "outputId": "c6283915-335f-4f08-d671-9c2c3d54070d"
   },
   "outputs": [
    {
     "data": {
      "text/plain": [
       "(30000, 23)"
      ]
     },
     "execution_count": 30,
     "metadata": {},
     "output_type": "execute_result"
    }
   ],
   "source": [
    "X.values.shape"
   ]
  },
  {
   "cell_type": "code",
   "execution_count": 34,
   "metadata": {
    "colab": {
     "base_uri": "https://localhost:8080/",
     "height": 711
    },
    "colab_type": "code",
    "id": "Rgg-9ODAuUbT",
    "outputId": "fc1f8d8b-77d3-453f-8b9e-f534ab8c7025"
   },
   "outputs": [
    {
     "ename": "KeyError",
     "evalue": "'[ 2993  2995  2996 ... 29997 29998 29999] not in index'",
     "output_type": "error",
     "traceback": [
      "\u001b[0;31m---------------------------------------------------------------------------\u001b[0m",
      "\u001b[0;31mKeyError\u001b[0m                                  Traceback (most recent call last)",
      "\u001b[0;32m<ipython-input-34-7c4f4fe41238>\u001b[0m in \u001b[0;36m<module>\u001b[0;34m()\u001b[0m\n\u001b[1;32m      8\u001b[0m \u001b[0mskf\u001b[0m \u001b[0;34m=\u001b[0m \u001b[0mStratifiedKFold\u001b[0m\u001b[0;34m(\u001b[0m\u001b[0mn_splits\u001b[0m\u001b[0;34m=\u001b[0m\u001b[0mFOLDS\u001b[0m\u001b[0;34m)\u001b[0m\u001b[0;34m\u001b[0m\u001b[0m\n\u001b[1;32m      9\u001b[0m \u001b[0;32mfor\u001b[0m \u001b[0mtrain_index\u001b[0m\u001b[0;34m,\u001b[0m \u001b[0mtest_index\u001b[0m \u001b[0;32min\u001b[0m \u001b[0mskf\u001b[0m\u001b[0;34m.\u001b[0m\u001b[0msplit\u001b[0m\u001b[0;34m(\u001b[0m\u001b[0mX\u001b[0m\u001b[0;34m,\u001b[0m \u001b[0mY\u001b[0m\u001b[0;34m)\u001b[0m\u001b[0;34m:\u001b[0m\u001b[0;34m\u001b[0m\u001b[0m\n\u001b[0;32m---> 10\u001b[0;31m     \u001b[0mX_train\u001b[0m\u001b[0;34m,\u001b[0m \u001b[0mX_test\u001b[0m \u001b[0;34m=\u001b[0m \u001b[0mX\u001b[0m\u001b[0;34m[\u001b[0m\u001b[0mtrain_index\u001b[0m\u001b[0;34m]\u001b[0m\u001b[0;34m,\u001b[0m \u001b[0mX\u001b[0m\u001b[0;34m[\u001b[0m\u001b[0mtest_index\u001b[0m\u001b[0;34m]\u001b[0m\u001b[0;34m\u001b[0m\u001b[0m\n\u001b[0m\u001b[1;32m     11\u001b[0m     \u001b[0mY_train\u001b[0m\u001b[0;34m,\u001b[0m \u001b[0mY_test\u001b[0m \u001b[0;34m=\u001b[0m \u001b[0mY\u001b[0m\u001b[0;34m[\u001b[0m\u001b[0mtrain_index\u001b[0m\u001b[0;34m]\u001b[0m\u001b[0;34m,\u001b[0m \u001b[0mY\u001b[0m\u001b[0;34m[\u001b[0m\u001b[0mtest_index\u001b[0m\u001b[0;34m]\u001b[0m\u001b[0;34m\u001b[0m\u001b[0m\n\u001b[1;32m     12\u001b[0m     \u001b[0mprint\u001b[0m\u001b[0;34m(\u001b[0m\u001b[0;34m\"xTRAIN:\"\u001b[0m\u001b[0;34m,\u001b[0m \u001b[0mX_train\u001b[0m\u001b[0;34m.\u001b[0m\u001b[0mshape\u001b[0m\u001b[0;34m,\u001b[0m \u001b[0;34m\"yTRAIN:\"\u001b[0m\u001b[0;34m,\u001b[0m \u001b[0mY_train\u001b[0m\u001b[0;34m.\u001b[0m\u001b[0mshape\u001b[0m\u001b[0;34m)\u001b[0m\u001b[0;34m\u001b[0m\u001b[0m\n",
      "\u001b[0;32m~/anaconda3/lib/python3.6/site-packages/pandas/core/frame.py\u001b[0m in \u001b[0;36m__getitem__\u001b[0;34m(self, key)\u001b[0m\n\u001b[1;32m   2677\u001b[0m         \u001b[0;32mif\u001b[0m \u001b[0misinstance\u001b[0m\u001b[0;34m(\u001b[0m\u001b[0mkey\u001b[0m\u001b[0;34m,\u001b[0m \u001b[0;34m(\u001b[0m\u001b[0mSeries\u001b[0m\u001b[0;34m,\u001b[0m \u001b[0mnp\u001b[0m\u001b[0;34m.\u001b[0m\u001b[0mndarray\u001b[0m\u001b[0;34m,\u001b[0m \u001b[0mIndex\u001b[0m\u001b[0;34m,\u001b[0m \u001b[0mlist\u001b[0m\u001b[0;34m)\u001b[0m\u001b[0;34m)\u001b[0m\u001b[0;34m:\u001b[0m\u001b[0;34m\u001b[0m\u001b[0m\n\u001b[1;32m   2678\u001b[0m             \u001b[0;31m# either boolean or fancy integer index\u001b[0m\u001b[0;34m\u001b[0m\u001b[0;34m\u001b[0m\u001b[0m\n\u001b[0;32m-> 2679\u001b[0;31m             \u001b[0;32mreturn\u001b[0m \u001b[0mself\u001b[0m\u001b[0;34m.\u001b[0m\u001b[0m_getitem_array\u001b[0m\u001b[0;34m(\u001b[0m\u001b[0mkey\u001b[0m\u001b[0;34m)\u001b[0m\u001b[0;34m\u001b[0m\u001b[0m\n\u001b[0m\u001b[1;32m   2680\u001b[0m         \u001b[0;32melif\u001b[0m \u001b[0misinstance\u001b[0m\u001b[0;34m(\u001b[0m\u001b[0mkey\u001b[0m\u001b[0;34m,\u001b[0m \u001b[0mDataFrame\u001b[0m\u001b[0;34m)\u001b[0m\u001b[0;34m:\u001b[0m\u001b[0;34m\u001b[0m\u001b[0m\n\u001b[1;32m   2681\u001b[0m             \u001b[0;32mreturn\u001b[0m \u001b[0mself\u001b[0m\u001b[0;34m.\u001b[0m\u001b[0m_getitem_frame\u001b[0m\u001b[0;34m(\u001b[0m\u001b[0mkey\u001b[0m\u001b[0;34m)\u001b[0m\u001b[0;34m\u001b[0m\u001b[0m\n",
      "\u001b[0;32m~/anaconda3/lib/python3.6/site-packages/pandas/core/frame.py\u001b[0m in \u001b[0;36m_getitem_array\u001b[0;34m(self, key)\u001b[0m\n\u001b[1;32m   2721\u001b[0m             \u001b[0;32mreturn\u001b[0m \u001b[0mself\u001b[0m\u001b[0;34m.\u001b[0m\u001b[0m_take\u001b[0m\u001b[0;34m(\u001b[0m\u001b[0mindexer\u001b[0m\u001b[0;34m,\u001b[0m \u001b[0maxis\u001b[0m\u001b[0;34m=\u001b[0m\u001b[0;36m0\u001b[0m\u001b[0;34m)\u001b[0m\u001b[0;34m\u001b[0m\u001b[0m\n\u001b[1;32m   2722\u001b[0m         \u001b[0;32melse\u001b[0m\u001b[0;34m:\u001b[0m\u001b[0;34m\u001b[0m\u001b[0m\n\u001b[0;32m-> 2723\u001b[0;31m             \u001b[0mindexer\u001b[0m \u001b[0;34m=\u001b[0m \u001b[0mself\u001b[0m\u001b[0;34m.\u001b[0m\u001b[0mloc\u001b[0m\u001b[0;34m.\u001b[0m\u001b[0m_convert_to_indexer\u001b[0m\u001b[0;34m(\u001b[0m\u001b[0mkey\u001b[0m\u001b[0;34m,\u001b[0m \u001b[0maxis\u001b[0m\u001b[0;34m=\u001b[0m\u001b[0;36m1\u001b[0m\u001b[0;34m)\u001b[0m\u001b[0;34m\u001b[0m\u001b[0m\n\u001b[0m\u001b[1;32m   2724\u001b[0m             \u001b[0;32mreturn\u001b[0m \u001b[0mself\u001b[0m\u001b[0;34m.\u001b[0m\u001b[0m_take\u001b[0m\u001b[0;34m(\u001b[0m\u001b[0mindexer\u001b[0m\u001b[0;34m,\u001b[0m \u001b[0maxis\u001b[0m\u001b[0;34m=\u001b[0m\u001b[0;36m1\u001b[0m\u001b[0;34m)\u001b[0m\u001b[0;34m\u001b[0m\u001b[0m\n\u001b[1;32m   2725\u001b[0m \u001b[0;34m\u001b[0m\u001b[0m\n",
      "\u001b[0;32m~/anaconda3/lib/python3.6/site-packages/pandas/core/indexing.py\u001b[0m in \u001b[0;36m_convert_to_indexer\u001b[0;34m(self, obj, axis, is_setter)\u001b[0m\n\u001b[1;32m   1325\u001b[0m                 \u001b[0;32mif\u001b[0m \u001b[0mmask\u001b[0m\u001b[0;34m.\u001b[0m\u001b[0many\u001b[0m\u001b[0;34m(\u001b[0m\u001b[0;34m)\u001b[0m\u001b[0;34m:\u001b[0m\u001b[0;34m\u001b[0m\u001b[0m\n\u001b[1;32m   1326\u001b[0m                     raise KeyError('{mask} not in index'\n\u001b[0;32m-> 1327\u001b[0;31m                                    .format(mask=objarr[mask]))\n\u001b[0m\u001b[1;32m   1328\u001b[0m \u001b[0;34m\u001b[0m\u001b[0m\n\u001b[1;32m   1329\u001b[0m                 \u001b[0;32mreturn\u001b[0m \u001b[0mcom\u001b[0m\u001b[0;34m.\u001b[0m\u001b[0m_values_from_object\u001b[0m\u001b[0;34m(\u001b[0m\u001b[0mindexer\u001b[0m\u001b[0;34m)\u001b[0m\u001b[0;34m\u001b[0m\u001b[0m\n",
      "\u001b[0;31mKeyError\u001b[0m: '[ 2993  2995  2996 ... 29997 29998 29999] not in index'"
     ]
    }
   ],
   "source": [
    "from sklearn.model_selection import StratifiedKFold\n",
    "from sklearn.utils import class_weight\n",
    "\n",
    "\n",
    "#Train, Validation, Test\n",
    "FOLDS = 10\n",
    "\n",
    "skf = StratifiedKFold(n_splits=FOLDS)\n",
    "for train_index, test_index in skf.split(X, Y):\n",
    "    X_train, X_test = X[train_index], X[test_index]\n",
    "    Y_train, Y_test = Y[train_index], Y[test_index]    \n",
    "    print(\"xTRAIN:\", X_train.shape, \"yTRAIN:\", Y_train.shape)\n",
    "    print(\"xTEST:\", X_test.shape, \"yTEST:\", Y_test.shape)\n",
    "    class_weightsTrain = class_weight.compute_class_weight('balanced',np.unique(Y_train),Y_train)\n",
    "    class_weightsTest = class_weight.compute_class_weight('balanced',np.unique(Y_test),Y_test)\n",
    "    print(\"class_weightsTrain\",(class_weightsTrain))\n",
    "    print(\"class_weightsTest\",class_weightsTest)   \n"
   ]
  },
  {
   "cell_type": "markdown",
   "metadata": {
    "colab_type": "text",
    "id": "Y_XGyVVg0PWt"
   },
   "source": [
    "# Modelos"
   ]
  },
  {
   "cell_type": "markdown",
   "metadata": {
    "colab_type": "text",
    "id": "zowcnxvPx3q7"
   },
   "source": [
    "### **Usando [GridSearchCV](https://scikit-learn.org/stable/modules/generated/sklearn.model_selection.GridSearchCV.html)**"
   ]
  },
  {
   "cell_type": "code",
   "execution_count": 35,
   "metadata": {
    "colab": {},
    "colab_type": "code",
    "id": "v2i6IKJ7wxvS"
   },
   "outputs": [],
   "source": [
    "from sklearn.metrics import make_scorer, accuracy_score\n",
    "from sklearn.model_selection import GridSearchCV\n",
    "from sklearn.model_selection import StratifiedKFold\n",
    "from sklearn.utils import class_weight\n",
    "\n",
    "def modelTrain(model,params,X,Y,VALID_SIZE,FOLDS):\n",
    "    skf = StratifiedKFold(n_splits=FOLDS)\n",
    "    gs = GridSearchCV(model, cv=skf, param_grid=params, return_train_score=True, n_jobs=-1)\n",
    "    X_train, X_test, Y_train, Y_test = train_test_split(X,Y, test_size=VALID_SIZE, shuffle=True)\n",
    "    class_weightsTrain = class_weight.compute_class_weight('balanced',np.unique(Y_train),Y_train)\n",
    "    gs.fit(X_train, Y_train)     \n",
    "    return gs,X_test,Y_test"
   ]
  },
  {
   "cell_type": "code",
   "execution_count": 36,
   "metadata": {
    "colab": {},
    "colab_type": "code",
    "id": "TVMlIlPUB5zI"
   },
   "outputs": [],
   "source": [
    "def Metrics(model,X_test,Y_test):\n",
    "\n",
    "  y_predicted = model.predict(X_test)\n",
    "  print('Accuracy: ', accuracy_score(Y_test, y_predicted), '\\n')\n",
    "  report = classification_report(Y_test, y_predicted)\n",
    "  print(\"\\nclassification report :\\n\",report )\n",
    " \n",
    "  # Matriz de confusión\n",
    "  plt.figure(figsize=(13,10))\n",
    "  plt.subplot(221)\n",
    "  sns.heatmap(confusion_matrix(Y_test, y_predicted),annot=True,fmt = \"d\",linecolor=\"k\",linewidths=3)\n",
    "  plt.title(\"Matriz de confusión\",fontsize=20)\n",
    "   \n",
    "  # Curva ROC\n",
    "  predicting_probabilites = model.predict_proba(X_test)[:,1]\n",
    "  fpr,tpr,thresholds = roc_curve(Y_test, predicting_probabilites)\n",
    "  plt.subplot(222)\n",
    "  plt.plot(fpr,tpr,label = (\"Área bajo la curva:\",auc(fpr,tpr)),color = \"r\")\n",
    "  plt.plot([1,0],[1,0],linestyle = \"dashed\",color =\"k\")\n",
    "  plt.legend(loc = \"best\")\n",
    "  plt.title(\"Curva ROC\",fontsize=20)\n",
    "  return report"
   ]
  },
  {
   "cell_type": "code",
   "execution_count": 37,
   "metadata": {
    "colab": {},
    "colab_type": "code",
    "id": "kTq5JDzpTq_h"
   },
   "outputs": [],
   "source": [
    "def printMetrics(result):\n",
    "  results = pd.DataFrame(result.cv_results_)\n",
    "  print(results[['mean_test_score','std_test_score','mean_train_score','std_train_score']])  \n"
   ]
  },
  {
   "cell_type": "markdown",
   "metadata": {
    "colab_type": "text",
    "id": "YuMdBXhc0WCV"
   },
   "source": [
    "## **Na ̈ıve Bayes**\n",
    "\n",
    "[Documentación](https://scikit-learn.org/stable/modules/generated/sklearn.naive_bayes.GaussianNB.html#sklearn.naive_bayes.GaussianNB)"
   ]
  },
  {
   "cell_type": "code",
   "execution_count": 39,
   "metadata": {
    "colab": {},
    "colab_type": "code",
    "id": "NNHxhdnU0Ysf"
   },
   "outputs": [],
   "source": [
    "from sklearn.naive_bayes import GaussianNB\n",
    "gnb = GaussianNB()\n",
    "VALID_SIZE = 0.20\n",
    "FOLDS = 10\n",
    "params = {}\n",
    "\n",
    "gsGaussianNB,X_test,Y_test = modelTrain(gnb,params,X,Y,VALID_SIZE,FOLDS)\n",
    "\n",
    "#GUARDAR MODELO\n",
    "#joblib.dump(gsGaussianNB, PATH+'Models/gsGaussianNB.pkl')"
   ]
  },
  {
   "cell_type": "code",
   "execution_count": null,
   "metadata": {
    "colab": {},
    "colab_type": "code",
    "id": "_H9FmO9SiUbh"
   },
   "outputs": [],
   "source": [
    "#SAVE MODEL \n",
    "\n",
    "#PATHGNBMODEL = PATH+'Models/gsGaussianNB.pkl'\n",
    "#gsGaussianNB = joblib.load(PATHGNBMODEL)\n"
   ]
  },
  {
   "cell_type": "markdown",
   "metadata": {
    "colab_type": "text",
    "id": "xTqLWYah0yg2"
   },
   "source": [
    "### **Resultado Obtenidos**\n",
    "\n",
    "Recuerde que como parte de una correcta metodolog ́ıa de validacion se deben incluir, seg  ́ un sea el caso, medidas de sensibilidad, especificidad, eficiencia, matriz de confusion, error cuadratico medio, MAPE, coeficiente de determinacion, etc., Deben incluir intervalos de confianza para todas las medidas usadas."
   ]
  },
  {
   "cell_type": "code",
   "execution_count": 44,
   "metadata": {
    "colab": {
     "base_uri": "https://localhost:8080/",
     "height": 581
    },
    "colab_type": "code",
    "id": "LfsXoGszDUYZ",
    "outputId": "ab014f42-933d-49ff-b134-81afd4c3828c"
   },
   "outputs": [
    {
     "name": "stdout",
     "output_type": "stream",
     "text": [
      "Accuracy:  0.5893333333333334 \n",
      "\n",
      "\n",
      "classification report :\n",
      "              precision    recall  f1-score   support\n",
      "\n",
      "          0       0.89      0.54      0.67      4669\n",
      "          1       0.32      0.76      0.45      1331\n",
      "\n",
      "avg / total       0.76      0.59      0.62      6000\n",
      "\n",
      "   mean_test_score  std_test_score  mean_train_score  std_train_score\n",
      "0         0.576708        0.034856          0.576213         0.032777\n"
     ]
    },
    {
     "data": {
      "image/png": "[encoded data removed]",
      "text/plain": [
       "<Figure size 936x720 with 3 Axes>"
      ]
     },
     "metadata": {},
     "output_type": "display_data"
    }
   ],
   "source": [
    "metrics = Metrics(gsGaussianNB.best_estimator_,X_test,Y_test)\n",
    "printMetrics(gsGaussianNB)"
   ]
  },
  {
   "cell_type": "markdown",
   "metadata": {
    "colab_type": "text",
    "id": "DT7WapDnHEHj"
   },
   "source": [
    "**Sensibilidad** = tp / (tp + fn)\n",
    "\n",
    "\n",
    "**Especificidad**  = tn /(tn+fp)\n",
    "\n",
    "\n",
    "**eficiencia** = tp+tn/(tp+tn+fp+fn)\n",
    "\n",
    "\n",
    "**Precisión** = tp /(tp+fp)\n",
    "\n",
    "\n"
   ]
  },
  {
   "cell_type": "markdown",
   "metadata": {
    "colab_type": "text",
    "id": "xyjjRFdf0kl3"
   },
   "source": [
    "## **Random Forest**"
   ]
  },
  {
   "cell_type": "markdown",
   "metadata": {
    "colab_type": "text",
    "id": "v-899rO2lPBH"
   },
   "source": [
    "[Documentación](https://scikit-learn.org/stable/modules/generated/sklearn.ensemble.RandomForestClassifier.html)"
   ]
  },
  {
   "cell_type": "code",
   "execution_count": null,
   "metadata": {
    "colab": {},
    "colab_type": "code",
    "id": "c5FATjSJ0mSU"
   },
   "outputs": [],
   "source": [
    "from sklearn.ensemble import RandomForestClassifier\n",
    "\n",
    "VALID_SIZE = 0.20\n",
    "FOLDS = 10\n",
    "\n",
    "\"\"\"\n",
    "params = { \n",
    "    'n_estimators': [50,100,150,200,250,300],\n",
    "     \"max_features\": [1,2,3,4,5,6,7,8,9,10],\n",
    "     'max_depth': [1,2,3,4,5,6,7,8,9],\n",
    "    'criterion' :['gini', 'entropy']\n",
    "}\n",
    "\"\"\"\n",
    "params = { \n",
    "    'n_estimators': [10,20,30,40,50],\n",
    "     \"max_features\": [1,2,3,4,5],\n",
    "     'max_depth': [1,2,3,4,5,8,10,15,20],\n",
    "    'criterion' :['gini', 'entropy']\n",
    "}\n",
    "\n",
    "\n",
    "rfc=RandomForestClassifier()\n",
    "\n",
    "gsRDF,X_test,Y_test= modelTrain(rfc,params,X,Y,VALID_SIZE,FOLDS)\n",
    "\n",
    "print(\"Best SCORE\",gsRDF.best_score_)\n",
    "print(\"Best ESTIMATOR\", gsRDF.best_params_)\n",
    "\n",
    "\n",
    "#GUARDAR MODELO\n",
    "#PATH_gsRDF_MODEL = PATH+'Models/gsRDF.pkl'\n",
    "#joblib.dump(gsRDF,PATH_gsRDF_MODEL)"
   ]
  },
  {
   "cell_type": "markdown",
   "metadata": {
    "colab_type": "text",
    "id": "VnAlAlNm2j0X"
   },
   "source": [
    "### **Resultado Obtenidos**\n",
    "\n",
    "Recuerde que como parte de una correcta metodolog ́ıa de validacion se deben incluir, seg  ́ un sea el caso, medidas de sensibilidad, especificidad, eficiencia, matriz de confusion, error cuadratico medio, MAPE, coeficiente de determinacion, etc., Deben incluir intervalos de confianza para todas las medidas usadas."
   ]
  },
  {
   "cell_type": "code",
   "execution_count": 149,
   "metadata": {
    "colab": {
     "base_uri": "https://localhost:8080/",
     "height": 757
    },
    "colab_type": "code",
    "id": "TottuB9OaLrs",
    "outputId": "a81402af-fe2b-46ca-dbc8-7e42d424504c"
   },
   "outputs": [
    {
     "name": "stdout",
     "output_type": "stream",
     "text": [
      "Accuracy:  0.65 \n",
      "\n",
      "\n",
      "classification report :\n",
      "               precision    recall  f1-score   support\n",
      "\n",
      "           0       0.65      1.00      0.79        13\n",
      "           1       0.00      0.00      0.00         7\n",
      "\n",
      "    accuracy                           0.65        20\n",
      "   macro avg       0.33      0.50      0.39        20\n",
      "weighted avg       0.42      0.65      0.51        20\n",
      "\n",
      "   mean_test_score  std_test_score  mean_train_score  std_train_score\n",
      "0           0.7625        0.030578          0.762510         0.003187\n",
      "1           0.7625        0.030578          0.762510         0.003187\n",
      "2           0.7625        0.030578          0.762510         0.003187\n",
      "3           0.7625        0.030578          0.763899         0.005599\n",
      "4           0.7750        0.045042          0.787512         0.020519\n",
      "5           0.7750        0.045042          0.795864         0.017203\n",
      "6           0.7750        0.045042          0.818126         0.020381\n",
      "7           0.7500        0.079370          0.813919         0.023067\n"
     ]
    },
    {
     "name": "stderr",
     "output_type": "stream",
     "text": [
      "/usr/local/lib/python3.6/dist-packages/sklearn/metrics/classification.py:1437: UndefinedMetricWarning: Precision and F-score are ill-defined and being set to 0.0 in labels with no predicted samples.\n",
      "  'precision', 'predicted', average, warn_for)\n"
     ]
    },
    {
     "data": {
      "image/png": "[encoded data removed]",
      "text/plain": [
       "<Figure size 936x720 with 3 Axes>"
      ]
     },
     "metadata": {
      "tags": []
     },
     "output_type": "display_data"
    }
   ],
   "source": [
    "metrics = Metrics(gsRDF.best_estimator_,X_test,Y_test)\n",
    "printMetrics(gsRDF)"
   ]
  },
  {
   "cell_type": "code",
   "execution_count": 0,
   "metadata": {
    "colab": {},
    "colab_type": "code",
    "id": "PczpoyizRgqO"
   },
   "outputs": [],
   "source": []
  },
  {
   "cell_type": "markdown",
   "metadata": {
    "colab_type": "text",
    "id": "wTDOYFfg1ywx"
   },
   "source": [
    "\n",
    "\n",
    " ---\n",
    "\n",
    "\n"
   ]
  },
  {
   "cell_type": "markdown",
   "metadata": {
    "colab_type": "text",
    "id": "B3bM0UAU0aYO"
   },
   "source": [
    "## K vecinos mas cercanos"
   ]
  },
  {
   "cell_type": "markdown",
   "metadata": {
    "colab_type": "text",
    "id": "z3fYzmk0Ttaq"
   },
   "source": [
    "[Documentación](https://scikit-learn.org/stable/modules/generated/sklearn.neighbors.KNeighborsClassifier.html)"
   ]
  },
  {
   "cell_type": "code",
   "execution_count": 0,
   "metadata": {
    "colab": {},
    "colab_type": "code",
    "id": "xpKLYeBx0dy2"
   },
   "outputs": [],
   "source": [
    "from sklearn.neighbors import KNeighborsClassifier\n",
    "\n",
    "VALID_SIZE = 0.20\n",
    "FOLDS = 10\n",
    "params = {\n",
    "    'n_neighbors':[3,5,7,9,11],\n",
    "    'weights':['uniform','distance'],\n",
    "    'metric':['minkowski','euclidean','manhattan']\n",
    "    \n",
    "    \n",
    "}\n",
    "KNN = KNeighborsClassifier()\n",
    "\n",
    "\n",
    "gsKNN = modelTrain(KNN,params,X,Y,VALID_SIZE,FOLDS)\n",
    "print(\"Best SCORE\",gsKNN.best_score_)\n",
    "print(\"Best ESTIMATOR\", gsKNN.gsGaussianNB.best_params_)\n",
    "\n",
    "#GUARDAR MODELO\n",
    "PATH_knn_MODEL = PATH+'Models/gsKNN.pkl'\n",
    "joblib.dump(gsKNN,PATH_knn_MODEL)"
   ]
  },
  {
   "cell_type": "markdown",
   "metadata": {
    "colab_type": "text",
    "id": "_kTfWZai2hjs"
   },
   "source": [
    "### **Resultado Obtenidos**\n",
    "\n",
    "Recuerde que como parte de una correcta metodolog ́ıa de validacion se deben incluir, seg  ́ un sea el caso, medidas de sensibilidad, especificidad, eficiencia, matriz de confusion, error cuadratico medio, MAPE, coeficiente de determinacion, etc., Deben incluir intervalos de confianza para todas las medidas usadas."
   ]
  },
  {
   "cell_type": "markdown",
   "metadata": {
    "colab_type": "text",
    "id": "Y9qFGtIk1Y4W"
   },
   "source": [
    "\n",
    "\n",
    "---\n",
    "\n",
    "\n"
   ]
  },
  {
   "cell_type": "markdown",
   "metadata": {
    "colab_type": "text",
    "id": "qTno4pUS0hLd"
   },
   "source": [
    "## **Redes Neuronales Artificiales**"
   ]
  },
  {
   "cell_type": "code",
   "execution_count": 0,
   "metadata": {
    "colab": {},
    "colab_type": "code",
    "id": "qF4d1ZA-0iUu"
   },
   "outputs": [],
   "source": []
  },
  {
   "cell_type": "markdown",
   "metadata": {
    "colab_type": "text",
    "id": "Nii3Xmzs2jD-"
   },
   "source": [
    "### **Resultado Obtenidos**\n",
    "\n",
    "Recuerde que como parte de una correcta metodolog ́ıa de validacion se deben incluir, seg  ́ un sea el caso, medidas de sensibilidad, especificidad, eficiencia, matriz de confusion, error cuadratico medio, MAPE, coeficiente de determinacion, etc., Deben incluir intervalos de confianza para todas las medidas usadas."
   ]
  },
  {
   "cell_type": "markdown",
   "metadata": {
    "colab_type": "text",
    "id": "Qb3czAHO1ySX"
   },
   "source": [
    "\n",
    "\n",
    " ---\n",
    "\n",
    "\n"
   ]
  },
  {
   "cell_type": "markdown",
   "metadata": {
    "colab_type": "text",
    "id": "C_OYTytC0p_V"
   },
   "source": [
    "## **Maquinas de Soporte Vectorial con kernel lineal y con kernel RBF.**"
   ]
  },
  {
   "cell_type": "code",
   "execution_count": 0,
   "metadata": {
    "colab": {},
    "colab_type": "code",
    "id": "iCkptLBK0rCn"
   },
   "outputs": [],
   "source": [
    "from sklearn.svm import SVC\n",
    "\n",
    "VALID_SIZE = 0.20\n",
    "FOLDS = 10\n",
    "\n",
    "Cs = [0.001, 0.01, 0.1, 1, 10]\n",
    "gammas = [0.001, 0.01, 0.1, 1]\n",
    "kernels = ['rbf','linear']\n",
    "\n",
    "params = {'C': Cs, 'gamma' : gammas,'kernel':kernels}\n",
    "svm = SVC()\n",
    "gsSVM = modelTrain(svm,params,X,Y,VALID_SIZE,FOLDS)\n",
    "\n",
    "print(\"Best SCORE\",gsSVM.best_score_)\n",
    "print(\"Best ESTIMATOR\", gsSVM.best_params_)\n",
    "\n",
    "\n",
    "\n",
    "#GUARDAR MODELO\n",
    "PATH_svm_MODEL = PATH+'Models/gsSVM.pkl'\n",
    "joblib.dump(gsSVM,PATH_svm_MODEL)\n"
   ]
  },
  {
   "cell_type": "markdown",
   "metadata": {
    "colab_type": "text",
    "id": "jBo7N_mE2lbh"
   },
   "source": [
    "### **Resultado Obtenidos**\n",
    "\n",
    "Recuerde que como parte de una correcta metodolog ́ıa de validacion se deben incluir, seg  ́ un sea el caso, medidas de sensibilidad, especificidad, eficiencia, matriz de confusion, error cuadratico medio, MAPE, coeficiente de determinacion, etc., Deben incluir intervalos de confianza para todas las medidas usadas."
   ]
  },
  {
   "cell_type": "markdown",
   "metadata": {
    "colab_type": "text",
    "id": "u4hBzRHP1zJ2"
   },
   "source": [
    "\n",
    "\n",
    " ---\n",
    "\n",
    "\n"
   ]
  }
 ],
 "metadata": {
  "colab": {
   "collapsed_sections": [
    "w5gPXvCHcykh",
    "39k-3m3_f3BK",
    "ucRWuvml3nDE",
    "O2Rd2NOL4rKl",
    "B3bM0UAU0aYO",
    "qTno4pUS0hLd",
    "C_OYTytC0p_V"
   ],
   "include_colab_link": true,
   "name": "P2- Experiments.ipynb",
   "provenance": [],
   "toc_visible": true
  },
  "kernelspec": {
   "display_name": "Python 3",
   "language": "python",
   "name": "python3"
  },
  "language_info": {
   "codemirror_mode": {
    "name": "ipython",
    "version": 3
   },
   "file_extension": ".py",
   "mimetype": "text/x-python",
   "name": "python",
   "nbconvert_exporter": "python",
   "pygments_lexer": "ipython3",
   "version": "3.6.5"
  }
 },
 "nbformat": 4,
 "nbformat_minor": 1
}
